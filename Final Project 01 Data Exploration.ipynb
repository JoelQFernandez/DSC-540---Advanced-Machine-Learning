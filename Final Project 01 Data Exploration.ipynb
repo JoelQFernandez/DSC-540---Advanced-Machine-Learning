{
 "cells": [
  {
   "cell_type": "markdown",
   "metadata": {
    "collapsed": true
   },
   "source": [
    "# Data Exploration"
   ]
  },
  {
   "cell_type": "code",
   "execution_count": 1,
   "metadata": {},
   "outputs": [],
   "source": [
    "# Import statements\n",
    "import numpy as np\n",
    "import pandas as pd\n",
    "import seaborn as sns\n",
    "import matplotlib.pyplot as plt\n",
    "\n",
    "# Display options\n",
    "pd.set_option('display.max_columns', None)"
   ]
  },
  {
   "cell_type": "code",
   "execution_count": 2,
   "metadata": {
    "scrolled": true
   },
   "outputs": [],
   "source": [
    "hr_employee_attrition = pd.read_csv( \"./Data/WA_Fn-UseC_-HR-Employee-Attrition.csv\", delimiter = \",\")\n",
    "# Updated Dropped List for use with \n",
    "# Correlation Matrix and Pre-Processing\n",
    "hr_employee_attrition_dropped = hr_employee_attrition"
   ]
  },
  {
   "cell_type": "markdown",
   "metadata": {},
   "source": [
    "## Functions"
   ]
  },
  {
   "cell_type": "code",
   "execution_count": 3,
   "metadata": {},
   "outputs": [],
   "source": [
    "# Function:    numericalStatsGraphs\n",
    "# Input:       numerical attribute\n",
    "# Output:      statistics and a histogram\n",
    "def numericalStatsGraphs(numerical_attribute):\n",
    "    print('Mean:   {:,.3f}'.format(hr_employee_attrition[numerical_attribute].mean().values[0]))\n",
    "    print('Median: {}'.format(hr_employee_attrition[numerical_attribute].median().values[0]))\n",
    "    print('Mode:  {}'.format(hr_employee_attrition[numerical_attribute].mode().to_string(header=None,index=False)))\n",
    "    print('STD:    {:,.3f}'.format(hr_employee_attrition[numerical_attribute].std().values[0]))\n",
    "    print('Min:    {:,.3f}'.format(hr_employee_attrition[numerical_attribute].min().values[0]))\n",
    "    # calculate quartile values\n",
    "    q25, q50, q75 = np.percentile(hr_employee_attrition[numerical_attribute], [25, 50, 75])\n",
    "    print('25%:    {:,.3f}'.format(q25))\n",
    "    print('50%:    {:,.3f}'.format(q50))\n",
    "    print('75%:    {:,.3f}'.format(q75))\n",
    "    print('Max:    {:,.3f}'.format(hr_employee_attrition[numerical_attribute].max().values[0]))\n",
    "    print('Skew:   {:,.3f}'.format(hr_employee_attrition[numerical_attribute].skew().values[0]))\n",
    "    # print histogram\n",
    "    hr_employee_attrition[numerical_attribute].plot(kind=\"hist\", bins=20)"
   ]
  },
  {
   "cell_type": "code",
   "execution_count": 4,
   "metadata": {},
   "outputs": [],
   "source": [
    "# Function:    correlationMatrix\n",
    "# Input:       data frame object\n",
    "# Output:      correlation matrix\n",
    "# Return:      data frame correlations\n",
    "# URL:         https://seaborn.pydata.org/examples/many_pairwise_correlations.html\n",
    "def correlationMatrix(dataframe):\n",
    "    dataframe_corr = dataframe.corr(method='pearson')\n",
    "    # Generate a mask for the upper triangle\n",
    "    mask = np.triu(np.ones_like(dataframe_corr, dtype=bool))\n",
    "    # Set up the matplotlib figure\n",
    "    f, ax = plt.subplots(figsize=(11, 9))\n",
    "    # Generate a custom diverging colormap\n",
    "    cmap = sns.diverging_palette(230, 20, as_cmap=True)\n",
    "    # Draw the heatmap with the mask and correct aspect ratio\n",
    "    sns.heatmap(dataframe_corr, mask=mask, cmap=cmap, vmax=1.0, center=0,\n",
    "            square=True, linewidths=.5, cbar_kws={\"shrink\": .5})\n",
    "    return dataframe_corr   "
   ]
  },
  {
   "cell_type": "markdown",
   "metadata": {},
   "source": [
    "## Snapshot"
   ]
  },
  {
   "cell_type": "code",
   "execution_count": 5,
   "metadata": {},
   "outputs": [
    {
     "data": {
      "text/html": [
       "<div>\n",
       "<style scoped>\n",
       "    .dataframe tbody tr th:only-of-type {\n",
       "        vertical-align: middle;\n",
       "    }\n",
       "\n",
       "    .dataframe tbody tr th {\n",
       "        vertical-align: top;\n",
       "    }\n",
       "\n",
       "    .dataframe thead th {\n",
       "        text-align: right;\n",
       "    }\n",
       "</style>\n",
       "<table border=\"1\" class=\"dataframe\">\n",
       "  <thead>\n",
       "    <tr style=\"text-align: right;\">\n",
       "      <th></th>\n",
       "      <th>Age</th>\n",
       "      <th>Attrition</th>\n",
       "      <th>BusinessTravel</th>\n",
       "      <th>DailyRate</th>\n",
       "      <th>Department</th>\n",
       "      <th>DistanceFromHome</th>\n",
       "      <th>Education</th>\n",
       "      <th>EducationField</th>\n",
       "      <th>EmployeeCount</th>\n",
       "      <th>EmployeeNumber</th>\n",
       "      <th>EnvironmentSatisfaction</th>\n",
       "      <th>Gender</th>\n",
       "      <th>HourlyRate</th>\n",
       "      <th>JobInvolvement</th>\n",
       "      <th>JobLevel</th>\n",
       "      <th>JobRole</th>\n",
       "      <th>JobSatisfaction</th>\n",
       "      <th>MaritalStatus</th>\n",
       "      <th>MonthlyIncome</th>\n",
       "      <th>MonthlyRate</th>\n",
       "      <th>NumCompaniesWorked</th>\n",
       "      <th>Over18</th>\n",
       "      <th>OverTime</th>\n",
       "      <th>PercentSalaryHike</th>\n",
       "      <th>PerformanceRating</th>\n",
       "      <th>RelationshipSatisfaction</th>\n",
       "      <th>StandardHours</th>\n",
       "      <th>StockOptionLevel</th>\n",
       "      <th>TotalWorkingYears</th>\n",
       "      <th>TrainingTimesLastYear</th>\n",
       "      <th>WorkLifeBalance</th>\n",
       "      <th>YearsAtCompany</th>\n",
       "      <th>YearsInCurrentRole</th>\n",
       "      <th>YearsSinceLastPromotion</th>\n",
       "      <th>YearsWithCurrManager</th>\n",
       "    </tr>\n",
       "  </thead>\n",
       "  <tbody>\n",
       "    <tr>\n",
       "      <th>0</th>\n",
       "      <td>41</td>\n",
       "      <td>Yes</td>\n",
       "      <td>Travel_Rarely</td>\n",
       "      <td>1102</td>\n",
       "      <td>Sales</td>\n",
       "      <td>1</td>\n",
       "      <td>2</td>\n",
       "      <td>Life Sciences</td>\n",
       "      <td>1</td>\n",
       "      <td>1</td>\n",
       "      <td>2</td>\n",
       "      <td>Female</td>\n",
       "      <td>94</td>\n",
       "      <td>3</td>\n",
       "      <td>2</td>\n",
       "      <td>Sales Executive</td>\n",
       "      <td>4</td>\n",
       "      <td>Single</td>\n",
       "      <td>5993</td>\n",
       "      <td>19479</td>\n",
       "      <td>8</td>\n",
       "      <td>Y</td>\n",
       "      <td>Yes</td>\n",
       "      <td>11</td>\n",
       "      <td>3</td>\n",
       "      <td>1</td>\n",
       "      <td>80</td>\n",
       "      <td>0</td>\n",
       "      <td>8</td>\n",
       "      <td>0</td>\n",
       "      <td>1</td>\n",
       "      <td>6</td>\n",
       "      <td>4</td>\n",
       "      <td>0</td>\n",
       "      <td>5</td>\n",
       "    </tr>\n",
       "    <tr>\n",
       "      <th>1</th>\n",
       "      <td>49</td>\n",
       "      <td>No</td>\n",
       "      <td>Travel_Frequently</td>\n",
       "      <td>279</td>\n",
       "      <td>Research &amp; Development</td>\n",
       "      <td>8</td>\n",
       "      <td>1</td>\n",
       "      <td>Life Sciences</td>\n",
       "      <td>1</td>\n",
       "      <td>2</td>\n",
       "      <td>3</td>\n",
       "      <td>Male</td>\n",
       "      <td>61</td>\n",
       "      <td>2</td>\n",
       "      <td>2</td>\n",
       "      <td>Research Scientist</td>\n",
       "      <td>2</td>\n",
       "      <td>Married</td>\n",
       "      <td>5130</td>\n",
       "      <td>24907</td>\n",
       "      <td>1</td>\n",
       "      <td>Y</td>\n",
       "      <td>No</td>\n",
       "      <td>23</td>\n",
       "      <td>4</td>\n",
       "      <td>4</td>\n",
       "      <td>80</td>\n",
       "      <td>1</td>\n",
       "      <td>10</td>\n",
       "      <td>3</td>\n",
       "      <td>3</td>\n",
       "      <td>10</td>\n",
       "      <td>7</td>\n",
       "      <td>1</td>\n",
       "      <td>7</td>\n",
       "    </tr>\n",
       "    <tr>\n",
       "      <th>2</th>\n",
       "      <td>37</td>\n",
       "      <td>Yes</td>\n",
       "      <td>Travel_Rarely</td>\n",
       "      <td>1373</td>\n",
       "      <td>Research &amp; Development</td>\n",
       "      <td>2</td>\n",
       "      <td>2</td>\n",
       "      <td>Other</td>\n",
       "      <td>1</td>\n",
       "      <td>4</td>\n",
       "      <td>4</td>\n",
       "      <td>Male</td>\n",
       "      <td>92</td>\n",
       "      <td>2</td>\n",
       "      <td>1</td>\n",
       "      <td>Laboratory Technician</td>\n",
       "      <td>3</td>\n",
       "      <td>Single</td>\n",
       "      <td>2090</td>\n",
       "      <td>2396</td>\n",
       "      <td>6</td>\n",
       "      <td>Y</td>\n",
       "      <td>Yes</td>\n",
       "      <td>15</td>\n",
       "      <td>3</td>\n",
       "      <td>2</td>\n",
       "      <td>80</td>\n",
       "      <td>0</td>\n",
       "      <td>7</td>\n",
       "      <td>3</td>\n",
       "      <td>3</td>\n",
       "      <td>0</td>\n",
       "      <td>0</td>\n",
       "      <td>0</td>\n",
       "      <td>0</td>\n",
       "    </tr>\n",
       "    <tr>\n",
       "      <th>3</th>\n",
       "      <td>33</td>\n",
       "      <td>No</td>\n",
       "      <td>Travel_Frequently</td>\n",
       "      <td>1392</td>\n",
       "      <td>Research &amp; Development</td>\n",
       "      <td>3</td>\n",
       "      <td>4</td>\n",
       "      <td>Life Sciences</td>\n",
       "      <td>1</td>\n",
       "      <td>5</td>\n",
       "      <td>4</td>\n",
       "      <td>Female</td>\n",
       "      <td>56</td>\n",
       "      <td>3</td>\n",
       "      <td>1</td>\n",
       "      <td>Research Scientist</td>\n",
       "      <td>3</td>\n",
       "      <td>Married</td>\n",
       "      <td>2909</td>\n",
       "      <td>23159</td>\n",
       "      <td>1</td>\n",
       "      <td>Y</td>\n",
       "      <td>Yes</td>\n",
       "      <td>11</td>\n",
       "      <td>3</td>\n",
       "      <td>3</td>\n",
       "      <td>80</td>\n",
       "      <td>0</td>\n",
       "      <td>8</td>\n",
       "      <td>3</td>\n",
       "      <td>3</td>\n",
       "      <td>8</td>\n",
       "      <td>7</td>\n",
       "      <td>3</td>\n",
       "      <td>0</td>\n",
       "    </tr>\n",
       "    <tr>\n",
       "      <th>4</th>\n",
       "      <td>27</td>\n",
       "      <td>No</td>\n",
       "      <td>Travel_Rarely</td>\n",
       "      <td>591</td>\n",
       "      <td>Research &amp; Development</td>\n",
       "      <td>2</td>\n",
       "      <td>1</td>\n",
       "      <td>Medical</td>\n",
       "      <td>1</td>\n",
       "      <td>7</td>\n",
       "      <td>1</td>\n",
       "      <td>Male</td>\n",
       "      <td>40</td>\n",
       "      <td>3</td>\n",
       "      <td>1</td>\n",
       "      <td>Laboratory Technician</td>\n",
       "      <td>2</td>\n",
       "      <td>Married</td>\n",
       "      <td>3468</td>\n",
       "      <td>16632</td>\n",
       "      <td>9</td>\n",
       "      <td>Y</td>\n",
       "      <td>No</td>\n",
       "      <td>12</td>\n",
       "      <td>3</td>\n",
       "      <td>4</td>\n",
       "      <td>80</td>\n",
       "      <td>1</td>\n",
       "      <td>6</td>\n",
       "      <td>3</td>\n",
       "      <td>3</td>\n",
       "      <td>2</td>\n",
       "      <td>2</td>\n",
       "      <td>2</td>\n",
       "      <td>2</td>\n",
       "    </tr>\n",
       "    <tr>\n",
       "      <th>5</th>\n",
       "      <td>32</td>\n",
       "      <td>No</td>\n",
       "      <td>Travel_Frequently</td>\n",
       "      <td>1005</td>\n",
       "      <td>Research &amp; Development</td>\n",
       "      <td>2</td>\n",
       "      <td>2</td>\n",
       "      <td>Life Sciences</td>\n",
       "      <td>1</td>\n",
       "      <td>8</td>\n",
       "      <td>4</td>\n",
       "      <td>Male</td>\n",
       "      <td>79</td>\n",
       "      <td>3</td>\n",
       "      <td>1</td>\n",
       "      <td>Laboratory Technician</td>\n",
       "      <td>4</td>\n",
       "      <td>Single</td>\n",
       "      <td>3068</td>\n",
       "      <td>11864</td>\n",
       "      <td>0</td>\n",
       "      <td>Y</td>\n",
       "      <td>No</td>\n",
       "      <td>13</td>\n",
       "      <td>3</td>\n",
       "      <td>3</td>\n",
       "      <td>80</td>\n",
       "      <td>0</td>\n",
       "      <td>8</td>\n",
       "      <td>2</td>\n",
       "      <td>2</td>\n",
       "      <td>7</td>\n",
       "      <td>7</td>\n",
       "      <td>3</td>\n",
       "      <td>6</td>\n",
       "    </tr>\n",
       "    <tr>\n",
       "      <th>6</th>\n",
       "      <td>59</td>\n",
       "      <td>No</td>\n",
       "      <td>Travel_Rarely</td>\n",
       "      <td>1324</td>\n",
       "      <td>Research &amp; Development</td>\n",
       "      <td>3</td>\n",
       "      <td>3</td>\n",
       "      <td>Medical</td>\n",
       "      <td>1</td>\n",
       "      <td>10</td>\n",
       "      <td>3</td>\n",
       "      <td>Female</td>\n",
       "      <td>81</td>\n",
       "      <td>4</td>\n",
       "      <td>1</td>\n",
       "      <td>Laboratory Technician</td>\n",
       "      <td>1</td>\n",
       "      <td>Married</td>\n",
       "      <td>2670</td>\n",
       "      <td>9964</td>\n",
       "      <td>4</td>\n",
       "      <td>Y</td>\n",
       "      <td>Yes</td>\n",
       "      <td>20</td>\n",
       "      <td>4</td>\n",
       "      <td>1</td>\n",
       "      <td>80</td>\n",
       "      <td>3</td>\n",
       "      <td>12</td>\n",
       "      <td>3</td>\n",
       "      <td>2</td>\n",
       "      <td>1</td>\n",
       "      <td>0</td>\n",
       "      <td>0</td>\n",
       "      <td>0</td>\n",
       "    </tr>\n",
       "    <tr>\n",
       "      <th>7</th>\n",
       "      <td>30</td>\n",
       "      <td>No</td>\n",
       "      <td>Travel_Rarely</td>\n",
       "      <td>1358</td>\n",
       "      <td>Research &amp; Development</td>\n",
       "      <td>24</td>\n",
       "      <td>1</td>\n",
       "      <td>Life Sciences</td>\n",
       "      <td>1</td>\n",
       "      <td>11</td>\n",
       "      <td>4</td>\n",
       "      <td>Male</td>\n",
       "      <td>67</td>\n",
       "      <td>3</td>\n",
       "      <td>1</td>\n",
       "      <td>Laboratory Technician</td>\n",
       "      <td>3</td>\n",
       "      <td>Divorced</td>\n",
       "      <td>2693</td>\n",
       "      <td>13335</td>\n",
       "      <td>1</td>\n",
       "      <td>Y</td>\n",
       "      <td>No</td>\n",
       "      <td>22</td>\n",
       "      <td>4</td>\n",
       "      <td>2</td>\n",
       "      <td>80</td>\n",
       "      <td>1</td>\n",
       "      <td>1</td>\n",
       "      <td>2</td>\n",
       "      <td>3</td>\n",
       "      <td>1</td>\n",
       "      <td>0</td>\n",
       "      <td>0</td>\n",
       "      <td>0</td>\n",
       "    </tr>\n",
       "    <tr>\n",
       "      <th>8</th>\n",
       "      <td>38</td>\n",
       "      <td>No</td>\n",
       "      <td>Travel_Frequently</td>\n",
       "      <td>216</td>\n",
       "      <td>Research &amp; Development</td>\n",
       "      <td>23</td>\n",
       "      <td>3</td>\n",
       "      <td>Life Sciences</td>\n",
       "      <td>1</td>\n",
       "      <td>12</td>\n",
       "      <td>4</td>\n",
       "      <td>Male</td>\n",
       "      <td>44</td>\n",
       "      <td>2</td>\n",
       "      <td>3</td>\n",
       "      <td>Manufacturing Director</td>\n",
       "      <td>3</td>\n",
       "      <td>Single</td>\n",
       "      <td>9526</td>\n",
       "      <td>8787</td>\n",
       "      <td>0</td>\n",
       "      <td>Y</td>\n",
       "      <td>No</td>\n",
       "      <td>21</td>\n",
       "      <td>4</td>\n",
       "      <td>2</td>\n",
       "      <td>80</td>\n",
       "      <td>0</td>\n",
       "      <td>10</td>\n",
       "      <td>2</td>\n",
       "      <td>3</td>\n",
       "      <td>9</td>\n",
       "      <td>7</td>\n",
       "      <td>1</td>\n",
       "      <td>8</td>\n",
       "    </tr>\n",
       "    <tr>\n",
       "      <th>9</th>\n",
       "      <td>36</td>\n",
       "      <td>No</td>\n",
       "      <td>Travel_Rarely</td>\n",
       "      <td>1299</td>\n",
       "      <td>Research &amp; Development</td>\n",
       "      <td>27</td>\n",
       "      <td>3</td>\n",
       "      <td>Medical</td>\n",
       "      <td>1</td>\n",
       "      <td>13</td>\n",
       "      <td>3</td>\n",
       "      <td>Male</td>\n",
       "      <td>94</td>\n",
       "      <td>3</td>\n",
       "      <td>2</td>\n",
       "      <td>Healthcare Representative</td>\n",
       "      <td>3</td>\n",
       "      <td>Married</td>\n",
       "      <td>5237</td>\n",
       "      <td>16577</td>\n",
       "      <td>6</td>\n",
       "      <td>Y</td>\n",
       "      <td>No</td>\n",
       "      <td>13</td>\n",
       "      <td>3</td>\n",
       "      <td>2</td>\n",
       "      <td>80</td>\n",
       "      <td>2</td>\n",
       "      <td>17</td>\n",
       "      <td>3</td>\n",
       "      <td>2</td>\n",
       "      <td>7</td>\n",
       "      <td>7</td>\n",
       "      <td>7</td>\n",
       "      <td>7</td>\n",
       "    </tr>\n",
       "  </tbody>\n",
       "</table>\n",
       "</div>"
      ],
      "text/plain": [
       "   Age Attrition     BusinessTravel  DailyRate              Department  \\\n",
       "0   41       Yes      Travel_Rarely       1102                   Sales   \n",
       "1   49        No  Travel_Frequently        279  Research & Development   \n",
       "2   37       Yes      Travel_Rarely       1373  Research & Development   \n",
       "3   33        No  Travel_Frequently       1392  Research & Development   \n",
       "4   27        No      Travel_Rarely        591  Research & Development   \n",
       "5   32        No  Travel_Frequently       1005  Research & Development   \n",
       "6   59        No      Travel_Rarely       1324  Research & Development   \n",
       "7   30        No      Travel_Rarely       1358  Research & Development   \n",
       "8   38        No  Travel_Frequently        216  Research & Development   \n",
       "9   36        No      Travel_Rarely       1299  Research & Development   \n",
       "\n",
       "   DistanceFromHome  Education EducationField  EmployeeCount  EmployeeNumber  \\\n",
       "0                 1          2  Life Sciences              1               1   \n",
       "1                 8          1  Life Sciences              1               2   \n",
       "2                 2          2          Other              1               4   \n",
       "3                 3          4  Life Sciences              1               5   \n",
       "4                 2          1        Medical              1               7   \n",
       "5                 2          2  Life Sciences              1               8   \n",
       "6                 3          3        Medical              1              10   \n",
       "7                24          1  Life Sciences              1              11   \n",
       "8                23          3  Life Sciences              1              12   \n",
       "9                27          3        Medical              1              13   \n",
       "\n",
       "   EnvironmentSatisfaction  Gender  HourlyRate  JobInvolvement  JobLevel  \\\n",
       "0                        2  Female          94               3         2   \n",
       "1                        3    Male          61               2         2   \n",
       "2                        4    Male          92               2         1   \n",
       "3                        4  Female          56               3         1   \n",
       "4                        1    Male          40               3         1   \n",
       "5                        4    Male          79               3         1   \n",
       "6                        3  Female          81               4         1   \n",
       "7                        4    Male          67               3         1   \n",
       "8                        4    Male          44               2         3   \n",
       "9                        3    Male          94               3         2   \n",
       "\n",
       "                     JobRole  JobSatisfaction MaritalStatus  MonthlyIncome  \\\n",
       "0            Sales Executive                4        Single           5993   \n",
       "1         Research Scientist                2       Married           5130   \n",
       "2      Laboratory Technician                3        Single           2090   \n",
       "3         Research Scientist                3       Married           2909   \n",
       "4      Laboratory Technician                2       Married           3468   \n",
       "5      Laboratory Technician                4        Single           3068   \n",
       "6      Laboratory Technician                1       Married           2670   \n",
       "7      Laboratory Technician                3      Divorced           2693   \n",
       "8     Manufacturing Director                3        Single           9526   \n",
       "9  Healthcare Representative                3       Married           5237   \n",
       "\n",
       "   MonthlyRate  NumCompaniesWorked Over18 OverTime  PercentSalaryHike  \\\n",
       "0        19479                   8      Y      Yes                 11   \n",
       "1        24907                   1      Y       No                 23   \n",
       "2         2396                   6      Y      Yes                 15   \n",
       "3        23159                   1      Y      Yes                 11   \n",
       "4        16632                   9      Y       No                 12   \n",
       "5        11864                   0      Y       No                 13   \n",
       "6         9964                   4      Y      Yes                 20   \n",
       "7        13335                   1      Y       No                 22   \n",
       "8         8787                   0      Y       No                 21   \n",
       "9        16577                   6      Y       No                 13   \n",
       "\n",
       "   PerformanceRating  RelationshipSatisfaction  StandardHours  \\\n",
       "0                  3                         1             80   \n",
       "1                  4                         4             80   \n",
       "2                  3                         2             80   \n",
       "3                  3                         3             80   \n",
       "4                  3                         4             80   \n",
       "5                  3                         3             80   \n",
       "6                  4                         1             80   \n",
       "7                  4                         2             80   \n",
       "8                  4                         2             80   \n",
       "9                  3                         2             80   \n",
       "\n",
       "   StockOptionLevel  TotalWorkingYears  TrainingTimesLastYear  \\\n",
       "0                 0                  8                      0   \n",
       "1                 1                 10                      3   \n",
       "2                 0                  7                      3   \n",
       "3                 0                  8                      3   \n",
       "4                 1                  6                      3   \n",
       "5                 0                  8                      2   \n",
       "6                 3                 12                      3   \n",
       "7                 1                  1                      2   \n",
       "8                 0                 10                      2   \n",
       "9                 2                 17                      3   \n",
       "\n",
       "   WorkLifeBalance  YearsAtCompany  YearsInCurrentRole  \\\n",
       "0                1               6                   4   \n",
       "1                3              10                   7   \n",
       "2                3               0                   0   \n",
       "3                3               8                   7   \n",
       "4                3               2                   2   \n",
       "5                2               7                   7   \n",
       "6                2               1                   0   \n",
       "7                3               1                   0   \n",
       "8                3               9                   7   \n",
       "9                2               7                   7   \n",
       "\n",
       "   YearsSinceLastPromotion  YearsWithCurrManager  \n",
       "0                        0                     5  \n",
       "1                        1                     7  \n",
       "2                        0                     0  \n",
       "3                        3                     0  \n",
       "4                        2                     2  \n",
       "5                        3                     6  \n",
       "6                        0                     0  \n",
       "7                        0                     0  \n",
       "8                        1                     8  \n",
       "9                        7                     7  "
      ]
     },
     "execution_count": 5,
     "metadata": {},
     "output_type": "execute_result"
    }
   ],
   "source": [
    "hr_employee_attrition.head(10)"
   ]
  },
  {
   "cell_type": "code",
   "execution_count": 6,
   "metadata": {},
   "outputs": [
    {
     "data": {
      "text/html": [
       "<div>\n",
       "<style scoped>\n",
       "    .dataframe tbody tr th:only-of-type {\n",
       "        vertical-align: middle;\n",
       "    }\n",
       "\n",
       "    .dataframe tbody tr th {\n",
       "        vertical-align: top;\n",
       "    }\n",
       "\n",
       "    .dataframe thead th {\n",
       "        text-align: right;\n",
       "    }\n",
       "</style>\n",
       "<table border=\"1\" class=\"dataframe\">\n",
       "  <thead>\n",
       "    <tr style=\"text-align: right;\">\n",
       "      <th></th>\n",
       "      <th>Age</th>\n",
       "      <th>Attrition</th>\n",
       "      <th>BusinessTravel</th>\n",
       "      <th>DailyRate</th>\n",
       "      <th>Department</th>\n",
       "      <th>DistanceFromHome</th>\n",
       "      <th>Education</th>\n",
       "      <th>EducationField</th>\n",
       "      <th>EmployeeCount</th>\n",
       "      <th>EmployeeNumber</th>\n",
       "      <th>EnvironmentSatisfaction</th>\n",
       "      <th>Gender</th>\n",
       "      <th>HourlyRate</th>\n",
       "      <th>JobInvolvement</th>\n",
       "      <th>JobLevel</th>\n",
       "      <th>JobRole</th>\n",
       "      <th>JobSatisfaction</th>\n",
       "      <th>MaritalStatus</th>\n",
       "      <th>MonthlyIncome</th>\n",
       "      <th>MonthlyRate</th>\n",
       "      <th>NumCompaniesWorked</th>\n",
       "      <th>Over18</th>\n",
       "      <th>OverTime</th>\n",
       "      <th>PercentSalaryHike</th>\n",
       "      <th>PerformanceRating</th>\n",
       "      <th>RelationshipSatisfaction</th>\n",
       "      <th>StandardHours</th>\n",
       "      <th>StockOptionLevel</th>\n",
       "      <th>TotalWorkingYears</th>\n",
       "      <th>TrainingTimesLastYear</th>\n",
       "      <th>WorkLifeBalance</th>\n",
       "      <th>YearsAtCompany</th>\n",
       "      <th>YearsInCurrentRole</th>\n",
       "      <th>YearsSinceLastPromotion</th>\n",
       "      <th>YearsWithCurrManager</th>\n",
       "    </tr>\n",
       "  </thead>\n",
       "  <tbody>\n",
       "    <tr>\n",
       "      <th>1460</th>\n",
       "      <td>29</td>\n",
       "      <td>No</td>\n",
       "      <td>Travel_Rarely</td>\n",
       "      <td>468</td>\n",
       "      <td>Research &amp; Development</td>\n",
       "      <td>28</td>\n",
       "      <td>4</td>\n",
       "      <td>Medical</td>\n",
       "      <td>1</td>\n",
       "      <td>2054</td>\n",
       "      <td>4</td>\n",
       "      <td>Female</td>\n",
       "      <td>73</td>\n",
       "      <td>2</td>\n",
       "      <td>1</td>\n",
       "      <td>Research Scientist</td>\n",
       "      <td>1</td>\n",
       "      <td>Single</td>\n",
       "      <td>3785</td>\n",
       "      <td>8489</td>\n",
       "      <td>1</td>\n",
       "      <td>Y</td>\n",
       "      <td>No</td>\n",
       "      <td>14</td>\n",
       "      <td>3</td>\n",
       "      <td>2</td>\n",
       "      <td>80</td>\n",
       "      <td>0</td>\n",
       "      <td>5</td>\n",
       "      <td>3</td>\n",
       "      <td>1</td>\n",
       "      <td>5</td>\n",
       "      <td>4</td>\n",
       "      <td>0</td>\n",
       "      <td>4</td>\n",
       "    </tr>\n",
       "    <tr>\n",
       "      <th>1461</th>\n",
       "      <td>50</td>\n",
       "      <td>Yes</td>\n",
       "      <td>Travel_Rarely</td>\n",
       "      <td>410</td>\n",
       "      <td>Sales</td>\n",
       "      <td>28</td>\n",
       "      <td>3</td>\n",
       "      <td>Marketing</td>\n",
       "      <td>1</td>\n",
       "      <td>2055</td>\n",
       "      <td>4</td>\n",
       "      <td>Male</td>\n",
       "      <td>39</td>\n",
       "      <td>2</td>\n",
       "      <td>3</td>\n",
       "      <td>Sales Executive</td>\n",
       "      <td>1</td>\n",
       "      <td>Divorced</td>\n",
       "      <td>10854</td>\n",
       "      <td>16586</td>\n",
       "      <td>4</td>\n",
       "      <td>Y</td>\n",
       "      <td>Yes</td>\n",
       "      <td>13</td>\n",
       "      <td>3</td>\n",
       "      <td>2</td>\n",
       "      <td>80</td>\n",
       "      <td>1</td>\n",
       "      <td>20</td>\n",
       "      <td>3</td>\n",
       "      <td>3</td>\n",
       "      <td>3</td>\n",
       "      <td>2</td>\n",
       "      <td>2</td>\n",
       "      <td>0</td>\n",
       "    </tr>\n",
       "    <tr>\n",
       "      <th>1462</th>\n",
       "      <td>39</td>\n",
       "      <td>No</td>\n",
       "      <td>Travel_Rarely</td>\n",
       "      <td>722</td>\n",
       "      <td>Sales</td>\n",
       "      <td>24</td>\n",
       "      <td>1</td>\n",
       "      <td>Marketing</td>\n",
       "      <td>1</td>\n",
       "      <td>2056</td>\n",
       "      <td>2</td>\n",
       "      <td>Female</td>\n",
       "      <td>60</td>\n",
       "      <td>2</td>\n",
       "      <td>4</td>\n",
       "      <td>Sales Executive</td>\n",
       "      <td>4</td>\n",
       "      <td>Married</td>\n",
       "      <td>12031</td>\n",
       "      <td>8828</td>\n",
       "      <td>0</td>\n",
       "      <td>Y</td>\n",
       "      <td>No</td>\n",
       "      <td>11</td>\n",
       "      <td>3</td>\n",
       "      <td>1</td>\n",
       "      <td>80</td>\n",
       "      <td>1</td>\n",
       "      <td>21</td>\n",
       "      <td>2</td>\n",
       "      <td>2</td>\n",
       "      <td>20</td>\n",
       "      <td>9</td>\n",
       "      <td>9</td>\n",
       "      <td>6</td>\n",
       "    </tr>\n",
       "    <tr>\n",
       "      <th>1463</th>\n",
       "      <td>31</td>\n",
       "      <td>No</td>\n",
       "      <td>Non-Travel</td>\n",
       "      <td>325</td>\n",
       "      <td>Research &amp; Development</td>\n",
       "      <td>5</td>\n",
       "      <td>3</td>\n",
       "      <td>Medical</td>\n",
       "      <td>1</td>\n",
       "      <td>2057</td>\n",
       "      <td>2</td>\n",
       "      <td>Male</td>\n",
       "      <td>74</td>\n",
       "      <td>3</td>\n",
       "      <td>2</td>\n",
       "      <td>Manufacturing Director</td>\n",
       "      <td>1</td>\n",
       "      <td>Single</td>\n",
       "      <td>9936</td>\n",
       "      <td>3787</td>\n",
       "      <td>0</td>\n",
       "      <td>Y</td>\n",
       "      <td>No</td>\n",
       "      <td>19</td>\n",
       "      <td>3</td>\n",
       "      <td>2</td>\n",
       "      <td>80</td>\n",
       "      <td>0</td>\n",
       "      <td>10</td>\n",
       "      <td>2</td>\n",
       "      <td>3</td>\n",
       "      <td>9</td>\n",
       "      <td>4</td>\n",
       "      <td>1</td>\n",
       "      <td>7</td>\n",
       "    </tr>\n",
       "    <tr>\n",
       "      <th>1464</th>\n",
       "      <td>26</td>\n",
       "      <td>No</td>\n",
       "      <td>Travel_Rarely</td>\n",
       "      <td>1167</td>\n",
       "      <td>Sales</td>\n",
       "      <td>5</td>\n",
       "      <td>3</td>\n",
       "      <td>Other</td>\n",
       "      <td>1</td>\n",
       "      <td>2060</td>\n",
       "      <td>4</td>\n",
       "      <td>Female</td>\n",
       "      <td>30</td>\n",
       "      <td>2</td>\n",
       "      <td>1</td>\n",
       "      <td>Sales Representative</td>\n",
       "      <td>3</td>\n",
       "      <td>Single</td>\n",
       "      <td>2966</td>\n",
       "      <td>21378</td>\n",
       "      <td>0</td>\n",
       "      <td>Y</td>\n",
       "      <td>No</td>\n",
       "      <td>18</td>\n",
       "      <td>3</td>\n",
       "      <td>4</td>\n",
       "      <td>80</td>\n",
       "      <td>0</td>\n",
       "      <td>5</td>\n",
       "      <td>2</td>\n",
       "      <td>3</td>\n",
       "      <td>4</td>\n",
       "      <td>2</td>\n",
       "      <td>0</td>\n",
       "      <td>0</td>\n",
       "    </tr>\n",
       "    <tr>\n",
       "      <th>1465</th>\n",
       "      <td>36</td>\n",
       "      <td>No</td>\n",
       "      <td>Travel_Frequently</td>\n",
       "      <td>884</td>\n",
       "      <td>Research &amp; Development</td>\n",
       "      <td>23</td>\n",
       "      <td>2</td>\n",
       "      <td>Medical</td>\n",
       "      <td>1</td>\n",
       "      <td>2061</td>\n",
       "      <td>3</td>\n",
       "      <td>Male</td>\n",
       "      <td>41</td>\n",
       "      <td>4</td>\n",
       "      <td>2</td>\n",
       "      <td>Laboratory Technician</td>\n",
       "      <td>4</td>\n",
       "      <td>Married</td>\n",
       "      <td>2571</td>\n",
       "      <td>12290</td>\n",
       "      <td>4</td>\n",
       "      <td>Y</td>\n",
       "      <td>No</td>\n",
       "      <td>17</td>\n",
       "      <td>3</td>\n",
       "      <td>3</td>\n",
       "      <td>80</td>\n",
       "      <td>1</td>\n",
       "      <td>17</td>\n",
       "      <td>3</td>\n",
       "      <td>3</td>\n",
       "      <td>5</td>\n",
       "      <td>2</td>\n",
       "      <td>0</td>\n",
       "      <td>3</td>\n",
       "    </tr>\n",
       "    <tr>\n",
       "      <th>1466</th>\n",
       "      <td>39</td>\n",
       "      <td>No</td>\n",
       "      <td>Travel_Rarely</td>\n",
       "      <td>613</td>\n",
       "      <td>Research &amp; Development</td>\n",
       "      <td>6</td>\n",
       "      <td>1</td>\n",
       "      <td>Medical</td>\n",
       "      <td>1</td>\n",
       "      <td>2062</td>\n",
       "      <td>4</td>\n",
       "      <td>Male</td>\n",
       "      <td>42</td>\n",
       "      <td>2</td>\n",
       "      <td>3</td>\n",
       "      <td>Healthcare Representative</td>\n",
       "      <td>1</td>\n",
       "      <td>Married</td>\n",
       "      <td>9991</td>\n",
       "      <td>21457</td>\n",
       "      <td>4</td>\n",
       "      <td>Y</td>\n",
       "      <td>No</td>\n",
       "      <td>15</td>\n",
       "      <td>3</td>\n",
       "      <td>1</td>\n",
       "      <td>80</td>\n",
       "      <td>1</td>\n",
       "      <td>9</td>\n",
       "      <td>5</td>\n",
       "      <td>3</td>\n",
       "      <td>7</td>\n",
       "      <td>7</td>\n",
       "      <td>1</td>\n",
       "      <td>7</td>\n",
       "    </tr>\n",
       "    <tr>\n",
       "      <th>1467</th>\n",
       "      <td>27</td>\n",
       "      <td>No</td>\n",
       "      <td>Travel_Rarely</td>\n",
       "      <td>155</td>\n",
       "      <td>Research &amp; Development</td>\n",
       "      <td>4</td>\n",
       "      <td>3</td>\n",
       "      <td>Life Sciences</td>\n",
       "      <td>1</td>\n",
       "      <td>2064</td>\n",
       "      <td>2</td>\n",
       "      <td>Male</td>\n",
       "      <td>87</td>\n",
       "      <td>4</td>\n",
       "      <td>2</td>\n",
       "      <td>Manufacturing Director</td>\n",
       "      <td>2</td>\n",
       "      <td>Married</td>\n",
       "      <td>6142</td>\n",
       "      <td>5174</td>\n",
       "      <td>1</td>\n",
       "      <td>Y</td>\n",
       "      <td>Yes</td>\n",
       "      <td>20</td>\n",
       "      <td>4</td>\n",
       "      <td>2</td>\n",
       "      <td>80</td>\n",
       "      <td>1</td>\n",
       "      <td>6</td>\n",
       "      <td>0</td>\n",
       "      <td>3</td>\n",
       "      <td>6</td>\n",
       "      <td>2</td>\n",
       "      <td>0</td>\n",
       "      <td>3</td>\n",
       "    </tr>\n",
       "    <tr>\n",
       "      <th>1468</th>\n",
       "      <td>49</td>\n",
       "      <td>No</td>\n",
       "      <td>Travel_Frequently</td>\n",
       "      <td>1023</td>\n",
       "      <td>Sales</td>\n",
       "      <td>2</td>\n",
       "      <td>3</td>\n",
       "      <td>Medical</td>\n",
       "      <td>1</td>\n",
       "      <td>2065</td>\n",
       "      <td>4</td>\n",
       "      <td>Male</td>\n",
       "      <td>63</td>\n",
       "      <td>2</td>\n",
       "      <td>2</td>\n",
       "      <td>Sales Executive</td>\n",
       "      <td>2</td>\n",
       "      <td>Married</td>\n",
       "      <td>5390</td>\n",
       "      <td>13243</td>\n",
       "      <td>2</td>\n",
       "      <td>Y</td>\n",
       "      <td>No</td>\n",
       "      <td>14</td>\n",
       "      <td>3</td>\n",
       "      <td>4</td>\n",
       "      <td>80</td>\n",
       "      <td>0</td>\n",
       "      <td>17</td>\n",
       "      <td>3</td>\n",
       "      <td>2</td>\n",
       "      <td>9</td>\n",
       "      <td>6</td>\n",
       "      <td>0</td>\n",
       "      <td>8</td>\n",
       "    </tr>\n",
       "    <tr>\n",
       "      <th>1469</th>\n",
       "      <td>34</td>\n",
       "      <td>No</td>\n",
       "      <td>Travel_Rarely</td>\n",
       "      <td>628</td>\n",
       "      <td>Research &amp; Development</td>\n",
       "      <td>8</td>\n",
       "      <td>3</td>\n",
       "      <td>Medical</td>\n",
       "      <td>1</td>\n",
       "      <td>2068</td>\n",
       "      <td>2</td>\n",
       "      <td>Male</td>\n",
       "      <td>82</td>\n",
       "      <td>4</td>\n",
       "      <td>2</td>\n",
       "      <td>Laboratory Technician</td>\n",
       "      <td>3</td>\n",
       "      <td>Married</td>\n",
       "      <td>4404</td>\n",
       "      <td>10228</td>\n",
       "      <td>2</td>\n",
       "      <td>Y</td>\n",
       "      <td>No</td>\n",
       "      <td>12</td>\n",
       "      <td>3</td>\n",
       "      <td>1</td>\n",
       "      <td>80</td>\n",
       "      <td>0</td>\n",
       "      <td>6</td>\n",
       "      <td>3</td>\n",
       "      <td>4</td>\n",
       "      <td>4</td>\n",
       "      <td>3</td>\n",
       "      <td>1</td>\n",
       "      <td>2</td>\n",
       "    </tr>\n",
       "  </tbody>\n",
       "</table>\n",
       "</div>"
      ],
      "text/plain": [
       "      Age Attrition     BusinessTravel  DailyRate              Department  \\\n",
       "1460   29        No      Travel_Rarely        468  Research & Development   \n",
       "1461   50       Yes      Travel_Rarely        410                   Sales   \n",
       "1462   39        No      Travel_Rarely        722                   Sales   \n",
       "1463   31        No         Non-Travel        325  Research & Development   \n",
       "1464   26        No      Travel_Rarely       1167                   Sales   \n",
       "1465   36        No  Travel_Frequently        884  Research & Development   \n",
       "1466   39        No      Travel_Rarely        613  Research & Development   \n",
       "1467   27        No      Travel_Rarely        155  Research & Development   \n",
       "1468   49        No  Travel_Frequently       1023                   Sales   \n",
       "1469   34        No      Travel_Rarely        628  Research & Development   \n",
       "\n",
       "      DistanceFromHome  Education EducationField  EmployeeCount  \\\n",
       "1460                28          4        Medical              1   \n",
       "1461                28          3      Marketing              1   \n",
       "1462                24          1      Marketing              1   \n",
       "1463                 5          3        Medical              1   \n",
       "1464                 5          3          Other              1   \n",
       "1465                23          2        Medical              1   \n",
       "1466                 6          1        Medical              1   \n",
       "1467                 4          3  Life Sciences              1   \n",
       "1468                 2          3        Medical              1   \n",
       "1469                 8          3        Medical              1   \n",
       "\n",
       "      EmployeeNumber  EnvironmentSatisfaction  Gender  HourlyRate  \\\n",
       "1460            2054                        4  Female          73   \n",
       "1461            2055                        4    Male          39   \n",
       "1462            2056                        2  Female          60   \n",
       "1463            2057                        2    Male          74   \n",
       "1464            2060                        4  Female          30   \n",
       "1465            2061                        3    Male          41   \n",
       "1466            2062                        4    Male          42   \n",
       "1467            2064                        2    Male          87   \n",
       "1468            2065                        4    Male          63   \n",
       "1469            2068                        2    Male          82   \n",
       "\n",
       "      JobInvolvement  JobLevel                    JobRole  JobSatisfaction  \\\n",
       "1460               2         1         Research Scientist                1   \n",
       "1461               2         3            Sales Executive                1   \n",
       "1462               2         4            Sales Executive                4   \n",
       "1463               3         2     Manufacturing Director                1   \n",
       "1464               2         1       Sales Representative                3   \n",
       "1465               4         2      Laboratory Technician                4   \n",
       "1466               2         3  Healthcare Representative                1   \n",
       "1467               4         2     Manufacturing Director                2   \n",
       "1468               2         2            Sales Executive                2   \n",
       "1469               4         2      Laboratory Technician                3   \n",
       "\n",
       "     MaritalStatus  MonthlyIncome  MonthlyRate  NumCompaniesWorked Over18  \\\n",
       "1460        Single           3785         8489                   1      Y   \n",
       "1461      Divorced          10854        16586                   4      Y   \n",
       "1462       Married          12031         8828                   0      Y   \n",
       "1463        Single           9936         3787                   0      Y   \n",
       "1464        Single           2966        21378                   0      Y   \n",
       "1465       Married           2571        12290                   4      Y   \n",
       "1466       Married           9991        21457                   4      Y   \n",
       "1467       Married           6142         5174                   1      Y   \n",
       "1468       Married           5390        13243                   2      Y   \n",
       "1469       Married           4404        10228                   2      Y   \n",
       "\n",
       "     OverTime  PercentSalaryHike  PerformanceRating  RelationshipSatisfaction  \\\n",
       "1460       No                 14                  3                         2   \n",
       "1461      Yes                 13                  3                         2   \n",
       "1462       No                 11                  3                         1   \n",
       "1463       No                 19                  3                         2   \n",
       "1464       No                 18                  3                         4   \n",
       "1465       No                 17                  3                         3   \n",
       "1466       No                 15                  3                         1   \n",
       "1467      Yes                 20                  4                         2   \n",
       "1468       No                 14                  3                         4   \n",
       "1469       No                 12                  3                         1   \n",
       "\n",
       "      StandardHours  StockOptionLevel  TotalWorkingYears  \\\n",
       "1460             80                 0                  5   \n",
       "1461             80                 1                 20   \n",
       "1462             80                 1                 21   \n",
       "1463             80                 0                 10   \n",
       "1464             80                 0                  5   \n",
       "1465             80                 1                 17   \n",
       "1466             80                 1                  9   \n",
       "1467             80                 1                  6   \n",
       "1468             80                 0                 17   \n",
       "1469             80                 0                  6   \n",
       "\n",
       "      TrainingTimesLastYear  WorkLifeBalance  YearsAtCompany  \\\n",
       "1460                      3                1               5   \n",
       "1461                      3                3               3   \n",
       "1462                      2                2              20   \n",
       "1463                      2                3               9   \n",
       "1464                      2                3               4   \n",
       "1465                      3                3               5   \n",
       "1466                      5                3               7   \n",
       "1467                      0                3               6   \n",
       "1468                      3                2               9   \n",
       "1469                      3                4               4   \n",
       "\n",
       "      YearsInCurrentRole  YearsSinceLastPromotion  YearsWithCurrManager  \n",
       "1460                   4                        0                     4  \n",
       "1461                   2                        2                     0  \n",
       "1462                   9                        9                     6  \n",
       "1463                   4                        1                     7  \n",
       "1464                   2                        0                     0  \n",
       "1465                   2                        0                     3  \n",
       "1466                   7                        1                     7  \n",
       "1467                   2                        0                     3  \n",
       "1468                   6                        0                     8  \n",
       "1469                   3                        1                     2  "
      ]
     },
     "execution_count": 6,
     "metadata": {},
     "output_type": "execute_result"
    }
   ],
   "source": [
    "hr_employee_attrition.tail(10)"
   ]
  },
  {
   "cell_type": "markdown",
   "metadata": {},
   "source": [
    "## Number Of Rows & Colums"
   ]
  },
  {
   "cell_type": "code",
   "execution_count": 7,
   "metadata": {},
   "outputs": [
    {
     "name": "stdout",
     "output_type": "stream",
     "text": [
      "Rows:    1470\n",
      "Columns: 35\n"
     ]
    }
   ],
   "source": [
    "print('Rows:   ', hr_employee_attrition.shape[0])\n",
    "print('Columns:', hr_employee_attrition.shape[1])"
   ]
  },
  {
   "cell_type": "markdown",
   "metadata": {},
   "source": [
    "## Statistical Summaries And Data Visualizations\n",
    "### Age"
   ]
  },
  {
   "cell_type": "code",
   "execution_count": 8,
   "metadata": {},
   "outputs": [
    {
     "name": "stdout",
     "output_type": "stream",
     "text": [
      "Mean:   36.924\n",
      "Median: 36.0\n",
      "Mode:   35\n",
      "STD:    9.135\n",
      "Min:    18.000\n",
      "25%:    30.000\n",
      "50%:    36.000\n",
      "75%:    43.000\n",
      "Max:    60.000\n",
      "Skew:   0.413\n"
     ]
    },
    {
     "data": {
      "image/png": "[encoded data removed]",
      "text/plain": [
       "<Figure size 432x288 with 1 Axes>"
      ]
     },
     "metadata": {
      "needs_background": "light"
     },
     "output_type": "display_data"
    }
   ],
   "source": [
    "numericalStatsGraphs(['Age'])"
   ]
  },
  {
   "cell_type": "markdown",
   "metadata": {},
   "source": [
    "### Attrition (Class Label!!!)"
   ]
  },
  {
   "cell_type": "code",
   "execution_count": 9,
   "metadata": {},
   "outputs": [
    {
     "name": "stdout",
     "output_type": "stream",
     "text": [
      "No:      0.839\n",
      "Yes:     0.161\n"
     ]
    },
    {
     "data": {
      "image/png": "[encoded data removed]",
      "text/plain": [
       "<Figure size 432x288 with 1 Axes>"
      ]
     },
     "metadata": {
      "needs_background": "light"
     },
     "output_type": "display_data"
    }
   ],
   "source": [
    "#print(hr_employee_attrition['Attrition'].value_counts())\n",
    "print('No:      {:,.3f}'.format(hr_employee_attrition['Attrition'].value_counts()[0]/hr_employee_attrition.shape[0]))\n",
    "print('Yes:     {:,.3f}'.format(hr_employee_attrition['Attrition'].value_counts()[1]/hr_employee_attrition.shape[0]))\n",
    "hr_employee_attrition['Attrition'].value_counts().plot(kind='bar', color='green')\n",
    "\n",
    "# Saving class labels to file\n",
    "class_labels = hr_employee_attrition['Attrition']\n",
    "class_labels.to_csv(\"./Data/attrition.csv\", index = False)\n",
    "\n",
    "# Dropping attribute dataframe\n",
    "hr_employee_attrition_dropped = hr_employee_attrition_dropped.drop('Attrition', axis=1)"
   ]
  },
  {
   "cell_type": "markdown",
   "metadata": {},
   "source": [
    "### BusinessTravel"
   ]
  },
  {
   "cell_type": "code",
   "execution_count": 10,
   "metadata": {},
   "outputs": [
    {
     "name": "stdout",
     "output_type": "stream",
     "text": [
      "Travel_Rarely:        0.710\n",
      "Travel_Frequently:    0.188\n",
      "Non-Travel:           0.102\n"
     ]
    },
    {
     "data": {
      "text/plain": [
       "<AxesSubplot:>"
      ]
     },
     "execution_count": 10,
     "metadata": {},
     "output_type": "execute_result"
    },
    {
     "data": {
      "image/png": "[encoded data removed]",
      "text/plain": [
       "<Figure size 432x288 with 1 Axes>"
      ]
     },
     "metadata": {
      "needs_background": "light"
     },
     "output_type": "display_data"
    }
   ],
   "source": [
    "#print(hr_employee_attrition['BusinessTravel'].value_counts())\n",
    "print('Travel_Rarely:        {:,.3f}'.format(hr_employee_attrition['BusinessTravel'].value_counts()[0]/hr_employee_attrition.shape[0]))\n",
    "print('Travel_Frequently:    {:,.3f}'.format(hr_employee_attrition['BusinessTravel'].value_counts()[1]/hr_employee_attrition.shape[0]))\n",
    "print('Non-Travel:           {:,.3f}'.format(hr_employee_attrition['BusinessTravel'].value_counts()[2]/hr_employee_attrition.shape[0]))\n",
    "hr_employee_attrition['BusinessTravel'].value_counts().plot(kind='bar', color='green')"
   ]
  },
  {
   "cell_type": "markdown",
   "metadata": {},
   "source": [
    "### DailyRate"
   ]
  },
  {
   "cell_type": "code",
   "execution_count": 11,
   "metadata": {},
   "outputs": [
    {
     "name": "stdout",
     "output_type": "stream",
     "text": [
      "Mean:   802.486\n",
      "Median: 802.0\n",
      "Mode:   691\n",
      "STD:    403.509\n",
      "Min:    102.000\n",
      "25%:    465.000\n",
      "50%:    802.000\n",
      "75%:    1,157.000\n",
      "Max:    1,499.000\n",
      "Skew:   -0.004\n"
     ]
    },
    {
     "data": {
      "image/png": "[encoded data removed]",
      "text/plain": [
       "<Figure size 432x288 with 1 Axes>"
      ]
     },
     "metadata": {
      "needs_background": "light"
     },
     "output_type": "display_data"
    }
   ],
   "source": [
    "numericalStatsGraphs(['DailyRate'])"
   ]
  },
  {
   "cell_type": "markdown",
   "metadata": {},
   "source": [
    "### Department"
   ]
  },
  {
   "cell_type": "code",
   "execution_count": 12,
   "metadata": {},
   "outputs": [
    {
     "name": "stdout",
     "output_type": "stream",
     "text": [
      "Research & Development:    0.654\n",
      "Sales:                     0.303\n",
      "Human Resources:           0.043\n"
     ]
    },
    {
     "data": {
      "text/plain": [
       "<AxesSubplot:>"
      ]
     },
     "execution_count": 12,
     "metadata": {},
     "output_type": "execute_result"
    },
    {
     "data": {
      "image/png": "[encoded data removed]",
      "text/plain": [
       "<Figure size 432x288 with 1 Axes>"
      ]
     },
     "metadata": {
      "needs_background": "light"
     },
     "output_type": "display_data"
    }
   ],
   "source": [
    "#print(hr_employee_attrition['Department'].value_counts())\n",
    "print('Research & Development:    {:,.3f}'.format(hr_employee_attrition['Department'].value_counts()[0]/hr_employee_attrition.shape[0]))\n",
    "print('Sales:                     {:,.3f}'.format(hr_employee_attrition['Department'].value_counts()[1]/hr_employee_attrition.shape[0]))\n",
    "print('Human Resources:           {:,.3f}'.format(hr_employee_attrition['Department'].value_counts()[2]/hr_employee_attrition.shape[0]))\n",
    "hr_employee_attrition['Department'].value_counts().plot(kind='bar', color='green')"
   ]
  },
  {
   "cell_type": "markdown",
   "metadata": {},
   "source": [
    "### DistanceFromHome"
   ]
  },
  {
   "cell_type": "code",
   "execution_count": 13,
   "metadata": {},
   "outputs": [
    {
     "name": "stdout",
     "output_type": "stream",
     "text": [
      "Mean:   9.193\n",
      "Median: 7.0\n",
      "Mode:   2\n",
      "STD:    8.107\n",
      "Min:    1.000\n",
      "25%:    2.000\n",
      "50%:    7.000\n",
      "75%:    14.000\n",
      "Max:    29.000\n",
      "Skew:   0.958\n"
     ]
    },
    {
     "data": {
      "image/png": "[encoded data removed]",
      "text/plain": [
       "<Figure size 432x288 with 1 Axes>"
      ]
     },
     "metadata": {
      "needs_background": "light"
     },
     "output_type": "display_data"
    }
   ],
   "source": [
    "numericalStatsGraphs(['DistanceFromHome'])"
   ]
  },
  {
   "cell_type": "markdown",
   "metadata": {},
   "source": [
    "### Education (Needs to be converted from Numerical to Categorical in Pre-Processing)"
   ]
  },
  {
   "cell_type": "code",
   "execution_count": 14,
   "metadata": {},
   "outputs": [
    {
     "name": "stdout",
     "output_type": "stream",
     "text": [
      "Bachelor:         0.389\n",
      "Master:           0.271\n",
      "College:          0.192\n",
      "Below College:    0.116\n",
      "Doctor:           0.033\n"
     ]
    },
    {
     "data": {
      "text/plain": [
       "<AxesSubplot:>"
      ]
     },
     "execution_count": 14,
     "metadata": {},
     "output_type": "execute_result"
    },
    {
     "data": {
      "image/png": "[encoded data removed]",
      "text/plain": [
       "<Figure size 432x288 with 1 Axes>"
      ]
     },
     "metadata": {
      "needs_background": "light"
     },
     "output_type": "display_data"
    }
   ],
   "source": [
    "# https://www.kaggle.com/pavansubhasht/ibm-hr-analytics-attrition-dataset\n",
    "#print(hr_employee_attrition['Education'].value_counts())\n",
    "print('Bachelor:         {:,.3f}'.format(hr_employee_attrition['Education'].astype(str).value_counts()[0]/hr_employee_attrition.shape[0]))\n",
    "print('Master:           {:,.3f}'.format(hr_employee_attrition['Education'].astype(str).value_counts()[1]/hr_employee_attrition.shape[0]))\n",
    "print('College:          {:,.3f}'.format(hr_employee_attrition['Education'].astype(str).value_counts()[2]/hr_employee_attrition.shape[0]))\n",
    "print('Below College:    {:,.3f}'.format(hr_employee_attrition['Education'].astype(str).value_counts()[3]/hr_employee_attrition.shape[0]))\n",
    "print('Doctor:           {:,.3f}'.format(hr_employee_attrition['Education'].astype(str).value_counts()[4]/hr_employee_attrition.shape[0]))\n",
    "hr_employee_attrition['Education'].astype(str).value_counts().plot(kind='bar', color='red')\n",
    "#hr_employee_attrition['Education'].plot(kind=\"hist\", bins=20)"
   ]
  },
  {
   "cell_type": "markdown",
   "metadata": {},
   "source": [
    "### EducationField"
   ]
  },
  {
   "cell_type": "markdown",
   "metadata": {},
   "source": [
    "### EmployeeCount (Recommend dropping this attribute for Pre-Processing)          "
   ]
  },
  {
   "cell_type": "code",
   "execution_count": 15,
   "metadata": {},
   "outputs": [
    {
     "name": "stdout",
     "output_type": "stream",
     "text": [
      "Mean:   1.000\n",
      "Median: 1.0\n",
      "Mode:   1\n",
      "STD:    0.000\n",
      "Min:    1.000\n",
      "25%:    1.000\n",
      "50%:    1.000\n",
      "75%:    1.000\n",
      "Max:    1.000\n",
      "Skew:   0.000\n"
     ]
    },
    {
     "data": {
      "image/png": "[encoded data removed]",
      "text/plain": [
       "<Figure size 432x288 with 1 Axes>"
      ]
     },
     "metadata": {
      "needs_background": "light"
     },
     "output_type": "display_data"
    }
   ],
   "source": [
    "numericalStatsGraphs(['EmployeeCount'])\n",
    "# Dropping Attribute\n",
    "hr_employee_attrition_dropped = hr_employee_attrition_dropped.drop('EmployeeCount', axis=1)"
   ]
  },
  {
   "cell_type": "markdown",
   "metadata": {},
   "source": [
    "### EmployeeNumber (Recommend dropping this attribute for Pre-Processing)  "
   ]
  },
  {
   "cell_type": "code",
   "execution_count": 16,
   "metadata": {},
   "outputs": [
    {
     "name": "stdout",
     "output_type": "stream",
     "text": [
      "Mean:   1,024.865\n",
      "Median: 1020.5\n",
      "Mode:      1\n",
      "    2\n",
      "    4\n",
      "    5\n",
      "    7\n",
      "    8\n",
      "   10\n",
      "   11\n",
      "   12\n",
      "   13\n",
      "   14\n",
      "   15\n",
      "   16\n",
      "   18\n",
      "   19\n",
      "   20\n",
      "   21\n",
      "   22\n",
      "   23\n",
      "   24\n",
      "   26\n",
      "   27\n",
      "   28\n",
      "   30\n",
      "   31\n",
      "   32\n",
      "   33\n",
      "   35\n",
      "   36\n",
      "   38\n",
      "   39\n",
      "   40\n",
      "   41\n",
      "   42\n",
      "   45\n",
      "   46\n",
      "   47\n",
      "   49\n",
      "   51\n",
      "   52\n",
      "   53\n",
      "   54\n",
      "   55\n",
      "   56\n",
      "   57\n",
      "   58\n",
      "   60\n",
      "   61\n",
      "   62\n",
      "   63\n",
      "   64\n",
      "   65\n",
      "   68\n",
      "   70\n",
      "   72\n",
      "   73\n",
      "   74\n",
      "   75\n",
      "   76\n",
      "   77\n",
      "   78\n",
      "   79\n",
      "   80\n",
      "   81\n",
      "   83\n",
      "   84\n",
      "   85\n",
      "   86\n",
      "   88\n",
      "   90\n",
      "   91\n",
      "   94\n",
      "   95\n",
      "   96\n",
      "   97\n",
      "   98\n",
      "  100\n",
      "  101\n",
      "  102\n",
      "  103\n",
      "  104\n",
      "  105\n",
      "  106\n",
      "  107\n",
      "  110\n",
      "  112\n",
      "  113\n",
      "  116\n",
      "  117\n",
      "  118\n",
      "  119\n",
      "  120\n",
      "  121\n",
      "  124\n",
      "  125\n",
      "  126\n",
      "  128\n",
      "  129\n",
      "  131\n",
      "  132\n",
      "  133\n",
      "  134\n",
      "  137\n",
      "  138\n",
      "  139\n",
      "  140\n",
      "  141\n",
      "  142\n",
      "  143\n",
      "  144\n",
      "  145\n",
      "  147\n",
      "  148\n",
      "  150\n",
      "  151\n",
      "  152\n",
      "  153\n",
      "  154\n",
      "  155\n",
      "  158\n",
      "  159\n",
      "  160\n",
      "  161\n",
      "  162\n",
      "  163\n",
      "  164\n",
      "  165\n",
      "  167\n",
      "  169\n",
      "  170\n",
      "  171\n",
      "  174\n",
      "  175\n",
      "  176\n",
      "  177\n",
      "  178\n",
      "  179\n",
      "  182\n",
      "  183\n",
      "  184\n",
      "  190\n",
      "  192\n",
      "  193\n",
      "  194\n",
      "  195\n",
      "  197\n",
      "  198\n",
      "  199\n",
      "  200\n",
      "  201\n",
      "  202\n",
      "  204\n",
      "  205\n",
      "  206\n",
      "  207\n",
      "  208\n",
      "  211\n",
      "  214\n",
      "  215\n",
      "  216\n",
      "  217\n",
      "  218\n",
      "  221\n",
      "  223\n",
      "  224\n",
      "  226\n",
      "  227\n",
      "  228\n",
      "  230\n",
      "  231\n",
      "  233\n",
      "  235\n",
      "  238\n",
      "  239\n",
      "  240\n",
      "  241\n",
      "  242\n",
      "  243\n",
      "  244\n",
      "  245\n",
      "  246\n",
      "  247\n",
      "  248\n",
      "  249\n",
      "  250\n",
      "  252\n",
      "  253\n",
      "  254\n",
      "  256\n",
      "  258\n",
      "  259\n",
      "  260\n",
      "  261\n",
      "  262\n",
      "  264\n",
      "  267\n",
      "  269\n",
      "  270\n",
      "  271\n",
      "  273\n",
      "  274\n",
      "  275\n",
      "  277\n",
      "  281\n",
      "  282\n",
      "  283\n",
      "  284\n",
      "  286\n",
      "  287\n",
      "  288\n",
      "  291\n",
      "  292\n",
      "  293\n",
      "  296\n",
      "  297\n",
      "  298\n",
      "  299\n",
      "  300\n",
      "  302\n",
      "  303\n",
      "  304\n",
      "  305\n",
      "  306\n",
      "  307\n",
      "  308\n",
      "  309\n",
      "  311\n",
      "  312\n",
      "  314\n",
      "  315\n",
      "  316\n",
      "  319\n",
      "  321\n",
      "  323\n",
      "  325\n",
      "  327\n",
      "  328\n",
      "  329\n",
      "  330\n",
      "  331\n",
      "  332\n",
      "  333\n",
      "  334\n",
      "  335\n",
      "  336\n",
      "  337\n",
      "  338\n",
      "  339\n",
      "  340\n",
      "  341\n",
      "  342\n",
      "  343\n",
      "  346\n",
      "  347\n",
      "  349\n",
      "  350\n",
      "  351\n",
      "  352\n",
      "  353\n",
      "  355\n",
      "  359\n",
      "  361\n",
      "  362\n",
      "  363\n",
      "  364\n",
      "  366\n",
      "  367\n",
      "  369\n",
      "  372\n",
      "  373\n",
      "  374\n",
      "  376\n",
      "  377\n",
      "  378\n",
      "  379\n",
      "  380\n",
      "  381\n",
      "  382\n",
      "  384\n",
      "  385\n",
      "  386\n",
      "  387\n",
      "  388\n",
      "  389\n",
      "  390\n",
      "  391\n",
      "  392\n",
      "  393\n",
      "  394\n",
      "  395\n",
      "  396\n",
      "  397\n",
      "  399\n",
      "  401\n",
      "  403\n",
      "  404\n",
      "  405\n",
      "  406\n",
      "  407\n",
      "  408\n",
      "  410\n",
      "  411\n",
      "  412\n",
      "  416\n",
      "  417\n",
      "  419\n",
      "  420\n",
      "  421\n",
      "  422\n",
      "  423\n",
      "  424\n",
      "  425\n",
      "  426\n",
      "  428\n",
      "  429\n",
      "  430\n",
      "  431\n",
      "  433\n",
      "  434\n",
      "  436\n",
      "  437\n",
      "  438\n",
      "  439\n",
      "  440\n",
      "  441\n",
      "  442\n",
      "  444\n",
      "  445\n",
      "  446\n",
      "  447\n",
      "  448\n",
      "  449\n",
      "  450\n",
      "  451\n",
      "  452\n",
      "  453\n",
      "  454\n",
      "  455\n",
      "  456\n",
      "  458\n",
      "  460\n",
      "  461\n",
      "  462\n",
      "  463\n",
      "  464\n",
      "  465\n",
      "  466\n",
      "  467\n",
      "  468\n",
      "  469\n",
      "  470\n",
      "  471\n",
      "  473\n",
      "  474\n",
      "  475\n",
      "  476\n",
      "  477\n",
      "  478\n",
      "  479\n",
      "  481\n",
      "  482\n",
      "  483\n",
      "  484\n",
      "  485\n",
      "  486\n",
      "  487\n",
      "  488\n",
      "  491\n",
      "  492\n",
      "  493\n",
      "  494\n",
      "  495\n",
      "  496\n",
      "  497\n",
      "  498\n",
      "  499\n",
      "  500\n",
      "  501\n",
      "  502\n",
      "  505\n",
      "  507\n",
      "  508\n",
      "  510\n",
      "  511\n",
      "  513\n",
      "  514\n",
      "  515\n",
      "  516\n",
      "  517\n",
      "  518\n",
      "  520\n",
      "  521\n",
      "  522\n",
      "  523\n",
      "  524\n",
      "  525\n",
      "  526\n",
      "  527\n",
      "  529\n",
      "  530\n",
      "  531\n",
      "  532\n",
      "  533\n",
      "  534\n",
      "  536\n",
      "  538\n",
      "  543\n",
      "  544\n",
      "  546\n",
      "  547\n",
      "  548\n",
      "  549\n",
      "  550\n",
      "  551\n",
      "  554\n",
      "  555\n",
      "  556\n",
      "  558\n",
      "  560\n",
      "  562\n",
      "  564\n",
      "  565\n",
      "  566\n",
      "  567\n",
      "  568\n",
      "  569\n",
      "  571\n",
      "  573\n",
      "  574\n",
      "  575\n",
      "  577\n",
      "  578\n",
      "  579\n",
      "  580\n",
      "  581\n",
      "  582\n",
      "  584\n",
      "  585\n",
      "  586\n",
      "  587\n",
      "  590\n",
      "  591\n",
      "  592\n",
      "  593\n",
      "  595\n",
      "  597\n",
      "  599\n",
      "  600\n",
      "  601\n",
      "  602\n",
      "  604\n",
      "  605\n",
      "  606\n",
      "  608\n",
      "  611\n",
      "  612\n",
      "  613\n",
      "  614\n",
      "  615\n",
      "  616\n",
      "  618\n",
      "  620\n",
      "  621\n",
      "  622\n",
      "  623\n",
      "  624\n",
      "  625\n",
      "  626\n",
      "  630\n",
      "  631\n",
      "  632\n",
      "  634\n",
      "  635\n",
      "  638\n",
      "  639\n",
      "  641\n",
      "  643\n",
      "  644\n",
      "  645\n",
      "  647\n",
      "  648\n",
      "  649\n",
      "  650\n",
      "  652\n",
      "  653\n",
      "  655\n",
      "  656\n",
      "  657\n",
      "  659\n",
      "  661\n",
      "  662\n",
      "  663\n",
      "  664\n",
      "  665\n",
      "  666\n",
      "  667\n",
      "  669\n",
      "  671\n",
      "  675\n",
      "  677\n",
      "  679\n",
      "  680\n",
      "  682\n",
      "  683\n",
      "  684\n",
      "  686\n",
      "  689\n",
      "  690\n",
      "  691\n",
      "  692\n",
      "  698\n",
      "  699\n",
      "  700\n",
      "  701\n",
      "  702\n",
      "  704\n",
      "  705\n",
      "  707\n",
      "  709\n",
      "  710\n",
      "  712\n",
      "  714\n",
      "  715\n",
      "  716\n",
      "  717\n",
      "  720\n",
      "  721\n",
      "  722\n",
      "  723\n",
      "  724\n",
      "  725\n",
      "  727\n",
      "  728\n",
      "  729\n",
      "  730\n",
      "  731\n",
      "  732\n",
      "  733\n",
      "  734\n",
      "  738\n",
      "  741\n",
      "  742\n",
      "  743\n",
      "  744\n",
      "  746\n",
      "  747\n",
      "  749\n",
      "  752\n",
      "  754\n",
      "  757\n",
      "  758\n",
      "  760\n",
      "  762\n",
      "  763\n",
      "  764\n",
      "  766\n",
      "  769\n",
      "  771\n",
      "  772\n",
      "  773\n",
      "  775\n",
      "  776\n",
      "  780\n",
      "  781\n",
      "  783\n",
      "  784\n",
      "  785\n",
      "  786\n",
      "  787\n",
      "  789\n",
      "  791\n",
      "  792\n",
      "  793\n",
      "  796\n",
      "  797\n",
      "  799\n",
      "  800\n",
      "  802\n",
      "  803\n",
      "  804\n",
      "  805\n",
      "  806\n",
      "  807\n",
      "  808\n",
      "  809\n",
      "  811\n",
      "  812\n",
      "  813\n",
      "  815\n",
      "  816\n",
      "  817\n",
      "  819\n",
      "  820\n",
      "  823\n",
      "  824\n",
      "  825\n",
      "  826\n",
      "  827\n",
      "  828\n",
      "  829\n",
      "  830\n",
      "  832\n",
      "  833\n",
      "  834\n",
      "  836\n",
      "  837\n",
      "  838\n",
      "  840\n",
      "  842\n",
      "  843\n",
      "  844\n",
      "  845\n",
      "  846\n",
      "  847\n",
      "  848\n",
      "  850\n",
      "  851\n",
      "  852\n",
      "  854\n",
      "  855\n",
      "  856\n",
      "  857\n",
      "  859\n",
      "  861\n",
      "  862\n",
      "  864\n",
      "  865\n",
      "  867\n",
      "  868\n",
      "  869\n",
      "  872\n",
      "  874\n",
      "  875\n",
      "  878\n",
      "  879\n",
      "  880\n",
      "  881\n",
      "  882\n",
      "  885\n",
      "  887\n",
      "  888\n",
      "  889\n",
      "  893\n",
      "  894\n",
      "  895\n",
      "  896\n",
      "  897\n",
      "  899\n",
      "  900\n",
      "  901\n",
      "  902\n",
      "  903\n",
      "  904\n",
      "  905\n",
      "  909\n",
      "  910\n",
      "  911\n",
      "  912\n",
      "  913\n",
      "  916\n",
      "  918\n",
      "  920\n",
      "  922\n",
      "  923\n",
      "  924\n",
      "  925\n",
      "  926\n",
      "  927\n",
      "  930\n",
      "  932\n",
      "  933\n",
      "  934\n",
      "  936\n",
      "  939\n",
      "  940\n",
      "  941\n",
      "  942\n",
      "  944\n",
      "  945\n",
      "  947\n",
      "  949\n",
      "  950\n",
      "  951\n",
      "  952\n",
      "  954\n",
      "  956\n",
      "  957\n",
      "  958\n",
      "  959\n",
      "  960\n",
      "  961\n",
      "  964\n",
      "  966\n",
      "  967\n",
      "  969\n",
      "  970\n",
      "  972\n",
      "  974\n",
      "  975\n",
      "  976\n",
      "  977\n",
      "  981\n",
      "  982\n",
      "  983\n",
      "  984\n",
      "  985\n",
      "  986\n",
      "  987\n",
      "  990\n",
      "  991\n",
      "  992\n",
      "  994\n",
      "  995\n",
      "  996\n",
      "  997\n",
      "  998\n",
      "  999\n",
      " 1001\n",
      " 1002\n",
      " 1003\n",
      " 1004\n",
      " 1005\n",
      " 1006\n",
      " 1007\n",
      " 1009\n",
      " 1010\n",
      " 1011\n",
      " 1012\n",
      " 1013\n",
      " 1014\n",
      " 1015\n",
      " 1016\n",
      " 1017\n",
      " 1018\n",
      " 1019\n",
      " 1022\n",
      " 1024\n",
      " 1025\n",
      " 1026\n",
      " 1027\n",
      " 1028\n",
      " 1029\n",
      " 1030\n",
      " 1032\n",
      " 1033\n",
      " 1034\n",
      " 1035\n",
      " 1036\n",
      " 1037\n",
      " 1038\n",
      " 1039\n",
      " 1040\n",
      " 1042\n",
      " 1043\n",
      " 1044\n",
      " 1045\n",
      " 1046\n",
      " 1047\n",
      " 1048\n",
      " 1049\n",
      " 1050\n",
      " 1052\n",
      " 1053\n",
      " 1055\n",
      " 1056\n",
      " 1060\n",
      " 1061\n",
      " 1062\n",
      " 1066\n",
      " 1068\n",
      " 1069\n",
      " 1070\n",
      " 1071\n",
      " 1073\n",
      " 1074\n",
      " 1076\n",
      " 1077\n",
      " 1079\n",
      " 1080\n",
      " 1081\n",
      " 1082\n",
      " 1083\n",
      " 1084\n",
      " 1085\n",
      " 1088\n",
      " 1092\n",
      " 1094\n",
      " 1096\n",
      " 1097\n",
      " 1098\n",
      " 1099\n",
      " 1100\n",
      " 1101\n",
      " 1102\n",
      " 1103\n",
      " 1105\n",
      " 1106\n",
      " 1107\n",
      " 1108\n",
      " 1109\n",
      " 1111\n",
      " 1113\n",
      " 1114\n",
      " 1115\n",
      " 1116\n",
      " 1117\n",
      " 1118\n",
      " 1119\n",
      " 1120\n",
      " 1121\n",
      " 1124\n",
      " 1125\n",
      " 1126\n",
      " 1127\n",
      " 1128\n",
      " 1131\n",
      " 1132\n",
      " 1133\n",
      " 1135\n",
      " 1136\n",
      " 1137\n",
      " 1138\n",
      " 1140\n",
      " 1143\n",
      " 1148\n",
      " 1150\n",
      " 1152\n",
      " 1154\n",
      " 1156\n",
      " 1157\n",
      " 1158\n",
      " 1160\n",
      " 1161\n",
      " 1162\n",
      " 1163\n",
      " 1164\n",
      " 1165\n",
      " 1166\n",
      " 1167\n",
      " 1171\n",
      " 1172\n",
      " 1173\n",
      " 1175\n",
      " 1177\n",
      " 1179\n",
      " 1180\n",
      " 1182\n",
      " 1184\n",
      " 1185\n",
      " 1188\n",
      " 1190\n",
      " 1191\n",
      " 1192\n",
      " 1193\n",
      " 1195\n",
      " 1196\n",
      " 1198\n",
      " 1200\n",
      " 1201\n",
      " 1202\n",
      " 1203\n",
      " 1204\n",
      " 1206\n",
      " 1207\n",
      " 1210\n",
      " 1211\n",
      " 1212\n",
      " 1215\n",
      " 1216\n",
      " 1217\n",
      " 1218\n",
      " 1219\n",
      " 1220\n",
      " 1221\n",
      " 1224\n",
      " 1225\n",
      " 1226\n",
      " 1228\n",
      " 1231\n",
      " 1233\n",
      " 1234\n",
      " 1235\n",
      " 1237\n",
      " 1238\n",
      " 1239\n",
      " 1240\n",
      " 1241\n",
      " 1242\n",
      " 1243\n",
      " 1244\n",
      " 1245\n",
      " 1246\n",
      " 1248\n",
      " 1249\n",
      " 1250\n",
      " 1251\n",
      " 1252\n",
      " 1254\n",
      " 1255\n",
      " 1256\n",
      " 1257\n",
      " 1258\n",
      " 1259\n",
      " 1260\n",
      " 1263\n",
      " 1264\n",
      " 1265\n",
      " 1267\n",
      " 1268\n",
      " 1269\n",
      " 1270\n",
      " 1273\n",
      " 1275\n",
      " 1277\n",
      " 1278\n",
      " 1279\n",
      " 1280\n",
      " 1281\n",
      " 1282\n",
      " 1283\n",
      " 1285\n",
      " 1286\n",
      " 1288\n",
      " 1289\n",
      " 1291\n",
      " 1292\n",
      " 1293\n",
      " 1294\n",
      " 1295\n",
      " 1296\n",
      " 1297\n",
      " 1298\n",
      " 1299\n",
      " 1301\n",
      " 1303\n",
      " 1304\n",
      " 1306\n",
      " 1307\n",
      " 1308\n",
      " 1309\n",
      " 1310\n",
      " 1311\n",
      " 1312\n",
      " 1314\n",
      " 1315\n",
      " 1317\n",
      " 1318\n",
      " 1319\n",
      " 1321\n",
      " 1322\n",
      " 1324\n",
      " 1329\n",
      " 1331\n",
      " 1333\n",
      " 1334\n",
      " 1336\n",
      " 1338\n",
      " 1340\n",
      " 1344\n",
      " 1346\n",
      " 1349\n",
      " 1350\n",
      " 1352\n",
      " 1355\n",
      " 1356\n",
      " 1358\n",
      " 1360\n",
      " 1361\n",
      " 1362\n",
      " 1363\n",
      " 1364\n",
      " 1367\n",
      " 1368\n",
      " 1369\n",
      " 1371\n",
      " 1372\n",
      " 1373\n",
      " 1374\n",
      " 1375\n",
      " 1377\n",
      " 1379\n",
      " 1380\n",
      " 1382\n",
      " 1383\n",
      " 1387\n",
      " 1389\n",
      " 1390\n",
      " 1391\n",
      " 1392\n",
      " 1394\n",
      " 1395\n",
      " 1396\n",
      " 1397\n",
      " 1399\n",
      " 1401\n",
      " 1402\n",
      " 1403\n",
      " 1405\n",
      " 1407\n",
      " 1408\n",
      " 1409\n",
      " 1411\n",
      " 1412\n",
      " 1415\n",
      " 1417\n",
      " 1419\n",
      " 1420\n",
      " 1421\n",
      " 1422\n",
      " 1423\n",
      " 1424\n",
      " 1425\n",
      " 1427\n",
      " 1428\n",
      " 1430\n",
      " 1431\n",
      " 1433\n",
      " 1434\n",
      " 1435\n",
      " 1436\n",
      " 1438\n",
      " 1439\n",
      " 1440\n",
      " 1441\n",
      " 1443\n",
      " 1445\n",
      " 1446\n",
      " 1447\n",
      " 1448\n",
      " 1449\n",
      " 1453\n",
      " 1457\n",
      " 1458\n",
      " 1459\n",
      " 1460\n",
      " 1461\n",
      " 1464\n",
      " 1465\n",
      " 1466\n",
      " 1467\n",
      " 1468\n",
      " 1469\n",
      " 1471\n",
      " 1472\n",
      " 1473\n",
      " 1474\n",
      " 1475\n",
      " 1477\n",
      " 1478\n",
      " 1479\n",
      " 1480\n",
      " 1481\n",
      " 1482\n",
      " 1483\n",
      " 1484\n",
      " 1485\n",
      " 1486\n",
      " 1487\n",
      " 1489\n",
      " 1492\n",
      " 1494\n",
      " 1495\n",
      " 1496\n",
      " 1497\n",
      " 1499\n",
      " 1501\n",
      " 1502\n",
      " 1503\n",
      " 1504\n",
      " 1506\n",
      " 1507\n",
      " 1509\n",
      " 1513\n",
      " 1514\n",
      " 1515\n",
      " 1516\n",
      " 1520\n",
      " 1522\n",
      " 1523\n",
      " 1525\n",
      " 1527\n",
      " 1529\n",
      " 1533\n",
      " 1534\n",
      " 1535\n",
      " 1537\n",
      " 1539\n",
      " 1541\n",
      " 1542\n",
      " 1543\n",
      " 1544\n",
      " 1545\n",
      " 1546\n",
      " 1547\n",
      " 1548\n",
      " 1549\n",
      " 1550\n",
      " 1551\n",
      " 1552\n",
      " 1553\n",
      " 1554\n",
      " 1555\n",
      " 1556\n",
      " 1557\n",
      " 1558\n",
      " 1560\n",
      " 1562\n",
      " 1563\n",
      " 1564\n",
      " 1568\n",
      " 1569\n",
      " 1572\n",
      " 1573\n",
      " 1574\n",
      " 1576\n",
      " 1577\n",
      " 1578\n",
      " 1580\n",
      " 1581\n",
      " 1582\n",
      " 1583\n",
      " 1585\n",
      " 1586\n",
      " 1587\n",
      " 1588\n",
      " 1590\n",
      " 1591\n",
      " 1592\n",
      " 1594\n",
      " 1595\n",
      " 1596\n",
      " 1597\n",
      " 1598\n",
      " 1599\n",
      " 1601\n",
      " 1602\n",
      " 1604\n",
      " 1605\n",
      " 1606\n",
      " 1607\n",
      " 1608\n",
      " 1609\n",
      " 1611\n",
      " 1612\n",
      " 1613\n",
      " 1614\n",
      " 1615\n",
      " 1617\n",
      " 1618\n",
      " 1619\n",
      " 1621\n",
      " 1622\n",
      " 1623\n",
      " 1624\n",
      " 1625\n",
      " 1627\n",
      " 1628\n",
      " 1630\n",
      " 1631\n",
      " 1633\n",
      " 1635\n",
      " 1638\n",
      " 1639\n",
      " 1640\n",
      " 1641\n",
      " 1642\n",
      " 1644\n",
      " 1645\n",
      " 1646\n",
      " 1647\n",
      " 1648\n",
      " 1649\n",
      " 1650\n",
      " 1651\n",
      " 1653\n",
      " 1654\n",
      " 1655\n",
      " 1656\n",
      " 1657\n",
      " 1658\n",
      " 1659\n",
      " 1661\n",
      " 1662\n",
      " 1664\n",
      " 1665\n",
      " 1666\n",
      " 1667\n",
      " 1668\n",
      " 1669\n",
      " 1670\n",
      " 1671\n",
      " 1673\n",
      " 1674\n",
      " 1675\n",
      " 1676\n",
      " 1677\n",
      " 1678\n",
      " 1680\n",
      " 1681\n",
      " 1682\n",
      " 1683\n",
      " 1684\n",
      " 1687\n",
      " 1689\n",
      " 1691\n",
      " 1692\n",
      " 1693\n",
      " 1694\n",
      " 1696\n",
      " 1697\n",
      " 1698\n",
      " 1700\n",
      " 1701\n",
      " 1702\n",
      " 1703\n",
      " 1704\n",
      " 1706\n",
      " 1707\n",
      " 1708\n",
      " 1709\n",
      " 1710\n",
      " 1712\n",
      " 1714\n",
      " 1716\n",
      " 1718\n",
      " 1719\n",
      " 1720\n",
      " 1721\n",
      " 1722\n",
      " 1724\n",
      " 1725\n",
      " 1727\n",
      " 1728\n",
      " 1729\n",
      " 1731\n",
      " 1732\n",
      " 1733\n",
      " 1734\n",
      " 1735\n",
      " 1736\n",
      " 1737\n",
      " 1739\n",
      " 1740\n",
      " 1744\n",
      " 1745\n",
      " 1746\n",
      " 1747\n",
      " 1749\n",
      " 1751\n",
      " 1752\n",
      " 1753\n",
      " 1754\n",
      " 1755\n",
      " 1756\n",
      " 1757\n",
      " 1758\n",
      " 1760\n",
      " 1761\n",
      " 1762\n",
      " 1763\n",
      " 1764\n",
      " 1766\n",
      " 1767\n",
      " 1768\n",
      " 1770\n",
      " 1771\n",
      " 1772\n",
      " 1774\n",
      " 1775\n",
      " 1778\n",
      " 1779\n",
      " 1780\n",
      " 1782\n",
      " 1783\n",
      " 1784\n",
      " 1786\n",
      " 1787\n",
      " 1789\n",
      " 1790\n",
      " 1792\n",
      " 1794\n",
      " 1797\n",
      " 1798\n",
      " 1799\n",
      " 1800\n",
      " 1801\n",
      " 1802\n",
      " 1803\n",
      " 1804\n",
      " 1805\n",
      " 1807\n",
      " 1809\n",
      " 1812\n",
      " 1813\n",
      " 1814\n",
      " 1815\n",
      " 1816\n",
      " 1818\n",
      " 1821\n",
      " 1822\n",
      " 1823\n",
      " 1824\n",
      " 1826\n",
      " 1827\n",
      " 1829\n",
      " 1830\n",
      " 1833\n",
      " 1834\n",
      " 1835\n",
      " 1836\n",
      " 1837\n",
      " 1839\n",
      " 1842\n",
      " 1844\n",
      " 1845\n",
      " 1847\n",
      " 1849\n",
      " 1850\n",
      " 1852\n",
      " 1853\n",
      " 1854\n",
      " 1856\n",
      " 1857\n",
      " 1858\n",
      " 1859\n",
      " 1860\n",
      " 1862\n",
      " 1863\n",
      " 1864\n",
      " 1865\n",
      " 1866\n",
      " 1867\n",
      " 1868\n",
      " 1869\n",
      " 1870\n",
      " 1871\n",
      " 1873\n",
      " 1875\n",
      " 1876\n",
      " 1878\n",
      " 1880\n",
      " 1881\n",
      " 1882\n",
      " 1883\n",
      " 1885\n",
      " 1886\n",
      " 1888\n",
      " 1890\n",
      " 1892\n",
      " 1893\n",
      " 1898\n",
      " 1900\n",
      " 1903\n",
      " 1905\n",
      " 1907\n",
      " 1908\n",
      " 1909\n",
      " 1911\n",
      " 1912\n",
      " 1915\n",
      " 1916\n",
      " 1918\n",
      " 1922\n",
      " 1924\n",
      " 1927\n",
      " 1928\n",
      " 1929\n",
      " 1931\n",
      " 1932\n",
      " 1933\n",
      " 1934\n",
      " 1935\n",
      " 1936\n",
      " 1937\n",
      " 1938\n",
      " 1939\n",
      " 1940\n",
      " 1941\n",
      " 1943\n",
      " 1944\n",
      " 1945\n",
      " 1947\n",
      " 1948\n",
      " 1949\n",
      " 1950\n",
      " 1951\n",
      " 1952\n",
      " 1954\n",
      " 1955\n",
      " 1956\n",
      " 1960\n",
      " 1961\n",
      " 1962\n",
      " 1965\n",
      " 1966\n",
      " 1967\n",
      " 1968\n",
      " 1969\n",
      " 1970\n",
      " 1971\n",
      " 1972\n",
      " 1973\n",
      " 1974\n",
      " 1975\n",
      " 1976\n",
      " 1979\n",
      " 1980\n",
      " 1981\n",
      " 1982\n",
      " 1985\n",
      " 1986\n",
      " 1987\n",
      " 1989\n",
      " 1992\n",
      " 1993\n",
      " 1994\n",
      " 1995\n",
      " 1996\n",
      " 1997\n",
      " 1998\n",
      " 1999\n",
      " 2000\n",
      " 2003\n",
      " 2007\n",
      " 2008\n",
      " 2009\n",
      " 2010\n",
      " 2012\n",
      " 2013\n",
      " 2014\n",
      " 2015\n",
      " 2016\n",
      " 2017\n",
      " 2018\n",
      " 2019\n",
      " 2020\n",
      " 2021\n",
      " 2022\n",
      " 2023\n",
      " 2024\n",
      " 2025\n",
      " 2026\n",
      " 2027\n",
      " 2031\n",
      " 2032\n",
      " 2034\n",
      " 2035\n",
      " 2036\n",
      " 2037\n",
      " 2038\n",
      " 2040\n",
      " 2041\n",
      " 2044\n",
      " 2045\n",
      " 2046\n",
      " 2048\n",
      " 2049\n",
      " 2051\n",
      " 2052\n",
      " 2053\n",
      " 2054\n",
      " 2055\n",
      " 2056\n",
      " 2057\n",
      " 2060\n",
      " 2061\n",
      " 2062\n",
      " 2064\n",
      " 2065\n",
      " 2068\n",
      "STD:    602.024\n",
      "Min:    1.000\n",
      "25%:    491.250\n",
      "50%:    1,020.500\n",
      "75%:    1,555.750\n",
      "Max:    2,068.000\n",
      "Skew:   0.017\n"
     ]
    },
    {
     "data": {
      "image/png": "[encoded data removed]",
      "text/plain": [
       "<Figure size 432x288 with 1 Axes>"
      ]
     },
     "metadata": {
      "needs_background": "light"
     },
     "output_type": "display_data"
    }
   ],
   "source": [
    "numericalStatsGraphs(['EmployeeNumber'])\n",
    "# Dropping Attribute\n",
    "hr_employee_attrition_dropped = hr_employee_attrition_dropped.drop('EmployeeNumber', axis=1)"
   ]
  },
  {
   "cell_type": "markdown",
   "metadata": {},
   "source": [
    "### EnvironmentSatisfaction   (Needs to be converted from Numerical to Categorical in Pre-Processing)  "
   ]
  },
  {
   "cell_type": "code",
   "execution_count": 17,
   "metadata": {},
   "outputs": [
    {
     "name": "stdout",
     "output_type": "stream",
     "text": [
      "High:        0.308\n",
      "Very High:   0.303\n",
      "Medium:      0.195\n",
      "Low:         0.193\n"
     ]
    },
    {
     "data": {
      "text/plain": [
       "<AxesSubplot:>"
      ]
     },
     "execution_count": 17,
     "metadata": {},
     "output_type": "execute_result"
    },
    {
     "data": {
      "image/png": "[encoded data removed]",
      "text/plain": [
       "<Figure size 432x288 with 1 Axes>"
      ]
     },
     "metadata": {
      "needs_background": "light"
     },
     "output_type": "display_data"
    }
   ],
   "source": [
    "# https://www.kaggle.com/pavansubhasht/ibm-hr-analytics-attrition-dataset\n",
    "#print(hr_employee_attrition['EnvironmentSatisfaction'].value_counts())\n",
    "print('High:        {:,.3f}'.format(hr_employee_attrition['EnvironmentSatisfaction'].astype(str).value_counts()[0]/hr_employee_attrition.shape[0]))\n",
    "print('Very High:   {:,.3f}'.format(hr_employee_attrition['EnvironmentSatisfaction'].astype(str).value_counts()[1]/hr_employee_attrition.shape[0]))\n",
    "print('Medium:      {:,.3f}'.format(hr_employee_attrition['EnvironmentSatisfaction'].astype(str).value_counts()[2]/hr_employee_attrition.shape[0]))\n",
    "print('Low:         {:,.3f}'.format(hr_employee_attrition['EnvironmentSatisfaction'].astype(str).value_counts()[3]/hr_employee_attrition.shape[0]))\n",
    "hr_employee_attrition['EnvironmentSatisfaction'].astype(str).value_counts().plot(kind='bar', color='red')\n",
    "#hr_employee_attrition['EnvironmentSatisfaction'].plot(kind=\"hist\", bins=20)"
   ]
  },
  {
   "cell_type": "markdown",
   "metadata": {},
   "source": [
    "### Gender                      "
   ]
  },
  {
   "cell_type": "code",
   "execution_count": 18,
   "metadata": {},
   "outputs": [
    {
     "name": "stdout",
     "output_type": "stream",
     "text": [
      "Male:      0.600\n",
      "Female:    0.400\n"
     ]
    },
    {
     "data": {
      "text/plain": [
       "<AxesSubplot:>"
      ]
     },
     "execution_count": 18,
     "metadata": {},
     "output_type": "execute_result"
    },
    {
     "data": {
      "image/png": "[encoded data removed]",
      "text/plain": [
       "<Figure size 432x288 with 1 Axes>"
      ]
     },
     "metadata": {
      "needs_background": "light"
     },
     "output_type": "display_data"
    }
   ],
   "source": [
    "#print(hr_employee_attrition['Gender'].value_counts())\n",
    "print('Male:      {:,.3f}'.format(hr_employee_attrition['Gender'].astype(str).value_counts()[0]/hr_employee_attrition.shape[0]))\n",
    "print('Female:    {:,.3f}'.format(hr_employee_attrition['Gender'].astype(str).value_counts()[1]/hr_employee_attrition.shape[0]))\n",
    "hr_employee_attrition['Gender'].astype(str).value_counts().plot(kind='bar', color='green')"
   ]
  },
  {
   "cell_type": "markdown",
   "metadata": {},
   "source": [
    "### HourlyRate                  "
   ]
  },
  {
   "cell_type": "code",
   "execution_count": 19,
   "metadata": {},
   "outputs": [
    {
     "name": "stdout",
     "output_type": "stream",
     "text": [
      "Mean:   65.891\n",
      "Median: 66.0\n",
      "Mode:   66\n",
      "STD:    20.329\n",
      "Min:    30.000\n",
      "25%:    48.000\n",
      "50%:    66.000\n",
      "75%:    83.750\n",
      "Max:    100.000\n",
      "Skew:   -0.032\n"
     ]
    },
    {
     "data": {
      "image/png": "[encoded data removed]",
      "text/plain": [
       "<Figure size 432x288 with 1 Axes>"
      ]
     },
     "metadata": {
      "needs_background": "light"
     },
     "output_type": "display_data"
    }
   ],
   "source": [
    "numericalStatsGraphs(['HourlyRate'])"
   ]
  },
  {
   "cell_type": "markdown",
   "metadata": {},
   "source": [
    "### JobInvolvement  (Needs to be converted from Numerical to Categorical in Pre-Processing)        "
   ]
  },
  {
   "cell_type": "code",
   "execution_count": 20,
   "metadata": {},
   "outputs": [
    {
     "name": "stdout",
     "output_type": "stream",
     "text": [
      "High:         0.590\n",
      "Medium:       0.255\n",
      "Very High:    0.098\n",
      "Low:          0.056\n"
     ]
    },
    {
     "data": {
      "text/plain": [
       "<AxesSubplot:>"
      ]
     },
     "execution_count": 20,
     "metadata": {},
     "output_type": "execute_result"
    },
    {
     "data": {
      "image/png": "[encoded data removed]",
      "text/plain": [
       "<Figure size 432x288 with 1 Axes>"
      ]
     },
     "metadata": {
      "needs_background": "light"
     },
     "output_type": "display_data"
    }
   ],
   "source": [
    "# https://www.kaggle.com/pavansubhasht/ibm-hr-analytics-attrition-dataset\n",
    "#print(hr_employee_attrition['JobInvolvement'].value_counts())\n",
    "print('High:         {:,.3f}'.format(hr_employee_attrition['JobInvolvement'].astype(str).value_counts()[0]/hr_employee_attrition.shape[0]))\n",
    "print('Medium:       {:,.3f}'.format(hr_employee_attrition['JobInvolvement'].astype(str).value_counts()[1]/hr_employee_attrition.shape[0]))\n",
    "print('Very High:    {:,.3f}'.format(hr_employee_attrition['JobInvolvement'].astype(str).value_counts()[2]/hr_employee_attrition.shape[0]))\n",
    "print('Low:          {:,.3f}'.format(hr_employee_attrition['JobInvolvement'].astype(str).value_counts()[3]/hr_employee_attrition.shape[0]))\n",
    "hr_employee_attrition['JobInvolvement'].astype(str).value_counts().plot(kind='bar', color='red')\n",
    "#hr_employee_attrition['JobInvolvement'].plot(kind=\"hist\", bins=20)"
   ]
  },
  {
   "cell_type": "markdown",
   "metadata": {},
   "source": [
    "### JobLevel         "
   ]
  },
  {
   "cell_type": "code",
   "execution_count": 46,
   "metadata": {},
   "outputs": [
    {
     "name": "stdout",
     "output_type": "stream",
     "text": [
      "Mean:   2.064\n",
      "Median: 2.0\n",
      "Mode:   1\n",
      "STD:    1.107\n",
      "Min:    1.000\n",
      "25%:    1.000\n",
      "50%:    2.000\n",
      "75%:    3.000\n",
      "Max:    5.000\n",
      "Skew:   1.025\n"
     ]
    },
    {
     "data": {
      "image/png": "[encoded data removed]",
      "text/plain": [
       "<Figure size 432x288 with 1 Axes>"
      ]
     },
     "metadata": {
      "needs_background": "light"
     },
     "output_type": "display_data"
    }
   ],
   "source": [
    "numericalStatsGraphs(['JobLevel'])"
   ]
  },
  {
   "cell_type": "markdown",
   "metadata": {},
   "source": [
    "### JobRole                "
   ]
  },
  {
   "cell_type": "code",
   "execution_count": 22,
   "metadata": {},
   "outputs": [
    {
     "name": "stdout",
     "output_type": "stream",
     "text": [
      "Sales Executive:              0.222\n",
      "Research Scientist:           0.199\n",
      "Laboratory Technician:        0.176\n",
      "Manufacturing Director:       0.099\n",
      "Healthcare Representative:    0.089\n",
      "Manager:                      0.069\n",
      "Sales Representative:         0.056\n",
      "Research Director:            0.054\n",
      "Human Resources:              0.035\n"
     ]
    },
    {
     "data": {
      "text/plain": [
       "<AxesSubplot:>"
      ]
     },
     "execution_count": 22,
     "metadata": {},
     "output_type": "execute_result"
    },
    {
     "data": {
      "image/png": "[encoded data removed]",
      "text/plain": [
       "<Figure size 432x288 with 1 Axes>"
      ]
     },
     "metadata": {
      "needs_background": "light"
     },
     "output_type": "display_data"
    }
   ],
   "source": [
    "#print(hr_employee_attrition['JobRole'].value_counts())\n",
    "print('Sales Executive:              {:,.3f}'.format(hr_employee_attrition['JobRole'].astype(str).value_counts()[0]/hr_employee_attrition.shape[0]))\n",
    "print('Research Scientist:           {:,.3f}'.format(hr_employee_attrition['JobRole'].astype(str).value_counts()[1]/hr_employee_attrition.shape[0]))\n",
    "print('Laboratory Technician:        {:,.3f}'.format(hr_employee_attrition['JobRole'].astype(str).value_counts()[2]/hr_employee_attrition.shape[0]))\n",
    "print('Manufacturing Director:       {:,.3f}'.format(hr_employee_attrition['JobRole'].astype(str).value_counts()[3]/hr_employee_attrition.shape[0]))\n",
    "print('Healthcare Representative:    {:,.3f}'.format(hr_employee_attrition['JobRole'].astype(str).value_counts()[4]/hr_employee_attrition.shape[0]))\n",
    "print('Manager:                      {:,.3f}'.format(hr_employee_attrition['JobRole'].astype(str).value_counts()[5]/hr_employee_attrition.shape[0]))\n",
    "print('Sales Representative:         {:,.3f}'.format(hr_employee_attrition['JobRole'].astype(str).value_counts()[6]/hr_employee_attrition.shape[0]))\n",
    "print('Research Director:            {:,.3f}'.format(hr_employee_attrition['JobRole'].astype(str).value_counts()[7]/hr_employee_attrition.shape[0]))\n",
    "print('Human Resources:              {:,.3f}'.format(hr_employee_attrition['JobRole'].astype(str).value_counts()[8]/hr_employee_attrition.shape[0]))\n",
    "hr_employee_attrition['JobRole'].astype(str).value_counts().plot(kind='bar', color='green')"
   ]
  },
  {
   "cell_type": "markdown",
   "metadata": {},
   "source": [
    "### JobSatisfaction (Needs to be converted from Numerical to Categorical in Pre-Processing)           "
   ]
  },
  {
   "cell_type": "code",
   "execution_count": 23,
   "metadata": {},
   "outputs": [
    {
     "name": "stdout",
     "output_type": "stream",
     "text": [
      "Very High:    0.312\n",
      "High:         0.301\n",
      "Low:          0.197\n",
      "Medium:       0.190\n"
     ]
    },
    {
     "data": {
      "text/plain": [
       "<AxesSubplot:>"
      ]
     },
     "execution_count": 23,
     "metadata": {},
     "output_type": "execute_result"
    },
    {
     "data": {
      "image/png": "[encoded data removed]",
      "text/plain": [
       "<Figure size 432x288 with 1 Axes>"
      ]
     },
     "metadata": {
      "needs_background": "light"
     },
     "output_type": "display_data"
    }
   ],
   "source": [
    "# https://www.kaggle.com/pavansubhasht/ibm-hr-analytics-attrition-dataset\n",
    "#print(hr_employee_attrition['JobSatisfaction'].value_counts())\n",
    "print('Very High:    {:,.3f}'.format(hr_employee_attrition['JobSatisfaction'].astype(str).value_counts()[0]/hr_employee_attrition.shape[0]))\n",
    "print('High:         {:,.3f}'.format(hr_employee_attrition['JobSatisfaction'].astype(str).value_counts()[1]/hr_employee_attrition.shape[0]))\n",
    "print('Low:          {:,.3f}'.format(hr_employee_attrition['JobSatisfaction'].astype(str).value_counts()[2]/hr_employee_attrition.shape[0]))\n",
    "print('Medium:       {:,.3f}'.format(hr_employee_attrition['JobSatisfaction'].astype(str).value_counts()[3]/hr_employee_attrition.shape[0]))\n",
    "hr_employee_attrition['JobSatisfaction'].astype(str).value_counts().plot(kind='bar', color='red')\n",
    "#hr_employee_attrition['JobSatisfaction'].plot(kind=\"hist\", bins=20)"
   ]
  },
  {
   "cell_type": "markdown",
   "metadata": {},
   "source": [
    "### MaritalStatus               "
   ]
  },
  {
   "cell_type": "code",
   "execution_count": 24,
   "metadata": {},
   "outputs": [
    {
     "name": "stdout",
     "output_type": "stream",
     "text": [
      "Married:     0.458\n",
      "Single:      0.320\n",
      "Divorced:    0.222\n"
     ]
    },
    {
     "data": {
      "text/plain": [
       "<AxesSubplot:>"
      ]
     },
     "execution_count": 24,
     "metadata": {},
     "output_type": "execute_result"
    },
    {
     "data": {
      "image/png": "[encoded data removed]",
      "text/plain": [
       "<Figure size 432x288 with 1 Axes>"
      ]
     },
     "metadata": {
      "needs_background": "light"
     },
     "output_type": "display_data"
    }
   ],
   "source": [
    "#print(hr_employee_attrition['MaritalStatus'].value_counts())\n",
    "print('Married:     {:,.3f}'.format(hr_employee_attrition['MaritalStatus'].astype(str).value_counts()[0]/hr_employee_attrition.shape[0]))\n",
    "print('Single:      {:,.3f}'.format(hr_employee_attrition['MaritalStatus'].astype(str).value_counts()[1]/hr_employee_attrition.shape[0]))\n",
    "print('Divorced:    {:,.3f}'.format(hr_employee_attrition['MaritalStatus'].astype(str).value_counts()[2]/hr_employee_attrition.shape[0]))\n",
    "hr_employee_attrition['MaritalStatus'].astype(str).value_counts().plot(kind='bar', color='green')"
   ]
  },
  {
   "cell_type": "markdown",
   "metadata": {},
   "source": [
    "### MonthlyIncome               "
   ]
  },
  {
   "cell_type": "code",
   "execution_count": 25,
   "metadata": {},
   "outputs": [
    {
     "name": "stdout",
     "output_type": "stream",
     "text": [
      "Mean:   6,502.931\n",
      "Median: 4919.0\n",
      "Mode:   2342\n",
      "STD:    4,707.957\n",
      "Min:    1,009.000\n",
      "25%:    2,911.000\n",
      "50%:    4,919.000\n",
      "75%:    8,379.000\n",
      "Max:    19,999.000\n",
      "Skew:   1.370\n"
     ]
    },
    {
     "data": {
      "image/png": "[encoded data removed]",
      "text/plain": [
       "<Figure size 432x288 with 1 Axes>"
      ]
     },
     "metadata": {
      "needs_background": "light"
     },
     "output_type": "display_data"
    }
   ],
   "source": [
    "numericalStatsGraphs(['MonthlyIncome'])"
   ]
  },
  {
   "cell_type": "markdown",
   "metadata": {},
   "source": [
    "### MonthlyRate                 "
   ]
  },
  {
   "cell_type": "code",
   "execution_count": 26,
   "metadata": {},
   "outputs": [
    {
     "name": "stdout",
     "output_type": "stream",
     "text": [
      "Mean:   14,313.103\n",
      "Median: 14235.5\n",
      "Mode:   4223\n",
      " 9150\n",
      "STD:    7,117.786\n",
      "Min:    2,094.000\n",
      "25%:    8,047.000\n",
      "50%:    14,235.500\n",
      "75%:    20,461.500\n",
      "Max:    26,999.000\n",
      "Skew:   0.019\n"
     ]
    },
    {
     "data": {
      "image/png": "[encoded data removed]",
      "text/plain": [
       "<Figure size 432x288 with 1 Axes>"
      ]
     },
     "metadata": {
      "needs_background": "light"
     },
     "output_type": "display_data"
    }
   ],
   "source": [
    "numericalStatsGraphs(['MonthlyRate'])"
   ]
  },
  {
   "cell_type": "markdown",
   "metadata": {},
   "source": [
    "### NumCompaniesWorked          "
   ]
  },
  {
   "cell_type": "code",
   "execution_count": 27,
   "metadata": {},
   "outputs": [
    {
     "name": "stdout",
     "output_type": "stream",
     "text": [
      "Mean:   2.693\n",
      "Median: 2.0\n",
      "Mode:   1\n",
      "STD:    2.498\n",
      "Min:    0.000\n",
      "25%:    1.000\n",
      "50%:    2.000\n",
      "75%:    4.000\n",
      "Max:    9.000\n",
      "Skew:   1.026\n"
     ]
    },
    {
     "data": {
      "image/png": "[encoded data removed]",
      "text/plain": [
       "<Figure size 432x288 with 1 Axes>"
      ]
     },
     "metadata": {
      "needs_background": "light"
     },
     "output_type": "display_data"
    }
   ],
   "source": [
    "numericalStatsGraphs(['NumCompaniesWorked'])"
   ]
  },
  {
   "cell_type": "markdown",
   "metadata": {},
   "source": [
    "### Over18 (Recommend dropping this attribute for Pre-Processing)               "
   ]
  },
  {
   "cell_type": "code",
   "execution_count": 28,
   "metadata": {},
   "outputs": [
    {
     "name": "stdout",
     "output_type": "stream",
     "text": [
      "Y:    1.000\n"
     ]
    },
    {
     "data": {
      "image/png": "[encoded data removed]",
      "text/plain": [
       "<Figure size 432x288 with 1 Axes>"
      ]
     },
     "metadata": {
      "needs_background": "light"
     },
     "output_type": "display_data"
    }
   ],
   "source": [
    "#print(hr_employee_attrition['Over18'].value_counts())\n",
    "print('Y:    {:,.3f}'.format(hr_employee_attrition['Over18'].astype(str).value_counts()[0]/hr_employee_attrition.shape[0]))\n",
    "hr_employee_attrition['Over18'].astype(str).value_counts().plot(kind='bar', color='green')\n",
    "\n",
    "# Dropping Attribute\n",
    "hr_employee_attrition_dropped = hr_employee_attrition_dropped.drop('Over18', axis=1)"
   ]
  },
  {
   "cell_type": "markdown",
   "metadata": {},
   "source": [
    "### OverTime                    "
   ]
  },
  {
   "cell_type": "code",
   "execution_count": 29,
   "metadata": {},
   "outputs": [
    {
     "name": "stdout",
     "output_type": "stream",
     "text": [
      "No:     0.717\n",
      "Yes:    0.283\n"
     ]
    },
    {
     "data": {
      "text/plain": [
       "<AxesSubplot:>"
      ]
     },
     "execution_count": 29,
     "metadata": {},
     "output_type": "execute_result"
    },
    {
     "data": {
      "image/png": "[encoded data removed]",
      "text/plain": [
       "<Figure size 432x288 with 1 Axes>"
      ]
     },
     "metadata": {
      "needs_background": "light"
     },
     "output_type": "display_data"
    }
   ],
   "source": [
    "#print(hr_employee_attrition['OverTime'].value_counts())\n",
    "print('No:     {:,.3f}'.format(hr_employee_attrition['OverTime'].astype(str).value_counts()[0]/hr_employee_attrition.shape[0]))\n",
    "print('Yes:    {:,.3f}'.format(hr_employee_attrition['OverTime'].astype(str).value_counts()[1]/hr_employee_attrition.shape[0]))\n",
    "hr_employee_attrition['OverTime'].astype(str).value_counts().plot(kind='bar', color='green')"
   ]
  },
  {
   "cell_type": "markdown",
   "metadata": {},
   "source": [
    "### PercentSalaryHike           "
   ]
  },
  {
   "cell_type": "code",
   "execution_count": 30,
   "metadata": {},
   "outputs": [
    {
     "name": "stdout",
     "output_type": "stream",
     "text": [
      "Mean:   15.210\n",
      "Median: 14.0\n",
      "Mode:   11\n",
      "STD:    3.660\n",
      "Min:    11.000\n",
      "25%:    12.000\n",
      "50%:    14.000\n",
      "75%:    18.000\n",
      "Max:    25.000\n",
      "Skew:   0.821\n"
     ]
    },
    {
     "data": {
      "image/png": "[encoded data removed]",
      "text/plain": [
       "<Figure size 432x288 with 1 Axes>"
      ]
     },
     "metadata": {
      "needs_background": "light"
     },
     "output_type": "display_data"
    }
   ],
   "source": [
    "numericalStatsGraphs(['PercentSalaryHike'])"
   ]
  },
  {
   "cell_type": "markdown",
   "metadata": {},
   "source": [
    "### PerformanceRating (Needs to be converted from Numerical to Categorical in Pre-Processing)       "
   ]
  },
  {
   "cell_type": "code",
   "execution_count": 31,
   "metadata": {},
   "outputs": [
    {
     "name": "stdout",
     "output_type": "stream",
     "text": [
      "Excellent:      0.846\n",
      "Outstanding:    0.154\n"
     ]
    },
    {
     "data": {
      "text/plain": [
       "<AxesSubplot:>"
      ]
     },
     "execution_count": 31,
     "metadata": {},
     "output_type": "execute_result"
    },
    {
     "data": {
      "image/png": "[encoded data removed]",
      "text/plain": [
       "<Figure size 432x288 with 1 Axes>"
      ]
     },
     "metadata": {
      "needs_background": "light"
     },
     "output_type": "display_data"
    }
   ],
   "source": [
    "# https://www.kaggle.com/pavansubhasht/ibm-hr-analytics-attrition-dataset\n",
    "#print(hr_employee_attrition['PerformanceRating'].value_counts())\n",
    "print('Excellent:      {:,.3f}'.format(hr_employee_attrition['PerformanceRating'].astype(str).value_counts()[0]/hr_employee_attrition.shape[0]))\n",
    "print('Outstanding:    {:,.3f}'.format(hr_employee_attrition['PerformanceRating'].astype(str).value_counts()[1]/hr_employee_attrition.shape[0]))\n",
    "hr_employee_attrition['PerformanceRating'].astype(str).value_counts().plot(kind='bar', color='red')\n",
    "#hr_employee_attrition['PerformanceRating'].plot(kind=\"hist\", bins=20)"
   ]
  },
  {
   "cell_type": "markdown",
   "metadata": {},
   "source": [
    "### RelationshipSatisfaction (Needs to be converted from Numerical to Categorical in Pre-Processing)       "
   ]
  },
  {
   "cell_type": "code",
   "execution_count": 32,
   "metadata": {},
   "outputs": [
    {
     "name": "stdout",
     "output_type": "stream",
     "text": [
      "High:         0.312\n",
      "Very High:    0.294\n",
      "Medium:       0.206\n",
      "Low:          0.188\n"
     ]
    },
    {
     "data": {
      "text/plain": [
       "<AxesSubplot:>"
      ]
     },
     "execution_count": 32,
     "metadata": {},
     "output_type": "execute_result"
    },
    {
     "data": {
      "image/png": "[encoded data removed]",
      "text/plain": [
       "<Figure size 432x288 with 1 Axes>"
      ]
     },
     "metadata": {
      "needs_background": "light"
     },
     "output_type": "display_data"
    }
   ],
   "source": [
    "# https://www.kaggle.com/pavansubhasht/ibm-hr-analytics-attrition-dataset\n",
    "#print(hr_employee_attrition['RelationshipSatisfaction'].value_counts())\n",
    "print('High:         {:,.3f}'.format(hr_employee_attrition['RelationshipSatisfaction'].astype(str).value_counts()[0]/hr_employee_attrition.shape[0]))\n",
    "print('Very High:    {:,.3f}'.format(hr_employee_attrition['RelationshipSatisfaction'].astype(str).value_counts()[1]/hr_employee_attrition.shape[0]))\n",
    "print('Medium:       {:,.3f}'.format(hr_employee_attrition['RelationshipSatisfaction'].astype(str).value_counts()[2]/hr_employee_attrition.shape[0]))\n",
    "print('Low:          {:,.3f}'.format(hr_employee_attrition['RelationshipSatisfaction'].astype(str).value_counts()[3]/hr_employee_attrition.shape[0]))\n",
    "hr_employee_attrition['RelationshipSatisfaction'].astype(str).value_counts().plot(kind='bar', color='red')\n",
    "#hr_employee_attrition['RelationshipSatisfaction'].plot(kind=\"hist\", bins=20)"
   ]
  },
  {
   "cell_type": "markdown",
   "metadata": {},
   "source": [
    "### StandardHours (Recommend dropping this attribute for Pre-Processing)      "
   ]
  },
  {
   "cell_type": "code",
   "execution_count": 33,
   "metadata": {},
   "outputs": [
    {
     "name": "stdout",
     "output_type": "stream",
     "text": [
      "Mean:   80.000\n",
      "Median: 80.0\n",
      "Mode:   80\n",
      "STD:    0.000\n",
      "Min:    80.000\n",
      "25%:    80.000\n",
      "50%:    80.000\n",
      "75%:    80.000\n",
      "Max:    80.000\n",
      "Skew:   0.000\n"
     ]
    },
    {
     "data": {
      "image/png": "[encoded data removed]",
      "text/plain": [
       "<Figure size 432x288 with 1 Axes>"
      ]
     },
     "metadata": {
      "needs_background": "light"
     },
     "output_type": "display_data"
    }
   ],
   "source": [
    "numericalStatsGraphs(['StandardHours'])\n",
    "# Dropping Attribute\n",
    "hr_employee_attrition_dropped = hr_employee_attrition_dropped.drop('StandardHours', axis=1)"
   ]
  },
  {
   "cell_type": "markdown",
   "metadata": {},
   "source": [
    "### StockOptionLevel (Not discussed in the Data Descreption on Kaggle and needs to be converted from Numerical to Categorical in Pre-Processing)"
   ]
  },
  {
   "cell_type": "code",
   "execution_count": 34,
   "metadata": {},
   "outputs": [
    {
     "name": "stdout",
     "output_type": "stream",
     "text": [
      "Low:       0.429\n",
      "Medium:    0.405\n",
      "High:      0.107\n",
      "Very High: 0.058\n"
     ]
    },
    {
     "data": {
      "text/plain": [
       "<AxesSubplot:>"
      ]
     },
     "execution_count": 34,
     "metadata": {},
     "output_type": "execute_result"
    },
    {
     "data": {
      "image/png": "[encoded data removed]",
      "text/plain": [
       "<Figure size 432x288 with 1 Axes>"
      ]
     },
     "metadata": {
      "needs_background": "light"
     },
     "output_type": "display_data"
    }
   ],
   "source": [
    "# https://www.kaggle.com/pavansubhasht/ibm-hr-analytics-attrition-dataset\n",
    "#print(hr_employee_attrition['StockOptionLevel'].value_counts())\n",
    "print('Low:       {:,.3f}'.format(hr_employee_attrition['StockOptionLevel'].astype(str).value_counts()[0]/hr_employee_attrition.shape[0]))\n",
    "print('Medium:    {:,.3f}'.format(hr_employee_attrition['StockOptionLevel'].astype(str).value_counts()[1]/hr_employee_attrition.shape[0]))\n",
    "print('High:      {:,.3f}'.format(hr_employee_attrition['StockOptionLevel'].astype(str).value_counts()[2]/hr_employee_attrition.shape[0]))\n",
    "print('Very High: {:,.3f}'.format(hr_employee_attrition['StockOptionLevel'].astype(str).value_counts()[3]/hr_employee_attrition.shape[0]))\n",
    "hr_employee_attrition['StockOptionLevel'].astype(str).value_counts().plot(kind='bar', color='red')\n",
    "#hr_employee_attrition['StockOptionLevel'].plot(kind=\"hist\", bins=20)"
   ]
  },
  {
   "cell_type": "markdown",
   "metadata": {},
   "source": [
    "### TotalWorkingYears           "
   ]
  },
  {
   "cell_type": "code",
   "execution_count": 35,
   "metadata": {},
   "outputs": [
    {
     "name": "stdout",
     "output_type": "stream",
     "text": [
      "Mean:   11.280\n",
      "Median: 10.0\n",
      "Mode:   10\n",
      "STD:    7.781\n",
      "Min:    0.000\n",
      "25%:    6.000\n",
      "50%:    10.000\n",
      "75%:    15.000\n",
      "Max:    40.000\n",
      "Skew:   1.117\n"
     ]
    },
    {
     "data": {
      "image/png": "[encoded data removed]",
      "text/plain": [
       "<Figure size 432x288 with 1 Axes>"
      ]
     },
     "metadata": {
      "needs_background": "light"
     },
     "output_type": "display_data"
    }
   ],
   "source": [
    "numericalStatsGraphs(['TotalWorkingYears'])"
   ]
  },
  {
   "cell_type": "markdown",
   "metadata": {},
   "source": [
    "### TrainingTimesLastYear       "
   ]
  },
  {
   "cell_type": "code",
   "execution_count": 36,
   "metadata": {},
   "outputs": [
    {
     "name": "stdout",
     "output_type": "stream",
     "text": [
      "Mean:   2.799\n",
      "Median: 3.0\n",
      "Mode:   2\n",
      "STD:    1.289\n",
      "Min:    0.000\n",
      "25%:    2.000\n",
      "50%:    3.000\n",
      "75%:    3.000\n",
      "Max:    6.000\n",
      "Skew:   0.553\n"
     ]
    },
    {
     "data": {
      "image/png": "[encoded data removed]",
      "text/plain": [
       "<Figure size 432x288 with 1 Axes>"
      ]
     },
     "metadata": {
      "needs_background": "light"
     },
     "output_type": "display_data"
    }
   ],
   "source": [
    "numericalStatsGraphs(['TrainingTimesLastYear'])"
   ]
  },
  {
   "cell_type": "markdown",
   "metadata": {},
   "source": [
    "### WorkLifeBalance (Needs to be converted from Numerical to Categorical in Pre-Processing)           "
   ]
  },
  {
   "cell_type": "code",
   "execution_count": 37,
   "metadata": {},
   "outputs": [
    {
     "name": "stdout",
     "output_type": "stream",
     "text": [
      "Better:  0.607\n",
      "Good:    0.234\n",
      "Best:    0.104\n",
      "Bad:     0.054\n"
     ]
    },
    {
     "data": {
      "text/plain": [
       "<AxesSubplot:>"
      ]
     },
     "execution_count": 37,
     "metadata": {},
     "output_type": "execute_result"
    },
    {
     "data": {
      "image/png": "[encoded data removed]",
      "text/plain": [
       "<Figure size 432x288 with 1 Axes>"
      ]
     },
     "metadata": {
      "needs_background": "light"
     },
     "output_type": "display_data"
    }
   ],
   "source": [
    "# https://www.kaggle.com/pavansubhasht/ibm-hr-analytics-attrition-dataset\n",
    "#print(hr_employee_attrition['WorkLifeBalance'].value_counts())\n",
    "print('Better:  {:,.3f}'.format(hr_employee_attrition['WorkLifeBalance'].astype(str).value_counts()[0]/hr_employee_attrition.shape[0]))\n",
    "print('Good:    {:,.3f}'.format(hr_employee_attrition['WorkLifeBalance'].astype(str).value_counts()[1]/hr_employee_attrition.shape[0]))\n",
    "print('Best:    {:,.3f}'.format(hr_employee_attrition['WorkLifeBalance'].astype(str).value_counts()[2]/hr_employee_attrition.shape[0]))\n",
    "print('Bad:     {:,.3f}'.format(hr_employee_attrition['WorkLifeBalance'].astype(str).value_counts()[3]/hr_employee_attrition.shape[0]))\n",
    "hr_employee_attrition['WorkLifeBalance'].astype(str).value_counts().plot(kind='bar', color='red')\n",
    "#hr_employee_attrition['WorkLifeBalance'].plot(kind=\"hist\", bins=20)"
   ]
  },
  {
   "cell_type": "markdown",
   "metadata": {},
   "source": [
    "### YearsAtCompany                 "
   ]
  },
  {
   "cell_type": "code",
   "execution_count": 38,
   "metadata": {},
   "outputs": [
    {
     "name": "stdout",
     "output_type": "stream",
     "text": [
      "Mean:   7.008\n",
      "Median: 5.0\n",
      "Mode:   5\n",
      "STD:    6.127\n",
      "Min:    0.000\n",
      "25%:    3.000\n",
      "50%:    5.000\n",
      "75%:    9.000\n",
      "Max:    40.000\n",
      "Skew:   1.765\n"
     ]
    },
    {
     "data": {
      "image/png": "[encoded data removed]",
      "text/plain": [
       "<Figure size 432x288 with 1 Axes>"
      ]
     },
     "metadata": {
      "needs_background": "light"
     },
     "output_type": "display_data"
    }
   ],
   "source": [
    "numericalStatsGraphs(['YearsAtCompany'])"
   ]
  },
  {
   "cell_type": "markdown",
   "metadata": {},
   "source": [
    "### YearsInCurrentRole          "
   ]
  },
  {
   "cell_type": "code",
   "execution_count": 39,
   "metadata": {},
   "outputs": [
    {
     "name": "stdout",
     "output_type": "stream",
     "text": [
      "Mean:   4.229\n",
      "Median: 3.0\n",
      "Mode:   2\n",
      "STD:    3.623\n",
      "Min:    0.000\n",
      "25%:    2.000\n",
      "50%:    3.000\n",
      "75%:    7.000\n",
      "Max:    18.000\n",
      "Skew:   0.917\n"
     ]
    },
    {
     "data": {
      "image/png": "[encoded data removed]",
      "text/plain": [
       "<Figure size 432x288 with 1 Axes>"
      ]
     },
     "metadata": {
      "needs_background": "light"
     },
     "output_type": "display_data"
    }
   ],
   "source": [
    "numericalStatsGraphs(['YearsInCurrentRole'])"
   ]
  },
  {
   "cell_type": "markdown",
   "metadata": {},
   "source": [
    "### YearsSinceLastPromotion     "
   ]
  },
  {
   "cell_type": "code",
   "execution_count": 40,
   "metadata": {},
   "outputs": [
    {
     "name": "stdout",
     "output_type": "stream",
     "text": [
      "Mean:   2.188\n",
      "Median: 1.0\n",
      "Mode:   0\n",
      "STD:    3.222\n",
      "Min:    0.000\n",
      "25%:    0.000\n",
      "50%:    1.000\n",
      "75%:    3.000\n",
      "Max:    15.000\n",
      "Skew:   1.984\n"
     ]
    },
    {
     "data": {
      "image/png": "[encoded data removed]",
      "text/plain": [
       "<Figure size 432x288 with 1 Axes>"
      ]
     },
     "metadata": {
      "needs_background": "light"
     },
     "output_type": "display_data"
    }
   ],
   "source": [
    "numericalStatsGraphs(['YearsSinceLastPromotion'])"
   ]
  },
  {
   "cell_type": "markdown",
   "metadata": {},
   "source": [
    "### YearsWithCurrManager "
   ]
  },
  {
   "cell_type": "code",
   "execution_count": 41,
   "metadata": {
    "scrolled": true
   },
   "outputs": [
    {
     "name": "stdout",
     "output_type": "stream",
     "text": [
      "Mean:   4.123\n",
      "Median: 3.0\n",
      "Mode:   2\n",
      "STD:    3.568\n",
      "Min:    0.000\n",
      "25%:    2.000\n",
      "50%:    3.000\n",
      "75%:    7.000\n",
      "Max:    17.000\n",
      "Skew:   0.833\n"
     ]
    },
    {
     "data": {
      "image/png": "[encoded data removed]",
      "text/plain": [
       "<Figure size 432x288 with 1 Axes>"
      ]
     },
     "metadata": {
      "needs_background": "light"
     },
     "output_type": "display_data"
    }
   ],
   "source": [
    "numericalStatsGraphs(['YearsWithCurrManager'])"
   ]
  },
  {
   "cell_type": "code",
   "execution_count": 42,
   "metadata": {},
   "outputs": [
    {
     "data": {
      "text/plain": [
       "(1470, 30)"
      ]
     },
     "execution_count": 42,
     "metadata": {},
     "output_type": "execute_result"
    }
   ],
   "source": [
    "hr_employee_attrition_dropped.shape"
   ]
  },
  {
   "cell_type": "markdown",
   "metadata": {},
   "source": [
    "## Correlation Matrix"
   ]
  },
  {
   "cell_type": "code",
   "execution_count": 43,
   "metadata": {
    "scrolled": false
   },
   "outputs": [
    {
     "data": {
      "image/png": "[encoded data removed]",
      "text/plain": [
       "<Figure size 792x648 with 2 Axes>"
      ]
     },
     "metadata": {
      "needs_background": "light"
     },
     "output_type": "display_data"
    }
   ],
   "source": [
    "dataframe_corr = correlationMatrix(hr_employee_attrition_dropped)\n",
    "#dataframe_corr = correlationMatrix(hr_employee_attrition)"
   ]
  },
  {
   "cell_type": "markdown",
   "metadata": {},
   "source": [
    "### Top Correlations"
   ]
  },
  {
   "cell_type": "code",
   "execution_count": 44,
   "metadata": {
    "scrolled": true
   },
   "outputs": [
    {
     "data": {
      "text/plain": [
       "YearsInCurrentRole    YearsWithCurrManager    0.714365\n",
       "YearsWithCurrManager  YearsInCurrentRole      0.714365\n",
       "YearsInCurrentRole    YearsAtCompany          0.758754\n",
       "YearsAtCompany        YearsInCurrentRole      0.758754\n",
       "YearsWithCurrManager  YearsAtCompany          0.769212\n",
       "YearsAtCompany        YearsWithCurrManager    0.769212\n",
       "MonthlyIncome         TotalWorkingYears       0.772893\n",
       "TotalWorkingYears     MonthlyIncome           0.772893\n",
       "PercentSalaryHike     PerformanceRating       0.773550\n",
       "PerformanceRating     PercentSalaryHike       0.773550\n",
       "JobLevel              TotalWorkingYears       0.782208\n",
       "TotalWorkingYears     JobLevel                0.782208\n",
       "MonthlyIncome         JobLevel                0.950300\n",
       "JobLevel              MonthlyIncome           0.950300\n",
       "dtype: float64"
      ]
     },
     "execution_count": 44,
     "metadata": {},
     "output_type": "execute_result"
    }
   ],
   "source": [
    "# Ran top correlations with the original hr_employee_attrition\n",
    "# and hr_employee_attrition_dropped, the results were the same\n",
    "sorted_pairs = dataframe_corr.unstack().sort_values(kind=\"quicksort\")\n",
    "abs_sorted_pairs = sorted_pairs[abs(sorted_pairs) >= 0.7  ].head(14)\n",
    "abs_sorted_pairs"
   ]
  }
 ],
 "metadata": {
  "kernelspec": {
   "display_name": "Python 3",
   "language": "python",
   "name": "python3"
  },
  "language_info": {
   "codemirror_mode": {
    "name": "ipython",
    "version": 3
   },
   "file_extension": ".py",
   "mimetype": "text/x-python",
   "name": "python",
   "nbconvert_exporter": "python",
   "pygments_lexer": "ipython3",
   "version": "3.8.5"
  }
 },
 "nbformat": 4,
 "nbformat_minor": 1
}
