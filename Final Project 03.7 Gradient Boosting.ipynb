{
 "cells": [
  {
   "cell_type": "markdown",
   "metadata": {},
   "source": [
    "# Gradient Boosting"
   ]
  },
  {
   "cell_type": "markdown",
   "metadata": {},
   "source": [
    "Group 6\n",
    "\n",
    "Members (Student ID/Email): Abigail Keller (2026918, akelle30@depaul.edu), Kara Faciszewski (1976775, kfacisze@depaul.edu), Joel Fernandez (1394698, jferna26@depaul.edu), Elizabeth Kerrigan (1994142, ekerrig3@depaul.edu). Srinath V.S. (1979936 , SVANAMAM@depaul.edu)"
   ]
  },
  {
   "cell_type": "markdown",
   "metadata": {},
   "source": [
    "### Results:\n",
    "Paramaters  tested include learning_rate, n_estimators, and max_depth. After using grid search CV and testing various combiantions, the best combination was found to be learning_rate=0.5, max_depth=1, and n_estimators=250 with a training accuracy of 93% and testing of 91%.\n",
    "\n",
    "When running PCA and KPCA, there was not a sginficant change in perfromance. 39 components were used which explained 95% of the variance in the data. The training and testing accuarcy were 96% adn 89% respectively. KPCA had similar results but there was no  improvement over the standard method above."
   ]
  },
  {
   "cell_type": "code",
   "execution_count": 1,
   "metadata": {},
   "outputs": [],
   "source": [
    "import pandas as pd\n",
    "import numpy as np\n",
    "import seaborn as sns\n",
    "import matplotlib.pyplot as plt\n",
    "import os\n",
    "from sklearn.model_selection import train_test_split\n",
    "from sklearn import metrics\n",
    "from sklearn.ensemble import GradientBoostingClassifier\n",
    "from sklearn import preprocessing\n",
    "from sklearn.model_selection import GridSearchCV\n",
    "from sklearn.metrics import confusion_matrix\n",
    "from sklearn.metrics import classification_report\n",
    "from sklearn.model_selection import cross_val_score\n",
    "from sklearn.model_selection import StratifiedKFold\n",
    "from sklearn.metrics import accuracy_score"
   ]
  },
  {
   "cell_type": "code",
   "execution_count": 2,
   "metadata": {},
   "outputs": [
    {
     "data": {
      "text/plain": [
       "'/Users/Abby/Documents/DePaul_MS_DS/DePaul Spring 2021/DSC 540/Project540/DSC-540---Advanced-Machine-Learning---Final-Project-main-8'"
      ]
     },
     "execution_count": 2,
     "metadata": {},
     "output_type": "execute_result"
    }
   ],
   "source": [
    "%pwd"
   ]
  },
  {
   "cell_type": "code",
   "execution_count": 3,
   "metadata": {},
   "outputs": [],
   "source": [
    "# os.chdir('/Users/Abby/Documents/DePaul_MS_DS/DePaul Spring 2021/DSC 540/Project540/Final_Project_github')\n",
    "# os.getcwd()"
   ]
  },
  {
   "cell_type": "code",
   "execution_count": 4,
   "metadata": {},
   "outputs": [],
   "source": [
    "hr_employee = pd.read_csv( './Data/HR_Employee.csv', delimiter = \",\")\n",
    "Attrition = pd.read_csv( './Data/Attrition.csv', delimiter = \",\")"
   ]
  },
  {
   "cell_type": "code",
   "execution_count": 5,
   "metadata": {},
   "outputs": [],
   "source": [
    "X = hr_employee\n",
    "# Y = Attrition.values.ravel()\n",
    "Y = Attrition"
   ]
  },
  {
   "cell_type": "code",
   "execution_count": 6,
   "metadata": {},
   "outputs": [
    {
     "data": {
      "text/plain": [
       "0       1\n",
       "1       0\n",
       "2       1\n",
       "3       0\n",
       "4       0\n",
       "       ..\n",
       "1465    0\n",
       "1466    0\n",
       "1467    0\n",
       "1468    0\n",
       "1469    0\n",
       "Name: Attrition, Length: 1470, dtype: int64"
      ]
     },
     "execution_count": 6,
     "metadata": {},
     "output_type": "execute_result"
    }
   ],
   "source": [
    "y = Y.Attrition\n",
    "y"
   ]
  },
  {
   "cell_type": "code",
   "execution_count": 33,
   "metadata": {},
   "outputs": [
    {
     "name": "stdout",
     "output_type": "stream",
     "text": [
      "(1176, 69) (1176,)\n",
      "(294, 69) (294,)\n"
     ]
    }
   ],
   "source": [
    "X_train, X_test, y_train, y_test = train_test_split(X, y, test_size=0.2)\n",
    "print(X_train.shape, y_train.shape)\n",
    "print(X_test.shape, y_test.shape)"
   ]
  },
  {
   "cell_type": "code",
   "execution_count": 23,
   "metadata": {},
   "outputs": [
    {
     "data": {
      "text/plain": [
       "0.8588460151460513"
      ]
     },
     "execution_count": 23,
     "metadata": {},
     "output_type": "execute_result"
    }
   ],
   "source": [
    "gb = GradientBoostingClassifier()\n",
    "scores = cross_val_score(gb, X_train, y_train, cv=5)\n",
    "scores.mean()"
   ]
  },
  {
   "cell_type": "code",
   "execution_count": 24,
   "metadata": {},
   "outputs": [
    {
     "data": {
      "text/plain": [
       "GradientBoostingClassifier()"
      ]
     },
     "execution_count": 24,
     "metadata": {},
     "output_type": "execute_result"
    }
   ],
   "source": [
    "gb.fit(X_train, y_train)"
   ]
  },
  {
   "cell_type": "code",
   "execution_count": 12,
   "metadata": {},
   "outputs": [
    {
     "name": "stdout",
     "output_type": "stream",
     "text": [
      "0.9532312925170068\n"
     ]
    }
   ],
   "source": [
    "# training accuracy\n",
    "pred = gb.predict(X_train)\n",
    "print(accuracy_score(y_train, pred))"
   ]
  },
  {
   "cell_type": "code",
   "execution_count": 13,
   "metadata": {},
   "outputs": [
    {
     "name": "stdout",
     "output_type": "stream",
     "text": [
      "0.8945578231292517\n"
     ]
    }
   ],
   "source": [
    "# testing accuracy\n",
    "pred = gb.predict(X_test)\n",
    "print(accuracy_score(y_test, pred))"
   ]
  },
  {
   "cell_type": "code",
   "execution_count": 14,
   "metadata": {},
   "outputs": [
    {
     "data": {
      "text/html": [
       "<div>\n",
       "<style scoped>\n",
       "    .dataframe tbody tr th:only-of-type {\n",
       "        vertical-align: middle;\n",
       "    }\n",
       "\n",
       "    .dataframe tbody tr th {\n",
       "        vertical-align: top;\n",
       "    }\n",
       "\n",
       "    .dataframe thead th {\n",
       "        text-align: right;\n",
       "    }\n",
       "</style>\n",
       "<table border=\"1\" class=\"dataframe\">\n",
       "  <thead>\n",
       "    <tr style=\"text-align: right;\">\n",
       "      <th></th>\n",
       "      <th>0</th>\n",
       "      <th>1</th>\n",
       "    </tr>\n",
       "  </thead>\n",
       "  <tbody>\n",
       "    <tr>\n",
       "      <th>0</th>\n",
       "      <td>248</td>\n",
       "      <td>10</td>\n",
       "    </tr>\n",
       "    <tr>\n",
       "      <th>1</th>\n",
       "      <td>21</td>\n",
       "      <td>15</td>\n",
       "    </tr>\n",
       "  </tbody>\n",
       "</table>\n",
       "</div>"
      ],
      "text/plain": [
       "     0   1\n",
       "0  248  10\n",
       "1   21  15"
      ]
     },
     "execution_count": 14,
     "metadata": {},
     "output_type": "execute_result"
    }
   ],
   "source": [
    "# confusion matrix\n",
    "pred = gb.predict(X_test)\n",
    "gbcm = confusion_matrix(y_test, pred)\n",
    "pd.DataFrame(metrics.confusion_matrix(y_test, pred))"
   ]
  },
  {
   "cell_type": "code",
   "execution_count": 15,
   "metadata": {},
   "outputs": [
    {
     "name": "stdout",
     "output_type": "stream",
     "text": [
      "              precision    recall  f1-score   support\n",
      "\n",
      "           0       0.92      0.96      0.94       258\n",
      "           1       0.60      0.42      0.49        36\n",
      "\n",
      "    accuracy                           0.89       294\n",
      "   macro avg       0.76      0.69      0.72       294\n",
      "weighted avg       0.88      0.89      0.89       294\n",
      "\n"
     ]
    }
   ],
   "source": [
    "# metrics\n",
    "print(classification_report(y_test,pred))"
   ]
  },
  {
   "cell_type": "code",
   "execution_count": 16,
   "metadata": {},
   "outputs": [
    {
     "data": {
      "image/png": "[encoded data removed]",
      "text/plain": [
       "<Figure size 288x288 with 2 Axes>"
      ]
     },
     "metadata": {
      "needs_background": "light"
     },
     "output_type": "display_data"
    }
   ],
   "source": [
    "import pylab as plt\n",
    "%matplotlib inline\n",
    "plt.matshow(gbcm)\n",
    "plt.title('Confusion matrix')\n",
    "plt.colorbar()\n",
    "plt.ylabel('Actual')\n",
    "plt.xlabel('Predicted')\n",
    "plt.show()"
   ]
  },
  {
   "cell_type": "code",
   "execution_count": 17,
   "metadata": {},
   "outputs": [],
   "source": [
    "learning_rate = [0.01, 0.05, 0.1, 0.2, 0.5, 0.8, 1, 10, 100]\n",
    "scores_params = []\n",
    "for m in learning_rate:\n",
    "    gb = GradientBoostingClassifier(learning_rate=m)\n",
    "    scores = cross_val_score(gb, X=X_train, y=y_train, scoring='accuracy', cv=5)\n",
    "#     print(scores)\n",
    "    scores_params.append(scores.mean())"
   ]
  },
  {
   "cell_type": "code",
   "execution_count": 18,
   "metadata": {},
   "outputs": [
    {
     "data": {
      "image/png": "[encoded data removed]",
      "text/plain": [
       "<Figure size 432x288 with 1 Axes>"
      ]
     },
     "metadata": {
      "needs_background": "light"
     },
     "output_type": "display_data"
    }
   ],
   "source": [
    "plt.plot(scores_params, label = 'train')\n",
    "# plt.plot(scores_val, label = 'val')\n",
    "plt.xticks(np.arange(len(learning_rate)), learning_rate, rotation=45)\n",
    "plt.xlabel('learning_rate')\n",
    "plt.ylabel('Score')\n",
    "plt.title('Validation Curve')\n",
    "plt.legend()\n",
    "plt.show()"
   ]
  },
  {
   "cell_type": "code",
   "execution_count": 19,
   "metadata": {},
   "outputs": [],
   "source": [
    "n_estimators = [50, 75, 100, 150, 200, 250, 300, 500]"
   ]
  },
  {
   "cell_type": "code",
   "execution_count": 20,
   "metadata": {},
   "outputs": [],
   "source": [
    "scores_params = []\n",
    "for m in n_estimators:\n",
    "    gb = GradientBoostingClassifier(n_estimators=m)\n",
    "    scores = cross_val_score(gb, X=X_train, y=y_train, scoring='accuracy', cv=5)\n",
    "#     print(scores)\n",
    "    scores_params.append(scores.mean())"
   ]
  },
  {
   "cell_type": "code",
   "execution_count": 21,
   "metadata": {},
   "outputs": [
    {
     "data": {
      "image/png": "[encoded data removed]",
      "text/plain": [
       "<Figure size 432x288 with 1 Axes>"
      ]
     },
     "metadata": {
      "needs_background": "light"
     },
     "output_type": "display_data"
    }
   ],
   "source": [
    "plt.plot(scores_params, label = 'train')\n",
    "# plt.plot(scores_val, label = 'val')\n",
    "plt.xticks(np.arange(len(n_estimators)), n_estimators, rotation=45)\n",
    "plt.xlabel('n_estimators')\n",
    "plt.ylabel('Score')\n",
    "plt.title('Validation Curve')\n",
    "plt.legend()\n",
    "plt.show()"
   ]
  },
  {
   "cell_type": "code",
   "execution_count": 22,
   "metadata": {},
   "outputs": [
    {
     "data": {
      "text/plain": [
       "GradientBoostingClassifier(learning_rate=0.2)"
      ]
     },
     "execution_count": 22,
     "metadata": {},
     "output_type": "execute_result"
    }
   ],
   "source": [
    "gb = GradientBoostingClassifier(learning_rate=0.2)\n",
    "gb.fit(X_train, y_train)"
   ]
  },
  {
   "cell_type": "code",
   "execution_count": 23,
   "metadata": {},
   "outputs": [
    {
     "name": "stdout",
     "output_type": "stream",
     "text": [
      "0.9812925170068028\n"
     ]
    }
   ],
   "source": [
    "# training accuracy\n",
    "pred = gb.predict(X_train)\n",
    "print(accuracy_score(y_train, pred))"
   ]
  },
  {
   "cell_type": "code",
   "execution_count": 24,
   "metadata": {},
   "outputs": [
    {
     "name": "stdout",
     "output_type": "stream",
     "text": [
      "0.8979591836734694\n"
     ]
    }
   ],
   "source": [
    "# testing accuracy\n",
    "pred = gb.predict(X_test)\n",
    "print(accuracy_score(y_test, pred))"
   ]
  },
  {
   "cell_type": "markdown",
   "metadata": {},
   "source": [
    "### Grid Search"
   ]
  },
  {
   "cell_type": "code",
   "execution_count": 51,
   "metadata": {},
   "outputs": [
    {
     "data": {
      "text/plain": [
       "{'n_estimators': [25, 50, 75, 100, 150, 200, 250, 300, 500],\n",
       " 'max_depth': [1, 3, 5, 7, 9],\n",
       " 'learning_rate': [0.01, 0.05, 0.1, 0.2, 0.5, 0.8, 1]}"
      ]
     },
     "execution_count": 51,
     "metadata": {},
     "output_type": "execute_result"
    }
   ],
   "source": [
    "# grid search\n",
    "params = dict(\n",
    "    n_estimators = [25, 50, 75, 100, 150, 200, 250, 300, 500],\n",
    "    max_depth = [1, 3, 5, 7, 9],\n",
    "    learning_rate = [0.01, 0.05, 0.1, 0.2, 0.5, 0.8, 1]\n",
    ")\n",
    "params"
   ]
  },
  {
   "cell_type": "code",
   "execution_count": 52,
   "metadata": {},
   "outputs": [
    {
     "data": {
      "text/plain": [
       "GridSearchCV(cv=5, estimator=GradientBoostingClassifier(),\n",
       "             param_grid={'learning_rate': [0.01, 0.05, 0.1, 0.2, 0.5, 0.8, 1],\n",
       "                         'max_depth': [1, 3, 5, 7, 9],\n",
       "                         'n_estimators': [25, 50, 75, 100, 150, 200, 250, 300,\n",
       "                                          500]},\n",
       "             scoring='recall')"
      ]
     },
     "execution_count": 52,
     "metadata": {},
     "output_type": "execute_result"
    }
   ],
   "source": [
    "gb = GradientBoostingClassifier()\n",
    "gs = GridSearchCV(estimator=gb, param_grid=params, scoring='recall', cv=5)\n",
    "gs"
   ]
  },
  {
   "cell_type": "code",
   "execution_count": 53,
   "metadata": {},
   "outputs": [
    {
     "data": {
      "text/plain": [
       "GridSearchCV(cv=5, estimator=GradientBoostingClassifier(),\n",
       "             param_grid={'learning_rate': [0.01, 0.05, 0.1, 0.2, 0.5, 0.8, 1],\n",
       "                         'max_depth': [1, 3, 5, 7, 9],\n",
       "                         'n_estimators': [25, 50, 75, 100, 150, 200, 250, 300,\n",
       "                                          500]},\n",
       "             scoring='recall')"
      ]
     },
     "execution_count": 53,
     "metadata": {},
     "output_type": "execute_result"
    }
   ],
   "source": [
    "gs.fit(X_train, y_train)"
   ]
  },
  {
   "cell_type": "code",
   "execution_count": 54,
   "metadata": {},
   "outputs": [
    {
     "data": {
      "text/plain": [
       "GradientBoostingClassifier(learning_rate=0.8, max_depth=1, n_estimators=300)"
      ]
     },
     "execution_count": 54,
     "metadata": {},
     "output_type": "execute_result"
    }
   ],
   "source": [
    "gs.best_estimator_"
   ]
  },
  {
   "cell_type": "code",
   "execution_count": 55,
   "metadata": {},
   "outputs": [
    {
     "data": {
      "text/plain": [
       "{'learning_rate': 0.8, 'max_depth': 1, 'n_estimators': 300}"
      ]
     },
     "execution_count": 55,
     "metadata": {},
     "output_type": "execute_result"
    }
   ],
   "source": [
    "#learning_rate = 1 n_estimator = 150\n",
    "gs.best_params_"
   ]
  },
  {
   "cell_type": "code",
   "execution_count": 56,
   "metadata": {},
   "outputs": [
    {
     "data": {
      "text/plain": [
       "0.9081632653061225"
      ]
     },
     "execution_count": 56,
     "metadata": {},
     "output_type": "execute_result"
    }
   ],
   "source": [
    "best_estimator = gs.best_estimator_\n",
    "pred = best_estimator.predict(X_test)\n",
    "metrics.accuracy_score(y_test, pred)"
   ]
  },
  {
   "cell_type": "code",
   "execution_count": 57,
   "metadata": {},
   "outputs": [
    {
     "data": {
      "text/html": [
       "<div>\n",
       "<style scoped>\n",
       "    .dataframe tbody tr th:only-of-type {\n",
       "        vertical-align: middle;\n",
       "    }\n",
       "\n",
       "    .dataframe tbody tr th {\n",
       "        vertical-align: top;\n",
       "    }\n",
       "\n",
       "    .dataframe thead th {\n",
       "        text-align: right;\n",
       "    }\n",
       "</style>\n",
       "<table border=\"1\" class=\"dataframe\">\n",
       "  <thead>\n",
       "    <tr style=\"text-align: right;\">\n",
       "      <th></th>\n",
       "      <th>0</th>\n",
       "      <th>1</th>\n",
       "    </tr>\n",
       "  </thead>\n",
       "  <tbody>\n",
       "    <tr>\n",
       "      <th>0</th>\n",
       "      <td>243</td>\n",
       "      <td>15</td>\n",
       "    </tr>\n",
       "    <tr>\n",
       "      <th>1</th>\n",
       "      <td>12</td>\n",
       "      <td>24</td>\n",
       "    </tr>\n",
       "  </tbody>\n",
       "</table>\n",
       "</div>"
      ],
      "text/plain": [
       "     0   1\n",
       "0  243  15\n",
       "1   12  24"
      ]
     },
     "execution_count": 57,
     "metadata": {},
     "output_type": "execute_result"
    }
   ],
   "source": [
    "# confusion matrix\n",
    "gbcm = confusion_matrix(y_test, pred)\n",
    "pd.DataFrame(metrics.confusion_matrix(y_test, pred))"
   ]
  },
  {
   "cell_type": "code",
   "execution_count": 58,
   "metadata": {},
   "outputs": [
    {
     "name": "stdout",
     "output_type": "stream",
     "text": [
      "              precision    recall  f1-score   support\n",
      "\n",
      "           0       0.95      0.94      0.95       258\n",
      "           1       0.62      0.67      0.64        36\n",
      "\n",
      "    accuracy                           0.91       294\n",
      "   macro avg       0.78      0.80      0.79       294\n",
      "weighted avg       0.91      0.91      0.91       294\n",
      "\n"
     ]
    }
   ],
   "source": [
    "print(metrics.classification_report(y_test, pred))"
   ]
  },
  {
   "cell_type": "code",
   "execution_count": 59,
   "metadata": {},
   "outputs": [
    {
     "data": {
      "image/png": "[encoded data removed]",
      "text/plain": [
       "<Figure size 288x288 with 2 Axes>"
      ]
     },
     "metadata": {
      "needs_background": "light"
     },
     "output_type": "display_data"
    }
   ],
   "source": [
    "import pylab as plt\n",
    "%matplotlib inline\n",
    "plt.matshow(gbcm)\n",
    "plt.title('Confusion matrix')\n",
    "plt.colorbar()\n",
    "plt.ylabel('Actual')\n",
    "plt.xlabel('Predicted')\n",
    "plt.show()"
   ]
  },
  {
   "cell_type": "code",
   "execution_count": 60,
   "metadata": {},
   "outputs": [
    {
     "data": {
      "image/png": "[encoded data removed]",
      "text/plain": [
       "<Figure size 1080x1440 with 1 Axes>"
      ]
     },
     "metadata": {
      "needs_background": "light"
     },
     "output_type": "display_data"
    }
   ],
   "source": [
    "def plot_feature_importances(model, df):\n",
    "    n_features = df.shape[1]\n",
    "    df_colnames= df.columns\n",
    "    fig = plt.figure(figsize = (15,20))\n",
    "    plt.barh(np.arange(n_features), model.feature_importances_, align='center')\n",
    "    plt.yticks(np.arange(n_features), df_colnames)\n",
    "    plt.xlabel(\"Feature importance\")\n",
    "#     plt.ylabel(\"Feature\")\n",
    "    plt.ylim(-1, n_features)\n",
    "\n",
    "plot_feature_importances(best_estimator, df=X_train)"
   ]
  },
  {
   "cell_type": "code",
   "execution_count": 36,
   "metadata": {},
   "outputs": [],
   "source": [
    "def print_results(results):\n",
    "    print('BEST PARAMS: {}\\n'.format(results.best_params_))\n",
    "\n",
    "    means = results.cv_results_['mean_test_score']\n",
    "    stds = results.cv_results_['std_test_score']\n",
    "    for mean, std, params in zip(means, stds, results.cv_results_['params']):\n",
    "        print('{} (+/-{}) for {}'.format(round(mean, 3), round(std * 2, 3), params))"
   ]
  },
  {
   "cell_type": "code",
   "execution_count": 39,
   "metadata": {},
   "outputs": [
    {
     "name": "stdout",
     "output_type": "stream",
     "text": [
      "BEST PARAMS: {'learning_rate': 0.5, 'max_depth': 1, 'n_estimators': 250}\n",
      "\n",
      "0.094 (+/-0.035) for {'learning_rate': 0.1, 'max_depth': 1, 'n_estimators': 75}\n",
      "0.144 (+/-0.096) for {'learning_rate': 0.1, 'max_depth': 1, 'n_estimators': 100}\n",
      "0.204 (+/-0.085) for {'learning_rate': 0.1, 'max_depth': 1, 'n_estimators': 150}\n",
      "0.234 (+/-0.099) for {'learning_rate': 0.1, 'max_depth': 1, 'n_estimators': 200}\n",
      "0.269 (+/-0.084) for {'learning_rate': 0.1, 'max_depth': 1, 'n_estimators': 250}\n",
      "0.259 (+/-0.101) for {'learning_rate': 0.1, 'max_depth': 3, 'n_estimators': 75}\n",
      "0.289 (+/-0.12) for {'learning_rate': 0.1, 'max_depth': 3, 'n_estimators': 100}\n",
      "0.289 (+/-0.081) for {'learning_rate': 0.1, 'max_depth': 3, 'n_estimators': 150}\n",
      "0.308 (+/-0.059) for {'learning_rate': 0.1, 'max_depth': 3, 'n_estimators': 200}\n",
      "0.333 (+/-0.067) for {'learning_rate': 0.1, 'max_depth': 3, 'n_estimators': 250}\n",
      "0.279 (+/-0.132) for {'learning_rate': 0.1, 'max_depth': 5, 'n_estimators': 75}\n",
      "0.279 (+/-0.125) for {'learning_rate': 0.1, 'max_depth': 5, 'n_estimators': 100}\n",
      "0.299 (+/-0.137) for {'learning_rate': 0.1, 'max_depth': 5, 'n_estimators': 150}\n",
      "0.329 (+/-0.076) for {'learning_rate': 0.1, 'max_depth': 5, 'n_estimators': 200}\n",
      "0.314 (+/-0.085) for {'learning_rate': 0.1, 'max_depth': 5, 'n_estimators': 250}\n",
      "0.224 (+/-0.114) for {'learning_rate': 0.1, 'max_depth': 7, 'n_estimators': 75}\n",
      "0.254 (+/-0.104) for {'learning_rate': 0.1, 'max_depth': 7, 'n_estimators': 100}\n",
      "0.249 (+/-0.106) for {'learning_rate': 0.1, 'max_depth': 7, 'n_estimators': 150}\n",
      "0.244 (+/-0.069) for {'learning_rate': 0.1, 'max_depth': 7, 'n_estimators': 200}\n",
      "0.264 (+/-0.165) for {'learning_rate': 0.1, 'max_depth': 7, 'n_estimators': 250}\n",
      "0.239 (+/-0.069) for {'learning_rate': 0.1, 'max_depth': 9, 'n_estimators': 75}\n",
      "0.249 (+/-0.045) for {'learning_rate': 0.1, 'max_depth': 9, 'n_estimators': 100}\n",
      "0.234 (+/-0.093) for {'learning_rate': 0.1, 'max_depth': 9, 'n_estimators': 150}\n",
      "0.224 (+/-0.092) for {'learning_rate': 0.1, 'max_depth': 9, 'n_estimators': 200}\n",
      "0.234 (+/-0.084) for {'learning_rate': 0.1, 'max_depth': 9, 'n_estimators': 250}\n",
      "0.214 (+/-0.108) for {'learning_rate': 0.2, 'max_depth': 1, 'n_estimators': 75}\n",
      "0.234 (+/-0.097) for {'learning_rate': 0.2, 'max_depth': 1, 'n_estimators': 100}\n",
      "0.298 (+/-0.086) for {'learning_rate': 0.2, 'max_depth': 1, 'n_estimators': 150}\n",
      "0.323 (+/-0.121) for {'learning_rate': 0.2, 'max_depth': 1, 'n_estimators': 200}\n",
      "0.353 (+/-0.121) for {'learning_rate': 0.2, 'max_depth': 1, 'n_estimators': 250}\n",
      "0.314 (+/-0.062) for {'learning_rate': 0.2, 'max_depth': 3, 'n_estimators': 75}\n",
      "0.323 (+/-0.061) for {'learning_rate': 0.2, 'max_depth': 3, 'n_estimators': 100}\n",
      "0.328 (+/-0.056) for {'learning_rate': 0.2, 'max_depth': 3, 'n_estimators': 150}\n",
      "0.343 (+/-0.08) for {'learning_rate': 0.2, 'max_depth': 3, 'n_estimators': 200}\n",
      "0.353 (+/-0.083) for {'learning_rate': 0.2, 'max_depth': 3, 'n_estimators': 250}\n",
      "0.308 (+/-0.078) for {'learning_rate': 0.2, 'max_depth': 5, 'n_estimators': 75}\n",
      "0.309 (+/-0.106) for {'learning_rate': 0.2, 'max_depth': 5, 'n_estimators': 100}\n",
      "0.304 (+/-0.105) for {'learning_rate': 0.2, 'max_depth': 5, 'n_estimators': 150}\n",
      "0.303 (+/-0.056) for {'learning_rate': 0.2, 'max_depth': 5, 'n_estimators': 200}\n",
      "0.304 (+/-0.089) for {'learning_rate': 0.2, 'max_depth': 5, 'n_estimators': 250}\n",
      "0.259 (+/-0.122) for {'learning_rate': 0.2, 'max_depth': 7, 'n_estimators': 75}\n",
      "0.239 (+/-0.104) for {'learning_rate': 0.2, 'max_depth': 7, 'n_estimators': 100}\n",
      "0.239 (+/-0.07) for {'learning_rate': 0.2, 'max_depth': 7, 'n_estimators': 150}\n",
      "0.239 (+/-0.083) for {'learning_rate': 0.2, 'max_depth': 7, 'n_estimators': 200}\n",
      "0.264 (+/-0.11) for {'learning_rate': 0.2, 'max_depth': 7, 'n_estimators': 250}\n",
      "0.214 (+/-0.054) for {'learning_rate': 0.2, 'max_depth': 9, 'n_estimators': 75}\n",
      "0.244 (+/-0.089) for {'learning_rate': 0.2, 'max_depth': 9, 'n_estimators': 100}\n",
      "0.234 (+/-0.054) for {'learning_rate': 0.2, 'max_depth': 9, 'n_estimators': 150}\n",
      "0.224 (+/-0.091) for {'learning_rate': 0.2, 'max_depth': 9, 'n_estimators': 200}\n",
      "0.234 (+/-0.062) for {'learning_rate': 0.2, 'max_depth': 9, 'n_estimators': 250}\n",
      "0.343 (+/-0.13) for {'learning_rate': 0.5, 'max_depth': 1, 'n_estimators': 75}\n",
      "0.383 (+/-0.118) for {'learning_rate': 0.5, 'max_depth': 1, 'n_estimators': 100}\n",
      "0.408 (+/-0.134) for {'learning_rate': 0.5, 'max_depth': 1, 'n_estimators': 150}\n",
      "0.428 (+/-0.121) for {'learning_rate': 0.5, 'max_depth': 1, 'n_estimators': 200}\n",
      "0.433 (+/-0.126) for {'learning_rate': 0.5, 'max_depth': 1, 'n_estimators': 250}\n",
      "0.368 (+/-0.078) for {'learning_rate': 0.5, 'max_depth': 3, 'n_estimators': 75}\n",
      "0.368 (+/-0.128) for {'learning_rate': 0.5, 'max_depth': 3, 'n_estimators': 100}\n",
      "0.368 (+/-0.095) for {'learning_rate': 0.5, 'max_depth': 3, 'n_estimators': 150}\n",
      "0.368 (+/-0.066) for {'learning_rate': 0.5, 'max_depth': 3, 'n_estimators': 200}\n",
      "0.363 (+/-0.09) for {'learning_rate': 0.5, 'max_depth': 3, 'n_estimators': 250}\n",
      "0.333 (+/-0.104) for {'learning_rate': 0.5, 'max_depth': 5, 'n_estimators': 75}\n",
      "0.289 (+/-0.105) for {'learning_rate': 0.5, 'max_depth': 5, 'n_estimators': 100}\n",
      "0.334 (+/-0.11) for {'learning_rate': 0.5, 'max_depth': 5, 'n_estimators': 150}\n",
      "0.334 (+/-0.106) for {'learning_rate': 0.5, 'max_depth': 5, 'n_estimators': 200}\n",
      "0.328 (+/-0.067) for {'learning_rate': 0.5, 'max_depth': 5, 'n_estimators': 250}\n",
      "0.254 (+/-0.086) for {'learning_rate': 0.5, 'max_depth': 7, 'n_estimators': 75}\n",
      "0.269 (+/-0.087) for {'learning_rate': 0.5, 'max_depth': 7, 'n_estimators': 100}\n",
      "0.284 (+/-0.07) for {'learning_rate': 0.5, 'max_depth': 7, 'n_estimators': 150}\n",
      "0.269 (+/-0.08) for {'learning_rate': 0.5, 'max_depth': 7, 'n_estimators': 200}\n",
      "0.194 (+/-0.058) for {'learning_rate': 0.5, 'max_depth': 7, 'n_estimators': 250}\n",
      "0.289 (+/-0.092) for {'learning_rate': 0.5, 'max_depth': 9, 'n_estimators': 75}\n",
      "0.234 (+/-0.041) for {'learning_rate': 0.5, 'max_depth': 9, 'n_estimators': 100}\n",
      "0.189 (+/-0.093) for {'learning_rate': 0.5, 'max_depth': 9, 'n_estimators': 150}\n",
      "0.139 (+/-0.049) for {'learning_rate': 0.5, 'max_depth': 9, 'n_estimators': 200}\n",
      "0.109 (+/-0.05) for {'learning_rate': 0.5, 'max_depth': 9, 'n_estimators': 250}\n"
     ]
    }
   ],
   "source": [
    "gb = GradientBoostingClassifier()\n",
    "parameters = {\n",
    "    'n_estimators': [75, 100, 150, 200, 250],\n",
    "    'max_depth': [1, 3, 5, 7, 9],\n",
    "    'learning_rate': [0.1, 0.2, 0.5]\n",
    "}\n",
    "\n",
    "cv = GridSearchCV(gb, parameters, cv=5, scoring='recall')\n",
    "cv.fit(X_train, y_train)\n",
    "\n",
    "print_results(cv)"
   ]
  },
  {
   "cell_type": "code",
   "execution_count": null,
   "metadata": {},
   "outputs": [],
   "source": [
    "# gb = GradientBoostingClassifier()\n",
    "# parameters = {\n",
    "#     'n_estimators': [75, 100, 150, 200, 250],\n",
    "#     'max_depth': [1, 3, 5, 7, 9],\n",
    "#     'learning_rate': [0.1, 0.2, 0.5]\n",
    "# }\n",
    "\n",
    "# cv = GridSearchCV(gb, parameters, cv=5, scoring='recall')\n",
    "# cv.fit(X, Y.values.ravel())\n",
    "\n",
    "# print_results(cv)"
   ]
  },
  {
   "cell_type": "code",
   "execution_count": 40,
   "metadata": {},
   "outputs": [
    {
     "data": {
      "image/png": "[encoded data removed]",
      "text/plain": [
       "<Figure size 1080x1440 with 1 Axes>"
      ]
     },
     "metadata": {
      "needs_background": "light"
     },
     "output_type": "display_data"
    }
   ],
   "source": [
    "def plot_feature_importances(model, df):\n",
    "    n_features = df.shape[1]\n",
    "    df_colnames= df.columns\n",
    "    fig = plt.figure(figsize = (15,20))\n",
    "    plt.barh(np.arange(n_features), model.feature_importances_, align='center')\n",
    "    plt.yticks(np.arange(n_features), df_colnames)\n",
    "    plt.xlabel(\"Feature importance\")\n",
    "#     plt.ylabel(\"Feature\")\n",
    "    plt.ylim(-1, n_features)\n",
    "\n",
    "plot_feature_importances(cv.best_estimator_, df=X_train)"
   ]
  },
  {
   "cell_type": "code",
   "execution_count": 31,
   "metadata": {},
   "outputs": [
    {
     "data": {
      "text/plain": [
       "0.864792643346556"
      ]
     },
     "execution_count": 31,
     "metadata": {},
     "output_type": "execute_result"
    }
   ],
   "source": [
    "#0.735 (+/-0.207) for {'learning_rate': 100, 'max_depth': 5, 'n_estimators': 5}\n",
    "#{'learning_rate': 1, 'max_depth': 3, 'n_estimators': 500}\n",
    "gboost = GradientBoostingClassifier(learning_rate=0.5, n_estimators= 250, max_depth=1)\n",
    "scores = cross_val_score(gboost, X_train, y_train, cv=5)\n",
    "scores.mean()"
   ]
  },
  {
   "cell_type": "code",
   "execution_count": 32,
   "metadata": {},
   "outputs": [
    {
     "data": {
      "text/plain": [
       "0.8571294626758024"
      ]
     },
     "execution_count": 32,
     "metadata": {},
     "output_type": "execute_result"
    }
   ],
   "source": [
    "gboost = GradientBoostingClassifier(learning_rate=0.8, max_depth=1, n_estimators=300)\n",
    "scores = cross_val_score(gboost, X_train, y_train, cv=5)\n",
    "scores.mean()"
   ]
  },
  {
   "cell_type": "code",
   "execution_count": 33,
   "metadata": {},
   "outputs": [
    {
     "data": {
      "text/plain": [
       "0.8741579516768843"
      ]
     },
     "execution_count": 33,
     "metadata": {},
     "output_type": "execute_result"
    }
   ],
   "source": [
    "#{'learning_rate': 1, 'max_depth': 1, 'n_estimators': 100}\n",
    "gboost = GradientBoostingClassifier(learning_rate=0.2, n_estimators= 200, max_depth=1)\n",
    "scores = cross_val_score(gboost, X_train, y_train, cv=5)\n",
    "scores.mean()"
   ]
  },
  {
   "cell_type": "code",
   "execution_count": 28,
   "metadata": {},
   "outputs": [
    {
     "data": {
      "text/plain": [
       "GradientBoostingClassifier(learning_rate=0.5, max_depth=1, n_estimators=250)"
      ]
     },
     "execution_count": 28,
     "metadata": {},
     "output_type": "execute_result"
    }
   ],
   "source": [
    "gb = GradientBoostingClassifier(learning_rate=0.5, n_estimators=250, max_depth=1)\n",
    "gb.fit(X_train, y_train)"
   ]
  },
  {
   "cell_type": "code",
   "execution_count": 29,
   "metadata": {},
   "outputs": [
    {
     "name": "stdout",
     "output_type": "stream",
     "text": [
      "0.9251700680272109\n"
     ]
    }
   ],
   "source": [
    "# training accuracy\n",
    "pred = gb.predict(X_train)\n",
    "print(accuracy_score(y_train, pred))"
   ]
  },
  {
   "cell_type": "code",
   "execution_count": 30,
   "metadata": {},
   "outputs": [
    {
     "name": "stdout",
     "output_type": "stream",
     "text": [
      "0.9115646258503401\n"
     ]
    }
   ],
   "source": [
    "# testing accuracy\n",
    "pred = gb.predict(X_test)\n",
    "print(accuracy_score(y_test, pred))"
   ]
  },
  {
   "cell_type": "code",
   "execution_count": 97,
   "metadata": {},
   "outputs": [
    {
     "data": {
      "text/html": [
       "<div>\n",
       "<style scoped>\n",
       "    .dataframe tbody tr th:only-of-type {\n",
       "        vertical-align: middle;\n",
       "    }\n",
       "\n",
       "    .dataframe tbody tr th {\n",
       "        vertical-align: top;\n",
       "    }\n",
       "\n",
       "    .dataframe thead th {\n",
       "        text-align: right;\n",
       "    }\n",
       "</style>\n",
       "<table border=\"1\" class=\"dataframe\">\n",
       "  <thead>\n",
       "    <tr style=\"text-align: right;\">\n",
       "      <th></th>\n",
       "      <th>0</th>\n",
       "      <th>1</th>\n",
       "    </tr>\n",
       "  </thead>\n",
       "  <tbody>\n",
       "    <tr>\n",
       "      <th>0</th>\n",
       "      <td>246</td>\n",
       "      <td>12</td>\n",
       "    </tr>\n",
       "    <tr>\n",
       "      <th>1</th>\n",
       "      <td>15</td>\n",
       "      <td>21</td>\n",
       "    </tr>\n",
       "  </tbody>\n",
       "</table>\n",
       "</div>"
      ],
      "text/plain": [
       "     0   1\n",
       "0  246  12\n",
       "1   15  21"
      ]
     },
     "execution_count": 97,
     "metadata": {},
     "output_type": "execute_result"
    }
   ],
   "source": [
    "# confusion matrix\n",
    "pred = gb.predict(X_test)\n",
    "gbcm = confusion_matrix(y_test, pred)\n",
    "pd.DataFrame(metrics.confusion_matrix(y_test, pred))"
   ]
  },
  {
   "cell_type": "code",
   "execution_count": 98,
   "metadata": {},
   "outputs": [
    {
     "name": "stdout",
     "output_type": "stream",
     "text": [
      "              precision    recall  f1-score   support\n",
      "\n",
      "           0       0.94      0.95      0.95       258\n",
      "           1       0.64      0.58      0.61        36\n",
      "\n",
      "    accuracy                           0.91       294\n",
      "   macro avg       0.79      0.77      0.78       294\n",
      "weighted avg       0.91      0.91      0.91       294\n",
      "\n"
     ]
    }
   ],
   "source": [
    "print(metrics.classification_report(y_test, pred))"
   ]
  },
  {
   "cell_type": "code",
   "execution_count": 99,
   "metadata": {
    "scrolled": true
   },
   "outputs": [
    {
     "data": {
      "image/png": "[encoded data removed]",
      "text/plain": [
       "<Figure size 288x288 with 2 Axes>"
      ]
     },
     "metadata": {
      "needs_background": "light"
     },
     "output_type": "display_data"
    }
   ],
   "source": [
    "import pylab as plt\n",
    "%matplotlib inline\n",
    "plt.matshow(gbcm)\n",
    "plt.title('Confusion matrix')\n",
    "plt.colorbar()\n",
    "plt.ylabel('Actual')\n",
    "plt.xlabel('Predicted')\n",
    "plt.show()"
   ]
  },
  {
   "cell_type": "code",
   "execution_count": 100,
   "metadata": {},
   "outputs": [
    {
     "name": "stdout",
     "output_type": "stream",
     "text": [
      " Recall: 0.58 \n",
      " Precision: 0.64 \n",
      " Specificity: 0.95 \n",
      " F1-score: 0.61 \n",
      " Balanced Accuracy: 0.77\n"
     ]
    }
   ],
   "source": [
    "tn, fp, fn, tp = metrics.confusion_matrix(y_true = y_test, y_pred = pred).ravel()\n",
    "recall = tp/(tp+fn)\n",
    "precision = tp/(tp+fp)\n",
    "f1 = 2 * (recall * precision)/(recall + precision)\n",
    "specificity = tn/(tn+fp)\n",
    "balanced_accuracy = (specificity + recall)/2\n",
    "print(\" Recall:\",recall.round(2),\"\\n\",\"Precision:\",precision.round(2),\"\\n\",\"Specificity:\",specificity.round(2),\"\\n\",\"F1-score:\",f1.round(2),\"\\n\",\"Balanced Accuracy:\", balanced_accuracy.round(2))"
   ]
  },
  {
   "cell_type": "code",
   "execution_count": 199,
   "metadata": {},
   "outputs": [],
   "source": [
    "from sklearn.metrics import confusion_matrix\n",
    "# Function:    confusionMatrix\n",
    "# Input:       Training/Testing dataframe and predictions\n",
    "# Output:      Prints Formatted Confusion Matrix\n",
    "# Returns:     Confusion Matrix Array\n",
    "# URL:         https://towardsdatascience.com/evaluating-machine-learning-classification-problems-in-python-5-1-metrics-that-matter-792c6faddf5\n",
    "def confusionMatrix(true, pred):\n",
    "    cm = confusion_matrix(true, pred.round(), normalize=None)\n",
    "\n",
    "    # Assigning columns names\n",
    "    cm_df = pd.DataFrame(cm,\n",
    "                        columns = ['Predicted Negative', 'Predicted Positive'],\n",
    "                        index = ['Actual Negative', 'Actual Positive'])\n",
    "\n",
    "    # Printing Formatted Confusion Matrix\n",
    "    print('\\n',cm_df)\n",
    "\n",
    "    return cm"
   ]
  },
  {
   "cell_type": "code",
   "execution_count": 200,
   "metadata": {},
   "outputs": [],
   "source": [
    "# Function:    heatMap\n",
    "# Input:       true y values, predicted y values\n",
    "# Output:      Heat Map Of Confusion Matrix\n",
    "def heatMap(y_true, y_pred):\n",
    "    cm_plot =  pd.crosstab(index=y_true.values.ravel(), columns=y_pred, rownames=['Actual'], colnames=['Predicted'])\n",
    "    sns.heatmap(cm_plot, annot=True, square=False, fmt='', cbar=False)\n",
    "    plt.title(\"Confusion Matrix\", fontsize = 15)\n",
    "    plt.show()"
   ]
  },
  {
   "cell_type": "code",
   "execution_count": 201,
   "metadata": {},
   "outputs": [
    {
     "name": "stdout",
     "output_type": "stream",
     "text": [
      "\n",
      "                  Predicted Negative  Predicted Positive\n",
      "Actual Negative                 247                   9\n",
      "Actual Positive                  17                  21\n"
     ]
    }
   ],
   "source": [
    "# Print Confusion Matrix\n",
    "cm = confusionMatrix(y_test, pred)"
   ]
  },
  {
   "cell_type": "code",
   "execution_count": 202,
   "metadata": {},
   "outputs": [
    {
     "data": {
      "image/png": "[encoded data removed]",
      "text/plain": [
       "<Figure size 432x288 with 1 Axes>"
      ]
     },
     "metadata": {
      "needs_background": "light"
     },
     "output_type": "display_data"
    }
   ],
   "source": [
    "# Heat Map\n",
    "heatMap(y_test, pred)"
   ]
  },
  {
   "cell_type": "markdown",
   "metadata": {},
   "source": [
    "### PCA"
   ]
  },
  {
   "cell_type": "code",
   "execution_count": 131,
   "metadata": {},
   "outputs": [],
   "source": [
    "from sklearn.decomposition import PCA"
   ]
  },
  {
   "cell_type": "code",
   "execution_count": 132,
   "metadata": {},
   "outputs": [],
   "source": [
    "pca = PCA(n_components=39)\n",
    "\n",
    "pca.fit(X_train)\n",
    "X_train_pca = pca.transform(X_train)\n",
    "X_test_pca = pca.transform(X_test)"
   ]
  },
  {
   "cell_type": "code",
   "execution_count": 103,
   "metadata": {},
   "outputs": [
    {
     "data": {
      "text/plain": [
       "GradientBoostingClassifier()"
      ]
     },
     "execution_count": 103,
     "metadata": {},
     "output_type": "execute_result"
    }
   ],
   "source": [
    "gb = GradientBoostingClassifier()\n",
    "gb.fit(X_train_pca, y_train)"
   ]
  },
  {
   "cell_type": "code",
   "execution_count": 104,
   "metadata": {},
   "outputs": [
    {
     "data": {
      "text/plain": [
       "0.9583333333333334"
      ]
     },
     "execution_count": 104,
     "metadata": {},
     "output_type": "execute_result"
    }
   ],
   "source": [
    "#training accuracy\n",
    "pred = gb.predict(X_train_pca)\n",
    "metrics.accuracy_score(y_train, pred)"
   ]
  },
  {
   "cell_type": "code",
   "execution_count": 105,
   "metadata": {},
   "outputs": [
    {
     "data": {
      "text/plain": [
       "0.8979591836734694"
      ]
     },
     "execution_count": 105,
     "metadata": {},
     "output_type": "execute_result"
    }
   ],
   "source": [
    "#testing accuracy\n",
    "pred = gb.predict(X_test_pca)\n",
    "metrics.accuracy_score(y_test, pred)"
   ]
  },
  {
   "cell_type": "code",
   "execution_count": 133,
   "metadata": {},
   "outputs": [
    {
     "data": {
      "text/plain": [
       "{'n_estimators': [75, 100, 150, 200, 250],\n",
       " 'max_depth': [1, 3, 5, 7, 9],\n",
       " 'learning_rate': [0.1, 0.2, 0.5]}"
      ]
     },
     "execution_count": 133,
     "metadata": {},
     "output_type": "execute_result"
    }
   ],
   "source": [
    "# grid search\n",
    "params = dict(\n",
    "    n_estimators = [75, 100, 150, 200, 250],\n",
    "    max_depth = [1, 3, 5, 7, 9],\n",
    "    learning_rate = [0.1, 0.2, 0.5]\n",
    ")\n",
    "params"
   ]
  },
  {
   "cell_type": "code",
   "execution_count": 134,
   "metadata": {
    "scrolled": true
   },
   "outputs": [
    {
     "data": {
      "text/plain": [
       "GridSearchCV(cv=5, estimator=GradientBoostingClassifier(),\n",
       "             param_grid={'learning_rate': [0.1, 0.2, 0.5],\n",
       "                         'max_depth': [1, 3, 5, 7, 9],\n",
       "                         'n_estimators': [75, 100, 150, 200, 250]},\n",
       "             scoring='recall')"
      ]
     },
     "execution_count": 134,
     "metadata": {},
     "output_type": "execute_result"
    }
   ],
   "source": [
    "gb = GradientBoostingClassifier()\n",
    "gs = GridSearchCV(estimator=gb, param_grid=params, scoring='recall', cv=5)\n",
    "gs"
   ]
  },
  {
   "cell_type": "code",
   "execution_count": 135,
   "metadata": {},
   "outputs": [
    {
     "data": {
      "text/plain": [
       "GridSearchCV(cv=5, estimator=GradientBoostingClassifier(),\n",
       "             param_grid={'learning_rate': [0.1, 0.2, 0.5],\n",
       "                         'max_depth': [1, 3, 5, 7, 9],\n",
       "                         'n_estimators': [75, 100, 150, 200, 250]},\n",
       "             scoring='recall')"
      ]
     },
     "execution_count": 135,
     "metadata": {},
     "output_type": "execute_result"
    }
   ],
   "source": [
    "gs.fit(X_train_pca, y_train)"
   ]
  },
  {
   "cell_type": "code",
   "execution_count": 109,
   "metadata": {},
   "outputs": [
    {
     "data": {
      "text/plain": [
       "GradientBoostingClassifier(learning_rate=0.5, max_depth=1, n_estimators=250)"
      ]
     },
     "execution_count": 109,
     "metadata": {},
     "output_type": "execute_result"
    }
   ],
   "source": [
    "gs.best_estimator_"
   ]
  },
  {
   "cell_type": "code",
   "execution_count": 110,
   "metadata": {},
   "outputs": [
    {
     "data": {
      "text/plain": [
       "{'learning_rate': 0.5, 'max_depth': 1, 'n_estimators': 250}"
      ]
     },
     "execution_count": 110,
     "metadata": {},
     "output_type": "execute_result"
    }
   ],
   "source": [
    "gs.best_params_"
   ]
  },
  {
   "cell_type": "code",
   "execution_count": 71,
   "metadata": {},
   "outputs": [
    {
     "data": {
      "text/plain": [
       "GradientBoostingClassifier(learning_rate=0.5, max_depth=1, n_estimators=250)"
      ]
     },
     "execution_count": 71,
     "metadata": {},
     "output_type": "execute_result"
    }
   ],
   "source": [
    "gb = GradientBoostingClassifier(learning_rate=0.5, n_estimators=250, max_depth=1)\n",
    "gb.fit(X_train_pca, y_train)"
   ]
  },
  {
   "cell_type": "code",
   "execution_count": 55,
   "metadata": {},
   "outputs": [
    {
     "data": {
      "text/plain": [
       "0.9591836734693877"
      ]
     },
     "execution_count": 55,
     "metadata": {},
     "output_type": "execute_result"
    }
   ],
   "source": [
    "#training accuracy\n",
    "pred = gb.predict(X_train_pca)\n",
    "metrics.accuracy_score(y_train, pred)"
   ]
  },
  {
   "cell_type": "code",
   "execution_count": 56,
   "metadata": {},
   "outputs": [
    {
     "data": {
      "text/plain": [
       "0.891156462585034"
      ]
     },
     "execution_count": 56,
     "metadata": {},
     "output_type": "execute_result"
    }
   ],
   "source": [
    "#testing accuracy\n",
    "pred = gb.predict(X_test_pca)\n",
    "metrics.accuracy_score(y_test, pred)"
   ]
  },
  {
   "cell_type": "code",
   "execution_count": 57,
   "metadata": {},
   "outputs": [
    {
     "data": {
      "text/html": [
       "<div>\n",
       "<style scoped>\n",
       "    .dataframe tbody tr th:only-of-type {\n",
       "        vertical-align: middle;\n",
       "    }\n",
       "\n",
       "    .dataframe tbody tr th {\n",
       "        vertical-align: top;\n",
       "    }\n",
       "\n",
       "    .dataframe thead th {\n",
       "        text-align: right;\n",
       "    }\n",
       "</style>\n",
       "<table border=\"1\" class=\"dataframe\">\n",
       "  <thead>\n",
       "    <tr style=\"text-align: right;\">\n",
       "      <th></th>\n",
       "      <th>0</th>\n",
       "      <th>1</th>\n",
       "    </tr>\n",
       "  </thead>\n",
       "  <tbody>\n",
       "    <tr>\n",
       "      <th>0</th>\n",
       "      <td>243</td>\n",
       "      <td>8</td>\n",
       "    </tr>\n",
       "    <tr>\n",
       "      <th>1</th>\n",
       "      <td>24</td>\n",
       "      <td>19</td>\n",
       "    </tr>\n",
       "  </tbody>\n",
       "</table>\n",
       "</div>"
      ],
      "text/plain": [
       "     0   1\n",
       "0  243   8\n",
       "1   24  19"
      ]
     },
     "execution_count": 57,
     "metadata": {},
     "output_type": "execute_result"
    }
   ],
   "source": [
    "# confusion matrix\n",
    "gbcm = confusion_matrix(y_test, pred)\n",
    "pd.DataFrame(metrics.confusion_matrix(y_test, pred))"
   ]
  },
  {
   "cell_type": "code",
   "execution_count": 58,
   "metadata": {},
   "outputs": [
    {
     "name": "stdout",
     "output_type": "stream",
     "text": [
      "              precision    recall  f1-score   support\n",
      "\n",
      "           0       0.91      0.97      0.94       251\n",
      "           1       0.70      0.44      0.54        43\n",
      "\n",
      "    accuracy                           0.89       294\n",
      "   macro avg       0.81      0.70      0.74       294\n",
      "weighted avg       0.88      0.89      0.88       294\n",
      "\n"
     ]
    }
   ],
   "source": [
    "print(metrics.classification_report(y_test, pred))"
   ]
  },
  {
   "cell_type": "code",
   "execution_count": 59,
   "metadata": {},
   "outputs": [
    {
     "data": {
      "image/png": "[encoded data removed]",
      "text/plain": [
       "<Figure size 288x288 with 2 Axes>"
      ]
     },
     "metadata": {
      "needs_background": "light"
     },
     "output_type": "display_data"
    }
   ],
   "source": [
    "import pylab as plt\n",
    "%matplotlib inline\n",
    "plt.matshow(gbcm)\n",
    "plt.title('Confusion matrix')\n",
    "plt.colorbar()\n",
    "plt.ylabel('Actual')\n",
    "plt.xlabel('Predicted')\n",
    "plt.show()"
   ]
  },
  {
   "cell_type": "code",
   "execution_count": 60,
   "metadata": {},
   "outputs": [
    {
     "name": "stdout",
     "output_type": "stream",
     "text": [
      " Recall: 0.44 \n",
      " Precision: 0.7 \n",
      " Specificity: 0.97 \n",
      " F1-score: 0.54 \n",
      " Balanced Accuracy: 0.7\n"
     ]
    }
   ],
   "source": [
    "tn, fp, fn, tp = metrics.confusion_matrix(y_true = y_test, y_pred = pred).ravel()\n",
    "recall = tp/(tp+fn)\n",
    "precision = tp/(tp+fp)\n",
    "f1 = 2 * (recall * precision)/(recall + precision)\n",
    "specificity = tn/(tn+fp)\n",
    "balanced_accuracy = (specificity + recall)/2\n",
    "print(\" Recall:\",recall.round(2),\"\\n\",\"Precision:\",precision.round(2),\"\\n\",\"Specificity:\",specificity.round(2),\"\\n\",\"F1-score:\",f1.round(2),\"\\n\",\"Balanced Accuracy:\", balanced_accuracy.round(2))"
   ]
  },
  {
   "cell_type": "markdown",
   "metadata": {},
   "source": [
    "### KPCA"
   ]
  },
  {
   "cell_type": "code",
   "execution_count": 34,
   "metadata": {},
   "outputs": [],
   "source": [
    "from sklearn.decomposition import PCA\n",
    "from sklearn.decomposition import KernelPCA"
   ]
  },
  {
   "cell_type": "code",
   "execution_count": 97,
   "metadata": {},
   "outputs": [],
   "source": [
    "kpca = KernelPCA(n_components=50, kernel='rbf', n_jobs=-1, remove_zero_eig=True)\n",
    "kpca.fit(X_train)\n",
    "X_train_kpca = kpca.transform(X_train)\n",
    "X_test_kpca = kpca.transform(X_test)"
   ]
  },
  {
   "cell_type": "code",
   "execution_count": 98,
   "metadata": {},
   "outputs": [
    {
     "data": {
      "text/plain": [
       "GradientBoostingClassifier()"
      ]
     },
     "execution_count": 98,
     "metadata": {},
     "output_type": "execute_result"
    }
   ],
   "source": [
    "gb = GradientBoostingClassifier()\n",
    "gb.fit(X_train_kpca, y_train)"
   ]
  },
  {
   "cell_type": "code",
   "execution_count": 99,
   "metadata": {},
   "outputs": [
    {
     "data": {
      "text/plain": [
       "0.9710884353741497"
      ]
     },
     "execution_count": 99,
     "metadata": {},
     "output_type": "execute_result"
    }
   ],
   "source": [
    "#training accuracy\n",
    "pred = gb.predict(X_train_kpca)\n",
    "metrics.accuracy_score(y_train, pred)"
   ]
  },
  {
   "cell_type": "code",
   "execution_count": 100,
   "metadata": {},
   "outputs": [
    {
     "data": {
      "text/plain": [
       "0.8707482993197279"
      ]
     },
     "execution_count": 100,
     "metadata": {},
     "output_type": "execute_result"
    }
   ],
   "source": [
    "#testing accuracy\n",
    "pred = gb.predict(X_test_kpca)\n",
    "metrics.accuracy_score(y_test, pred)"
   ]
  },
  {
   "cell_type": "code",
   "execution_count": 101,
   "metadata": {},
   "outputs": [
    {
     "data": {
      "text/plain": [
       "{'n_estimators': [75, 100, 150, 200, 250],\n",
       " 'max_depth': [1, 3, 5, 7, 9],\n",
       " 'learning_rate': [0.1, 0.2, 0.5]}"
      ]
     },
     "execution_count": 101,
     "metadata": {},
     "output_type": "execute_result"
    }
   ],
   "source": [
    "# grid search\n",
    "params = dict(\n",
    "    n_estimators = [75, 100, 150, 200, 250],\n",
    "    max_depth = [1, 3, 5, 7, 9],\n",
    "    learning_rate = [0.1, 0.2, 0.5]\n",
    ")\n",
    "params"
   ]
  },
  {
   "cell_type": "code",
   "execution_count": 102,
   "metadata": {},
   "outputs": [
    {
     "data": {
      "text/plain": [
       "GridSearchCV(cv=5, estimator=GradientBoostingClassifier(),\n",
       "             param_grid={'learning_rate': [0.1, 0.2, 0.5],\n",
       "                         'max_depth': [1, 3, 5, 7, 9],\n",
       "                         'n_estimators': [75, 100, 150, 200, 250]},\n",
       "             scoring='recall')"
      ]
     },
     "execution_count": 102,
     "metadata": {},
     "output_type": "execute_result"
    }
   ],
   "source": [
    "gb = GradientBoostingClassifier()\n",
    "gs = GridSearchCV(estimator=gb, param_grid=params, scoring='recall', cv=5)\n",
    "gs"
   ]
  },
  {
   "cell_type": "code",
   "execution_count": 103,
   "metadata": {},
   "outputs": [
    {
     "data": {
      "text/plain": [
       "GridSearchCV(cv=5, estimator=GradientBoostingClassifier(),\n",
       "             param_grid={'learning_rate': [0.1, 0.2, 0.5],\n",
       "                         'max_depth': [1, 3, 5, 7, 9],\n",
       "                         'n_estimators': [75, 100, 150, 200, 250]},\n",
       "             scoring='recall')"
      ]
     },
     "execution_count": 103,
     "metadata": {},
     "output_type": "execute_result"
    }
   ],
   "source": [
    "gs.fit(X_train_kpca, y_train)"
   ]
  },
  {
   "cell_type": "code",
   "execution_count": 104,
   "metadata": {},
   "outputs": [
    {
     "data": {
      "text/plain": [
       "GradientBoostingClassifier(learning_rate=0.5)"
      ]
     },
     "execution_count": 104,
     "metadata": {},
     "output_type": "execute_result"
    }
   ],
   "source": [
    "gs.best_estimator_"
   ]
  },
  {
   "cell_type": "code",
   "execution_count": 105,
   "metadata": {},
   "outputs": [
    {
     "data": {
      "text/plain": [
       "{'learning_rate': 0.5, 'max_depth': 3, 'n_estimators': 100}"
      ]
     },
     "execution_count": 105,
     "metadata": {},
     "output_type": "execute_result"
    }
   ],
   "source": [
    "gs.best_params_"
   ]
  },
  {
   "cell_type": "code",
   "execution_count": 118,
   "metadata": {},
   "outputs": [
    {
     "data": {
      "text/plain": [
       "GradientBoostingClassifier(learning_rate=0.5, max_depth=1)"
      ]
     },
     "execution_count": 118,
     "metadata": {},
     "output_type": "execute_result"
    }
   ],
   "source": [
    "gb = GradientBoostingClassifier(learning_rate=0.5, n_estimators=100, max_depth=1)\n",
    "gb.fit(X_train_kpca, y_train)"
   ]
  },
  {
   "cell_type": "code",
   "execution_count": 119,
   "metadata": {},
   "outputs": [
    {
     "data": {
      "text/plain": [
       "0.9285714285714286"
      ]
     },
     "execution_count": 119,
     "metadata": {},
     "output_type": "execute_result"
    }
   ],
   "source": [
    "#training accuracy\n",
    "pred = gb.predict(X_train_kpca)\n",
    "metrics.accuracy_score(y_train, pred)"
   ]
  },
  {
   "cell_type": "code",
   "execution_count": 120,
   "metadata": {},
   "outputs": [
    {
     "data": {
      "text/plain": [
       "0.8707482993197279"
      ]
     },
     "execution_count": 120,
     "metadata": {},
     "output_type": "execute_result"
    }
   ],
   "source": [
    "#testing accuracy\n",
    "pred = gb.predict(X_test_kpca)\n",
    "metrics.accuracy_score(y_test, pred)"
   ]
  },
  {
   "cell_type": "code",
   "execution_count": 121,
   "metadata": {},
   "outputs": [
    {
     "data": {
      "text/html": [
       "<div>\n",
       "<style scoped>\n",
       "    .dataframe tbody tr th:only-of-type {\n",
       "        vertical-align: middle;\n",
       "    }\n",
       "\n",
       "    .dataframe tbody tr th {\n",
       "        vertical-align: top;\n",
       "    }\n",
       "\n",
       "    .dataframe thead th {\n",
       "        text-align: right;\n",
       "    }\n",
       "</style>\n",
       "<table border=\"1\" class=\"dataframe\">\n",
       "  <thead>\n",
       "    <tr style=\"text-align: right;\">\n",
       "      <th></th>\n",
       "      <th>0</th>\n",
       "      <th>1</th>\n",
       "    </tr>\n",
       "  </thead>\n",
       "  <tbody>\n",
       "    <tr>\n",
       "      <th>0</th>\n",
       "      <td>243</td>\n",
       "      <td>10</td>\n",
       "    </tr>\n",
       "    <tr>\n",
       "      <th>1</th>\n",
       "      <td>28</td>\n",
       "      <td>13</td>\n",
       "    </tr>\n",
       "  </tbody>\n",
       "</table>\n",
       "</div>"
      ],
      "text/plain": [
       "     0   1\n",
       "0  243  10\n",
       "1   28  13"
      ]
     },
     "execution_count": 121,
     "metadata": {},
     "output_type": "execute_result"
    }
   ],
   "source": [
    "# confusion matrix\n",
    "gbcm = confusion_matrix(y_test, pred)\n",
    "pd.DataFrame(metrics.confusion_matrix(y_test, pred))"
   ]
  },
  {
   "cell_type": "code",
   "execution_count": 122,
   "metadata": {},
   "outputs": [
    {
     "name": "stdout",
     "output_type": "stream",
     "text": [
      "              precision    recall  f1-score   support\n",
      "\n",
      "           0       0.90      0.96      0.93       253\n",
      "           1       0.57      0.32      0.41        41\n",
      "\n",
      "    accuracy                           0.87       294\n",
      "   macro avg       0.73      0.64      0.67       294\n",
      "weighted avg       0.85      0.87      0.85       294\n",
      "\n"
     ]
    }
   ],
   "source": [
    "print(metrics.classification_report(y_test, pred))"
   ]
  },
  {
   "cell_type": "code",
   "execution_count": 123,
   "metadata": {},
   "outputs": [
    {
     "data": {
      "image/png": "[encoded data removed]",
      "text/plain": [
       "<Figure size 288x288 with 2 Axes>"
      ]
     },
     "metadata": {
      "needs_background": "light"
     },
     "output_type": "display_data"
    }
   ],
   "source": [
    "import pylab as plt\n",
    "%matplotlib inline\n",
    "plt.matshow(gbcm)\n",
    "plt.title('Confusion matrix')\n",
    "plt.colorbar()\n",
    "plt.ylabel('Actual')\n",
    "plt.xlabel('Predicted')\n",
    "plt.show()"
   ]
  },
  {
   "cell_type": "code",
   "execution_count": 124,
   "metadata": {},
   "outputs": [
    {
     "name": "stdout",
     "output_type": "stream",
     "text": [
      " Recall: 0.32 \n",
      " Precision: 0.57 \n",
      " Specificity: 0.96 \n",
      " F1-score: 0.41 \n",
      " Balanced Accuracy: 0.64\n"
     ]
    }
   ],
   "source": [
    "tn, fp, fn, tp = metrics.confusion_matrix(y_true = y_test, y_pred = pred).ravel()\n",
    "recall = tp/(tp+fn)\n",
    "precision = tp/(tp+fp)\n",
    "f1 = 2 * (recall * precision)/(recall + precision)\n",
    "specificity = tn/(tn+fp)\n",
    "balanced_accuracy = (specificity + recall)/2\n",
    "print(\" Recall:\",recall.round(2),\"\\n\",\"Precision:\",precision.round(2),\"\\n\",\"Specificity:\",specificity.round(2),\"\\n\",\"F1-score:\",f1.round(2),\"\\n\",\"Balanced Accuracy:\", balanced_accuracy.round(2))"
   ]
  },
  {
   "cell_type": "code",
   "execution_count": null,
   "metadata": {},
   "outputs": [],
   "source": []
  }
 ],
 "metadata": {
  "kernelspec": {
   "display_name": "Python 3",
   "language": "python",
   "name": "python3"
  },
  "language_info": {
   "codemirror_mode": {
    "name": "ipython",
    "version": 3
   },
   "file_extension": ".py",
   "mimetype": "text/x-python",
   "name": "python",
   "nbconvert_exporter": "python",
   "pygments_lexer": "ipython3",
   "version": "3.8.3"
  }
 },
 "nbformat": 4,
 "nbformat_minor": 4
}
