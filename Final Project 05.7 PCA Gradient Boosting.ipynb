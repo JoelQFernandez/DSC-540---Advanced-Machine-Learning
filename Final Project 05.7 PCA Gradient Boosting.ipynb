{
 "cells": [
  {
   "cell_type": "markdown",
   "id": "careful-harris",
   "metadata": {},
   "source": [
    "## PCA Gradient Boosting"
   ]
  },
  {
   "cell_type": "code",
   "execution_count": 1,
   "id": "lasting-superintendent",
   "metadata": {},
   "outputs": [],
   "source": [
    "import pandas as pd\n",
    "import numpy as np\n",
    "import seaborn as sns\n",
    "import matplotlib.pyplot as plt\n",
    "import os\n",
    "from sklearn.model_selection import train_test_split\n",
    "from sklearn import metrics\n",
    "from sklearn.ensemble import GradientBoostingClassifier\n",
    "from sklearn import preprocessing\n",
    "from sklearn.model_selection import GridSearchCV\n",
    "from sklearn.metrics import confusion_matrix\n",
    "from sklearn.metrics import classification_report\n",
    "from sklearn.model_selection import cross_val_score\n",
    "from sklearn.model_selection import StratifiedKFold\n",
    "from sklearn.metrics import accuracy_score"
   ]
  },
  {
   "cell_type": "code",
   "execution_count": 2,
   "id": "broken-trustee",
   "metadata": {},
   "outputs": [],
   "source": [
    "hr_employee = pd.read_csv( './Data/PCA_HR_Employee.csv', delimiter = \",\")\n",
    "Attrition = pd.read_csv( './Data/Attrition.csv', delimiter = \",\")"
   ]
  },
  {
   "cell_type": "code",
   "execution_count": 3,
   "id": "instrumental-pleasure",
   "metadata": {},
   "outputs": [],
   "source": [
    "X = hr_employee\n",
    "# Y = Attrition.values.ravel()\n",
    "Y = Attrition"
   ]
  },
  {
   "cell_type": "code",
   "execution_count": 4,
   "id": "eastern-authorization",
   "metadata": {},
   "outputs": [
    {
     "data": {
      "text/plain": [
       "0       1\n",
       "1       0\n",
       "2       1\n",
       "3       0\n",
       "4       0\n",
       "       ..\n",
       "1465    0\n",
       "1466    0\n",
       "1467    0\n",
       "1468    0\n",
       "1469    0\n",
       "Name: Attrition, Length: 1470, dtype: int64"
      ]
     },
     "execution_count": 4,
     "metadata": {},
     "output_type": "execute_result"
    }
   ],
   "source": [
    "y = Y.Attrition\n",
    "y"
   ]
  },
  {
   "cell_type": "code",
   "execution_count": 5,
   "id": "natural-january",
   "metadata": {},
   "outputs": [
    {
     "name": "stdout",
     "output_type": "stream",
     "text": [
      "(1176, 29) (1176,)\n",
      "(294, 29) (294,)\n"
     ]
    }
   ],
   "source": [
    "X_train, X_test, y_train, y_test = train_test_split(X, y, test_size=0.2)\n",
    "print(X_train.shape, y_train.shape)\n",
    "print(X_test.shape, y_test.shape)"
   ]
  },
  {
   "cell_type": "code",
   "execution_count": 6,
   "id": "planned-architect",
   "metadata": {},
   "outputs": [
    {
     "data": {
      "text/plain": [
       "0.8707500901550667"
      ]
     },
     "execution_count": 6,
     "metadata": {},
     "output_type": "execute_result"
    }
   ],
   "source": [
    "gb = GradientBoostingClassifier()\n",
    "scores = cross_val_score(gb, X_train, y_train, cv=5)\n",
    "scores.mean()"
   ]
  },
  {
   "cell_type": "code",
   "execution_count": 7,
   "id": "spatial-worker",
   "metadata": {},
   "outputs": [
    {
     "data": {
      "text/plain": [
       "GradientBoostingClassifier()"
      ]
     },
     "execution_count": 7,
     "metadata": {},
     "output_type": "execute_result"
    }
   ],
   "source": [
    "gb.fit(X_train, y_train)"
   ]
  },
  {
   "cell_type": "code",
   "execution_count": 8,
   "id": "cathedral-contract",
   "metadata": {},
   "outputs": [
    {
     "name": "stdout",
     "output_type": "stream",
     "text": [
      "0.8903061224489796\n"
     ]
    }
   ],
   "source": [
    "# training accuracy\n",
    "pred = gb.predict(X_train)\n",
    "print(accuracy_score(y_train, pred))"
   ]
  },
  {
   "cell_type": "code",
   "execution_count": 9,
   "id": "wanted-shore",
   "metadata": {},
   "outputs": [
    {
     "name": "stdout",
     "output_type": "stream",
     "text": [
      "0.8129251700680272\n"
     ]
    }
   ],
   "source": [
    "# testing accuracy\n",
    "pred = gb.predict(X_test)\n",
    "print(accuracy_score(y_test, pred))"
   ]
  },
  {
   "cell_type": "code",
   "execution_count": 10,
   "id": "loving-emission",
   "metadata": {},
   "outputs": [
    {
     "data": {
      "text/html": [
       "<div>\n",
       "<style scoped>\n",
       "    .dataframe tbody tr th:only-of-type {\n",
       "        vertical-align: middle;\n",
       "    }\n",
       "\n",
       "    .dataframe tbody tr th {\n",
       "        vertical-align: top;\n",
       "    }\n",
       "\n",
       "    .dataframe thead th {\n",
       "        text-align: right;\n",
       "    }\n",
       "</style>\n",
       "<table border=\"1\" class=\"dataframe\">\n",
       "  <thead>\n",
       "    <tr style=\"text-align: right;\">\n",
       "      <th></th>\n",
       "      <th>0</th>\n",
       "      <th>1</th>\n",
       "    </tr>\n",
       "  </thead>\n",
       "  <tbody>\n",
       "    <tr>\n",
       "      <th>0</th>\n",
       "      <td>228</td>\n",
       "      <td>10</td>\n",
       "    </tr>\n",
       "    <tr>\n",
       "      <th>1</th>\n",
       "      <td>45</td>\n",
       "      <td>11</td>\n",
       "    </tr>\n",
       "  </tbody>\n",
       "</table>\n",
       "</div>"
      ],
      "text/plain": [
       "     0   1\n",
       "0  228  10\n",
       "1   45  11"
      ]
     },
     "execution_count": 10,
     "metadata": {},
     "output_type": "execute_result"
    }
   ],
   "source": [
    "# confusion matrix\n",
    "pred = gb.predict(X_test)\n",
    "gbcm = confusion_matrix(y_test, pred)\n",
    "pd.DataFrame(metrics.confusion_matrix(y_test, pred))"
   ]
  },
  {
   "cell_type": "code",
   "execution_count": 11,
   "id": "protective-acrobat",
   "metadata": {},
   "outputs": [
    {
     "name": "stdout",
     "output_type": "stream",
     "text": [
      "              precision    recall  f1-score   support\n",
      "\n",
      "           0       0.84      0.96      0.89       238\n",
      "           1       0.52      0.20      0.29        56\n",
      "\n",
      "    accuracy                           0.81       294\n",
      "   macro avg       0.68      0.58      0.59       294\n",
      "weighted avg       0.78      0.81      0.78       294\n",
      "\n"
     ]
    }
   ],
   "source": [
    "# metrics\n",
    "print(classification_report(y_test,pred))"
   ]
  },
  {
   "cell_type": "code",
   "execution_count": 12,
   "id": "applied-hormone",
   "metadata": {
    "scrolled": true
   },
   "outputs": [
    {
     "data": {
      "image/png": "[encoded data removed]",
      "text/plain": [
       "<Figure size 288x288 with 2 Axes>"
      ]
     },
     "metadata": {
      "needs_background": "light"
     },
     "output_type": "display_data"
    }
   ],
   "source": [
    "import pylab as plt\n",
    "%matplotlib inline\n",
    "plt.matshow(gbcm)\n",
    "plt.title('Confusion matrix')\n",
    "plt.colorbar()\n",
    "plt.ylabel('Actual')\n",
    "plt.xlabel('Predicted')\n",
    "plt.show()"
   ]
  },
  {
   "cell_type": "code",
   "execution_count": 13,
   "id": "useful-tiffany",
   "metadata": {},
   "outputs": [],
   "source": [
    "learning_rate = [0.01, 0.05, 0.1, 0.2, 0.5, 0.8, 1]\n",
    "scores_params = []\n",
    "for m in learning_rate:\n",
    "    gb = GradientBoostingClassifier(learning_rate=m)\n",
    "    scores = cross_val_score(gb, X=X_train, y=y_train, scoring='accuracy', cv=5)\n",
    "#     print(scores)\n",
    "    scores_params.append(scores.mean())"
   ]
  },
  {
   "cell_type": "code",
   "execution_count": 14,
   "id": "little-backing",
   "metadata": {},
   "outputs": [
    {
     "data": {
      "image/png": "[encoded data removed]",
      "text/plain": [
       "<Figure size 432x288 with 1 Axes>"
      ]
     },
     "metadata": {
      "needs_background": "light"
     },
     "output_type": "display_data"
    }
   ],
   "source": [
    "plt.plot(scores_params, label = 'train')\n",
    "# plt.plot(scores_val, label = 'val')\n",
    "plt.xticks(np.arange(len(learning_rate)), learning_rate, rotation=45)\n",
    "plt.xlabel('learning_rate')\n",
    "plt.ylabel('Score')\n",
    "plt.title('Validation Curve')\n",
    "plt.legend()\n",
    "plt.show()"
   ]
  },
  {
   "cell_type": "code",
   "execution_count": 15,
   "id": "ceramic-happiness",
   "metadata": {},
   "outputs": [],
   "source": [
    "n_estimators = [50, 75, 100, 150, 200, 250, 300]"
   ]
  },
  {
   "cell_type": "code",
   "execution_count": 16,
   "id": "attended-namibia",
   "metadata": {},
   "outputs": [],
   "source": [
    "scores_params = []\n",
    "for m in n_estimators:\n",
    "    gb = GradientBoostingClassifier(n_estimators=m)\n",
    "    scores = cross_val_score(gb, X=X_train, y=y_train, scoring='accuracy', cv=5)\n",
    "#     print(scores)\n",
    "    scores_params.append(scores.mean())"
   ]
  },
  {
   "cell_type": "code",
   "execution_count": 17,
   "id": "radical-square",
   "metadata": {},
   "outputs": [
    {
     "data": {
      "image/png": "[encoded data removed]",
      "text/plain": [
       "<Figure size 432x288 with 1 Axes>"
      ]
     },
     "metadata": {
      "needs_background": "light"
     },
     "output_type": "display_data"
    }
   ],
   "source": [
    "plt.plot(scores_params, label = 'train')\n",
    "# plt.plot(scores_val, label = 'val')\n",
    "plt.xticks(np.arange(len(n_estimators)), n_estimators, rotation=45)\n",
    "plt.xlabel('n_estimators')\n",
    "plt.ylabel('Score')\n",
    "plt.title('Validation Curve')\n",
    "plt.legend()\n",
    "plt.show()"
   ]
  },
  {
   "cell_type": "code",
   "execution_count": 18,
   "id": "persistent-implement",
   "metadata": {},
   "outputs": [
    {
     "data": {
      "text/plain": [
       "GradientBoostingClassifier(learning_rate=0.01)"
      ]
     },
     "execution_count": 18,
     "metadata": {},
     "output_type": "execute_result"
    }
   ],
   "source": [
    "gb = GradientBoostingClassifier(learning_rate=0.01)\n",
    "gb.fit(X_train, y_train)"
   ]
  },
  {
   "cell_type": "code",
   "execution_count": 19,
   "id": "unavailable-canon",
   "metadata": {},
   "outputs": [
    {
     "name": "stdout",
     "output_type": "stream",
     "text": [
      "0.8477891156462585\n"
     ]
    }
   ],
   "source": [
    "# training accuracy\n",
    "pred = gb.predict(X_train)\n",
    "print(accuracy_score(y_train, pred))"
   ]
  },
  {
   "cell_type": "code",
   "execution_count": 20,
   "id": "engaged-group",
   "metadata": {},
   "outputs": [
    {
     "name": "stdout",
     "output_type": "stream",
     "text": [
      "0.8095238095238095\n"
     ]
    }
   ],
   "source": [
    "# testing accuracy\n",
    "pred = gb.predict(X_test)\n",
    "print(accuracy_score(y_test, pred))"
   ]
  },
  {
   "cell_type": "markdown",
   "id": "fixed-washington",
   "metadata": {},
   "source": [
    "### Grid Search"
   ]
  },
  {
   "cell_type": "code",
   "execution_count": 21,
   "id": "cloudy-humanitarian",
   "metadata": {},
   "outputs": [
    {
     "data": {
      "text/plain": [
       "{'learning_rate': [0.01, 0.05, 0.1, 0.2, 0.5, 0.8, 1],\n",
       " 'n_estimators': [25, 50, 75, 100, 150, 200]}"
      ]
     },
     "execution_count": 21,
     "metadata": {},
     "output_type": "execute_result"
    }
   ],
   "source": [
    "params = dict(\n",
    "    learning_rate = [0.01, 0.05, 0.1, 0.2, 0.5, 0.8, 1],\n",
    "    n_estimators = [25, 50, 75, 100, 150, 200]\n",
    ")\n",
    "\n",
    "params"
   ]
  },
  {
   "cell_type": "code",
   "execution_count": 22,
   "id": "seventh-corpus",
   "metadata": {},
   "outputs": [
    {
     "data": {
      "text/plain": [
       "GridSearchCV(cv=5, estimator=GradientBoostingClassifier(), n_jobs=-1,\n",
       "             param_grid={'learning_rate': [0.01, 0.05, 0.1, 0.2, 0.5, 0.8, 1],\n",
       "                         'n_estimators': [25, 50, 75, 100, 150, 200]},\n",
       "             scoring='f1')"
      ]
     },
     "execution_count": 22,
     "metadata": {},
     "output_type": "execute_result"
    }
   ],
   "source": [
    "gb = GradientBoostingClassifier()\n",
    "gs = GridSearchCV(estimator=gb, param_grid=params, scoring='f1', cv=5, n_jobs=-1, )\n",
    "gs"
   ]
  },
  {
   "cell_type": "code",
   "execution_count": 23,
   "id": "selective-spain",
   "metadata": {},
   "outputs": [
    {
     "data": {
      "text/plain": [
       "GridSearchCV(cv=5, estimator=GradientBoostingClassifier(), n_jobs=-1,\n",
       "             param_grid={'learning_rate': [0.01, 0.05, 0.1, 0.2, 0.5, 0.8, 1],\n",
       "                         'n_estimators': [25, 50, 75, 100, 150, 200]},\n",
       "             scoring='f1')"
      ]
     },
     "execution_count": 23,
     "metadata": {},
     "output_type": "execute_result"
    }
   ],
   "source": [
    "gs.fit(X_train, y_train)"
   ]
  },
  {
   "cell_type": "code",
   "execution_count": 24,
   "id": "romantic-diana",
   "metadata": {},
   "outputs": [
    {
     "data": {
      "text/plain": [
       "GradientBoostingClassifier(n_estimators=200)"
      ]
     },
     "execution_count": 24,
     "metadata": {},
     "output_type": "execute_result"
    }
   ],
   "source": [
    "gs.best_estimator_"
   ]
  },
  {
   "cell_type": "code",
   "execution_count": 25,
   "id": "authorized-piano",
   "metadata": {},
   "outputs": [
    {
     "data": {
      "text/plain": [
       "{'learning_rate': 0.1, 'n_estimators': 200}"
      ]
     },
     "execution_count": 25,
     "metadata": {},
     "output_type": "execute_result"
    }
   ],
   "source": [
    "#learning_rate = 0.8 n_estimator = 150\n",
    "gs.best_params_"
   ]
  },
  {
   "cell_type": "code",
   "execution_count": 26,
   "id": "educational-section",
   "metadata": {},
   "outputs": [
    {
     "data": {
      "text/plain": [
       "0.7959183673469388"
      ]
     },
     "execution_count": 26,
     "metadata": {},
     "output_type": "execute_result"
    }
   ],
   "source": [
    "best_estimator = gs.best_estimator_\n",
    "pred = best_estimator.predict(X_test)\n",
    "metrics.accuracy_score(y_test, pred)"
   ]
  },
  {
   "cell_type": "code",
   "execution_count": 27,
   "id": "annual-initial",
   "metadata": {},
   "outputs": [
    {
     "data": {
      "text/html": [
       "<div>\n",
       "<style scoped>\n",
       "    .dataframe tbody tr th:only-of-type {\n",
       "        vertical-align: middle;\n",
       "    }\n",
       "\n",
       "    .dataframe tbody tr th {\n",
       "        vertical-align: top;\n",
       "    }\n",
       "\n",
       "    .dataframe thead th {\n",
       "        text-align: right;\n",
       "    }\n",
       "</style>\n",
       "<table border=\"1\" class=\"dataframe\">\n",
       "  <thead>\n",
       "    <tr style=\"text-align: right;\">\n",
       "      <th></th>\n",
       "      <th>0</th>\n",
       "      <th>1</th>\n",
       "    </tr>\n",
       "  </thead>\n",
       "  <tbody>\n",
       "    <tr>\n",
       "      <th>0</th>\n",
       "      <td>223</td>\n",
       "      <td>15</td>\n",
       "    </tr>\n",
       "    <tr>\n",
       "      <th>1</th>\n",
       "      <td>45</td>\n",
       "      <td>11</td>\n",
       "    </tr>\n",
       "  </tbody>\n",
       "</table>\n",
       "</div>"
      ],
      "text/plain": [
       "     0   1\n",
       "0  223  15\n",
       "1   45  11"
      ]
     },
     "execution_count": 27,
     "metadata": {},
     "output_type": "execute_result"
    }
   ],
   "source": [
    "# confusion matrix\n",
    "gbcm = confusion_matrix(y_test, pred)\n",
    "pd.DataFrame(metrics.confusion_matrix(y_test, pred))"
   ]
  },
  {
   "cell_type": "code",
   "execution_count": 28,
   "id": "experienced-ground",
   "metadata": {
    "scrolled": true
   },
   "outputs": [
    {
     "name": "stdout",
     "output_type": "stream",
     "text": [
      "              precision    recall  f1-score   support\n",
      "\n",
      "           0       0.83      0.94      0.88       238\n",
      "           1       0.42      0.20      0.27        56\n",
      "\n",
      "    accuracy                           0.80       294\n",
      "   macro avg       0.63      0.57      0.57       294\n",
      "weighted avg       0.75      0.80      0.76       294\n",
      "\n"
     ]
    }
   ],
   "source": [
    "print(metrics.classification_report(y_test, pred))"
   ]
  },
  {
   "cell_type": "code",
   "execution_count": 29,
   "id": "molecular-regard",
   "metadata": {},
   "outputs": [
    {
     "data": {
      "image/png": "[encoded data removed]",
      "text/plain": [
       "<Figure size 288x288 with 2 Axes>"
      ]
     },
     "metadata": {
      "needs_background": "light"
     },
     "output_type": "display_data"
    }
   ],
   "source": [
    "import pylab as plt\n",
    "%matplotlib inline\n",
    "plt.matshow(gbcm)\n",
    "plt.title('Confusion matrix')\n",
    "plt.colorbar()\n",
    "plt.ylabel('Actual')\n",
    "plt.xlabel('Predicted')\n",
    "plt.show()"
   ]
  },
  {
   "cell_type": "code",
   "execution_count": 30,
   "id": "parallel-shakespeare",
   "metadata": {},
   "outputs": [],
   "source": [
    "def plot_feature_importances(model, df):\n",
    "    n_features = df.shape[1]\n",
    "    df_colnames= df.columns\n",
    "    fig = plt.figure(figsize = (15,20))\n",
    "    plt.barh(np.arange(n_features), model.feature_importances_, align='center')\n",
    "    plt.yticks(np.arange(n_features), df_colnames)\n",
    "    plt.xlabel(\"Feature importance\")\n",
    "#     plt.ylabel(\"Feature\")\n",
    "    plt.ylim(-1, n_features)"
   ]
  },
  {
   "cell_type": "code",
   "execution_count": 31,
   "id": "absent-polls",
   "metadata": {},
   "outputs": [
    {
     "data": {
      "image/png": "[encoded data removed]",
      "text/plain": [
       "<Figure size 1080x1440 with 1 Axes>"
      ]
     },
     "metadata": {
      "needs_background": "light"
     },
     "output_type": "display_data"
    }
   ],
   "source": [
    "plot_feature_importances(best_estimator, df=X)"
   ]
  },
  {
   "cell_type": "code",
   "execution_count": 32,
   "id": "present-restoration",
   "metadata": {},
   "outputs": [
    {
     "data": {
      "text/plain": [
       "0.8707500901550667"
      ]
     },
     "execution_count": 32,
     "metadata": {},
     "output_type": "execute_result"
    }
   ],
   "source": [
    "gboost = GradientBoostingClassifier(learning_rate=0.1)\n",
    "scores = cross_val_score(gboost, X_train, y_train, cv=5)\n",
    "scores.mean()"
   ]
  },
  {
   "cell_type": "code",
   "execution_count": 33,
   "id": "cardiovascular-melissa",
   "metadata": {},
   "outputs": [],
   "source": [
    "def print_results(results):\n",
    "    print('BEST PARAMS: {}\\n'.format(results.best_params_))\n",
    "\n",
    "    means = results.cv_results_['mean_test_score']\n",
    "    stds = results.cv_results_['std_test_score']\n",
    "    for mean, std, params in zip(means, stds, results.cv_results_['params']):\n",
    "        print('{} (+/-{}) for {}'.format(round(mean, 3), round(std * 2, 3), params))"
   ]
  },
  {
   "cell_type": "code",
   "execution_count": null,
   "id": "rental-premises",
   "metadata": {},
   "outputs": [],
   "source": [
    "gb = GradientBoostingClassifier()\n",
    "parameters = {\n",
    "    'n_estimators': [5, 50, 100, 200, 250, 300],\n",
    "    'max_depth': [1, 3, 5, 7, 9],\n",
    "    'learning_rate': [0.01, 0.05, 0.1, 0.2, 0.5, 0.8, 1]\n",
    "}\n",
    "\n",
    "cv = GridSearchCV(gb, parameters, cv=5, scoring='recall')\n",
    "cv.fit(X_train, y_train)\n",
    "\n",
    "print_results(cv)"
   ]
  },
  {
   "cell_type": "code",
   "execution_count": 34,
   "id": "rolled-intellectual",
   "metadata": {},
   "outputs": [
    {
     "name": "stdout",
     "output_type": "stream",
     "text": [
      "BEST PARAMS: {'learning_rate': 0.5, 'max_depth': 3, 'n_estimators': 200}\n",
      "\n",
      "0.051 (+/-0.058) for {'learning_rate': 0.1, 'max_depth': 1, 'n_estimators': 100}\n",
      "0.11 (+/-0.083) for {'learning_rate': 0.1, 'max_depth': 1, 'n_estimators': 200}\n",
      "0.224 (+/-0.122) for {'learning_rate': 0.1, 'max_depth': 3, 'n_estimators': 100}\n",
      "0.257 (+/-0.083) for {'learning_rate': 0.1, 'max_depth': 3, 'n_estimators': 200}\n",
      "0.219 (+/-0.09) for {'learning_rate': 0.1, 'max_depth': 5, 'n_estimators': 100}\n",
      "0.236 (+/-0.121) for {'learning_rate': 0.1, 'max_depth': 5, 'n_estimators': 200}\n",
      "0.215 (+/-0.074) for {'learning_rate': 0.1, 'max_depth': 7, 'n_estimators': 100}\n",
      "0.194 (+/-0.074) for {'learning_rate': 0.1, 'max_depth': 7, 'n_estimators': 200}\n",
      "0.186 (+/-0.111) for {'learning_rate': 0.1, 'max_depth': 9, 'n_estimators': 100}\n",
      "0.173 (+/-0.057) for {'learning_rate': 0.1, 'max_depth': 9, 'n_estimators': 200}\n",
      "0.114 (+/-0.084) for {'learning_rate': 0.2, 'max_depth': 1, 'n_estimators': 100}\n",
      "0.177 (+/-0.064) for {'learning_rate': 0.2, 'max_depth': 1, 'n_estimators': 200}\n",
      "0.261 (+/-0.084) for {'learning_rate': 0.2, 'max_depth': 3, 'n_estimators': 100}\n",
      "0.278 (+/-0.079) for {'learning_rate': 0.2, 'max_depth': 3, 'n_estimators': 200}\n",
      "0.283 (+/-0.124) for {'learning_rate': 0.2, 'max_depth': 5, 'n_estimators': 100}\n",
      "0.266 (+/-0.096) for {'learning_rate': 0.2, 'max_depth': 5, 'n_estimators': 200}\n",
      "0.202 (+/-0.116) for {'learning_rate': 0.2, 'max_depth': 7, 'n_estimators': 100}\n",
      "0.177 (+/-0.152) for {'learning_rate': 0.2, 'max_depth': 7, 'n_estimators': 200}\n",
      "0.16 (+/-0.087) for {'learning_rate': 0.2, 'max_depth': 9, 'n_estimators': 100}\n",
      "0.152 (+/-0.122) for {'learning_rate': 0.2, 'max_depth': 9, 'n_estimators': 200}\n",
      "0.223 (+/-0.119) for {'learning_rate': 0.5, 'max_depth': 1, 'n_estimators': 100}\n",
      "0.261 (+/-0.145) for {'learning_rate': 0.5, 'max_depth': 1, 'n_estimators': 200}\n",
      "0.282 (+/-0.134) for {'learning_rate': 0.5, 'max_depth': 3, 'n_estimators': 100}\n",
      "0.308 (+/-0.117) for {'learning_rate': 0.5, 'max_depth': 3, 'n_estimators': 200}\n",
      "0.27 (+/-0.068) for {'learning_rate': 0.5, 'max_depth': 5, 'n_estimators': 100}\n",
      "0.265 (+/-0.187) for {'learning_rate': 0.5, 'max_depth': 5, 'n_estimators': 200}\n",
      "0.194 (+/-0.158) for {'learning_rate': 0.5, 'max_depth': 7, 'n_estimators': 100}\n",
      "0.173 (+/-0.118) for {'learning_rate': 0.5, 'max_depth': 7, 'n_estimators': 200}\n",
      "0.165 (+/-0.115) for {'learning_rate': 0.5, 'max_depth': 9, 'n_estimators': 100}\n",
      "0.076 (+/-0.079) for {'learning_rate': 0.5, 'max_depth': 9, 'n_estimators': 200}\n"
     ]
    }
   ],
   "source": [
    "gb = GradientBoostingClassifier()\n",
    "parameters = {\n",
    "    'n_estimators': [100, 200],\n",
    "    'max_depth': [1, 3, 5, 7, 9],\n",
    "    'learning_rate': [0.1, 0.2, 0.5]\n",
    "}\n",
    "\n",
    "cv = GridSearchCV(gb, parameters, cv=5, scoring='recall')\n",
    "cv.fit(X, Y.values.ravel())\n",
    "\n",
    "print_results(cv)"
   ]
  },
  {
   "cell_type": "code",
   "execution_count": 35,
   "id": "rational-belief",
   "metadata": {},
   "outputs": [
    {
     "data": {
      "image/png": "[encoded data removed]",
      "text/plain": [
       "<Figure size 1080x1440 with 1 Axes>"
      ]
     },
     "metadata": {
      "needs_background": "light"
     },
     "output_type": "display_data"
    }
   ],
   "source": [
    "plot_feature_importances(cv.best_estimator_, df=X)"
   ]
  },
  {
   "cell_type": "code",
   "execution_count": 37,
   "id": "innovative-wichita",
   "metadata": {},
   "outputs": [
    {
     "data": {
      "text/plain": [
       "0.8290948431301839"
      ]
     },
     "execution_count": 37,
     "metadata": {},
     "output_type": "execute_result"
    }
   ],
   "source": [
    "#0.735 (+/-0.207) for {'learning_rate': 100, 'max_depth': 5, 'n_estimators': 5}\n",
    "#{'learning_rate': 1, 'max_depth': 3, 'n_estimators': 500}\n",
    "gboost = GradientBoostingClassifier(learning_rate=0.5, max_depth = 3, n_estimators= 500)\n",
    "scores = cross_val_score(gboost, X_train, y_train, cv=5)\n",
    "scores.mean()"
   ]
  },
  {
   "cell_type": "code",
   "execution_count": 38,
   "id": "potential-delicious",
   "metadata": {},
   "outputs": [
    {
     "data": {
      "text/plain": [
       "0.8707500901550667"
      ]
     },
     "execution_count": 38,
     "metadata": {},
     "output_type": "execute_result"
    }
   ],
   "source": [
    "gboost = GradientBoostingClassifier(learning_rate=0.1)\n",
    "scores = cross_val_score(gboost, X_train, y_train, cv=5)\n",
    "scores.mean()"
   ]
  },
  {
   "cell_type": "code",
   "execution_count": 39,
   "id": "loaded-frequency",
   "metadata": {},
   "outputs": [
    {
     "data": {
      "text/plain": [
       "0.8631013342949874"
      ]
     },
     "execution_count": 39,
     "metadata": {},
     "output_type": "execute_result"
    }
   ],
   "source": [
    "#{'learning_rate': 1, 'max_depth': 1, 'n_estimators': 100}\n",
    "gboost = GradientBoostingClassifier(learning_rate=0.2, n_estimators= 200, max_depth=1)\n",
    "scores = cross_val_score(gboost, X_train, y_train, cv=5)\n",
    "scores.mean()"
   ]
  },
  {
   "cell_type": "code",
   "execution_count": 40,
   "id": "alien-advocate",
   "metadata": {},
   "outputs": [
    {
     "data": {
      "text/plain": [
       "GradientBoostingClassifier(learning_rate=0.2, max_depth=1, n_estimators=200)"
      ]
     },
     "execution_count": 40,
     "metadata": {},
     "output_type": "execute_result"
    }
   ],
   "source": [
    "gb = GradientBoostingClassifier(learning_rate=0.2, n_estimators=200, max_depth=1)\n",
    "gb.fit(X_train, y_train)"
   ]
  },
  {
   "cell_type": "code",
   "execution_count": 41,
   "id": "chemical-stopping",
   "metadata": {},
   "outputs": [
    {
     "name": "stdout",
     "output_type": "stream",
     "text": [
      "0.8673469387755102\n"
     ]
    }
   ],
   "source": [
    "# training accuracy\n",
    "pred = gb.predict(X_train)\n",
    "print(accuracy_score(y_train, pred))"
   ]
  },
  {
   "cell_type": "code",
   "execution_count": 42,
   "id": "severe-agriculture",
   "metadata": {},
   "outputs": [
    {
     "name": "stdout",
     "output_type": "stream",
     "text": [
      "0.8299319727891157\n"
     ]
    }
   ],
   "source": [
    "# testing accuracy\n",
    "pred = gb.predict(X_test)\n",
    "print(accuracy_score(y_test, pred))"
   ]
  },
  {
   "cell_type": "code",
   "execution_count": 43,
   "id": "humanitarian-legislation",
   "metadata": {},
   "outputs": [
    {
     "data": {
      "text/html": [
       "<div>\n",
       "<style scoped>\n",
       "    .dataframe tbody tr th:only-of-type {\n",
       "        vertical-align: middle;\n",
       "    }\n",
       "\n",
       "    .dataframe tbody tr th {\n",
       "        vertical-align: top;\n",
       "    }\n",
       "\n",
       "    .dataframe thead th {\n",
       "        text-align: right;\n",
       "    }\n",
       "</style>\n",
       "<table border=\"1\" class=\"dataframe\">\n",
       "  <thead>\n",
       "    <tr style=\"text-align: right;\">\n",
       "      <th></th>\n",
       "      <th>0</th>\n",
       "      <th>1</th>\n",
       "    </tr>\n",
       "  </thead>\n",
       "  <tbody>\n",
       "    <tr>\n",
       "      <th>0</th>\n",
       "      <td>234</td>\n",
       "      <td>4</td>\n",
       "    </tr>\n",
       "    <tr>\n",
       "      <th>1</th>\n",
       "      <td>46</td>\n",
       "      <td>10</td>\n",
       "    </tr>\n",
       "  </tbody>\n",
       "</table>\n",
       "</div>"
      ],
      "text/plain": [
       "     0   1\n",
       "0  234   4\n",
       "1   46  10"
      ]
     },
     "execution_count": 43,
     "metadata": {},
     "output_type": "execute_result"
    }
   ],
   "source": [
    "# confusion matrix\n",
    "pred = gb.predict(X_test)\n",
    "gbcm = confusion_matrix(y_test, pred)\n",
    "pd.DataFrame(metrics.confusion_matrix(y_test, pred))"
   ]
  },
  {
   "cell_type": "code",
   "execution_count": 44,
   "id": "abstract-exhaust",
   "metadata": {},
   "outputs": [
    {
     "name": "stdout",
     "output_type": "stream",
     "text": [
      "              precision    recall  f1-score   support\n",
      "\n",
      "           0       0.84      0.98      0.90       238\n",
      "           1       0.71      0.18      0.29        56\n",
      "\n",
      "    accuracy                           0.83       294\n",
      "   macro avg       0.78      0.58      0.59       294\n",
      "weighted avg       0.81      0.83      0.79       294\n",
      "\n"
     ]
    }
   ],
   "source": [
    "print(metrics.classification_report(y_test, pred))"
   ]
  },
  {
   "cell_type": "code",
   "execution_count": 45,
   "id": "remarkable-characteristic",
   "metadata": {},
   "outputs": [
    {
     "data": {
      "image/png": "[encoded data removed]",
      "text/plain": [
       "<Figure size 288x288 with 2 Axes>"
      ]
     },
     "metadata": {
      "needs_background": "light"
     },
     "output_type": "display_data"
    }
   ],
   "source": [
    "import pylab as plt\n",
    "%matplotlib inline\n",
    "plt.matshow(gbcm)\n",
    "plt.title('Confusion matrix')\n",
    "plt.colorbar()\n",
    "plt.ylabel('Actual')\n",
    "plt.xlabel('Predicted')\n",
    "plt.show()"
   ]
  },
  {
   "cell_type": "code",
   "execution_count": 46,
   "id": "corrected-explanation",
   "metadata": {},
   "outputs": [
    {
     "name": "stdout",
     "output_type": "stream",
     "text": [
      " Recall: 0.18 \n",
      " Precision: 0.71 \n",
      " Specificity: 0.98 \n",
      " F1-score: 0.29 \n",
      " Balanced Accuracy: 0.58\n"
     ]
    }
   ],
   "source": [
    "tn, fp, fn, tp = metrics.confusion_matrix(y_true = y_test, y_pred = pred).ravel()\n",
    "recall = tp/(tp+fn)\n",
    "precision = tp/(tp+fp)\n",
    "f1 = 2 * (recall * precision)/(recall + precision)\n",
    "specificity = tn/(tn+fp)\n",
    "balanced_accuracy = (specificity + recall)/2\n",
    "print(\" Recall:\",recall.round(2),\"\\n\",\"Precision:\",precision.round(2),\"\\n\",\"Specificity:\",specificity.round(2),\"\\n\",\"F1-score:\",f1.round(2),\"\\n\",\"Balanced Accuracy:\", balanced_accuracy.round(2))"
   ]
  }
 ],
 "metadata": {
  "kernelspec": {
   "display_name": "Python 3",
   "language": "python",
   "name": "python3"
  },
  "language_info": {
   "codemirror_mode": {
    "name": "ipython",
    "version": 3
   },
   "file_extension": ".py",
   "mimetype": "text/x-python",
   "name": "python",
   "nbconvert_exporter": "python",
   "pygments_lexer": "ipython3",
   "version": "3.8.5"
  }
 },
 "nbformat": 4,
 "nbformat_minor": 5
}
