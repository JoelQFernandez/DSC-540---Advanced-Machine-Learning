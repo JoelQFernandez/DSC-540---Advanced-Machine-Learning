{
 "cells": [
  {
   "cell_type": "markdown",
   "metadata": {},
   "source": [
    "# AdaBoost"
   ]
  },
  {
   "cell_type": "code",
   "execution_count": 1,
   "metadata": {},
   "outputs": [],
   "source": [
    "# Import Statements\n",
    "import pandas as pd\n",
    "import numpy as np\n",
    "import matplotlib.pyplot as plt\n",
    "import seaborn as sns\n",
    "from sklearn.ensemble import AdaBoostClassifier"
   ]
  },
  {
   "cell_type": "code",
   "execution_count": 2,
   "metadata": {},
   "outputs": [],
   "source": [
    "pd.set_option('display.max_columns', 100)"
   ]
  },
  {
   "cell_type": "markdown",
   "metadata": {},
   "source": [
    "### Functions "
   ]
  },
  {
   "cell_type": "code",
   "execution_count": 3,
   "metadata": {},
   "outputs": [],
   "source": [
    "from sklearn.metrics import accuracy_score\n",
    "# Function:    modelAccuracy\n",
    "# Input:       Classifier with Best Estimator, X train, X test\n",
    "# Output:      Prints Training & Testing Accuracy\n",
    "# Returns:     Testing Accuracy, Y Test Predictions\n",
    "def modelAccuracy(model, X_train, X_test):\n",
    "    clf = model\n",
    "\n",
    "    # Make Train predictions\n",
    "    y_train_pred = clf.predict(X_train)\n",
    "    # Calculate accuracy score\n",
    "    training_accuracy = accuracy_score(y_train, y_train_pred)\n",
    "    print('Training Accuracy: ',training_accuracy)\n",
    "    # confusionMatrixMetrics(y_train, y_pred)\n",
    "\n",
    "    # Make Test predictions\n",
    "    y_test_pred = clf.predict(X_test)\n",
    "    # Calculate accuracy scores\n",
    "    testing_accuracy = accuracy_score(y_test, y_test_pred)\n",
    "    print('Testing Accuracy:  ',testing_accuracy)\n",
    "\n",
    "    return testing_accuracy, y_test_pred"
   ]
  },
  {
   "cell_type": "code",
   "execution_count": 4,
   "metadata": {},
   "outputs": [],
   "source": [
    "from sklearn.metrics import confusion_matrix\n",
    "# Function:    confusionMatrix\n",
    "# Input:       Training/Testing dataframe and predictions\n",
    "# Output:      Prints Formatted Confusion Matrix\n",
    "# Returns:     Confusion Matrix Array\n",
    "# URL:         https://towardsdatascience.com/evaluating-machine-learning-classification-problems-in-python-5-1-metrics-that-matter-792c6faddf5\n",
    "def confusionMatrix(true, pred):\n",
    "    cm = confusion_matrix(true, pred.round(), normalize=None)\n",
    "\n",
    "    # Assigning columns names\n",
    "    cm_df = pd.DataFrame(cm,\n",
    "                        columns = ['Predicted Negative', 'Predicted Positive'],\n",
    "                        index = ['Actual Negative', 'Actual Positive'])\n",
    "\n",
    "    # Printing Formatted Confusion Matrix\n",
    "    print('\\n',cm_df)\n",
    "\n",
    "    return cm"
   ]
  },
  {
   "cell_type": "code",
   "execution_count": 5,
   "metadata": {},
   "outputs": [],
   "source": [
    "from sklearn.model_selection import GridSearchCV\n",
    "# Function:    gridSearcBestEstimator\n",
    "# Input:       Classifier, parameters, cross validation, X train, X test\n",
    "# Output:      Prints Best Estimator\n",
    "# Returns:     Best Estimator\n",
    "def gridSearcBestEstimator(model, params, cv, X_train, X_test):\n",
    "    clf = model\n",
    "    gs = GridSearchCV(estimator=clf, param_grid=params, scoring='f1', cv=cv, n_jobs=-1, )\n",
    "\n",
    "    gs.fit(X_train, y_train.values.ravel())\n",
    "    best_estimator = gs.best_estimator_\n",
    "\n",
    "    print('Best Estimator:')\n",
    "    print(best_estimator,'\\n')\n",
    "\n",
    "    # Required For Decision Tree Classifier\n",
    "    from sklearn.tree import DecisionTreeClassifier\n",
    "    if model == DecisionTreeClassifier():\n",
    "        best_estimator.get_depth()\n",
    "\n",
    "    return best_estimator"
   ]
  },
  {
   "cell_type": "code",
   "execution_count": 6,
   "metadata": {},
   "outputs": [],
   "source": [
    "# Function:    heatMap\n",
    "# Input:       true y values, predicted y values\n",
    "# Output:      Heat Map Of Confusion Matrix\n",
    "def heatMap(y_true, y_pred):\n",
    "    cm_plot =  pd.crosstab(index=y_true.values.ravel(), columns=y_test_pred, rownames=['Actual'], colnames=['Predicted'])\n",
    "    sns.heatmap(cm_plot, annot=True, square=False, fmt='', cbar=False)\n",
    "    plt.title(\"Confusion Matrix\", fontsize = 15)\n",
    "    plt.show()"
   ]
  },
  {
   "cell_type": "code",
   "execution_count": 7,
   "metadata": {},
   "outputs": [],
   "source": [
    "from sklearn.metrics import balanced_accuracy_score\n",
    "from sklearn.metrics import recall_score\n",
    "from sklearn.metrics import precision_score\n",
    "from sklearn.metrics import f1_score\n",
    "# Function:    metrics\n",
    "# Input:       confusion matrix array, true class values, predicted class values\n",
    "# Output:      Prints Recall, Sensitivity, Precision, False Positive Rate, Balanced Accuracy & F1 Scores\n",
    "# Return:      recall, specificity, precision, balanced_accuracy, F1\n",
    "def metrics(cm, true, pred):\n",
    "    # Assign values from the confusion matrix to manually\n",
    "    # calculate Specificity and False Positive Rate\n",
    "    TP = cm[1][1]\n",
    "    TN = cm[0][0]\n",
    "    FP = cm[0][1]\n",
    "    FN = cm[1][0]\n",
    "\n",
    "    # Recall\n",
    "    recall = recall_score(true, pred)\n",
    "    print('\\nRecall:                  ', recall)\n",
    "    # Sensitivity\n",
    "    sensitivity = recall\n",
    "    # Specificity\n",
    "    specificity = (TN / float(TN + FP))\n",
    "    print('Specificity:             ', specificity)\n",
    "    # Precision\n",
    "    precision = precision_score(true, pred)\n",
    "    print('Precision:               ', precision)\n",
    "    # False Positive Rate\n",
    "    # fpr = (FP / float(TN + FP))\n",
    "    # print ('False Positive Rate:     ', fpr)\n",
    "    # Balanced Accuracy\n",
    "    balanced_accuracy = (sensitivity + specificity)/2\n",
    "    #balance_accuracy = metrics.balanced_accuracy_score(y_true, y_pred)\n",
    "    print('Balanced Accuracy:       ', balanced_accuracy)\n",
    "    # F1 Score Method 1: sklearn\n",
    "    F1 = f1_score(true, pred)\n",
    "    print('F1-Score:                ', F1)\n",
    "\n",
    "    return recall, specificity, precision, balanced_accuracy, F1"
   ]
  },
  {
   "cell_type": "markdown",
   "metadata": {
    "pycharm": {
     "name": "#%% md\n"
    }
   },
   "source": [
    "### Read The Data."
   ]
  },
  {
   "cell_type": "code",
   "execution_count": 8,
   "metadata": {},
   "outputs": [],
   "source": [
    "# Read HR_Employee.csv\n",
    "X = pd.read_csv('./Data/HR_Employee.csv')\n",
    "# Read Attrition.csv\n",
    "y = pd.read_csv('./Data/Attrition.csv')\n",
    "# Read PCA_HR_Employee.csv\n",
    "PCA_X = pd.read_csv('./Data/PCA_HR_Employee.csv')\n",
    "# Read KPCA_HR_Employee.csv\n",
    "KPCA_X = pd.read_csv('./Data/KPCA_HR_Employee.csv')"
   ]
  },
  {
   "cell_type": "markdown",
   "metadata": {},
   "source": [
    "### Train Test Split."
   ]
  },
  {
   "cell_type": "code",
   "execution_count": 9,
   "metadata": {},
   "outputs": [],
   "source": [
    "from sklearn.model_selection import train_test_split\n",
    "X_train, X_test, y_train, y_test = train_test_split(X, y, test_size=0.30, random_state=2020)\n",
    "\n",
    "# Train Test Split for PCA\n",
    "PCA_X_train, PCA_X_test, PCA_y_train, PCA_y_test = train_test_split(PCA_X, y, test_size=0.30, random_state=2020)\n",
    "\n",
    "# Train Test Split for KPCA\n",
    "KPCA_X_train, KPCA_X_test, KPCA_y_train, KPCA_y_test = train_test_split(KPCA_X, y, test_size=0.30, random_state=2020)"
   ]
  },
  {
   "cell_type": "markdown",
   "metadata": {},
   "source": [
    "### Initialize Table"
   ]
  },
  {
   "cell_type": "code",
   "execution_count": 10,
   "metadata": {},
   "outputs": [],
   "source": [
    "Table = pd.DataFrame(index = ['Model','Testing Accuracy', 'Recall', 'Specificity', 'Precision', 'Balanced Accuracy', 'F1 Score'])"
   ]
  },
  {
   "cell_type": "markdown",
   "metadata": {},
   "source": [
    "### Cross Validate."
   ]
  },
  {
   "cell_type": "code",
   "execution_count": 11,
   "metadata": {},
   "outputs": [],
   "source": [
    "# Cross Validate\n",
    "from sklearn.model_selection import cross_val_score\n",
    "from sklearn.model_selection import StratifiedKFold\n",
    "\n",
    "cv = StratifiedKFold(n_splits=10, shuffle=True, random_state=0)"
   ]
  },
  {
   "cell_type": "markdown",
   "metadata": {},
   "source": [
    "# AdaBoost Default Classifier"
   ]
  },
  {
   "cell_type": "code",
   "execution_count": 12,
   "metadata": {
    "scrolled": true
   },
   "outputs": [
    {
     "name": "stdout",
     "output_type": "stream",
     "text": [
      "Training Accuracy:  0.8950437317784257\n",
      "Testing Accuracy:   0.8684807256235828\n",
      "\n",
      "                  Predicted Negative  Predicted Positive\n",
      "Actual Negative                 357                  14\n",
      "Actual Positive                  44                  26\n"
     ]
    },
    {
     "data": {
      "image/png": "[encoded data removed]",
      "text/plain": [
       "<Figure size 432x288 with 1 Axes>"
      ]
     },
     "metadata": {
      "needs_background": "light"
     },
     "output_type": "display_data"
    },
    {
     "name": "stdout",
     "output_type": "stream",
     "text": [
      "\n",
      "Recall:                   0.37142857142857144\n",
      "Specificity:              0.9622641509433962\n",
      "Precision:                0.65\n",
      "Balanced Accuracy:        0.6668463611859838\n",
      "F1-Score:                 0.4727272727272728\n"
     ]
    }
   ],
   "source": [
    "# Fit Model to Default Classifier\n",
    "clf = AdaBoostClassifier().fit(X_train, y_train.values.ravel())\n",
    "\n",
    "# Calcualate Training and Testing Accuracy\n",
    "testing_accuracy, y_test_pred = modelAccuracy(clf,  X_train, X_test)\n",
    "\n",
    "# Print Confusion Matrix\n",
    "cm = confusionMatrix(y_test, y_test_pred)\n",
    "\n",
    "# Heat Map\n",
    "heatMap(y_test, y_test_pred)\n",
    "\n",
    "# Print Metrics\n",
    "recall, specificity, precision, balanced_accuracy, F1 = metrics(cm, y_test, y_test_pred)\n",
    "\n",
    "# Populate Table\n",
    "Table['AdaBoost Default Classifier'] = ['AdaBoostClassifier()', testing_accuracy, recall, specificity, precision, balanced_accuracy, F1]"
   ]
  },
  {
   "cell_type": "markdown",
   "metadata": {},
   "source": [
    "# GridSearchCV AdaBoost Best Estimator"
   ]
  },
  {
   "cell_type": "code",
   "execution_count": 13,
   "metadata": {},
   "outputs": [
    {
     "name": "stdout",
     "output_type": "stream",
     "text": [
      "Best Estimator:\n",
      "AdaBoostClassifier(n_estimators=100) \n",
      "\n",
      "Training Accuracy:  0.9047619047619048\n",
      "Testing Accuracy:   0.8707482993197279\n",
      "\n",
      "                  Predicted Negative  Predicted Positive\n",
      "Actual Negative                 354                  17\n",
      "Actual Positive                  40                  30\n"
     ]
    },
    {
     "data": {
      "image/png": "[encoded data removed]",
      "text/plain": [
       "<Figure size 432x288 with 1 Axes>"
      ]
     },
     "metadata": {
      "needs_background": "light"
     },
     "output_type": "display_data"
    },
    {
     "name": "stdout",
     "output_type": "stream",
     "text": [
      "\n",
      "Recall:                   0.42857142857142855\n",
      "Specificity:              0.954177897574124\n",
      "Precision:                0.6382978723404256\n",
      "Balanced Accuracy:        0.6913746630727763\n",
      "F1-Score:                 0.5128205128205128\n"
     ]
    }
   ],
   "source": [
    "# Determine Best Estimator\n",
    "params = dict(\n",
    "    learning_rate = [0.0001, 0.001, 0.01, 0.1, 1.0],\n",
    "    #n_estimators = [5, 10, 20, 30, 40, 50, 100, 200]\n",
    "    n_estimators = [int(x) for x in np.linspace(start = 0, stop = 200, num = 3)]\n",
    ")\n",
    "best_estimator = gridSearcBestEstimator(AdaBoostClassifier(), params, cv, X_train, y_train)\n",
    "\n",
    "# Fit Model to best_estimator\n",
    "clf = best_estimator.fit(X_train, y_train.values.ravel())\n",
    "\n",
    "# Calcualate Training and Testing Accuracy\n",
    "testing_accuracy, y_test_pred = modelAccuracy(clf, X_train, X_test)\n",
    "\n",
    "# Print Confusion Matrix\n",
    "cm = confusionMatrix(y_test, y_test_pred)\n",
    "\n",
    "# Heat Map\n",
    "heatMap(y_test, y_test_pred)\n",
    "\n",
    "# Print Metrics\n",
    "recall, specificity, precision, balanced_accuracy, F1 = metrics(cm, y_test, y_test_pred)\n",
    "\n",
    "# Populate Table\n",
    "Table['AdaBoost Best Estimator'] = ['AdaBoostClassifier(n_estimators=100)', testing_accuracy, recall, specificity, precision, balanced_accuracy, F1]"
   ]
  },
  {
   "cell_type": "markdown",
   "metadata": {},
   "source": [
    "# AdaBoost Default Classifier With PCA"
   ]
  },
  {
   "cell_type": "code",
   "execution_count": 14,
   "metadata": {
    "pycharm": {
     "name": "#%%\n"
    }
   },
   "outputs": [
    {
     "name": "stdout",
     "output_type": "stream",
     "text": [
      "Training Accuracy:  0.8610301263362488\n",
      "Testing Accuracy:   0.8594104308390023\n",
      "\n",
      "                  Predicted Negative  Predicted Positive\n",
      "Actual Negative                 360                  11\n",
      "Actual Positive                  51                  19\n"
     ]
    },
    {
     "data": {
      "image/png": "[encoded data removed]",
      "text/plain": [
       "<Figure size 432x288 with 1 Axes>"
      ]
     },
     "metadata": {
      "needs_background": "light"
     },
     "output_type": "display_data"
    },
    {
     "name": "stdout",
     "output_type": "stream",
     "text": [
      "\n",
      "Recall:                   0.2714285714285714\n",
      "Specificity:              0.9703504043126685\n",
      "Precision:                0.6333333333333333\n",
      "Balanced Accuracy:        0.6208894878706199\n",
      "F1-Score:                 0.38\n"
     ]
    }
   ],
   "source": [
    "# Fit Model to Default Classifier\n",
    "clf = AdaBoostClassifier().fit(PCA_X_train, PCA_y_train.values.ravel())\n",
    "\n",
    "# Calcualate Training and Testing Accuracy\n",
    "testing_accuracy, y_test_pred = modelAccuracy(clf,  PCA_X_train, PCA_X_test)\n",
    "\n",
    "# Print Confusion Matrix\n",
    "cm = confusionMatrix(PCA_y_test, y_test_pred)\n",
    "\n",
    "# Heat Map\n",
    "heatMap(PCA_y_test, y_test_pred)\n",
    "\n",
    "# Print Metrics\n",
    "recall, specificity, precision, balanced_accuracy, F1 = metrics(cm, PCA_y_test, y_test_pred)\n",
    "\n",
    "# Populate Table\n",
    "Table['AdaBoost Default Classifier With PCA'] = ['AdaBoostClassifier()', testing_accuracy, recall, specificity, precision, balanced_accuracy, F1]"
   ]
  },
  {
   "cell_type": "markdown",
   "metadata": {},
   "source": [
    "# GridSearchCV AdaBoost Best Estimator With PCA"
   ]
  },
  {
   "cell_type": "code",
   "execution_count": 15,
   "metadata": {
    "pycharm": {
     "name": "#%%\n"
    }
   },
   "outputs": [
    {
     "name": "stdout",
     "output_type": "stream",
     "text": [
      "Best Estimator:\n",
      "AdaBoostClassifier(n_estimators=100) \n",
      "\n",
      "Training Accuracy:  0.859086491739553\n",
      "Testing Accuracy:   0.8684807256235828\n",
      "\n",
      "                  Predicted Negative  Predicted Positive\n",
      "Actual Negative                 359                  12\n",
      "Actual Positive                  46                  24\n"
     ]
    },
    {
     "data": {
      "image/png": "[encoded data removed]",
      "text/plain": [
       "<Figure size 432x288 with 1 Axes>"
      ]
     },
     "metadata": {
      "needs_background": "light"
     },
     "output_type": "display_data"
    },
    {
     "name": "stdout",
     "output_type": "stream",
     "text": [
      "\n",
      "Recall:                   0.34285714285714286\n",
      "Specificity:              0.967654986522911\n",
      "Precision:                0.6666666666666666\n",
      "Balanced Accuracy:        0.655256064690027\n",
      "F1-Score:                 0.4528301886792453\n"
     ]
    }
   ],
   "source": [
    "# Determine Best Estimator\n",
    "params = dict(\n",
    "    learning_rate = [0.0001, 0.001, 0.01, 0.1, 1.0],\n",
    "    #n_estimators = [5, 10, 20, 30, 40, 50, 100, 200]\n",
    "    n_estimators = [int(x) for x in np.linspace(start = 0, stop = 200, num = 3)]\n",
    ")\n",
    "best_estimator = gridSearcBestEstimator(AdaBoostClassifier(), params, cv, PCA_X_train, PCA_y_train)\n",
    "\n",
    "# Fit Model to best_estimator\n",
    "clf = best_estimator.fit(PCA_X_train, PCA_y_train.values.ravel())\n",
    "\n",
    "# Calcualate Training and Testing Accuracy\n",
    "testing_accuracy, y_test_pred = modelAccuracy(clf, PCA_X_train, PCA_X_test)\n",
    "\n",
    "# Print Confusion Matrix\n",
    "cm = confusionMatrix(PCA_y_test, y_test_pred)\n",
    "\n",
    "# Heat Map\n",
    "heatMap(PCA_y_test, y_test_pred)\n",
    "\n",
    "# Print Metrics\n",
    "recall, specificity, precision, balanced_accuracy, F1 = metrics(cm, PCA_y_test, y_test_pred)\n",
    "\n",
    "# Populate Table\n",
    "Table['AdaBoost Best Estimator With PCA'] = ['AdaBoostClassifier(n_estimators=100)', testing_accuracy, recall, specificity, precision, balanced_accuracy, F1]"
   ]
  },
  {
   "cell_type": "markdown",
   "metadata": {},
   "source": [
    "# AdaBoost Default Classifier With KPCA"
   ]
  },
  {
   "cell_type": "code",
   "execution_count": 16,
   "metadata": {},
   "outputs": [
    {
     "name": "stdout",
     "output_type": "stream",
     "text": [
      "Training Accuracy:  0.9144800777453839\n",
      "Testing Accuracy:   0.8571428571428571\n",
      "\n",
      "                  Predicted Negative  Predicted Positive\n",
      "Actual Negative                 358                  13\n",
      "Actual Positive                  50                  20\n"
     ]
    },
    {
     "data": {
      "image/png": "[encoded data removed]",
      "text/plain": [
       "<Figure size 432x288 with 1 Axes>"
      ]
     },
     "metadata": {
      "needs_background": "light"
     },
     "output_type": "display_data"
    },
    {
     "name": "stdout",
     "output_type": "stream",
     "text": [
      "\n",
      "Recall:                   0.2857142857142857\n",
      "Specificity:              0.9649595687331537\n",
      "Precision:                0.6060606060606061\n",
      "Balanced Accuracy:        0.6253369272237197\n",
      "F1-Score:                 0.3883495145631068\n"
     ]
    }
   ],
   "source": [
    "# Fit Model to Default Classifier\n",
    "clf = AdaBoostClassifier().fit(KPCA_X_train, KPCA_y_train.values.ravel())\n",
    "\n",
    "# Calcualate Training and Testing Accuracy\n",
    "testing_accuracy, y_test_pred = modelAccuracy(clf,  KPCA_X_train, KPCA_X_test)\n",
    "\n",
    "# Print Confusion Matrix\n",
    "cm = confusionMatrix(KPCA_y_test, y_test_pred)\n",
    "\n",
    "# Heat Map\n",
    "heatMap(KPCA_y_test, y_test_pred)\n",
    "\n",
    "# Print Metrics\n",
    "recall, specificity, precision, balanced_accuracy, F1 = metrics(cm, KPCA_y_test, y_test_pred)\n",
    "\n",
    "# Populate Table\n",
    "Table['AdaBoost Default Classifier With KPCA'] = ['AdaBoostClassifier()', testing_accuracy, recall, specificity, precision, balanced_accuracy, F1]"
   ]
  },
  {
   "cell_type": "markdown",
   "metadata": {},
   "source": [
    "# GridSearchCV AdaBoost Best Estimator With KPCA"
   ]
  },
  {
   "cell_type": "code",
   "execution_count": 17,
   "metadata": {},
   "outputs": [
    {
     "name": "stdout",
     "output_type": "stream",
     "text": [
      "Best Estimator:\n",
      "AdaBoostClassifier(n_estimators=200) \n",
      "\n",
      "Training Accuracy:  0.9990281827016521\n",
      "Testing Accuracy:   0.854875283446712\n",
      "\n",
      "                  Predicted Negative  Predicted Positive\n",
      "Actual Negative                 354                  17\n",
      "Actual Positive                  47                  23\n"
     ]
    },
    {
     "data": {
      "image/png": "[encoded data removed]",
      "text/plain": [
       "<Figure size 432x288 with 1 Axes>"
      ]
     },
     "metadata": {
      "needs_background": "light"
     },
     "output_type": "display_data"
    },
    {
     "name": "stdout",
     "output_type": "stream",
     "text": [
      "\n",
      "Recall:                   0.32857142857142857\n",
      "Specificity:              0.954177897574124\n",
      "Precision:                0.575\n",
      "Balanced Accuracy:        0.6413746630727762\n",
      "F1-Score:                 0.4181818181818182\n"
     ]
    }
   ],
   "source": [
    "# Determine Best Estimator\n",
    "params = dict(\n",
    "    learning_rate = [0.0001, 0.001, 0.01, 0.1, 1.0],\n",
    "    #n_estimators = [5, 10, 20, 30, 40, 50, 100, 200]\n",
    "    n_estimators = [int(x) for x in np.linspace(start = 0, stop = 200, num = 3)]\n",
    ")\n",
    "best_estimator = gridSearcBestEstimator(AdaBoostClassifier(), params, cv, KPCA_X_train, KPCA_y_train)\n",
    "\n",
    "# Fit Model to best_estimator\n",
    "clf = best_estimator.fit(KPCA_X_train, KPCA_y_train.values.ravel())\n",
    "\n",
    "# Calcualate Training and Testing Accuracy\n",
    "testing_accuracy, y_test_pred = modelAccuracy(clf, KPCA_X_train, KPCA_X_test)\n",
    "\n",
    "# Print Confusion Matrix\n",
    "cm = confusionMatrix(KPCA_y_test, y_test_pred)\n",
    "\n",
    "# Heat Map\n",
    "heatMap(KPCA_y_test, y_test_pred)\n",
    "\n",
    "# Print Metrics\n",
    "recall, specificity, precision, balanced_accuracy, F1 = metrics(cm, KPCA_y_test, y_test_pred)\n",
    "\n",
    "# Populate Table\n",
    "Table['AdaBoost Best Estimator With KPCA'] = ['AdaBoostClassifier(n_estimators=200)', testing_accuracy, recall, specificity, precision, balanced_accuracy, F1]"
   ]
  },
  {
   "cell_type": "markdown",
   "metadata": {},
   "source": [
    "# Table"
   ]
  },
  {
   "cell_type": "code",
   "execution_count": 18,
   "metadata": {
    "pycharm": {
     "name": "#%%\n"
    },
    "scrolled": false
   },
   "outputs": [
    {
     "data": {
      "text/html": [
       "<div>\n",
       "<style scoped>\n",
       "    .dataframe tbody tr th:only-of-type {\n",
       "        vertical-align: middle;\n",
       "    }\n",
       "\n",
       "    .dataframe tbody tr th {\n",
       "        vertical-align: top;\n",
       "    }\n",
       "\n",
       "    .dataframe thead th {\n",
       "        text-align: right;\n",
       "    }\n",
       "</style>\n",
       "<table border=\"1\" class=\"dataframe\">\n",
       "  <thead>\n",
       "    <tr style=\"text-align: right;\">\n",
       "      <th></th>\n",
       "      <th>Model</th>\n",
       "      <th>Testing Accuracy</th>\n",
       "      <th>Recall</th>\n",
       "      <th>Specificity</th>\n",
       "      <th>Precision</th>\n",
       "      <th>Balanced Accuracy</th>\n",
       "      <th>F1 Score</th>\n",
       "    </tr>\n",
       "  </thead>\n",
       "  <tbody>\n",
       "    <tr>\n",
       "      <th>AdaBoost Best Estimator</th>\n",
       "      <td>AdaBoostClassifier(n_estimators=100)</td>\n",
       "      <td>0.870748</td>\n",
       "      <td>0.428571</td>\n",
       "      <td>0.954178</td>\n",
       "      <td>0.638298</td>\n",
       "      <td>0.691375</td>\n",
       "      <td>0.512821</td>\n",
       "    </tr>\n",
       "    <tr>\n",
       "      <th>AdaBoost Default Classifier</th>\n",
       "      <td>AdaBoostClassifier()</td>\n",
       "      <td>0.868481</td>\n",
       "      <td>0.371429</td>\n",
       "      <td>0.962264</td>\n",
       "      <td>0.65</td>\n",
       "      <td>0.666846</td>\n",
       "      <td>0.472727</td>\n",
       "    </tr>\n",
       "    <tr>\n",
       "      <th>AdaBoost Best Estimator With PCA</th>\n",
       "      <td>AdaBoostClassifier(n_estimators=100)</td>\n",
       "      <td>0.868481</td>\n",
       "      <td>0.342857</td>\n",
       "      <td>0.967655</td>\n",
       "      <td>0.666667</td>\n",
       "      <td>0.655256</td>\n",
       "      <td>0.45283</td>\n",
       "    </tr>\n",
       "    <tr>\n",
       "      <th>AdaBoost Best Estimator With KPCA</th>\n",
       "      <td>AdaBoostClassifier(n_estimators=200)</td>\n",
       "      <td>0.854875</td>\n",
       "      <td>0.328571</td>\n",
       "      <td>0.954178</td>\n",
       "      <td>0.575</td>\n",
       "      <td>0.641375</td>\n",
       "      <td>0.418182</td>\n",
       "    </tr>\n",
       "    <tr>\n",
       "      <th>AdaBoost Default Classifier With KPCA</th>\n",
       "      <td>AdaBoostClassifier()</td>\n",
       "      <td>0.857143</td>\n",
       "      <td>0.285714</td>\n",
       "      <td>0.96496</td>\n",
       "      <td>0.606061</td>\n",
       "      <td>0.625337</td>\n",
       "      <td>0.38835</td>\n",
       "    </tr>\n",
       "    <tr>\n",
       "      <th>AdaBoost Default Classifier With PCA</th>\n",
       "      <td>AdaBoostClassifier()</td>\n",
       "      <td>0.85941</td>\n",
       "      <td>0.271429</td>\n",
       "      <td>0.97035</td>\n",
       "      <td>0.633333</td>\n",
       "      <td>0.620889</td>\n",
       "      <td>0.38</td>\n",
       "    </tr>\n",
       "  </tbody>\n",
       "</table>\n",
       "</div>"
      ],
      "text/plain": [
       "                                                                      Model  \\\n",
       "AdaBoost Best Estimator                AdaBoostClassifier(n_estimators=100)   \n",
       "AdaBoost Default Classifier                            AdaBoostClassifier()   \n",
       "AdaBoost Best Estimator With PCA       AdaBoostClassifier(n_estimators=100)   \n",
       "AdaBoost Best Estimator With KPCA      AdaBoostClassifier(n_estimators=200)   \n",
       "AdaBoost Default Classifier With KPCA                  AdaBoostClassifier()   \n",
       "AdaBoost Default Classifier With PCA                   AdaBoostClassifier()   \n",
       "\n",
       "                                      Testing Accuracy    Recall Specificity  \\\n",
       "AdaBoost Best Estimator                       0.870748  0.428571    0.954178   \n",
       "AdaBoost Default Classifier                   0.868481  0.371429    0.962264   \n",
       "AdaBoost Best Estimator With PCA              0.868481  0.342857    0.967655   \n",
       "AdaBoost Best Estimator With KPCA             0.854875  0.328571    0.954178   \n",
       "AdaBoost Default Classifier With KPCA         0.857143  0.285714     0.96496   \n",
       "AdaBoost Default Classifier With PCA           0.85941  0.271429     0.97035   \n",
       "\n",
       "                                      Precision Balanced Accuracy  F1 Score  \n",
       "AdaBoost Best Estimator                0.638298          0.691375  0.512821  \n",
       "AdaBoost Default Classifier                0.65          0.666846  0.472727  \n",
       "AdaBoost Best Estimator With PCA       0.666667          0.655256   0.45283  \n",
       "AdaBoost Best Estimator With KPCA         0.575          0.641375  0.418182  \n",
       "AdaBoost Default Classifier With KPCA  0.606061          0.625337   0.38835  \n",
       "AdaBoost Default Classifier With PCA   0.633333          0.620889      0.38  "
      ]
     },
     "execution_count": 18,
     "metadata": {},
     "output_type": "execute_result"
    }
   ],
   "source": [
    "Table = Table.T\n",
    "Table.sort_values(by=['Balanced Accuracy'], ascending=False)"
   ]
  },
  {
   "cell_type": "markdown",
   "metadata": {},
   "source": [
    "# Observations\n",
    "\n",
    "### Saw improvements in the following Metrics after applying GridSearchCV:  Testing Accuracy, Recall, Balanced Accuracy and F1-Score.\n",
    "\n",
    "### Running the GridSearchCV with PCA lost a few percentage points (Balance Accuracy) when compared to the AdaBoost Best Estimator, but might be worth considering with the reduced feature set."
   ]
  }
 ],
 "metadata": {
  "kernelspec": {
   "display_name": "Python 3",
   "language": "python",
   "name": "python3"
  },
  "language_info": {
   "codemirror_mode": {
    "name": "ipython",
    "version": 3
   },
   "file_extension": ".py",
   "mimetype": "text/x-python",
   "name": "python",
   "nbconvert_exporter": "python",
   "pygments_lexer": "ipython3",
   "version": "3.8.5"
  }
 },
 "nbformat": 4,
 "nbformat_minor": 4
}
