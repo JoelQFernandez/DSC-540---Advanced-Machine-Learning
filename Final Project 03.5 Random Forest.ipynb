{
 "cells": [
  {
   "cell_type": "markdown",
   "metadata": {},
   "source": [
    "## Random Forest"
   ]
  },
  {
   "cell_type": "markdown",
   "metadata": {},
   "source": [
    "Group 6\n",
    "\n",
    "Members (Student ID/Email): Abigail Keller (2026918, akelle30@depaul.edu), Kara Faciszewski (1976775, kfacisze@depaul.edu), Joel Fernandez (1394698, jferna26@depaul.edu), Elizabeth Kerrigan (1994142, ekerrig3@depaul.edu). Srinath V.S. (1979936 , SVANAMAM@depaul.edu)"
   ]
  },
  {
   "cell_type": "code",
   "execution_count": 1,
   "metadata": {},
   "outputs": [],
   "source": [
    "# Import Statements\n",
    "import pandas as pd\n",
    "import numpy as np\n",
    "import matplotlib.pyplot as plt\n",
    "import seaborn as sns\n",
    "from sklearn.ensemble import RandomForestClassifier"
   ]
  },
  {
   "cell_type": "markdown",
   "metadata": {},
   "source": [
    "#### Data Import"
   ]
  },
  {
   "cell_type": "code",
   "execution_count": 2,
   "metadata": {},
   "outputs": [],
   "source": [
    "# Read HR_Employee.csv\n",
    "X = pd.read_csv('./Data/HR_Employee.csv')\n",
    "# Read Attrition.csv\n",
    "y = pd.read_csv('./Data/Attrition.csv')\n",
    "#Read PCA_HR_Employee.csv\n",
    "PCA_X = pd.read_csv('./Data/PCA_HR_Employee.csv')\n",
    "# Read KPCA_HR_Employee.csv\n",
    "KPCA_X = pd.read_csv('./Data/KPCA_HR_Employee.csv')"
   ]
  },
  {
   "cell_type": "markdown",
   "metadata": {},
   "source": [
    "#### Functions "
   ]
  },
  {
   "cell_type": "code",
   "execution_count": 3,
   "metadata": {},
   "outputs": [],
   "source": [
    "# Function:    fitModel\n",
    "# Input:       Classifier\n",
    "# Returns:     Fitted Model\n",
    "def fitModel(model):\n",
    "    clf = model\n",
    "    clf.fit(X_train, y_train.values.ravel())\n",
    "    \n",
    "    return clf"
   ]
  },
  {
   "cell_type": "code",
   "execution_count": 4,
   "metadata": {},
   "outputs": [],
   "source": [
    "from sklearn.metrics import accuracy_score\n",
    "# Function:    modelAccuracy\n",
    "# Input:       Classifier with Best Estimator, X train, X test\n",
    "# Output:      Prints Training & Testing Accuracy\n",
    "# Returns:     Testing Accuracy, Y Test Predictions\n",
    "def modelAccuracy(model, X_train, X_test):\n",
    "    clf = model\n",
    "\n",
    "    # Make Train predictions\n",
    "    y_train_pred = clf.predict(X_train)\n",
    "    # Calculate accuracy score\n",
    "    training_accuracy = accuracy_score(y_train, y_train_pred)\n",
    "    print('Training Accuracy: ',training_accuracy)\n",
    "    # confusionMatrixMetrics(y_train, y_pred)\n",
    "\n",
    "    # Make Test predictions\n",
    "    y_test_pred = clf.predict(X_test)\n",
    "    # Calculate accuracy scores\n",
    "    testing_accuracy = accuracy_score(y_test, y_test_pred)\n",
    "    print('Testing Accuracy:  ',testing_accuracy)\n",
    "\n",
    "    return testing_accuracy, y_test_pred"
   ]
  },
  {
   "cell_type": "code",
   "execution_count": 5,
   "metadata": {},
   "outputs": [],
   "source": [
    "from sklearn.model_selection import GridSearchCV\n",
    "# Function:    gridSearcBestEstimator\n",
    "# Input:       Classifier, parameters, cross validation, X train, X test\n",
    "# Output:      Prints Best Estimator\n",
    "# Returns:     Best Estimator\n",
    "def gridSearcBestEstimator(model, params, cv, X_train, X_test):\n",
    "    clf = model\n",
    "    gs = GridSearchCV(estimator=clf, param_grid=params, scoring='f1', cv=cv, n_jobs=-1, )\n",
    "\n",
    "    gs.fit(X_train, y_train.values.ravel())\n",
    "    best_estimator = gs.best_estimator_\n",
    "\n",
    "    print('Best Estimator:')\n",
    "    print(best_estimator,'\\n')\n",
    "\n",
    "    # Required For Decision Tree Classifier\n",
    "    from sklearn.tree import DecisionTreeClassifier\n",
    "    if model == DecisionTreeClassifier():\n",
    "        best_estimator.get_depth()\n",
    "\n",
    "    return best_estimator"
   ]
  },
  {
   "cell_type": "code",
   "execution_count": 6,
   "metadata": {},
   "outputs": [],
   "source": [
    "from sklearn.metrics import confusion_matrix\n",
    "# Function:    confusionMatrix\n",
    "# Input:       Training/Testing dataframe and predictions\n",
    "# Output:      Prints Formatted Confusion Matrix\n",
    "# Returns:     Confusion Matrix Array\n",
    "# URL:         https://towardsdatascience.com/evaluating-machine-learning-classification-problems-in-python-5-1-metrics-that-matter-792c6faddf5\n",
    "def confusionMatrix(true, pred):\n",
    "    cm = confusion_matrix(true, pred.round(), normalize=None)\n",
    "\n",
    "    # Assigning columns names\n",
    "    cm_df = pd.DataFrame(cm,\n",
    "                        columns = ['Predicted Negative', 'Predicted Positive'],\n",
    "                        index = ['Actual Negative', 'Actual Positive'])\n",
    "\n",
    "    # Printing Formatted Confusion Matrix\n",
    "    print('\\n',cm_df)\n",
    "\n",
    "    return cm"
   ]
  },
  {
   "cell_type": "code",
   "execution_count": 7,
   "metadata": {},
   "outputs": [],
   "source": [
    "from sklearn.metrics import balanced_accuracy_score\n",
    "from sklearn.metrics import recall_score\n",
    "from sklearn.metrics import precision_score\n",
    "from sklearn.metrics import f1_score\n",
    "# Function:    metrics\n",
    "# Input:       confusion matrix array, true class values, predicted class values\n",
    "# Output:      Prints Recall, Sensitivity, Precision, False Positive Rate, Balanced Accuracy & F1 Scores\n",
    "# Return:      recall, specificity, precision, balanced_accuracy, F1\n",
    "def metrics(cm, true, pred):\n",
    "    # Assign values from the confusion matrix to manually\n",
    "    # calculate Specificity and False Positive Rate\n",
    "    TP = cm[1][1]\n",
    "    TN = cm[0][0]\n",
    "    FP = cm[0][1]\n",
    "    FN = cm[1][0]\n",
    "\n",
    "    # Recall\n",
    "    recall = recall_score(true, pred)\n",
    "    print('\\nRecall:                  ', recall)\n",
    "    # Sensitivity\n",
    "    sensitivity = recall\n",
    "    # Specificity\n",
    "    specificity = (TN / float(TN + FP))\n",
    "    print('Specificity:             ', specificity)\n",
    "    # Precision\n",
    "    precision = precision_score(true, pred)\n",
    "    print('Precision:               ', precision)\n",
    "    # False Positive Rate\n",
    "    # fpr = (FP / float(TN + FP))\n",
    "    # print ('False Positive Rate:     ', fpr)\n",
    "    # Balanced Accuracy\n",
    "    balanced_accuracy = (sensitivity + specificity)/2\n",
    "    #balance_accuracy = metrics.balanced_accuracy_score(y_true, y_pred)\n",
    "    print('Balanced Accuracy:       ', balanced_accuracy)\n",
    "    # F1 Score Method 1: sklearn\n",
    "    F1 = f1_score(true, pred)\n",
    "    print('F1-Score:                ', F1)\n",
    "\n",
    "    return recall, specificity, precision, balanced_accuracy, F1"
   ]
  },
  {
   "cell_type": "code",
   "execution_count": 8,
   "metadata": {},
   "outputs": [],
   "source": [
    "# Function:    heatMap\n",
    "# Input:       true y values, predicted y values\n",
    "# Output:      Heat Map Of Confusion Matrix\n",
    "def heatMap(y_true, y_pred):\n",
    "    cm_plot =  pd.crosstab(index=y_true.values.ravel(), columns=y_test_pred, rownames=['Actual'], colnames=['Predicted'])\n",
    "    sns.heatmap(cm_plot, annot=True, square=False, fmt='', cbar=False)\n",
    "    plt.title(\"Confusion Matrix\", fontsize = 15)\n",
    "    plt.show()"
   ]
  },
  {
   "cell_type": "markdown",
   "metadata": {},
   "source": [
    "### Train/Test Data Split"
   ]
  },
  {
   "cell_type": "code",
   "execution_count": 9,
   "metadata": {},
   "outputs": [],
   "source": [
    "from sklearn.model_selection import train_test_split\n",
    "X_train, X_test, y_train, y_test = train_test_split(X, y, test_size=0.30, random_state=2020)\n",
    "# Train Test Split for PCA\n",
    "PCA_X_train, PCA_X_test, PCA_y_train, PCA_y_test = train_test_split(PCA_X, y, test_size=0.30, random_state=2020)\n",
    "# Train Test Split for KPCA\n",
    "KPCA_X_train, KPCA_X_test, KPCA_y_train, KPCA_y_test = train_test_split(KPCA_X, y, test_size=0.30, random_state=2020)"
   ]
  },
  {
   "cell_type": "markdown",
   "metadata": {},
   "source": [
    "### Cross Validation"
   ]
  },
  {
   "cell_type": "code",
   "execution_count": 10,
   "metadata": {},
   "outputs": [],
   "source": [
    "# Cross Validate\n",
    "from sklearn.model_selection import cross_val_score\n",
    "from sklearn.model_selection import StratifiedKFold\n",
    "\n",
    "cv = StratifiedKFold(n_splits=10, shuffle=True, random_state=0)"
   ]
  },
  {
   "cell_type": "code",
   "execution_count": 11,
   "metadata": {},
   "outputs": [],
   "source": [
    "Table = pd.DataFrame(index = ['Model','Testing Accuracy', 'Recall', 'Specificity', 'Precision', 'Balanced Accuracy', 'F1 Score'])"
   ]
  },
  {
   "cell_type": "markdown",
   "metadata": {},
   "source": [
    "### Default Random Forest Classifier"
   ]
  },
  {
   "cell_type": "code",
   "execution_count": 12,
   "metadata": {
    "scrolled": false
   },
   "outputs": [
    {
     "name": "stdout",
     "output_type": "stream",
     "text": [
      "Training Accuracy:  1.0\n",
      "Testing Accuracy:   0.8503401360544217\n",
      "\n",
      "                  Predicted Negative  Predicted Positive\n",
      "Actual Negative                 369                   2\n",
      "Actual Positive                  64                   6\n"
     ]
    },
    {
     "data": {
      "image/png": "[encoded data removed]",
      "text/plain": [
       "<Figure size 432x288 with 1 Axes>"
      ]
     },
     "metadata": {
      "needs_background": "light"
     },
     "output_type": "display_data"
    },
    {
     "name": "stdout",
     "output_type": "stream",
     "text": [
      "\n",
      "Recall:                   0.08571428571428572\n",
      "Specificity:              0.9946091644204852\n",
      "Precision:                0.75\n",
      "Balanced Accuracy:        0.5401617250673855\n",
      "F1-Score:                 0.15384615384615383\n"
     ]
    },
    {
     "data": {
      "text/plain": [
       "<BarContainer object of 5 artists>"
      ]
     },
     "execution_count": 12,
     "metadata": {},
     "output_type": "execute_result"
    },
    {
     "data": {
      "image/png": "[encoded data removed]",
      "text/plain": [
       "<Figure size 432x288 with 1 Axes>"
      ]
     },
     "metadata": {
      "needs_background": "light"
     },
     "output_type": "display_data"
    }
   ],
   "source": [
    "# Fit Model to Default Classifier\n",
    "clf = RandomForestClassifier().fit(X_train, y_train.values.ravel())\n",
    "\n",
    "# Calcualate Training and Testing Accuracy\n",
    "testing_accuracy, y_test_pred = modelAccuracy(clf,  X_train, X_test)\n",
    "\n",
    "# Print Confusion Matrix\n",
    "cm = confusionMatrix(y_test, y_test_pred)\n",
    "\n",
    "# Heat Map\n",
    "heatMap(y_test, y_test_pred)\n",
    "\n",
    "# Print Metrics\n",
    "recall, specificity, precision, balanced_accuracy, F1 = metrics(cm, y_test, y_test_pred)\n",
    "\n",
    "# Populate Table\n",
    "Table['Random Forest Default Classifier'] = ['RandomForestClassifier()', testing_accuracy, recall, specificity, precision, balanced_accuracy, F1]\n",
    "\n",
    "#Feature Importance\n",
    "top_n = np.argsort(clf.feature_importances_)[-5:]\n",
    "plt.barh(X.columns[top_n], clf.feature_importances_[top_n])"
   ]
  },
  {
   "cell_type": "markdown",
   "metadata": {},
   "source": [
    "### GridSearch - Random Forest"
   ]
  },
  {
   "cell_type": "code",
   "execution_count": 14,
   "metadata": {
    "scrolled": true
   },
   "outputs": [
    {
     "name": "stdout",
     "output_type": "stream",
     "text": [
      "Best Estimator:\n",
      "RandomForestClassifier(min_samples_split=5, n_estimators=50) \n",
      "\n",
      "Training Accuracy:  0.9854227405247813\n",
      "Testing Accuracy:   0.8503401360544217\n",
      "\n",
      "                  Predicted Negative  Predicted Positive\n",
      "Actual Negative                 369                   2\n",
      "Actual Positive                  64                   6\n"
     ]
    },
    {
     "data": {
      "image/png": "[encoded data removed]",
      "text/plain": [
       "<Figure size 432x288 with 1 Axes>"
      ]
     },
     "metadata": {
      "needs_background": "light"
     },
     "output_type": "display_data"
    },
    {
     "name": "stdout",
     "output_type": "stream",
     "text": [
      "\n",
      "Recall:                   0.08571428571428572\n",
      "Specificity:              0.9946091644204852\n",
      "Precision:                0.75\n",
      "Balanced Accuracy:        0.5401617250673855\n",
      "F1-Score:                 0.15384615384615383\n"
     ]
    },
    {
     "data": {
      "text/plain": [
       "<BarContainer object of 5 artists>"
      ]
     },
     "execution_count": 14,
     "metadata": {},
     "output_type": "execute_result"
    },
    {
     "data": {
      "image/png": "[encoded data removed]",
      "text/plain": [
       "<Figure size 432x288 with 1 Axes>"
      ]
     },
     "metadata": {
      "needs_background": "light"
     },
     "output_type": "display_data"
    }
   ],
   "source": [
    "# Determine Best Estimator\n",
    "params = dict(\n",
    "    min_samples_split = [5, 10, 20, 30, 40, 50],\n",
    "    max_depth = [1,2,3,None],\n",
    "    n_estimators = [50, 100, 150, 200, 250]\n",
    ")\n",
    "best_estimator = gridSearcBestEstimator(RandomForestClassifier(), params, cv, X_train, y_train)\n",
    "\n",
    "# Fit Model to best_estimator\n",
    "clf = best_estimator.fit(X_train, y_train.values.ravel())\n",
    "\n",
    "# Calcualate Training and Testing Accuracy\n",
    "testing_accuracy, y_test_pred = modelAccuracy(clf, X_train, X_test)\n",
    "\n",
    "# Print Confusion Matrix\n",
    "cm = confusionMatrix(y_test, y_test_pred)\n",
    "\n",
    "# Heat Map\n",
    "heatMap(y_test, y_test_pred)\n",
    "\n",
    "# Print Metrics\n",
    "recall, specificity, precision, balanced_accuracy, F1 = metrics(cm, y_test, y_test_pred)\n",
    "\n",
    "# Populate Table\n",
    "Table['Random Forest Best Estimator'] = ['RandomForestClassifier(min_samples_split = 5, n_estimators=250)', testing_accuracy, recall, specificity, precision, balanced_accuracy, F1]\n",
    "\n",
    "#Feature Importance\n",
    "top_n = np.argsort(clf.feature_importances_)[-5:]\n",
    "plt.barh(X.columns[top_n], clf.feature_importances_[top_n])"
   ]
  },
  {
   "cell_type": "markdown",
   "metadata": {},
   "source": [
    "### Default Random Forest Classifier with PCA"
   ]
  },
  {
   "cell_type": "code",
   "execution_count": 15,
   "metadata": {},
   "outputs": [
    {
     "name": "stdout",
     "output_type": "stream",
     "text": [
      "Training Accuracy:  1.0\n",
      "Testing Accuracy:   0.8390022675736961\n",
      "\n",
      "                  Predicted Negative  Predicted Positive\n",
      "Actual Negative                 365                   6\n",
      "Actual Positive                  65                   5\n"
     ]
    },
    {
     "data": {
      "image/png": "[encoded data removed]",
      "text/plain": [
       "<Figure size 432x288 with 1 Axes>"
      ]
     },
     "metadata": {
      "needs_background": "light"
     },
     "output_type": "display_data"
    },
    {
     "name": "stdout",
     "output_type": "stream",
     "text": [
      "\n",
      "Recall:                   0.07142857142857142\n",
      "Specificity:              0.9838274932614556\n",
      "Precision:                0.45454545454545453\n",
      "Balanced Accuracy:        0.5276280323450135\n",
      "F1-Score:                 0.12345679012345678\n"
     ]
    },
    {
     "data": {
      "text/plain": [
       "<BarContainer object of 5 artists>"
      ]
     },
     "execution_count": 15,
     "metadata": {},
     "output_type": "execute_result"
    },
    {
     "data": {
      "image/png": "[encoded data removed]",
      "text/plain": [
       "<Figure size 432x288 with 1 Axes>"
      ]
     },
     "metadata": {
      "needs_background": "light"
     },
     "output_type": "display_data"
    }
   ],
   "source": [
    "# Fit Model to Default Classifier\n",
    "clf = RandomForestClassifier().fit(PCA_X_train, PCA_y_train.values.ravel())\n",
    "\n",
    "# Calcualate Training and Testing Accuracy\n",
    "testing_accuracy, y_test_pred = modelAccuracy(clf,  PCA_X_train, PCA_X_test)\n",
    "\n",
    "# Print Confusion Matrix\n",
    "cm = confusionMatrix(PCA_y_test, y_test_pred)\n",
    "\n",
    "# Heat Map\n",
    "heatMap(PCA_y_test, y_test_pred)\n",
    "\n",
    "# Print Metrics\n",
    "recall, specificity, precision, balanced_accuracy, F1 = metrics(cm, PCA_y_test, y_test_pred)\n",
    "\n",
    "# Populate Table\n",
    "Table['Random Forest Default Classifier With PCA'] = ['RandomForestClassifier()', testing_accuracy, recall, specificity, precision, balanced_accuracy, F1]\n",
    "\n",
    "#Feature Importance\n",
    "top_n = np.argsort(clf.feature_importances_)[-5:]\n",
    "plt.barh(X.columns[top_n], clf.feature_importances_[top_n])"
   ]
  },
  {
   "cell_type": "markdown",
   "metadata": {},
   "source": [
    "### Random Forest GridSearch with PCA"
   ]
  },
  {
   "cell_type": "code",
   "execution_count": 16,
   "metadata": {},
   "outputs": [
    {
     "name": "stdout",
     "output_type": "stream",
     "text": [
      "Best Estimator:\n",
      "RandomForestClassifier(min_samples_split=5, n_estimators=200) \n",
      "\n",
      "Training Accuracy:  0.923226433430515\n",
      "Testing Accuracy:   0.8526077097505669\n",
      "\n",
      "                  Predicted Negative  Predicted Positive\n",
      "Actual Negative                 370                   1\n",
      "Actual Positive                  64                   6\n"
     ]
    },
    {
     "data": {
      "image/png": "[encoded data removed]",
      "text/plain": [
       "<Figure size 432x288 with 1 Axes>"
      ]
     },
     "metadata": {
      "needs_background": "light"
     },
     "output_type": "display_data"
    },
    {
     "name": "stdout",
     "output_type": "stream",
     "text": [
      "\n",
      "Recall:                   0.08571428571428572\n",
      "Specificity:              0.9973045822102425\n",
      "Precision:                0.8571428571428571\n",
      "Balanced Accuracy:        0.5415094339622641\n",
      "F1-Score:                 0.15584415584415584\n"
     ]
    },
    {
     "data": {
      "text/plain": [
       "<BarContainer object of 5 artists>"
      ]
     },
     "execution_count": 16,
     "metadata": {},
     "output_type": "execute_result"
    },
    {
     "data": {
      "image/png": "[encoded data removed]",
      "text/plain": [
       "<Figure size 432x288 with 1 Axes>"
      ]
     },
     "metadata": {
      "needs_background": "light"
     },
     "output_type": "display_data"
    }
   ],
   "source": [
    "# Determine Best Estimator\n",
    "params = dict(\n",
    "    min_samples_split = [5, 10, 20, 30, 40, 50],\n",
    "    max_depth = [1,2,3,None],\n",
    "    n_estimators = [50, 100, 150, 200, 250]\n",
    ")\n",
    "best_estimator = gridSearcBestEstimator(RandomForestClassifier(), params, cv, PCA_X_train, PCA_y_train)\n",
    "\n",
    "# Fit Model to best_estimator\n",
    "clf = best_estimator.fit(PCA_X_train, PCA_y_train.values.ravel())\n",
    "\n",
    "# Calcualate Training and Testing Accuracy\n",
    "testing_accuracy, y_test_pred = modelAccuracy(clf, PCA_X_train, PCA_X_test)\n",
    "\n",
    "# Print Confusion Matrix\n",
    "cm = confusionMatrix(PCA_y_test, y_test_pred)\n",
    "\n",
    "# Heat Map\n",
    "heatMap(PCA_y_test, y_test_pred)\n",
    "\n",
    "# Print Metrics\n",
    "recall, specificity, precision, balanced_accuracy, F1 = metrics(cm, PCA_y_test, y_test_pred)\n",
    "\n",
    "# Populate Table\n",
    "Table['Random Forest Best Estimator PCA'] = ['RandomForestClassifier(min_samples_split = 5, n_estimators=150)', testing_accuracy, recall, specificity, precision, balanced_accuracy, F1]\n",
    "\n",
    "#Feature Importance\n",
    "top_n = np.argsort(clf.feature_importances_)[-5:]\n",
    "plt.barh(X.columns[top_n], clf.feature_importances_[top_n])"
   ]
  },
  {
   "cell_type": "markdown",
   "metadata": {},
   "source": [
    "### Random Forest Default Classifier with KPCA"
   ]
  },
  {
   "cell_type": "code",
   "execution_count": 17,
   "metadata": {},
   "outputs": [
    {
     "name": "stdout",
     "output_type": "stream",
     "text": [
      "Training Accuracy:  1.0\n",
      "Testing Accuracy:   0.8458049886621315\n",
      "\n",
      "                  Predicted Negative  Predicted Positive\n",
      "Actual Negative                 371                   0\n",
      "Actual Positive                  68                   2\n"
     ]
    },
    {
     "data": {
      "image/png": "[encoded data removed]",
      "text/plain": [
       "<Figure size 432x288 with 1 Axes>"
      ]
     },
     "metadata": {
      "needs_background": "light"
     },
     "output_type": "display_data"
    },
    {
     "name": "stdout",
     "output_type": "stream",
     "text": [
      "\n",
      "Recall:                   0.02857142857142857\n",
      "Specificity:              1.0\n",
      "Precision:                1.0\n",
      "Balanced Accuracy:        0.5142857142857142\n",
      "F1-Score:                 0.05555555555555556\n"
     ]
    },
    {
     "data": {
      "text/plain": [
       "<BarContainer object of 5 artists>"
      ]
     },
     "execution_count": 17,
     "metadata": {},
     "output_type": "execute_result"
    },
    {
     "data": {
      "image/png": "[encoded data removed]",
      "text/plain": [
       "<Figure size 432x288 with 1 Axes>"
      ]
     },
     "metadata": {
      "needs_background": "light"
     },
     "output_type": "display_data"
    }
   ],
   "source": [
    "# Fit Model to Default Classifier\n",
    "clf = RandomForestClassifier().fit(KPCA_X_train, KPCA_y_train.values.ravel())\n",
    "\n",
    "# Calcualate Training and Testing Accuracy\n",
    "testing_accuracy, y_test_pred = modelAccuracy(clf,  KPCA_X_train, KPCA_X_test)\n",
    "\n",
    "# Print Confusion Matrix\n",
    "cm = confusionMatrix(KPCA_y_test, y_test_pred)\n",
    "\n",
    "# Heat Map\n",
    "heatMap(KPCA_y_test, y_test_pred)\n",
    "\n",
    "# Print Metrics\n",
    "recall, specificity, precision, balanced_accuracy, F1 = metrics(cm, KPCA_y_test, y_test_pred)\n",
    "\n",
    "# Populate Table\n",
    "Table['Random Forest Default Classifier With KPCA'] = ['RandomForestClassifier()', testing_accuracy, recall, specificity, precision, balanced_accuracy, F1]\n",
    "\n",
    "#Feature Importance\n",
    "top_n = np.argsort(clf.feature_importances_)[-5:]\n",
    "plt.barh(X.columns[top_n], clf.feature_importances_[top_n])"
   ]
  },
  {
   "cell_type": "markdown",
   "metadata": {},
   "source": [
    "### GridSearch Random Forest with KPCA"
   ]
  },
  {
   "cell_type": "code",
   "execution_count": 18,
   "metadata": {},
   "outputs": [
    {
     "name": "stdout",
     "output_type": "stream",
     "text": [
      "Best Estimator:\n",
      "RandomForestClassifier(min_samples_split=5, n_estimators=50) \n",
      "\n",
      "Training Accuracy:  0.9990281827016521\n",
      "Testing Accuracy:   0.8435374149659864\n",
      "\n",
      "                  Predicted Negative  Predicted Positive\n",
      "Actual Negative                 371                   0\n",
      "Actual Positive                  69                   1\n"
     ]
    },
    {
     "data": {
      "image/png": "[encoded data removed]",
      "text/plain": [
       "<Figure size 432x288 with 1 Axes>"
      ]
     },
     "metadata": {
      "needs_background": "light"
     },
     "output_type": "display_data"
    },
    {
     "name": "stdout",
     "output_type": "stream",
     "text": [
      "\n",
      "Recall:                   0.014285714285714285\n",
      "Specificity:              1.0\n",
      "Precision:                1.0\n",
      "Balanced Accuracy:        0.5071428571428571\n",
      "F1-Score:                 0.028169014084507043\n"
     ]
    },
    {
     "data": {
      "text/plain": [
       "<BarContainer object of 5 artists>"
      ]
     },
     "execution_count": 18,
     "metadata": {},
     "output_type": "execute_result"
    },
    {
     "data": {
      "image/png": "[encoded data removed]",
      "text/plain": [
       "<Figure size 432x288 with 1 Axes>"
      ]
     },
     "metadata": {
      "needs_background": "light"
     },
     "output_type": "display_data"
    }
   ],
   "source": [
    "# Determine Best Estimator\n",
    "params = dict(\n",
    "    min_samples_split = [5, 10, 20, 30, 40, 50],\n",
    "    max_depth = [1,2,3,None],\n",
    "    n_estimators = [50, 100, 150, 200, 250]\n",
    ")\n",
    "best_estimator = gridSearcBestEstimator(RandomForestClassifier(), params, cv, KPCA_X_train, KPCA_y_train)\n",
    "\n",
    "# Fit Model to best_estimator\n",
    "clf = best_estimator.fit(KPCA_X_train, KPCA_y_train.values.ravel())\n",
    "\n",
    "# Calcualate Training and Testing Accuracy\n",
    "testing_accuracy, y_test_pred = modelAccuracy(clf, KPCA_X_train, KPCA_X_test)\n",
    "\n",
    "# Print Confusion Matrix\n",
    "cm = confusionMatrix(KPCA_y_test, y_test_pred)\n",
    "\n",
    "# Heat Map\n",
    "heatMap(KPCA_y_test, y_test_pred)\n",
    "\n",
    "# Print Metrics\n",
    "recall, specificity, precision, balanced_accuracy, F1 = metrics(cm, KPCA_y_test, y_test_pred)\n",
    "\n",
    "# Populate Table\n",
    "Table['Random Forest Best Estimator With KPCA'] = ['RandomForestClassifier(min_samples_split = 5)', testing_accuracy, recall, specificity, precision, balanced_accuracy, F1]\n",
    "\n",
    "#Feature Importance\n",
    "top_n = np.argsort(clf.feature_importances_)[-5:]\n",
    "plt.barh(X.columns[top_n], clf.feature_importances_[top_n])"
   ]
  },
  {
   "cell_type": "code",
   "execution_count": 19,
   "metadata": {},
   "outputs": [
    {
     "data": {
      "text/html": [
       "<div>\n",
       "<style scoped>\n",
       "    .dataframe tbody tr th:only-of-type {\n",
       "        vertical-align: middle;\n",
       "    }\n",
       "\n",
       "    .dataframe tbody tr th {\n",
       "        vertical-align: top;\n",
       "    }\n",
       "\n",
       "    .dataframe thead th {\n",
       "        text-align: right;\n",
       "    }\n",
       "</style>\n",
       "<table border=\"1\" class=\"dataframe\">\n",
       "  <thead>\n",
       "    <tr style=\"text-align: right;\">\n",
       "      <th></th>\n",
       "      <th>Model</th>\n",
       "      <th>Testing Accuracy</th>\n",
       "      <th>Recall</th>\n",
       "      <th>Specificity</th>\n",
       "      <th>Precision</th>\n",
       "      <th>Balanced Accuracy</th>\n",
       "      <th>F1 Score</th>\n",
       "    </tr>\n",
       "  </thead>\n",
       "  <tbody>\n",
       "    <tr>\n",
       "      <th>Random Forest Best Estimator PCA</th>\n",
       "      <td>RandomForestClassifier(min_samples_split = 5, ...</td>\n",
       "      <td>0.852608</td>\n",
       "      <td>0.085714</td>\n",
       "      <td>0.997305</td>\n",
       "      <td>0.857143</td>\n",
       "      <td>0.541509</td>\n",
       "      <td>0.155844</td>\n",
       "    </tr>\n",
       "    <tr>\n",
       "      <th>Random Forest Default Classifier</th>\n",
       "      <td>RandomForestClassifier()</td>\n",
       "      <td>0.85034</td>\n",
       "      <td>0.085714</td>\n",
       "      <td>0.994609</td>\n",
       "      <td>0.75</td>\n",
       "      <td>0.540162</td>\n",
       "      <td>0.153846</td>\n",
       "    </tr>\n",
       "    <tr>\n",
       "      <th>Random Forest Best Estimator</th>\n",
       "      <td>RandomForestClassifier(min_samples_split = 5, ...</td>\n",
       "      <td>0.85034</td>\n",
       "      <td>0.085714</td>\n",
       "      <td>0.994609</td>\n",
       "      <td>0.75</td>\n",
       "      <td>0.540162</td>\n",
       "      <td>0.153846</td>\n",
       "    </tr>\n",
       "    <tr>\n",
       "      <th>Random Forest Default Classifier With PCA</th>\n",
       "      <td>RandomForestClassifier()</td>\n",
       "      <td>0.839002</td>\n",
       "      <td>0.071429</td>\n",
       "      <td>0.983827</td>\n",
       "      <td>0.454545</td>\n",
       "      <td>0.527628</td>\n",
       "      <td>0.123457</td>\n",
       "    </tr>\n",
       "    <tr>\n",
       "      <th>Random Forest Default Classifier With KPCA</th>\n",
       "      <td>RandomForestClassifier()</td>\n",
       "      <td>0.845805</td>\n",
       "      <td>0.028571</td>\n",
       "      <td>1.0</td>\n",
       "      <td>1.0</td>\n",
       "      <td>0.514286</td>\n",
       "      <td>0.055556</td>\n",
       "    </tr>\n",
       "    <tr>\n",
       "      <th>Random Forest Best Estimator With KPCA</th>\n",
       "      <td>RandomForestClassifier(min_samples_split = 5)</td>\n",
       "      <td>0.843537</td>\n",
       "      <td>0.014286</td>\n",
       "      <td>1.0</td>\n",
       "      <td>1.0</td>\n",
       "      <td>0.507143</td>\n",
       "      <td>0.028169</td>\n",
       "    </tr>\n",
       "  </tbody>\n",
       "</table>\n",
       "</div>"
      ],
      "text/plain": [
       "                                                                                        Model  \\\n",
       "Random Forest Best Estimator PCA            RandomForestClassifier(min_samples_split = 5, ...   \n",
       "Random Forest Default Classifier                                     RandomForestClassifier()   \n",
       "Random Forest Best Estimator                RandomForestClassifier(min_samples_split = 5, ...   \n",
       "Random Forest Default Classifier With PCA                            RandomForestClassifier()   \n",
       "Random Forest Default Classifier With KPCA                           RandomForestClassifier()   \n",
       "Random Forest Best Estimator With KPCA          RandomForestClassifier(min_samples_split = 5)   \n",
       "\n",
       "                                           Testing Accuracy    Recall  \\\n",
       "Random Forest Best Estimator PCA                   0.852608  0.085714   \n",
       "Random Forest Default Classifier                    0.85034  0.085714   \n",
       "Random Forest Best Estimator                        0.85034  0.085714   \n",
       "Random Forest Default Classifier With PCA          0.839002  0.071429   \n",
       "Random Forest Default Classifier With KPCA         0.845805  0.028571   \n",
       "Random Forest Best Estimator With KPCA             0.843537  0.014286   \n",
       "\n",
       "                                           Specificity Precision  \\\n",
       "Random Forest Best Estimator PCA              0.997305  0.857143   \n",
       "Random Forest Default Classifier              0.994609      0.75   \n",
       "Random Forest Best Estimator                  0.994609      0.75   \n",
       "Random Forest Default Classifier With PCA     0.983827  0.454545   \n",
       "Random Forest Default Classifier With KPCA         1.0       1.0   \n",
       "Random Forest Best Estimator With KPCA             1.0       1.0   \n",
       "\n",
       "                                           Balanced Accuracy  F1 Score  \n",
       "Random Forest Best Estimator PCA                    0.541509  0.155844  \n",
       "Random Forest Default Classifier                    0.540162  0.153846  \n",
       "Random Forest Best Estimator                        0.540162  0.153846  \n",
       "Random Forest Default Classifier With PCA           0.527628  0.123457  \n",
       "Random Forest Default Classifier With KPCA          0.514286  0.055556  \n",
       "Random Forest Best Estimator With KPCA              0.507143  0.028169  "
      ]
     },
     "execution_count": 19,
     "metadata": {},
     "output_type": "execute_result"
    }
   ],
   "source": [
    "Table = Table.T\n",
    "Table.sort_values(by=['Balanced Accuracy'], ascending=False)"
   ]
  },
  {
   "cell_type": "markdown",
   "metadata": {},
   "source": [
    "### Conclusions"
   ]
  },
  {
   "cell_type": "markdown",
   "metadata": {},
   "source": [
    "As we can see, none of the random forest models do particularly well. The balanced accuracies of all models are poor and the recall is pitiful. The balanced accuracies are barely different, the difference between the best and worst models are only a few percentage points. The Random Forest Best Estimator with PCA, Default Classifier with all data, and Best Estimator with all data performed very similarly across all scores. The only real difference is that precision was higher for the best estimator PCA.\n",
    "\n",
    "For these models we saw that the best indicators of attrition were Age, Total Working Years, Daily Rate, Monthly Rate, Distance from Home, Years at Company, and Environmental Satisfaction. Hourly Rate, Distance from Home, and Total Working Years were of the top five predictors in all 3 models. While Distance from Home and Total Working Years are out of the employer's control, their pay or hourly rate is within their control and could be a powerful tool in lowering employee attrition. "
   ]
  }
 ],
 "metadata": {
  "kernelspec": {
   "display_name": "Python 3",
   "language": "python",
   "name": "python3"
  },
  "language_info": {
   "codemirror_mode": {
    "name": "ipython",
    "version": 3
   },
   "file_extension": ".py",
   "mimetype": "text/x-python",
   "name": "python",
   "nbconvert_exporter": "python",
   "pygments_lexer": "ipython3",
   "version": "3.8.5"
  }
 },
 "nbformat": 4,
 "nbformat_minor": 4
}
