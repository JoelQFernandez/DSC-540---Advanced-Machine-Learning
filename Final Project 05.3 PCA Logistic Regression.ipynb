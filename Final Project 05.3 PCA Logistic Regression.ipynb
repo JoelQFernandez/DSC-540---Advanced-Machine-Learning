{
 "cells": [
  {
   "cell_type": "markdown",
   "id": "automatic-humor",
   "metadata": {},
   "source": [
    "## PCA Logistic Regression"
   ]
  },
  {
   "cell_type": "code",
   "execution_count": 1,
   "id": "vocational-bradley",
   "metadata": {},
   "outputs": [],
   "source": [
    "# Import statements\n",
    "import numpy as np\n",
    "import pandas as pd\n",
    "import seaborn as sns\n",
    "import matplotlib.pyplot as plt\n",
    "from sklearn.preprocessing import MinMaxScaler\n",
    "from sklearn.model_selection import train_test_split\n",
    "from sklearn.model_selection import cross_val_score\n",
    "from sklearn.model_selection import StratifiedKFold\n",
    "\n",
    "# Display options\n",
    "pd.set_option('display.max_columns', None)"
   ]
  },
  {
   "cell_type": "code",
   "execution_count": 2,
   "id": "crude-handbook",
   "metadata": {},
   "outputs": [],
   "source": [
    "hr_employee = pd.read_csv( './Data/PCA_HR_Employee.csv', delimiter = \",\")\n",
    "Attrition = pd.read_csv( './Data/Attrition.csv', delimiter = \",\")"
   ]
  },
  {
   "cell_type": "code",
   "execution_count": 3,
   "id": "handmade-regard",
   "metadata": {},
   "outputs": [],
   "source": [
    "X = hr_employee\n",
    "# Y = Attrition.values.ravel()\n",
    "Y = Attrition"
   ]
  },
  {
   "cell_type": "code",
   "execution_count": 4,
   "id": "empty-supply",
   "metadata": {},
   "outputs": [
    {
     "name": "stdout",
     "output_type": "stream",
     "text": [
      "(1176, 29) (1176, 1)\n",
      "(294, 29) (294, 1)\n"
     ]
    }
   ],
   "source": [
    "X_train, X_test, y_train, y_test = train_test_split(X, Y, test_size=0.2)\n",
    "print(X_train.shape, y_train.shape)\n",
    "print(X_test.shape, y_test.shape)"
   ]
  },
  {
   "cell_type": "markdown",
   "id": "confident-commerce",
   "metadata": {},
   "source": [
    "#### Functions"
   ]
  },
  {
   "cell_type": "code",
   "execution_count": 5,
   "id": "compressed-johns",
   "metadata": {},
   "outputs": [],
   "source": [
    "from sklearn.linear_model import LogisticRegression\n",
    "from sklearn import metrics\n",
    "from sklearn.model_selection import GridSearchCV\n",
    "# Function:    gridSearcBestEstimator\n",
    "# Input:       Classifier, parameters, cross validation\n",
    "# Output:      Prints Best Estimator\n",
    "# Returns:     Best Estimator\n",
    "def gridSearcBestEstimator(model, params, cv):\n",
    "    clf = model \n",
    "    gs = GridSearchCV(estimator=clf, param_grid=params, scoring='f1', cv=cv, n_jobs=-1, )\n",
    "\n",
    "    gs.fit(X_train, y_train.values.ravel())\n",
    "    best_estimator = gs.best_estimator_\n",
    "    \n",
    "    print('Best Estimator:')\n",
    "    print(best_estimator,'\\n')\n",
    "    \n",
    "    #if model == DecisionTreeClassifier():\n",
    "    #    best_estimator.get_depth()\n",
    "\n",
    "    return best_estimator"
   ]
  },
  {
   "cell_type": "code",
   "execution_count": 6,
   "id": "perceived-ceremony",
   "metadata": {},
   "outputs": [],
   "source": [
    "# Function:    fitModel\n",
    "# Input:       Classifier\n",
    "# Returns:     Fitted Model\n",
    "def fitModel(model):\n",
    "    clf = model\n",
    "    clf.fit(X_train, y_train.values.ravel())\n",
    "    \n",
    "    return clf"
   ]
  },
  {
   "cell_type": "code",
   "execution_count": 7,
   "id": "ceramic-completion",
   "metadata": {},
   "outputs": [],
   "source": [
    "from sklearn.metrics import accuracy_score\n",
    "# Function:    modelAccuracy\n",
    "# Input:       Classifier with Best Estimator\n",
    "# Output:      Prints Training & Testing Accuracy\n",
    "# Returns:     Y Test Predictions\n",
    "def modelAccuracy(model):\n",
    "    clf = model\n",
    "    \n",
    "    # Make Train predictions\n",
    "    y_train_pred = clf.predict(X_train)\n",
    "    # Calculate accuracy score\n",
    "    training_accuracy = accuracy_score(y_train, y_train_pred)\n",
    "    print('Training Accuracy: ',training_accuracy)\n",
    "    # confusionMatrixMetrics(y_train, y_pred)\n",
    "\n",
    "    # Make Test predictions\n",
    "    y_test_pred = clf.predict(X_test)\n",
    "    # Calculate accuracy scores\n",
    "    testing_accuracy = accuracy_score(y_test, y_test_pred)\n",
    "    print('Testing Accuracy:  ',testing_accuracy)\n",
    "    \n",
    "    return y_test_pred"
   ]
  },
  {
   "cell_type": "code",
   "execution_count": 8,
   "id": "electronic-ecuador",
   "metadata": {},
   "outputs": [],
   "source": [
    "from sklearn.metrics import confusion_matrix\n",
    "# Function:    confusionMatrix\n",
    "# Input:       Training/Testing dataframe and predictions\n",
    "# Output:      Prints Formatted Confusion Matrix\n",
    "# Returns:     Confusion Matrix Array\n",
    "# URL:         https://towardsdatascience.com/evaluating-machine-learning-classification-problems-in-python-5-1-metrics-that-matter-792c6faddf5\n",
    "def confusionMatrix(true_test_train, pred):\n",
    "    true = true_test_train\n",
    "    \n",
    "    cm = confusion_matrix(true, pred.round(), normalize=None)\n",
    "\n",
    "    # Assigning columns names\n",
    "    cm_df = pd.DataFrame(cm, \n",
    "                        columns = ['Predicted Negative', 'Predicted Positive'],\n",
    "                        index = ['Actual Negative', 'Actual Positive'])\n",
    "    \n",
    "    # Printing Formatted Confusion Matrix\n",
    "    print('\\n',cm_df)\n",
    "    \n",
    "    return cm"
   ]
  },
  {
   "cell_type": "code",
   "execution_count": 9,
   "id": "random-indonesian",
   "metadata": {},
   "outputs": [],
   "source": [
    "from sklearn.metrics import balanced_accuracy_score\n",
    "from sklearn.metrics import recall_score\n",
    "from sklearn.metrics import precision_score\n",
    "from sklearn.metrics import f1_score\n",
    "# Function:    metrics\n",
    "# Input:       confusion matrix array, true class values, predicted class values\n",
    "# Output:      Prints Recall, Sensitivity, Precision, False Positive Rate, Balanced Accuracy & F1 Scores\n",
    "def metrics(cm, true, pred):\n",
    "    # Assign values from the confusion matrix to manually \n",
    "    # calculate Specificity and False Positive Rate \n",
    "    TP = cm[1][1]\n",
    "    TN = cm[0][0]\n",
    "    FP = cm[0][1]\n",
    "    FN = cm[1][0]\n",
    "\n",
    "    # Recall\n",
    "    recall = recall_score(true, pred)\n",
    "    print('\\nRecall:                  ', recall)\n",
    "    # Sensitivity\n",
    "    sensitivity = recall\n",
    "    # Specificity\n",
    "    specificity = (TN / float(TN + FP))\n",
    "    print('Specificity:             ', specificity)\n",
    "    # Precision\n",
    "    precision = precision_score(true, pred)\n",
    "    print('Precision:               ', precision)\n",
    "    # False Positive Rate\n",
    "    # fpr = (FP / float(TN + FP))\n",
    "    # print ('False Positive Rate:     ', fpr)\n",
    "    # Balanced Accuracy\n",
    "    balanced_accuracy = (sensitivity + specificity)/2\n",
    "    #balance_accuracy = metrics.balanced_accuracy_score(y_true, y_pred)\n",
    "    print('Balanced Accuracy:       ', balanced_accuracy)\n",
    "    # F1 Score Method 1: sklearn\n",
    "    F1 = f1_score(true, pred)\n",
    "    print('F1-Score:                ', F1)\n",
    "    \n",
    "    #return recall, specificity, precision, balanced_accuracy, F1, cm_df"
   ]
  },
  {
   "cell_type": "markdown",
   "id": "banner-copyright",
   "metadata": {},
   "source": [
    "### Logistic Regression Pre-processing\n",
    "Scale Data"
   ]
  },
  {
   "cell_type": "code",
   "execution_count": 10,
   "id": "upset-introduction",
   "metadata": {},
   "outputs": [],
   "source": [
    "scaler = MinMaxScaler(feature_range = (0,1))\n",
    "\n",
    "scaler.fit(X_train)\n",
    "X_train = scaler.transform(X_train)\n",
    "X_test = scaler.transform(X_test)"
   ]
  },
  {
   "cell_type": "markdown",
   "id": "cleared-advertising",
   "metadata": {},
   "source": [
    "### Performance on default logistic regression model"
   ]
  },
  {
   "cell_type": "code",
   "execution_count": 11,
   "id": "romantic-volleyball",
   "metadata": {},
   "outputs": [
    {
     "name": "stdout",
     "output_type": "stream",
     "text": [
      "Training Accuracy:  0.8622448979591837\n",
      "Testing Accuracy:   0.8707482993197279\n",
      "\n",
      "                  Predicted Negative  Predicted Positive\n",
      "Actual Negative                 241                   7\n",
      "Actual Positive                  31                  15\n",
      "\n",
      "Recall:                   0.32608695652173914\n",
      "Specificity:              0.9717741935483871\n",
      "Precision:                0.6818181818181818\n",
      "Balanced Accuracy:        0.6489305750350631\n",
      "F1-Score:                 0.4411764705882353\n"
     ]
    }
   ],
   "source": [
    "# Fit Model to Default Classifier\n",
    "lr_clf = fitModel(LogisticRegression())\n",
    "\n",
    "# Calcualate Training and Testing Accuracy\n",
    "y_test_pred = modelAccuracy(lr_clf)\n",
    "\n",
    "# Print Confusion Matrix\n",
    "cm = confusionMatrix(y_test, y_test_pred)\n",
    "\n",
    "# Print Metrics\n",
    "metrics(cm, y_test, y_test_pred)"
   ]
  },
  {
   "cell_type": "markdown",
   "id": "herbal-nashville",
   "metadata": {},
   "source": [
    "#### Confusion Matrix for default model"
   ]
  },
  {
   "cell_type": "code",
   "execution_count": 12,
   "id": "corporate-jewelry",
   "metadata": {},
   "outputs": [
    {
     "data": {
      "image/png": "[encoded data removed]",
      "text/plain": [
       "<Figure size 432x288 with 1 Axes>"
      ]
     },
     "metadata": {
      "needs_background": "light"
     },
     "output_type": "display_data"
    }
   ],
   "source": [
    "# Confusion Matrix\n",
    "cm_plot =  pd.crosstab(index=y_test.values.ravel(), columns=y_test_pred, rownames=['Expected'], colnames=['Predicted'])\n",
    "sns.heatmap(cm_plot, annot=True, square=False, fmt='', cbar=False)\n",
    "plt.title(\"Confusion Matrix\", fontsize = 15)\n",
    "plt.show()"
   ]
  },
  {
   "cell_type": "markdown",
   "id": "another-easter",
   "metadata": {},
   "source": [
    "### Cross Validation Setup"
   ]
  },
  {
   "cell_type": "code",
   "execution_count": 13,
   "id": "respected-clock",
   "metadata": {},
   "outputs": [],
   "source": [
    "# Cross Validate\n",
    "cv = StratifiedKFold(n_splits=10, shuffle=True, random_state=0)"
   ]
  },
  {
   "cell_type": "markdown",
   "id": "compact-analysis",
   "metadata": {},
   "source": [
    "### GridSearch CV Logistic Regression"
   ]
  },
  {
   "cell_type": "code",
   "execution_count": 14,
   "id": "controlling-hardware",
   "metadata": {
    "scrolled": true
   },
   "outputs": [
    {
     "name": "stdout",
     "output_type": "stream",
     "text": [
      "Best Estimator:\n",
      "LogisticRegression(C=100.0, max_iter=200) \n",
      "\n",
      "Training Accuracy:  0.8664965986394558\n",
      "Testing Accuracy:   0.8741496598639455\n",
      "\n",
      "                  Predicted Negative  Predicted Positive\n",
      "Actual Negative                 241                   7\n",
      "Actual Positive                  30                  16\n",
      "\n",
      "Recall:                   0.34782608695652173\n",
      "Specificity:              0.9717741935483871\n",
      "Precision:                0.6956521739130435\n",
      "Balanced Accuracy:        0.6598001402524545\n",
      "F1-Score:                 0.46376811594202894\n"
     ]
    },
    {
     "name": "stderr",
     "output_type": "stream",
     "text": [
      "/opt/miniconda3/lib/python3.8/site-packages/sklearn/model_selection/_search.py:918: UserWarning: One or more of the test scores are non-finite: [       nan 0.                nan 0.                nan 0.\n",
      "        nan 0.                nan 0.                nan 0.\n",
      "        nan 0.                nan 0.                nan 0.12829475\n",
      "        nan 0.12829475        nan 0.12829475        nan 0.12829475\n",
      "        nan 0.33381286        nan 0.33381286        nan 0.33381286\n",
      "        nan 0.33381286        nan 0.3913539         nan 0.3913539\n",
      "        nan 0.3913539         nan 0.3913539         nan 0.39689087\n",
      "        nan 0.39689087        nan 0.39689087        nan 0.39689087\n",
      "        nan 0.39689087        nan 0.39689087        nan 0.39689087\n",
      "        nan 0.39689087]\n",
      "  warnings.warn(\n"
     ]
    }
   ],
   "source": [
    "# Determine Best Estimator\n",
    "params = dict(\n",
    "    penalty = ['l1','l2'], #l1 lasso l2 ridge\n",
    "    C = np.logspace(-3,3,7),\n",
    "    solver=['lbfgs'],\n",
    "    max_iter = [200,250,500,750]\n",
    ")\n",
    "\n",
    "# best_estimator = GridSearchCV(lr_clf, params,cv=10)\n",
    "best_estimator = gridSearcBestEstimator(LogisticRegression(), params, cv)\n",
    "\n",
    "# # Fit Model to best_estimator\n",
    "lr_clf = fitModel(best_estimator)\n",
    "\n",
    "# Calcualate Training and Testing Accuracy\n",
    "y_test_pred = modelAccuracy(lr_clf)\n",
    "\n",
    "# Print Confusion Matrix\n",
    "cm = confusionMatrix(y_test, y_test_pred)\n",
    "\n",
    "# Print Metrics\n",
    "metrics(cm, y_test, y_test_pred)"
   ]
  },
  {
   "cell_type": "markdown",
   "id": "aggregate-seating",
   "metadata": {},
   "source": [
    "### Confusion Matrix for Best Estimator"
   ]
  },
  {
   "cell_type": "code",
   "execution_count": 15,
   "id": "expired-syndication",
   "metadata": {},
   "outputs": [
    {
     "data": {
      "image/png": "[encoded data removed]",
      "text/plain": [
       "<Figure size 432x288 with 1 Axes>"
      ]
     },
     "metadata": {
      "needs_background": "light"
     },
     "output_type": "display_data"
    }
   ],
   "source": [
    "# Confusion Matrix\n",
    "cm_plot =  pd.crosstab(index=y_test.values.ravel(), columns=y_test_pred, rownames=['Expected'], colnames=['Predicted'])\n",
    "sns.heatmap(cm_plot, annot=True, square=False, fmt='', cbar=False)\n",
    "plt.title(\"Confusion Matrix\", fontsize = 15)\n",
    "plt.show()"
   ]
  },
  {
   "cell_type": "markdown",
   "id": "organizational-military",
   "metadata": {},
   "source": [
    "### Observations\n",
    " \n"
   ]
  },
  {
   "cell_type": "code",
   "execution_count": null,
   "id": "unlike-motion",
   "metadata": {},
   "outputs": [],
   "source": []
  }
 ],
 "metadata": {
  "kernelspec": {
   "display_name": "Python 3",
   "language": "python",
   "name": "python3"
  },
  "language_info": {
   "codemirror_mode": {
    "name": "ipython",
    "version": 3
   },
   "file_extension": ".py",
   "mimetype": "text/x-python",
   "name": "python",
   "nbconvert_exporter": "python",
   "pygments_lexer": "ipython3",
   "version": "3.8.5"
  }
 },
 "nbformat": 4,
 "nbformat_minor": 5
}
