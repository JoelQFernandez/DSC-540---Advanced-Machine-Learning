{
 "cells": [
  {
   "cell_type": "markdown",
   "metadata": {},
   "source": [
    "# AdaBoost"
   ]
  },
  {
   "cell_type": "code",
   "execution_count": null,
   "metadata": {},
   "outputs": [],
   "source": [
    "# Import Statements\n",
    "import pandas as pd\n",
    "import numpy as np\n",
    "import matplotlib.pyplot as plt\n",
    "import seaborn as sns\n",
    "from sklearn.ensemble import AdaBoostClassifier"
   ]
  },
  {
   "cell_type": "code",
   "execution_count": null,
   "metadata": {},
   "outputs": [],
   "source": [
    "pd.set_option('display.max_columns', 100)"
   ]
  },
  {
   "cell_type": "markdown",
   "metadata": {},
   "source": [
    "### Functions "
   ]
  },
  {
   "cell_type": "code",
   "execution_count": null,
   "metadata": {},
   "outputs": [],
   "source": [
    "from sklearn.metrics import accuracy_score\n",
    "# Function:    modelAccuracy\n",
    "# Input:       Classifier with Best Estimator\n",
    "# Output:      Prints Training & Testing Accuracy\n",
    "# Returns:     Y Test Predictions\n",
    "def modelAccuracy(model, X_train, X_test):\n",
    "    clf = model\n",
    "    \n",
    "    # Make Train predictions\n",
    "    y_train_pred = clf.predict(X_train)\n",
    "    # Calculate accuracy score\n",
    "    training_accuracy = accuracy_score(y_train, y_train_pred)\n",
    "    print('Training Accuracy: ',training_accuracy)\n",
    "    # confusionMatrixMetrics(y_train, y_pred)\n",
    "\n",
    "    # Make Test predictions\n",
    "    y_test_pred = clf.predict(X_test)\n",
    "    # Calculate accuracy scores\n",
    "    testing_accuracy = accuracy_score(y_test, y_test_pred)\n",
    "    print('Testing Accuracy:  ',testing_accuracy)\n",
    "    \n",
    "    return testing_accuracy, y_test_pred"
   ]
  },
  {
   "cell_type": "code",
   "execution_count": null,
   "metadata": {},
   "outputs": [],
   "source": [
    "from sklearn.metrics import confusion_matrix\n",
    "# Function:    confusionMatrix\n",
    "# Input:       Training/Testing dataframe and predictions\n",
    "# Output:      Prints Formatted Confusion Matrix\n",
    "# Returns:     Confusion Matrix Array\n",
    "# URL:         https://towardsdatascience.com/evaluating-machine-learning-classification-problems-in-python-5-1-metrics-that-matter-792c6faddf5\n",
    "def confusionMatrix(true, pred):\n",
    "    cm = confusion_matrix(true, pred.round(), normalize=None)\n",
    "\n",
    "    # Assigning columns names\n",
    "    cm_df = pd.DataFrame(cm, \n",
    "                        columns = ['Predicted Negative', 'Predicted Positive'],\n",
    "                        index = ['Actual Negative', 'Actual Positive'])\n",
    "    \n",
    "    # Printing Formatted Confusion Matrix\n",
    "    print('\\n',cm_df)\n",
    "    \n",
    "    return cm"
   ]
  },
  {
   "cell_type": "code",
   "execution_count": null,
   "metadata": {},
   "outputs": [],
   "source": [
    "from sklearn.model_selection import GridSearchCV\n",
    "# Function:    gridSearcBestEstimator\n",
    "# Input:       Classifier, parameters, cross validation\n",
    "# Output:      Prints Best Estimator\n",
    "# Returns:     Best Estimator\n",
    "def gridSearcBestEstimator(model, params, cv, X_train, X_test):\n",
    "    clf = model \n",
    "    gs = GridSearchCV(estimator=clf, param_grid=params, scoring='f1', cv=cv, n_jobs=-1, )\n",
    "\n",
    "    gs.fit(X_train, y_train.values.ravel())\n",
    "    best_estimator = gs.best_estimator_\n",
    "    \n",
    "    print('Best Estimator:')\n",
    "    print(best_estimator,'\\n')\n",
    "    \n",
    "    # Required For Decision Tree Classifier\n",
    "    from sklearn.tree import DecisionTreeClassifier\n",
    "    if model == DecisionTreeClassifier():\n",
    "        best_estimator.get_depth()\n",
    "\n",
    "    return best_estimator"
   ]
  },
  {
   "cell_type": "code",
   "execution_count": null,
   "metadata": {},
   "outputs": [],
   "source": [
    "# Function:    heatMap\n",
    "# Input:       true y values, predicted y values\n",
    "# Output:      Heat Map Of Confusion Matrix\n",
    "def heatMap(y_true, y_pred):\n",
    "    cm_plot =  pd.crosstab(index=y_true.values.ravel(), columns=y_test_pred, rownames=['Actual'], colnames=['Predicted'])\n",
    "    sns.heatmap(cm_plot, annot=True, square=False, fmt='', cbar=False)\n",
    "    plt.title(\"Confusion Matrix\", fontsize = 15)\n",
    "    plt.show()"
   ]
  },
  {
   "cell_type": "code",
   "execution_count": null,
   "metadata": {},
   "outputs": [],
   "source": [
    "from sklearn.metrics import balanced_accuracy_score\n",
    "from sklearn.metrics import recall_score\n",
    "from sklearn.metrics import precision_score\n",
    "from sklearn.metrics import f1_score\n",
    "# Function:    metrics\n",
    "# Input:       confusion matrix array, true class values, predicted class values\n",
    "# Output:      Prints Recall, Sensitivity, Precision, False Positive Rate, Balanced Accuracy & F1 Scores\n",
    "def metrics(cm, true, pred):\n",
    "    # Assign values from the confusion matrix to manually \n",
    "    # calculate Specificity and False Positive Rate \n",
    "    TP = cm[1][1]\n",
    "    TN = cm[0][0]\n",
    "    FP = cm[0][1]\n",
    "    FN = cm[1][0]\n",
    "\n",
    "    # Recall\n",
    "    recall = recall_score(true, pred)\n",
    "    print('\\nRecall:                  ', recall)\n",
    "    # Sensitivity\n",
    "    sensitivity = recall\n",
    "    # Specificity\n",
    "    specificity = (TN / float(TN + FP))\n",
    "    print('Specificity:             ', specificity)\n",
    "    # Precision\n",
    "    precision = precision_score(true, pred)\n",
    "    print('Precision:               ', precision)\n",
    "    # False Positive Rate\n",
    "    # fpr = (FP / float(TN + FP))\n",
    "    # print ('False Positive Rate:     ', fpr)\n",
    "    # Balanced Accuracy\n",
    "    balanced_accuracy = (sensitivity + specificity)/2\n",
    "    #balance_accuracy = metrics.balanced_accuracy_score(y_true, y_pred)\n",
    "    print('Balanced Accuracy:       ', balanced_accuracy)\n",
    "    # F1 Score Method 1: sklearn\n",
    "    F1 = f1_score(true, pred)\n",
    "    print('F1-Score:                ', F1)\n",
    "    \n",
    "    return recall, specificity, precision, balanced_accuracy, F1"
   ]
  },
  {
   "cell_type": "markdown",
   "metadata": {},
   "source": [
    "### Read The Data."
   ]
  },
  {
   "cell_type": "code",
   "execution_count": null,
   "metadata": {},
   "outputs": [],
   "source": [
    "# Read HR_Employee.csv\n",
    "X = pd.read_csv('./Data/HR_Employee.csv')\n",
    "# Read Attrition.csv\n",
    "y = pd.read_csv('./Data/Attrition.csv')\n",
    "# Read PCA_HR_Employee.csv\n",
    "PCA_X = pd.read_csv('./Data/PCA_HR_Employee.csv')"
   ]
  },
  {
   "cell_type": "markdown",
   "metadata": {},
   "source": [
    "### Train Test Split."
   ]
  },
  {
   "cell_type": "code",
   "execution_count": null,
   "metadata": {},
   "outputs": [],
   "source": [
    "from sklearn.model_selection import train_test_split\n",
    "X_train, X_test, y_train, y_test = train_test_split(X, y, test_size=0.30, random_state=2020)\n",
    "\n",
    "# Train Test Split for PCA\n",
    "PCA_X_train, PCA_X_test, PCA_y_train, PCA_y_test = train_test_split(PCA_X, y, test_size=0.30, random_state=2020)"
   ]
  },
  {
   "cell_type": "markdown",
   "metadata": {},
   "source": [
    "### Initialize Table"
   ]
  },
  {
   "cell_type": "code",
   "execution_count": null,
   "metadata": {},
   "outputs": [],
   "source": [
    "Table = pd.DataFrame(index = ['Model','Testing Accuracy', 'Recall', 'Specificity', 'Precision', 'Balanced Accuracy', 'F1 Score'])"
   ]
  },
  {
   "cell_type": "markdown",
   "metadata": {},
   "source": [
    "### Cross Validate."
   ]
  },
  {
   "cell_type": "code",
   "execution_count": null,
   "metadata": {},
   "outputs": [],
   "source": [
    "# Cross Validate\n",
    "from sklearn.model_selection import cross_val_score\n",
    "from sklearn.model_selection import StratifiedKFold\n",
    "\n",
    "cv = StratifiedKFold(n_splits=10, shuffle=True, random_state=0)"
   ]
  },
  {
   "cell_type": "markdown",
   "metadata": {},
   "source": [
    "# AdaBoost Default Classifier"
   ]
  },
  {
   "cell_type": "code",
   "execution_count": null,
   "metadata": {
    "scrolled": false
   },
   "outputs": [],
   "source": [
    "# Fit Model to Default Classifier\n",
    "clf = AdaBoostClassifier().fit(X_train, y_train.values.ravel())\n",
    "# Calcualate Training and Testing Accuracy\n",
    "testing_accuracy, y_test_pred = modelAccuracy(clf,  X_train, X_test)\n",
    "# Print Confusion Matrix\n",
    "cm = confusionMatrix(y_test, y_test_pred)\n",
    "# Heat Map\n",
    "heatMap(y_test, y_test_pred)\n",
    "# Print Metrics\n",
    "recall, specificity, precision, balanced_accuracy, F1 = metrics(cm, y_test, y_test_pred)\n",
    "# Populate Table\n",
    "Table['AdaBoost Default Classifier'] = ['AdaBoostClassifier()', testing_accuracy, recall, specificity, precision, balanced_accuracy, F1]"
   ]
  },
  {
   "cell_type": "markdown",
   "metadata": {},
   "source": [
    "# GridSearchCV AdaBoost Best Estimator"
   ]
  },
  {
   "cell_type": "code",
   "execution_count": null,
   "metadata": {
    "scrolled": false
   },
   "outputs": [],
   "source": [
    "# Determine Best Estimator\n",
    "params = dict(\n",
    "    learning_rate = [0.0001, 0.001, 0.01, 0.1, 1.0],\n",
    "    #n_estimators = [5, 10, 20, 30, 40, 50, 100, 200]\n",
    "    n_estimators = [int(x) for x in np.linspace(start = 0, stop = 200, num = 3)]\n",
    ")\n",
    "best_estimator = gridSearcBestEstimator(AdaBoostClassifier(), params, cv, X_train, y_train)\n",
    "\n",
    "# Fit Model to best_estimator\n",
    "clf = best_estimator.fit(X_train, y_train.values.ravel())\n",
    "\n",
    "# Calcualate Training and Testing Accuracy\n",
    "testing_accuracy, y_test_pred = modelAccuracy(clf, X_train, X_test)\n",
    "\n",
    "# Print Confusion Matrix\n",
    "cm = confusionMatrix(y_test, y_test_pred)\n",
    "\n",
    "# Heat Map\n",
    "heatMap(y_test, y_test_pred)\n",
    "\n",
    "# Print Metrics\n",
    "recall, specificity, precision, balanced_accuracy, F1 = metrics(cm, y_test, y_test_pred)\n",
    "\n",
    "# Populate Table\n",
    "Table['AdaBoost Best Estimator'] = ['AdaBoostClassifier(n_estimators=100)', testing_accuracy, recall, specificity, precision, balanced_accuracy, F1]"
   ]
  },
  {
   "cell_type": "markdown",
   "metadata": {},
   "source": [
    "# AdaBoost Default Classifier With PCA"
   ]
  },
  {
   "cell_type": "code",
   "execution_count": null,
   "metadata": {
    "scrolled": true
   },
   "outputs": [],
   "source": [
    "# Fit Model to Default Classifier\n",
    "clf = AdaBoostClassifier().fit(PCA_X_train, PCA_y_train.values.ravel())\n",
    "\n",
    "# Calcualate Training and Testing Accuracy\n",
    "testing_accuracy, y_test_pred = modelAccuracy(clf,  PCA_X_train, PCA_X_test)\n",
    "\n",
    "# Print Confusion Matrix\n",
    "cm = confusionMatrix(PCA_y_test, y_test_pred)\n",
    "\n",
    "# Heat Map\n",
    "heatMap(PCA_y_test, y_test_pred)\n",
    "\n",
    "# Print Metrics\n",
    "recall, specificity, precision, balanced_accuracy, F1 = metrics(cm, PCA_y_test, y_test_pred)\n",
    "\n",
    "# Populate Table\n",
    "Table['AdaBoost Default Classifier With PCA'] = ['AdaBoostClassifier()', testing_accuracy, recall, specificity, precision, balanced_accuracy, F1]"
   ]
  },
  {
   "cell_type": "markdown",
   "metadata": {},
   "source": [
    "# GridSearchCV AdaBoost Best Estimator With PCA"
   ]
  },
  {
   "cell_type": "code",
   "execution_count": null,
   "metadata": {
    "scrolled": true
   },
   "outputs": [],
   "source": [
    "# Determine Best Estimator\n",
    "params = dict(\n",
    "    learning_rate = [0.0001, 0.001, 0.01, 0.1, 1.0],\n",
    "    #n_estimators = [5, 10, 20, 30, 40, 50, 100, 200]\n",
    "    n_estimators = [int(x) for x in np.linspace(start = 0, stop = 200, num = 3)]\n",
    ")\n",
    "best_estimator = gridSearcBestEstimator(AdaBoostClassifier(), params, cv, PCA_X_train, PCA_y_train)\n",
    "\n",
    "# Fit Model to best_estimator\n",
    "clf = best_estimator.fit(PCA_X_train, PCA_y_train.values.ravel())\n",
    "\n",
    "# Calcualate Training and Testing Accuracy\n",
    "testing_accuracy, y_test_pred = modelAccuracy(clf, PCA_X_train, PCA_X_test)\n",
    "\n",
    "# Print Confusion Matrix\n",
    "cm = confusionMatrix(PCA_y_test, y_test_pred)\n",
    "\n",
    "# Heat Map\n",
    "heatMap(PCA_y_test, y_test_pred)\n",
    "\n",
    "# Print Metrics\n",
    "recall, specificity, precision, balanced_accuracy, F1 = metrics(cm, PCA_y_test, y_test_pred)\n",
    "\n",
    "# Populate Table\n",
    "Table['AdaBoost Best Estimator With PCA'] = ['AdaBoostClassifier(n_estimators=100)', testing_accuracy, recall, specificity, precision, balanced_accuracy, F1]"
   ]
  },
  {
   "cell_type": "markdown",
   "metadata": {},
   "source": [
    "# Table"
   ]
  },
  {
   "cell_type": "code",
   "execution_count": null,
   "metadata": {},
   "outputs": [],
   "source": [
    "Table = Table.T\n",
    "Table.sort_values(by=['Balanced Accuracy'], ascending=False)"
   ]
  },
  {
   "cell_type": "markdown",
   "metadata": {},
   "source": [
    "# Observations\n",
    "\n",
    "### Saw improvements in the following Metrics after applying GridSearchCV:  Testing Accuracy, Recall, Balanced Accuracy and F1-Score.\n",
    "\n",
    "### Running the GridSearchCV with PCA lost a few percentage points (Balance Accuracy) when compared to the AdaBoost Best Estimator, but might be worth considering with the reduced feature set."
   ]
  }
 ],
 "metadata": {
  "kernelspec": {
   "display_name": "Python 3",
   "language": "python",
   "name": "python3"
  },
  "language_info": {
   "codemirror_mode": {
    "name": "ipython",
    "version": 3
   },
   "file_extension": ".py",
   "mimetype": "text/x-python",
   "name": "python",
   "nbconvert_exporter": "python",
   "pygments_lexer": "ipython3",
   "version": "3.8.5"
  }
 },
 "nbformat": 4,
 "nbformat_minor": 4
}
