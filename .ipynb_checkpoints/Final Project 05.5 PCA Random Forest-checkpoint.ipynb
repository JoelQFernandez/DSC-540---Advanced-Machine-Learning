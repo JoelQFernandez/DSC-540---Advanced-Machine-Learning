{
 "cells": [
  {
   "cell_type": "markdown",
   "id": "placed-leonard",
   "metadata": {},
   "source": [
    "## PCA Random Forest"
   ]
  },
  {
   "cell_type": "code",
   "execution_count": 1,
   "id": "searching-lodge",
   "metadata": {},
   "outputs": [],
   "source": [
    "# Import Statements\n",
    "import pandas as pd\n",
    "import numpy as np\n",
    "import matplotlib.pyplot as plt\n",
    "import seaborn as sns\n",
    "from sklearn.ensemble import RandomForestClassifier"
   ]
  },
  {
   "cell_type": "markdown",
   "id": "rising-recruitment",
   "metadata": {},
   "source": [
    "#### Data Import"
   ]
  },
  {
   "cell_type": "code",
   "execution_count": 2,
   "id": "promotional-picture",
   "metadata": {},
   "outputs": [],
   "source": [
    "# Read HR_Employee.csv\n",
    "X = pd.read_csv('./Data/PCA_HR_Employee.csv')\n",
    "# Read Attrition.csv\n",
    "y = pd.read_csv('./Data/Attrition.csv')"
   ]
  },
  {
   "cell_type": "markdown",
   "id": "broad-value",
   "metadata": {},
   "source": [
    "#### Functions "
   ]
  },
  {
   "cell_type": "code",
   "execution_count": 3,
   "id": "another-composite",
   "metadata": {},
   "outputs": [],
   "source": [
    "# Function:    fitModel\n",
    "# Input:       Classifier\n",
    "# Returns:     Fitted Model\n",
    "def fitModel(model):\n",
    "    clf = model\n",
    "    clf.fit(X_train, y_train.values.ravel())\n",
    "    \n",
    "    return clf"
   ]
  },
  {
   "cell_type": "code",
   "execution_count": 4,
   "id": "smart-jaguar",
   "metadata": {},
   "outputs": [],
   "source": [
    "from sklearn.metrics import accuracy_score\n",
    "# Function:    modelAccuracy\n",
    "# Input:       Classifier with Best Estimator\n",
    "# Output:      Prints Training & Testing Accuracy\n",
    "# Returns:     Y Test Predictions\n",
    "def modelAccuracy(model):\n",
    "    clf = model\n",
    "    \n",
    "    # Make Train predictions\n",
    "    y_train_pred = clf.predict(X_train)\n",
    "    # Calculate accuracy score\n",
    "    training_accuracy = accuracy_score(y_train, y_train_pred)\n",
    "    print('Training Accuracy: ',training_accuracy)\n",
    "    # confusionMatrixMetrics(y_train, y_pred)\n",
    "\n",
    "    # Make Test predictions\n",
    "    y_test_pred = clf.predict(X_test)\n",
    "    # Calculate accuracy scores\n",
    "    testing_accuracy = accuracy_score(y_test, y_test_pred)\n",
    "    print('Testing Accuracy:  ',testing_accuracy)\n",
    "    \n",
    "    return y_test_pred"
   ]
  },
  {
   "cell_type": "code",
   "execution_count": 5,
   "id": "secret-soviet",
   "metadata": {},
   "outputs": [],
   "source": [
    "from sklearn.model_selection import GridSearchCV\n",
    "# Function:    gridSearcBestEstimator\n",
    "# Input:       Classifier, parameters, cross validation\n",
    "# Output:      Prints Best Estimator\n",
    "# Returns:     Best Estimator\n",
    "def gridSearcBestEstimator(model, params, cv):\n",
    "    clf = model \n",
    "    gs = GridSearchCV(estimator=clf, param_grid=params, scoring='f1', cv=cv, n_jobs=-1, )\n",
    "\n",
    "    gs.fit(X_train, y_train.values.ravel())\n",
    "    best_estimator = gs.best_estimator_\n",
    "    \n",
    "    print('Best Estimator:')\n",
    "    print(best_estimator,'\\n')\n",
    "    \n",
    "    #if model == DecisionTreeClassifier():\n",
    "    #    best_estimator.get_depth()\n",
    "\n",
    "    return best_estimator"
   ]
  },
  {
   "cell_type": "code",
   "execution_count": 6,
   "id": "regional-consideration",
   "metadata": {},
   "outputs": [],
   "source": [
    "from sklearn.metrics import confusion_matrix\n",
    "# Function:    confusionMatrix\n",
    "# Input:       Training/Testing dataframe and predictions\n",
    "# Output:      Prints Formatted Confusion Matrix\n",
    "# Returns:     Confusion Matrix Array\n",
    "# URL:         https://towardsdatascience.com/evaluating-machine-learning-classification-problems-in-python-5-1-metrics-that-matter-792c6faddf5\n",
    "def confusionMatrix(true_test_train, pred):\n",
    "    true = true_test_train\n",
    "    \n",
    "    cm = confusion_matrix(true, pred.round(), normalize=None)\n",
    "\n",
    "    # Assigning columns names\n",
    "    cm_df = pd.DataFrame(cm, \n",
    "                        columns = ['Predicted Negative', 'Predicted Positive'],\n",
    "                        index = ['Actual Negative', 'Actual Positive'])\n",
    "    \n",
    "    # Printing Formatted Confusion Matrix\n",
    "    print('\\n',cm_df)\n",
    "    \n",
    "    return cm"
   ]
  },
  {
   "cell_type": "code",
   "execution_count": 7,
   "id": "trying-teach",
   "metadata": {},
   "outputs": [],
   "source": [
    "from sklearn.metrics import balanced_accuracy_score\n",
    "from sklearn.metrics import recall_score\n",
    "from sklearn.metrics import precision_score\n",
    "from sklearn.metrics import f1_score\n",
    "# Function:    metrics\n",
    "# Input:       confusion matrix array, true class values, predicted class values\n",
    "# Output:      Prints Recall, Sensitivity, Precision, False Positive Rate, Balanced Accuracy & F1 Scores\n",
    "def metrics(cm, true, pred):\n",
    "    # Assign values from the confusion matrix to manually \n",
    "    # calculate Specificity and False Positive Rate \n",
    "    TP = cm[1][1]\n",
    "    TN = cm[0][0]\n",
    "    FP = cm[0][1]\n",
    "    FN = cm[1][0]\n",
    "\n",
    "    # Recall\n",
    "    recall = recall_score(true, pred)\n",
    "    print('\\nRecall:                  ', recall)\n",
    "    # Sensitivity\n",
    "    sensitivity = recall\n",
    "    # Specificity\n",
    "    specificity = (TN / float(TN + FP))\n",
    "    print('Specificity:             ', specificity)\n",
    "    # Precision\n",
    "    precision = precision_score(true, pred)\n",
    "    print('Precision:               ', precision)\n",
    "    # False Positive Rate\n",
    "    # fpr = (FP / float(TN + FP))\n",
    "    # print ('False Positive Rate:     ', fpr)\n",
    "    # Balanced Accuracy\n",
    "    balanced_accuracy = (sensitivity + specificity)/2\n",
    "    #balance_accuracy = metrics.balanced_accuracy_score(y_true, y_pred)\n",
    "    print('Balanced Accuracy:       ', balanced_accuracy)\n",
    "    # F1 Score Method 1: sklearn\n",
    "    F1 = f1_score(true, pred)\n",
    "    print('F1-Score:                ', F1)\n",
    "    \n",
    "    #return recall, specificity, precision, balanced_accuracy, F1, cm_df"
   ]
  },
  {
   "cell_type": "code",
   "execution_count": 10,
   "id": "polyphonic-electric",
   "metadata": {},
   "outputs": [],
   "source": [
    "# Function:    heatMap\n",
    "# Input:       actual y values, predicted y values\n",
    "# Output:      Heat Map Of Confusion Matrix\n",
    "def heatMap(y_true, y_pred):\n",
    "    cm_plot =  pd.crosstab(index=y_true.values.ravel(), columns=y_test_pred, rownames=['Actual'], colnames=['Predicted'])\n",
    "    sns.heatmap(cm_plot, annot=True, square=False, fmt='', cbar=False)\n",
    "    plt.title(\"Confusion Matrix\", fontsize = 15)\n",
    "    plt.show()"
   ]
  },
  {
   "cell_type": "markdown",
   "id": "provincial-capital",
   "metadata": {},
   "source": [
    "### Train/Test Data Split"
   ]
  },
  {
   "cell_type": "code",
   "execution_count": 11,
   "id": "afraid-yield",
   "metadata": {},
   "outputs": [],
   "source": [
    "from sklearn.model_selection import train_test_split\n",
    "X_train, X_test, y_train, y_test = train_test_split(X, y, test_size=0.30, random_state=2020)"
   ]
  },
  {
   "cell_type": "markdown",
   "id": "preliminary-member",
   "metadata": {},
   "source": [
    "### Cross Validation"
   ]
  },
  {
   "cell_type": "code",
   "execution_count": 12,
   "id": "further-giving",
   "metadata": {},
   "outputs": [],
   "source": [
    "# Cross Validate\n",
    "from sklearn.model_selection import cross_val_score\n",
    "from sklearn.model_selection import StratifiedKFold\n",
    "\n",
    "cv = StratifiedKFold(n_splits=10, shuffle=True, random_state=0)"
   ]
  },
  {
   "cell_type": "markdown",
   "id": "persistent-breakfast",
   "metadata": {},
   "source": [
    "### Default Random Forest"
   ]
  },
  {
   "cell_type": "code",
   "execution_count": 13,
   "id": "known-backing",
   "metadata": {},
   "outputs": [],
   "source": [
    "rf = RandomForestClassifier()"
   ]
  },
  {
   "cell_type": "code",
   "execution_count": 14,
   "id": "recovered-snake",
   "metadata": {},
   "outputs": [
    {
     "data": {
      "text/plain": [
       "RandomForestClassifier()"
      ]
     },
     "execution_count": 14,
     "metadata": {},
     "output_type": "execute_result"
    }
   ],
   "source": [
    "rf.fit(X_train, y_train.values.ravel())"
   ]
  },
  {
   "cell_type": "code",
   "execution_count": 15,
   "id": "imperial-commander",
   "metadata": {
    "scrolled": true
   },
   "outputs": [
    {
     "name": "stdout",
     "output_type": "stream",
     "text": [
      "Training Accuracy:  1.0\n",
      "Testing Accuracy:   0.8458049886621315\n",
      "\n",
      "                  Predicted Negative  Predicted Positive\n",
      "Actual Negative                 369                   2\n",
      "Actual Positive                  66                   4\n"
     ]
    },
    {
     "data": {
      "image/png": "[encoded data removed]",
      "text/plain": [
       "<Figure size 432x288 with 1 Axes>"
      ]
     },
     "metadata": {
      "needs_background": "light"
     },
     "output_type": "display_data"
    },
    {
     "name": "stdout",
     "output_type": "stream",
     "text": [
      "\n",
      "Recall:                   0.05714285714285714\n",
      "Specificity:              0.9946091644204852\n",
      "Precision:                0.6666666666666666\n",
      "Balanced Accuracy:        0.5258760107816711\n",
      "F1-Score:                 0.10526315789473684\n"
     ]
    }
   ],
   "source": [
    "# Calcualate Training and Testing Accuracy\n",
    "y_test_pred = modelAccuracy(rf)\n",
    "\n",
    "# Print Confusion Matrix\n",
    "cm = confusionMatrix(y_test, y_test_pred)\n",
    "\n",
    "# Heat Map\n",
    "heatMap(y_test, y_test_pred)\n",
    "\n",
    "# Print Metrics\n",
    "metrics(cm, y_test, y_test_pred)"
   ]
  },
  {
   "cell_type": "markdown",
   "id": "amino-printing",
   "metadata": {},
   "source": [
    "### GridSearch - Random Forest"
   ]
  },
  {
   "cell_type": "code",
   "execution_count": 16,
   "id": "fuzzy-conversation",
   "metadata": {
    "scrolled": true
   },
   "outputs": [
    {
     "name": "stdout",
     "output_type": "stream",
     "text": [
      "Best Estimator:\n",
      "RandomForestClassifier(min_samples_split=5, n_estimators=50) \n",
      "\n",
      "Training Accuracy:  0.9203109815354713\n",
      "Testing Accuracy:   0.854875283446712\n",
      "\n",
      "                  Predicted Negative  Predicted Positive\n",
      "Actual Negative                 369                   2\n",
      "Actual Positive                  62                   8\n"
     ]
    },
    {
     "data": {
      "image/png": "[encoded data removed]",
      "text/plain": [
       "<Figure size 432x288 with 1 Axes>"
      ]
     },
     "metadata": {
      "needs_background": "light"
     },
     "output_type": "display_data"
    },
    {
     "name": "stdout",
     "output_type": "stream",
     "text": [
      "\n",
      "Recall:                   0.11428571428571428\n",
      "Specificity:              0.9946091644204852\n",
      "Precision:                0.8\n",
      "Balanced Accuracy:        0.5544474393530997\n",
      "F1-Score:                 0.19999999999999998\n"
     ]
    }
   ],
   "source": [
    "# Determine Best Estimator\n",
    "params = dict(\n",
    "    min_samples_split = [5, 10, 20, 30, 40, 50],\n",
    "    max_depth = [1,2,3,None],\n",
    "    n_estimators = [50, 100, 150, 200, 250]\n",
    ")\n",
    "best_estimator = gridSearcBestEstimator(RandomForestClassifier(), params, cv)\n",
    "\n",
    "# Fit Model to best_estimator\n",
    "rf_best_est = fitModel(best_estimator)\n",
    "\n",
    "# Calcualate Training and Testing Accuracy\n",
    "y_test_pred = modelAccuracy(rf_best_est)\n",
    "\n",
    "# Print Confusion Matrix\n",
    "cm = confusionMatrix(y_test, y_test_pred)\n",
    "\n",
    "# Heat Map\n",
    "heatMap(y_test, y_test_pred)\n",
    "\n",
    "# Print Metrics\n",
    "metrics(cm, y_test, y_test_pred)"
   ]
  },
  {
   "cell_type": "markdown",
   "id": "standard-japan",
   "metadata": {},
   "source": [
    "##### Default\n",
    "Without PCA <br>\n",
    "Recall:                   0.08571428571428572 <br>\n",
    "Specificity:              0.9919137466307277 <br>\n",
    "Precision:                0.6666666666666666 <br>\n",
    "Balanced Accuracy:        0.5388140161725067 <br>\n",
    "F1-Score:                 0.1518987341772152 <br>\n",
    "\n",
    "With PCA <br>\n",
    "Recall:                   0.05714285714285714\n",
    "Specificity:              0.9946091644204852\n",
    "Precision:                0.6666666666666666\n",
    "Balanced Accuracy:        0.5258760107816711\n",
    "F1-Score:                 0.10526315789473684\n",
    "\n",
    "#### Grid Search\n",
    "Without PCA <br>\n",
    "Recall:                   0.07142857142857142 <br>\n",
    "Specificity:              0.9919137466307277 <br>\n",
    "Precision:                0.625 <br>\n",
    "Balanced Accuracy:        0.5316711590296496 <br>\n",
    "F1-Score:                 0.1282051282051282 <br>\n",
    "\n",
    "With PCA <br>\n",
    "Recall:                   0.11428571428571428<br>\n",
    "Specificity:              0.9946091644204852<br>\n",
    "Precision:                0.8<br>\n",
    "Balanced Accuracy:        0.5544474393530997<br>\n",
    "F1-Score:                 0.19999999999999998<br>\n",
    "\n",
    "##### Improvements from Default to GridSearch:\n",
    "PCA improved results when using GridSearch best estimator, but did not improve the results of the default parameters in Random Forest. "
   ]
  }
 ],
 "metadata": {
  "kernelspec": {
   "display_name": "Python 3",
   "language": "python",
   "name": "python3"
  },
  "language_info": {
   "codemirror_mode": {
    "name": "ipython",
    "version": 3
   },
   "file_extension": ".py",
   "mimetype": "text/x-python",
   "name": "python",
   "nbconvert_exporter": "python",
   "pygments_lexer": "ipython3",
   "version": "3.8.5"
  }
 },
 "nbformat": 4,
 "nbformat_minor": 5
}
