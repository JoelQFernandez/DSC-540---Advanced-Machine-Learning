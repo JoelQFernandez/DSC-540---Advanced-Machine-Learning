{
 "cells": [
  {
   "cell_type": "markdown",
   "metadata": {
    "collapsed": true
   },
   "source": [
    "# Pre-Proccessing"
   ]
  },
  {
   "cell_type": "code",
   "execution_count": null,
   "metadata": {},
   "outputs": [],
   "source": [
    "# Import statements\n",
    "import numpy as np\n",
    "import pandas as pd\n",
    "import seaborn as sns\n",
    "import matplotlib.pyplot as plt\n",
    "from sklearn.preprocessing import MinMaxScaler\n",
    "\n",
    "# Display options\n",
    "pd.set_option('display.max_columns', None)"
   ]
  },
  {
   "cell_type": "code",
   "execution_count": null,
   "metadata": {},
   "outputs": [],
   "source": [
    "hr_employee_attrition = pd.read_csv( \"./Data/WA_Fn-UseC_-HR-Employee-Attrition.csv\", delimiter = \",\")"
   ]
  },
  {
   "cell_type": "markdown",
   "metadata": {},
   "source": [
    "### Functions"
   ]
  },
  {
   "cell_type": "code",
   "execution_count": null,
   "metadata": {},
   "outputs": [],
   "source": [
    "# Function:    dummyConversion\n",
    "# Input:       Dataframe and Attribute\n",
    "# Return:      Dataframe\n",
    "# URL:         https://stackoverflow.com/questions/37292872/how-can-i-one-hot-encode-in-python\n",
    "def dummyConversion(df, attribute):\n",
    "    dataframe = df\n",
    "    # Dummy conversion\n",
    "    dummy = pd.get_dummies(dataframe[attribute], prefix = attribute)\n",
    "    # Drop attribute\n",
    "    dataframe = dataframe.drop(attribute,axis = 1)\n",
    "    # Add dummy attributes to the dataframe\n",
    "    dataframe = dataframe.join(dummy)\n",
    "    return dataframe"
   ]
  },
  {
   "cell_type": "markdown",
   "metadata": {},
   "source": [
    "### Save Attrition to CSV file."
   ]
  },
  {
   "cell_type": "code",
   "execution_count": null,
   "metadata": {},
   "outputs": [],
   "source": [
    "# Map Yes/No to 1/0\n",
    "hr_employee_attrition['Attrition'] = hr_employee_attrition.Attrition.map(dict(Yes=1, No=0))\n",
    "# Save to CSV file\n",
    "Attrition = hr_employee_attrition['Attrition']\n",
    "Attrition.to_csv('./Data/Attrition.csv')"
   ]
  },
  {
   "cell_type": "markdown",
   "metadata": {},
   "source": [
    "### Normalize numeric attributes."
   ]
  },
  {
   "cell_type": "code",
   "execution_count": null,
   "metadata": {},
   "outputs": [],
   "source": [
    "# https://stackoverflow.com/questions/26414913/normalize-columns-of-pandas-data-frame\n",
    "\n",
    "column_names_to_normalize = ['Age', 'DailyRate', 'DistanceFromHome', 'HourlyRate', 'JobLevel', 'MonthlyIncome', 'MonthlyRate', 'NumCompaniesWorked', 'PercentSalaryHike', 'StockOptionLevel', 'TotalWorkingYears', 'TrainingTimesLastYear', 'YearsAtCompany', 'YearsInCurrentRole', 'YearsSinceLastPromotion', 'YearsWithCurrManager']\n",
    "x = hr_employee_attrition[column_names_to_normalize].values\n",
    "x_scaled = MinMaxScaler().fit_transform(x)\n",
    "temp = pd.DataFrame(x_scaled, columns=column_names_to_normalize, index = hr_employee_attrition.index)\n",
    "hr_employee_attrition[column_names_to_normalize] = temp\n",
    "hr_employee_attrition"
   ]
  },
  {
   "cell_type": "markdown",
   "metadata": {},
   "source": [
    "### Convert Categorical(Ordinal) attributes to Categorical(Nominal)"
   ]
  },
  {
   "cell_type": "code",
   "execution_count": null,
   "metadata": {
    "scrolled": false
   },
   "outputs": [],
   "source": [
    "# Education\n",
    "education_map = {1 : 'Below College', 2 : 'College', 3 : 'Bachelor', 4 : 'Master', 5 : 'Doctor'}\n",
    "hr_employee_attrition['Education'] = hr_employee_attrition['Education'].map(education_map)\n",
    "\n",
    "# EnvironmentSatisfaction\n",
    "environment_satisfaction_map = {1 : 'Low', 2 : 'Medium', 3 : 'High', 4 : 'Very High'}\n",
    "hr_employee_attrition['EnvironmentSatisfaction'] = hr_employee_attrition['EnvironmentSatisfaction'].map(environment_satisfaction_map)\n",
    "\n",
    "# JobInvolvement\n",
    "job_involvement_map = {1 : 'Low', 2 : 'Medium', 3 : 'High', 4 : 'Very High'}\n",
    "hr_employee_attrition['JobInvolvement'] = hr_employee_attrition['JobInvolvement'].map(job_involvement_map)\n",
    "\n",
    "# JobSatisfaction\n",
    "job_satisfaction_map = {1 : 'Low', 2 : 'Medium', 3 : 'High', 4 : 'Very High'}\n",
    "hr_employee_attrition['JobSatisfaction'] = hr_employee_attrition['JobSatisfaction'].map(job_satisfaction_map)\n",
    "\n",
    "# PerformanceRating\n",
    "performance_rating_map = {1 : 'Low', 2 : 'Good', 3 : 'Excellent', 4 : 'Outstanding'}\n",
    "hr_employee_attrition['PerformanceRating'] = hr_employee_attrition['PerformanceRating'].map(performance_rating_map)\n",
    "\n",
    "# RelationshipSatisfaction\n",
    "relationship_satisfaction_map = {1 : 'Low', 2 : 'Medium', 3 : 'High', 4 : 'Very High'}\n",
    "hr_employee_attrition['RelationshipSatisfaction'] = hr_employee_attrition['RelationshipSatisfaction'].map(relationship_satisfaction_map)\n",
    "\n",
    "# WorkLifeBalance \n",
    "work_life_balance_map = {1 : 'Bad', 2 : 'Good', 3 : 'Better', 4 : 'Best'}\n",
    "hr_employee_attrition['WorkLifeBalance'] = hr_employee_attrition['WorkLifeBalance'].map(work_life_balance_map)\n",
    "\n",
    "hr_employee_attrition"
   ]
  },
  {
   "cell_type": "markdown",
   "metadata": {},
   "source": [
    "### Convert Categorical(Nominal) to dummy variables."
   ]
  },
  {
   "cell_type": "code",
   "execution_count": null,
   "metadata": {},
   "outputs": [],
   "source": [
    "# Education\n",
    "hr_employee_attrition = dummyConversion(hr_employee_attrition, 'Education')\n",
    "# EnvironmentSatisfaction\n",
    "hr_employee_attrition = dummyConversion(hr_employee_attrition, 'EnvironmentSatisfaction')\n",
    "# JobInvolvement\n",
    "hr_employee_attrition = dummyConversion(hr_employee_attrition, 'JobInvolvement')\n",
    "# JobSatisfaction\n",
    "hr_employee_attrition = dummyConversion(hr_employee_attrition, 'JobSatisfaction')\n",
    "# PerformanceRating\n",
    "hr_employee_attrition = dummyConversion(hr_employee_attrition, 'PerformanceRating')\n",
    "# RelationshipSatisfaction\n",
    "hr_employee_attrition = dummyConversion(hr_employee_attrition, 'RelationshipSatisfaction')\n",
    "# WorkLifeBalance\n",
    "hr_employee_attrition = dummyConversion(hr_employee_attrition, 'WorkLifeBalance')\n",
    "\n",
    "# BusinessTravel\n",
    "hr_employee_attrition = dummyConversion(hr_employee_attrition, 'BusinessTravel')\n",
    "# Department\n",
    "hr_employee_attrition = dummyConversion(hr_employee_attrition, 'Department')\n",
    "# EducationField\n",
    "hr_employee_attrition = dummyConversion(hr_employee_attrition, 'EducationField')\n",
    "# Gender\n",
    "hr_employee_attrition = dummyConversion(hr_employee_attrition, 'Gender')\n",
    "# JobRole\n",
    "hr_employee_attrition = dummyConversion(hr_employee_attrition, 'JobRole')\n",
    "# MaritalStatus\n",
    "hr_employee_attrition = dummyConversion(hr_employee_attrition, 'MaritalStatus')\n",
    "# OverTime\n",
    "hr_employee_attrition = dummyConversion(hr_employee_attrition, 'OverTime')\n",
    "\n",
    "hr_employee_attrition  "
   ]
  },
  {
   "cell_type": "markdown",
   "metadata": {},
   "source": [
    "### Attributes to be dropped."
   ]
  },
  {
   "cell_type": "code",
   "execution_count": null,
   "metadata": {},
   "outputs": [],
   "source": [
    "# Drop Attrition (Class Label)\n",
    "hr_employee_attrition = hr_employee_attrition.drop(['Attrition'], axis=1)\n",
    "\n",
    "# EmployeeNumber (Index)\n",
    "hr_employee_attrition = hr_employee_attrition.drop(['EmployeeNumber'], axis=1)\n",
    "\n",
    "# Drop EmployeeCount = 1\n",
    "hr_employee_attrition = hr_employee_attrition.drop(['EmployeeCount'], axis=1)\n",
    "# Drop Over18 = Y\n",
    "hr_employee_attrition = hr_employee_attrition.drop(['Over18'], axis=1)\n",
    "# Drop StandardHours = 80\n",
    "hr_employee_attrition = hr_employee_attrition.drop(['StandardHours'], axis=1)\n",
    "\n",
    "# Drop JobLevel (High Correlation, 95%)\n",
    "hr_employee_attrition = hr_employee_attrition.drop(['JobLevel'], axis=1)\n",
    "# Drop MonthlyIncome (High Correlation, 95%)\n",
    "hr_employee_attrition = hr_employee_attrition.drop(['MonthlyIncome'], axis=1)\n",
    "\n",
    "\n",
    "hr_employee_attrition"
   ]
  },
  {
   "cell_type": "markdown",
   "metadata": {},
   "source": [
    "### Save hr_employee to CSV file."
   ]
  },
  {
   "cell_type": "code",
   "execution_count": null,
   "metadata": {},
   "outputs": [],
   "source": [
    "hr_employee = hr_employee_attrition\n",
    "hr_employee.to_csv('./Data/HR_Employee.csv')"
   ]
  }
 ],
 "metadata": {
  "kernelspec": {
   "display_name": "Python 3",
   "language": "python",
   "name": "python3"
  },
  "language_info": {
   "codemirror_mode": {
    "name": "ipython",
    "version": 3
   },
   "file_extension": ".py",
   "mimetype": "text/x-python",
   "name": "python",
   "nbconvert_exporter": "python",
   "pygments_lexer": "ipython3",
   "version": "3.8.5"
  }
 },
 "nbformat": 4,
 "nbformat_minor": 1
}
