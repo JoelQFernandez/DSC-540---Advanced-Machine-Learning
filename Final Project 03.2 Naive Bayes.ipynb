{
 "cells": [
  {
   "cell_type": "code",
   "execution_count": 1,
   "metadata": {},
   "outputs": [],
   "source": [
    "from sklearn.model_selection import train_test_split\n",
    "from sklearn import metrics\n",
    "\n",
    "import matplotlib.pyplot as plt\n",
    "import pandas as pd\n",
    "import numpy as np\n",
    "import seaborn as sns"
   ]
  },
  {
   "cell_type": "code",
   "execution_count": 2,
   "metadata": {},
   "outputs": [],
   "source": [
    "# Reading the data from csv files\n",
    "X = pd.read_csv('Data/HR_Employee.csv')\n",
    "Y = pd.read_csv('Data/Attrition.csv')"
   ]
  },
  {
   "cell_type": "code",
   "execution_count": 3,
   "metadata": {},
   "outputs": [
    {
     "name": "stdout",
     "output_type": "stream",
     "text": [
      "(1176, 69) (1176, 1)\n",
      "(294, 69) (294, 1)\n"
     ]
    }
   ],
   "source": [
    "# training and testing split\n",
    "X_Train, X_Test, Y_Train, Y_Test = train_test_split(X, Y, test_size=0.2)\n",
    "print(X_Train.shape, Y_Train.shape)\n",
    "print(X_Test.shape, Y_Test.shape)"
   ]
  },
  {
   "cell_type": "code",
   "execution_count": 4,
   "metadata": {},
   "outputs": [],
   "source": [
    "# scaling all the the inputs to normalize them\n",
    "from sklearn.naive_bayes import GaussianNB\n",
    "from sklearn import preprocessing\n",
    "ss = preprocessing.StandardScaler()\n",
    "X_train_ss = ss.fit_transform(X_Train)\n",
    "X_test_ss = ss.transform(X_Test)\n",
    "\n",
    "# Creating a naive bayes classifier\n",
    "naive_bayes_clf = GaussianNB()"
   ]
  },
  {
   "cell_type": "code",
   "execution_count": 5,
   "metadata": {},
   "outputs": [
    {
     "name": "stderr",
     "output_type": "stream",
     "text": [
      "C:\\Users\\srina\\anaconda3\\envs\\AI_GPU\\lib\\site-packages\\sklearn\\utils\\validation.py:63: DataConversionWarning: A column-vector y was passed when a 1d array was expected. Please change the shape of y to (n_samples, ), for example using ravel().\n",
      "  return f(*args, **kwargs)\n"
     ]
    }
   ],
   "source": [
    "# fitting the anive bayes classifier\n",
    "naive_bayes_clf.fit(X_Train, Y_Train)\n",
    "\n",
    "# predicting on the Naive Bayes Classifier\n",
    "train_pred = naive_bayes_clf.predict(X_Train)\n",
    "train_accuracy = metrics.accuracy_score(Y_Train, train_pred)"
   ]
  },
  {
   "cell_type": "code",
   "execution_count": 6,
   "metadata": {},
   "outputs": [
    {
     "data": {
      "text/plain": [
       "0.7857142857142857"
      ]
     },
     "execution_count": 6,
     "metadata": {},
     "output_type": "execute_result"
    }
   ],
   "source": [
    "train_accuracy"
   ]
  },
  {
   "cell_type": "code",
   "execution_count": 7,
   "metadata": {},
   "outputs": [],
   "source": [
    "test_pred = naive_bayes_clf.predict(X_Test)\n",
    "test_accuracy = metrics.accuracy_score(Y_Test, test_pred)"
   ]
  },
  {
   "cell_type": "code",
   "execution_count": 8,
   "metadata": {},
   "outputs": [
    {
     "data": {
      "text/plain": [
       "0.7551020408163265"
      ]
     },
     "execution_count": 8,
     "metadata": {},
     "output_type": "execute_result"
    }
   ],
   "source": [
    "test_accuracy"
   ]
  },
  {
   "cell_type": "code",
   "execution_count": 9,
   "metadata": {},
   "outputs": [
    {
     "name": "stdout",
     "output_type": "stream",
     "text": [
      "For the testing set : \n",
      " The actual recall is :  0.7045454545454546 \n",
      " The actual precision is :  0.34444444444444444 \n",
      " The actual specificity is :  0.764 \n",
      " The f1 score is :  0.46268656716417905 \n",
      " The balanced accuracy is :  0.7342727272727273\n"
     ]
    }
   ],
   "source": [
    "# Calculating the accuracy metrics for the classifier\n",
    "tn, fp, fn, tp = metrics.confusion_matrix(y_true = Y_Test, y_pred = test_pred).ravel()\n",
    "recall = tp/(tp+fn)\n",
    "precision = tp/(tp+fp)\n",
    "f1 = 2 * (recall * precision)/(recall + precision)\n",
    "specificity = tn/(tn+fp)\n",
    "balanced_accuracy = (specificity + recall)/2\n",
    "\n",
    "print(\"For the testing set : \")\n",
    "print(\" The actual recall is : \",recall,\"\\n\",\"The actual precision is : \",precision,\"\\n\",\"The actual specificity is : \",specificity,\"\\n\",\"The f1 score is : \",f1,\"\\n\",\"The balanced accuracy is : \", balanced_accuracy)"
   ]
  },
  {
   "cell_type": "code",
   "execution_count": 10,
   "metadata": {
    "scrolled": true
   },
   "outputs": [
    {
     "data": {
      "image/png": "[encoded data removed]",
      "text/plain": [
       "<Figure size 432x288 with 1 Axes>"
      ]
     },
     "metadata": {
      "needs_background": "light"
     },
     "output_type": "display_data"
    }
   ],
   "source": [
    "cm_plot =  pd.crosstab(index=Y_Test.values.ravel(), columns=test_pred, rownames=['Expected'], colnames=['Predicted'])\n",
    "sns.heatmap(cm_plot, annot=True, square=False, fmt='', cbar=False)\n",
    "plt.title(\"Confusion Matrix\", fontsize = 15)\n",
    "plt.show()"
   ]
  },
  {
   "cell_type": "code",
   "execution_count": null,
   "metadata": {},
   "outputs": [],
   "source": []
  }
 ],
 "metadata": {
  "kernelspec": {
   "display_name": "Python 3",
   "language": "python",
   "name": "python3"
  },
  "language_info": {
   "codemirror_mode": {
    "name": "ipython",
    "version": 3
   },
   "file_extension": ".py",
   "mimetype": "text/x-python",
   "name": "python",
   "nbconvert_exporter": "python",
   "pygments_lexer": "ipython3",
   "version": "3.7.10"
  }
 },
 "nbformat": 4,
 "nbformat_minor": 4
}
