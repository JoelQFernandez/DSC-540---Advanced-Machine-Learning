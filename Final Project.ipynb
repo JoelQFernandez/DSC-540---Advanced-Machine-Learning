{
 "cells": [
  {
   "cell_type": "markdown",
   "metadata": {
    "collapsed": true
   },
   "source": [
    "##  Final Project Notebooks\n",
    "#### [01 Data Exploration](./Final%20Project%2001%20Data%20Exploration.ipynb)\n",
    "#### [02 Pre-Processing](./Final%20Project%2002%20Pre-Proccessing.ipynb)\n",
    "#### [03 Principal Component Analysis](./Final%20Project%2003%20Principal%20Component%20Analysis.ipynb)\n",
    "#### [04.1 K Nearest Neigbors](./Final%20Project%2004.1%20K%20Nearest%20Neighbors.ipynb)\n",
    "#### [04.2 Naive Bayes](./Final%20Project%2004.2%20Naive%20Bayes.ipynb)\n",
    "#### [04.3 Logistic Regression](./Final%20Project%2004.3%20Logistic%20Regression.ipynb)\n",
    "#### [04.4 Decision Tree](./Final%20Project%2004.4%20Decision%20Tree.ipynb)\n",
    "#### [04.5 Random Forest](./Final%20Project%2004.5%20Random%20Forest.ipynb)\n",
    "#### [04.6 AdaBoost](./Final%20Project%2004.6%20AdaBoost.ipynb)\n",
    "#### [04.7 Gradient Boosting](./Final%20Project%2004.7%20Gradient%20Boosting.ipynb)\n",
    "#### [04.8 Convolutional Neural Network](./Final%20Project%2004.8%20Convolutional%20Neural%20Network.ipynb)\n",
    "#### [05 KMeans Clustering](./Final%20Project%2005%20KMeans%20Clustering.ipynb)"
   ]
  }
 ],
 "metadata": {
  "kernelspec": {
   "display_name": "Python 3",
   "language": "python",
   "name": "python3"
  },
  "language_info": {
   "codemirror_mode": {
    "name": "ipython",
    "version": 3
   },
   "file_extension": ".py",
   "mimetype": "text/x-python",
   "name": "python",
   "nbconvert_exporter": "python",
   "pygments_lexer": "ipython3",
   "version": "3.8.5"
  }
 },
 "nbformat": 4,
 "nbformat_minor": 1
}