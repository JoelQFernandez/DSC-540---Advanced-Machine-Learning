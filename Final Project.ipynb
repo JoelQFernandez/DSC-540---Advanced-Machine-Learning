{
 "cells": [
  {
   "cell_type": "markdown",
   "metadata": {},
   "source": [
    "# Table Of Contents"
   ]
  },
  {
   "cell_type": "markdown",
   "metadata": {},
   "source": [
    "### [01 - Data Exploration](./Final%20Project%2001%20Data%20Exploration.ipynb)\n",
    "### [02 - Pre-Processing](./Final%20Project%2002%20Pre-Proccessing.ipynb)\n",
    "### [03.1 - K Nearest Neighbors](./Final%20Project%2003.1%20K%20Nearest%20Neighbors.ipynb)\n",
    "### [03.2 - Naive Bayes](./Final%20Project%2003.2%20Naive%20Bayes.ipynb)\n",
    "### [03.3 - Logistic Regression](./Final%20Project%2003.3%20Logistic%20Regression.ipynb)\n",
    "### [03.4 - Decision Tree](./Final%20Project%2003.4%20Decision%20Tree.ipynb)\n",
    "### [03.5 - Random Forest](./Final%20Project%2003.5%20Random%20Forest.ipynb)\n",
    "### [03.6 - Adaboost](./Final%20Project%2003.6%20AdaBoost.ipynb)\n",
    "### [03.7 - Gradient Boosting](./Final%20Project%2003.7%20Gradient%20Boosting.ipynb)\n",
    "### [03.8 - Perceptron](./Final%20Project%2003.8%20Perceptron.ipynb)\n",
    "### [04.1 - Principal Component Analysis](./Final%20Project%2004.1%20Principal%20Component%20Analysis.ipynb)\n",
    "### [04.2 - Kernel Principal Component Analysis](./Final%20Project%2004.2%20Kernel%20Principal%20Component%20Analysis.ipynb)\n",
    "### [05.1 - PCA - K Nearest Neigbors](./Final%20Project%2005.1%20PCA%20K%20Nearest%20Neighbors.ipynb)\n",
    "### [05.2 - PCA - Naive Bayes](./Final%20Project%2005.2%20PCA%20Naive%20Bayes.ipynb)\n",
    "### [05.3 - PCA - Logistic Regression](./Final%20Project%2005.3%20PCA%20Logistic%20Regression.ipynb)\n",
    "### [05.4 - PCA - Decision Tree](./Final%20Project%2005.4%20PCA%20Decision%20Tree.ipynb)\n",
    "### [05.5 - PCA - Random Forest](./Final%20Project%2005.5%20PCA%20Random%20Forest.ipynb)\n",
    "### [05.6 - PCA - Adaboost](./Final%20Project%2005.6%20PCA%20Adaboost.ipynb)\n",
    "### [05.7 - PCA - Gradient Boosting](./Final%20Project%2005.7%20PCA%20Gradient%20Boosting.ipynb)\n",
    "### [05.7 - PCA - Perceptron](./Final%20Project%2005.8%20PCA%20Perceptron.ipynb)"
   ]
  },
  {
   "cell_type": "markdown",
   "metadata": {},
   "source": [
    "# Introduction"
   ]
  },
  {
   "cell_type": "markdown",
   "metadata": {},
   "source": [
    "# Exploratory Data Analysis (EDA)\n",
    "## Data Exploration\n",
    "### Record Counts\n",
    "![Record Count](./Assets/Record_Count.png)"
   ]
  },
  {
   "cell_type": "markdown",
   "metadata": {},
   "source": [
    "### Missing Values\n",
    "![Missing Values](./Assets/MissingValues.png)"
   ]
  },
  {
   "cell_type": "markdown",
   "metadata": {},
   "source": [
    "### Snapshots\n",
    "![Snapshot1](./Assets/Snapshot1.png)\n",
    "![Snapshot2](./Assets/Snapshot2.png)"
   ]
  },
  {
   "attachments": {},
   "cell_type": "markdown",
   "metadata": {},
   "source": [
    "## Statistical Summaries, Data Dictionaries And Data Visualizations\n",
    "### Age:\n",
    "*\tEmployee's Age.\n",
    "*\tNumerical (Discrete).\n",
    "*\tNot normally distributed, it appears to skew to the right.\n",
    "\n",
    "![Age](./Assets/Age.png)"
   ]
  },
  {
   "attachments": {},
   "cell_type": "markdown",
   "metadata": {},
   "source": [
    "### Attrition :\n",
    "*\tEmployee left/leaving the company. (Yes/No).\n",
    "*\tCategorical (Nominal).\n",
    "*\tThere is some class imbalance.\n",
    "*\tNeed additional Pre-Processing:\n",
    "    *\tClass Label will be dropped from the dataframe.\n",
    "    \n",
    "![Attrition](./Assets/Attrition.png)"
   ]
  },
  {
   "attachments": {},
   "cell_type": "markdown",
   "metadata": {},
   "source": [
    "### BusinessTravel:\n",
    "*\tFrequency of travel. (Non-Travel/Travel_Rarely/Travel_Frequently).\n",
    "*\tCategorical (Nominal).\n",
    "*\tThere is some class imbalance.\n",
    "*\tNeed additional Pre-Processing:\n",
    "    * Dummy/OneHot encoding.\n",
    "    \n",
    "![BusinessTravel](./Assets/BusinessTravel.png)"
   ]
  },
  {
   "cell_type": "markdown",
   "metadata": {},
   "source": [
    "### DailyRate:\n",
    "*\tDaily salary rate.\n",
    "*\tNumerical (Continuous).\n",
    "*\tNot normally distributed, appears to be sparse.\n",
    "\n",
    "![DailyRate](./Assets/DailyRate.png)"
   ]
  },
  {
   "cell_type": "markdown",
   "metadata": {},
   "source": [
    "### Department:\n",
    "*\tDepartment name. (Human Resources/Research & Development/Sales).\n",
    "*\tCategorical (Nominal).\n",
    "*\tThere is some class imbalance.\n",
    "*\tNeed additional Pre-Processing:\n",
    "    *\tDummy/OneHot encoding.\n",
    "    \n",
    "![Department](./Assets/Department.png)"
   ]
  },
  {
   "attachments": {},
   "cell_type": "markdown",
   "metadata": {},
   "source": [
    "### DistanceFromHome:\n",
    "*\tDistance from home.\n",
    "*\tNumerical (Continuous).\n",
    "*\tNot normally distributed, appears to be skewed towards the right.\n",
    "\n",
    "![DistanceFromHome](./Assets/DistanceFromHome.png)"
   ]
  },
  {
   "attachments": {},
   "cell_type": "markdown",
   "metadata": {},
   "source": [
    "### Education:\n",
    "*\tEducation level. (1 = ‘Below College’, 2 = ‘College’, 3 = 'Bachelor', 4 = 'Master', 5 = 'Doctor')\n",
    "*\tCategorical (Ordinal).\n",
    "*\tThere is somc class imbalance.\n",
    "*\tNeed additional Pre-Processing:\n",
    "    *\tConvert from Categorical(Ordinal) to Categorical(Nominal)\n",
    "    *\tDummy/OneHot encoding.\n",
    "\n",
    "![Education](./Assets/Education.png)"
   ]
  },
  {
   "attachments": {},
   "cell_type": "markdown",
   "metadata": {},
   "source": [
    "### EducationField:\n",
    "*\tField of education. (Human Resources/Life Sciences/Marketing/Medical/Other/Technical Degree).\n",
    "*\tCategorical (Nominal).\n",
    "*\tThere is some class imbalance.\n",
    "*\tNeed additional Pre-Processing:\n",
    "    *\tDummy/OneHot encoding.\n",
    "\n",
    "![EducationField](./Assets/EducationField.png)"
   ]
  },
  {
   "attachments": {},
   "cell_type": "markdown",
   "metadata": {},
   "source": [
    "### EmployeeCount:\n",
    "*\tCount of employee per record.\n",
    "*\tNumerical (Discrete).\n",
    "*\tAlthough the skew value is 0.000, it is not normally distributed.\n",
    "*\tNeed additional Pre-Processing:\n",
    "    *\tWill be dropped from the dataframe.\n",
    "\n",
    "![EmployeeCount](./Assets/EmployeeCount.png)"
   ]
  },
  {
   "attachments": {},
   "cell_type": "markdown",
   "metadata": {},
   "source": [
    "### EmployeeNumber:\n",
    "*\tEmployee ID #.\n",
    "*\tCategorical (Nominal).\n",
    "*\tAlthough the skew value is 0.017, it is not normally distributed.\n",
    "*\tNeed additional Pre-Processing:\n",
    "    *\tIndex, will be dropped from the dataframe.\n",
    "\n",
    "![EmployeeNumber](./Assets/EmployeeNumber.png)"
   ]
  },
  {
   "attachments": {},
   "cell_type": "markdown",
   "metadata": {},
   "source": [
    "### EnvironmentSatisfaction:\n",
    "*\tSatisfaction with the work environment. (1 = 'Low', 2 = 'Medium', 3 = 'High', 4 = 'Very High')\n",
    "*\tCategorical (Ordinal).\n",
    "*\tNeed additional Pre-Processing:\n",
    "    *\tConvert from Categorical(Ordinal) to Categorical(Nominal)\n",
    "    *\tDummy/OneHot encoding.\n",
    "\n",
    "![EnvironmentSatisfaction](./Assets/EnvironmentSatisfaction.png)"
   ]
  },
  {
   "attachments": {},
   "cell_type": "markdown",
   "metadata": {},
   "source": [
    "### Gender:\n",
    "*\tGender (Male or Female)\n",
    "*\tCategorical (Nominal).\n",
    "*\tNeed additional Pre-Processing:\n",
    "    *\tDummy/OneHot encoding.\n",
    "    \n",
    "![Gender](./Assets/Gender.png)"
   ]
  },
  {
   "attachments": {},
   "cell_type": "markdown",
   "metadata": {},
   "source": [
    "### HourlyRate:\n",
    "*\tHourly salary rate.\n",
    "*\tNumerical (Continuous).\n",
    "*\tNot normally distributed, appears to be sparsely populated.\n",
    "\n",
    "![HourlyRate](./Assets/HourlyRate.png)"
   ]
  },
  {
   "attachments": {},
   "cell_type": "markdown",
   "metadata": {},
   "source": [
    "### JobInvolvement:\n",
    "*\tJob involvement level. (1 = 'Low', 2 = 'Medium', 3 = 'High', 4 = 'Very High').\n",
    "*\tCategorical (Ordinal).\n",
    "*\tThere is some class imbalance.\n",
    "*\tNeed additional Pre-Processing:\n",
    "    *\tConvert from Categorical(Ordinal) to Categorical(Nominal)\n",
    "    *\tDummy/OneHot encoding.\n",
    "\n",
    "![JobInvolvement](./Assets/JobInvolvement.png)"
   ]
  },
  {
   "attachments": {},
   "cell_type": "markdown",
   "metadata": {},
   "source": [
    "### JobLevel:\n",
    "*\tJob level.\n",
    "*\tCategorical (Ordinal).\n",
    "*\tNot normally distributed, it appears to skew to the right.\n",
    "\n",
    "![JobLevel](./Assets/JobLevel.png)"
   ]
  },
  {
   "attachments": {},
   "cell_type": "markdown",
   "metadata": {},
   "source": [
    "### JobRole:\n",
    "*\tJob role. (Healthcare Representative/Human Resources/Laboratory Technician/Manager/Manufacturing Director/Research Director/Research Scientist/Sales Executive/Sales Representative).\n",
    "*\tCategorical (Nominal).\n",
    "*\tThere is some class imbalance.\n",
    "*\tNeed additional Pre-Processing:\n",
    "    *\tDummy/OneHot encoding.\n",
    "\n",
    "![JobRole](./Assets/JobRole.png)"
   ]
  },
  {
   "attachments": {},
   "cell_type": "markdown",
   "metadata": {},
   "source": [
    "### JobSatisfaction:\n",
    "*\tSatisfaction with job. (1 = 'Low', 2 = 'Medium', 3 = 'High', 4 = 'Very High')\n",
    "*\tCategorical (Ordinal).\n",
    "*\tNeed additional Pre-Processing:\n",
    "    *\tConvert from Categorical(Ordinal) to Categorical(Nominal)\n",
    "    *\tDummy/OneHot encoding.\n",
    "    \n",
    "![JobSatisfaction](./Assets/JobSatisfaction.png)"
   ]
  },
  {
   "attachments": {},
   "cell_type": "markdown",
   "metadata": {},
   "source": [
    "### MaritalStatus:\n",
    "*\tMarital Status. (Divorced/Married/Single)\n",
    "*\tCategorical (Nominal).\n",
    "*\tNeed additional Pre-Processing:\n",
    "    *\tDummy/OneHot encoding.\n",
    "    \n",
    "![MaritalStatus](./Assets/MaritalStatus.png)"
   ]
  },
  {
   "attachments": {},
   "cell_type": "markdown",
   "metadata": {},
   "source": [
    "### MonthlyIncome:\n",
    "*\tMonthly income.\n",
    "*\tNumerical (Continuous).\n",
    "*\tNot normally distributed, appears to be skewed to the right.\n",
    "\n",
    "![MonthlyIncome](./Assets/MonthlyIncome.png)"
   ]
  },
  {
   "attachments": {},
   "cell_type": "markdown",
   "metadata": {},
   "source": [
    "### MonthlyRate:\n",
    "*\tMonthly salary rate.\n",
    "*\tNumerical (Continuous).\n",
    "*\tNot normally distributed, appears to be sparsely populated.\n",
    "\n",
    "![MonthlyRate](./Assets/MonthlyRate.png)"
   ]
  },
  {
   "attachments": {},
   "cell_type": "markdown",
   "metadata": {},
   "source": [
    "### NumCompaniesWorked:\n",
    "*\tNumber of companies worked for.\n",
    "*\tNumerical (Discrete).\n",
    "*\tNot normally distributed, it appears to skew to the right.\n",
    "\n",
    "![NumCompaniesWorked](./Assets/NumCompaniesWorked.png)"
   ]
  },
  {
   "attachments": {},
   "cell_type": "markdown",
   "metadata": {},
   "source": [
    "### Over18:\n",
    "*\tEmployee over 18. (Yes/No).\n",
    "*\tCategorical (Nominal).\n",
    "*\tThere is some class imbalance.\n",
    "*\tNeed additional Pre-Processing:\n",
    "    *\tWill be dropped from the dataframe.\n",
    "\n",
    "![Over18](./Assets/Over18.png)"
   ]
  },
  {
   "attachments": {},
   "cell_type": "markdown",
   "metadata": {},
   "source": [
    "### OverTime:\n",
    "*\tOvertime (Yes/No).\n",
    "*\tCategorical (Nominal).\n",
    "*\tThere is some class imbalance.\n",
    "*\tNeed additional Pre-Processing:\n",
    "    *\tDummy/OneHot encoding.\n",
    "\n",
    "![OverTime](./Assets/OverTime.png)"
   ]
  },
  {
   "attachments": {},
   "cell_type": "markdown",
   "metadata": {},
   "source": [
    "### PercentSalaryHike:\n",
    "*\tPercent increase in salary.\n",
    "*\tNumerical (Continuous).\n",
    "*\tNot normally distributed, it appears to skew to the right.\n",
    "\n",
    "![PercentSalaryHike](./Assets/PercentSalaryHike.png)"
   ]
  },
  {
   "attachments": {},
   "cell_type": "markdown",
   "metadata": {},
   "source": [
    "### PerformanceRating:\n",
    "*\tEmployee performance rating. (1 = 'Low', 2 = ‘Good’, 3 = ‘Excellent’, 4 = ‘Outstanding’).\n",
    "*\tCategorical (Ordinal).\n",
    "*\tThere is some class imbalance.\n",
    "*\tNeed additional Pre-Processing:\n",
    "    *\tConvert from Categorical(Ordinal) to Categorical(Nominal)\n",
    "    *\tDummy/OneHot encoding.\n",
    "\n",
    "![PerformanceRating](./Assets/PerformanceRating.png)"
   ]
  },
  {
   "attachments": {},
   "cell_type": "markdown",
   "metadata": {},
   "source": [
    "### RelationshipSatisfaction:\n",
    "*\tSatisfaction with relationship. (1 = 'Low', 2 = 'Medium', 3 = 'High', 4 = 'Very High')\n",
    "*\tCategorical (Ordinal).\n",
    "*\tNeed additional Pre-Processing:\n",
    "    *\tConvert from Categorical(Ordinal) to Categorical(Nominal)\n",
    "    *\tDummy/OneHot encoding.\n",
    "\n",
    "![PerformanceRating](./Assets/PerformanceRating.png)"
   ]
  },
  {
   "attachments": {},
   "cell_type": "markdown",
   "metadata": {},
   "source": [
    "### StandardHours:\n",
    "*\tStandard number of work hours.\n",
    "*\tNumerical (Discrete).\n",
    "*\tAlthough the skew value is 0.000, it is not normally distributed.\n",
    "*\tNeed additional Pre-Processing:\n",
    "    *\tWill be dropped from the dataframe.\n",
    "\n",
    "![StandardHours](./Assets/StandardHours.png)"
   ]
  },
  {
   "attachments": {},
   "cell_type": "markdown",
   "metadata": {},
   "source": [
    "### StockOptionLevel:\n",
    "*\tStock option level. (0, 1, 2, 3)\n",
    "*\tCategorical (Ordinal).\n",
    "*\tThere is some class imbalance.\n",
    "\n",
    "![StockOptionLevel](./Assets/StockOptionLevel.png)"
   ]
  },
  {
   "attachments": {},
   "cell_type": "markdown",
   "metadata": {},
   "source": [
    "### TotalWorkingYears:\n",
    "*\tNumber of years working.\n",
    "*\tNumerical (Discrete).\n",
    "*\tNot normally distributed, it appears to skew to the right.\n",
    "\n",
    "![TotalWorkingYears](./Assets/TotalWorkingYears.png)"
   ]
  },
  {
   "attachments": {},
   "cell_type": "markdown",
   "metadata": {},
   "source": [
    "### TrainingTimesLastYear:\n",
    "*\tNumber of hours training last year.\n",
    "*\tNumerical (Discrete).\n",
    "*\tNot normally distributed, it appears to skew to the right.\n",
    "\n",
    "![TrainingTimesLastYear](./Assets/TrainingTimesLastYear.png)"
   ]
  },
  {
   "attachments": {},
   "cell_type": "markdown",
   "metadata": {},
   "source": [
    "### WorkLifeBalance:\n",
    "*\tBalance between work and life. (1 = 'Bad', 2 = 'Good', 3 = 'Better', 4 = 'Best').\n",
    "*\tCategorical (Ordinal).\n",
    "*\tThere is some class imbalance.\n",
    "*\tNeed additional Pre-Processing:\n",
    "    *\tConvert from Categorical(Ordinal) to Categorical(Nominal)\n",
    "    *\tDummy/OneHot encoding.\n",
    "\n",
    "![WorkLifeBalance](./Assets/WorkLifeBalance.png)"
   ]
  },
  {
   "attachments": {},
   "cell_type": "markdown",
   "metadata": {},
   "source": [
    "### YearsAtCompany:\n",
    "*\tNumber of years at the company.\n",
    "*\tNumerical (Discrete).\n",
    "*\tNot normally distributed, it appears to skew to the right.\n",
    "\n",
    "![YearsAtCompany](./Assets/WorkLifeBalance.png)"
   ]
  },
  {
   "attachments": {},
   "cell_type": "markdown",
   "metadata": {},
   "source": [
    "### YearsInCurrentRole:\n",
    "*\tNumber of years in current role.\n",
    "*\tNumerical (Discrete).\n",
    "*\tNot normally distributed, it appears to skew to the right.\n",
    "\n",
    "![YearsInCurrentRole](./Assets/YearsInCurrentRole.png)"
   ]
  },
  {
   "attachments": {},
   "cell_type": "markdown",
   "metadata": {},
   "source": [
    "### YearsSinceLastPromotion:\n",
    "*\tNumber of years since last promotion.\n",
    "*\tNumerical (Discrete).\n",
    "*\tNot normally distributed, it appears to skew to the right.\n",
    "\n",
    "![YearsSinceLastPromotion](./Assets/YearsSinceLastPromotion.png)"
   ]
  },
  {
   "attachments": {},
   "cell_type": "markdown",
   "metadata": {},
   "source": [
    "### YearsWithCurrManager:\n",
    "*\tNumber of years with the current manager.\n",
    "*\tNumerical (Discrete).\n",
    "*\tNot normally distributed, it appears to skew to the right.\n",
    "\n",
    "![YearsWithCurrManager](./Assets/YearsWithCurrManager.png)"
   ]
  },
  {
   "cell_type": "markdown",
   "metadata": {},
   "source": [
    "## Correlations\n",
    "### Correlation Matrix\n",
    "![Correlation Matrix](./Assets/CorrelationMatrix.png)"
   ]
  },
  {
   "cell_type": "markdown",
   "metadata": {},
   "source": [
    "### Top Correlations\n",
    "![Top Correlations](./Assets/TopCorrelations.png)"
   ]
  },
  {
   "cell_type": "markdown",
   "metadata": {},
   "source": [
    "## Pre Processing\n",
    "1.  Saved 'Attrition' attribute as Attrition.csv.\n",
    "2.  Normalized Numeric Attributes:\n",
    "\n",
    "    'Age', 'DailyRate', 'DistanceFromHome', 'HourlyRate', 'JobLevel','MonthlyIncome','MonthlyRate', 'NumCompaniesWorked', 'PercentSalaryHike', 'StockOptionLevel', 'TotalWorkingYears', 'TrainingTimesLastYear', 'YearsAtCompany', 'YearsInCurrentRole', 'YearsSinceLastPromotion', 'YearsWithCurrManager'\n",
    "\n",
    "3.  Converted Categorical(Ordinal) attributes to Categorical(Nominal).    And then performed Dummy / OneHot Encoding:\n",
    "\n",
    "    'Education', 'EnvironmentSatisfaction', 'JobInvolvement', 'JobSatisfaction', 'PerformanceRating', 'RelationshipSatisfaction', 'WorkLifeBalance'\n",
    "\n",
    "4.  Performed Dummy / OneHot Encoding:\n",
    "\n",
    "    'BusinessTravel', 'Department', 'EducationField', 'Gender', 'JobRole', 'MaritalStatus', 'OverTime'\n",
    "\n",
    "5.  Dropped Attributes:\n",
    "\n",
    "    'Attrition (Class Label)', 'EmployeeNumber(Index)', 'EmployeeCount', 'Over18', 'StandardHours', 'JobLevel(95% Correlation)', 'MonthlyIncome(95% Correlation)'\n",
    "\n",
    "6.  Saved the remaining attributes as HR_Employee.csv."
   ]
  },
  {
   "cell_type": "markdown",
   "metadata": {},
   "source": [
    "# Research Questions"
   ]
  },
  {
   "cell_type": "markdown",
   "metadata": {},
   "source": [
    "# Machine Learning"
   ]
  },
  {
   "cell_type": "markdown",
   "metadata": {},
   "source": [
    "# Results and Conclusions"
   ]
  }
 ],
 "metadata": {
  "kernelspec": {
   "display_name": "PyCharm (04 Homework)",
   "language": "python",
   "name": "pycharm-28976d53"
  },
  "language_info": {
   "codemirror_mode": {
    "name": "ipython",
    "version": 3
   },
   "file_extension": ".py",
   "mimetype": "text/x-python",
   "name": "python",
   "nbconvert_exporter": "python",
   "pygments_lexer": "ipython3",
   "version": "3.8.5"
  }
 },
 "nbformat": 4,
 "nbformat_minor": 4
}
