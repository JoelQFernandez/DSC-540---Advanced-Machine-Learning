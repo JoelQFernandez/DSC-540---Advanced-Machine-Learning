{
 "cells": [
  {
   "cell_type": "code",
   "execution_count": 1,
   "metadata": {},
   "outputs": [],
   "source": [
    "# Import statements\n",
    "import numpy as np\n",
    "import pandas as pd\n",
    "import seaborn as sns\n",
    "import matplotlib.pyplot as plt\n",
    "from sklearn.preprocessing import MinMaxScaler\n",
    "from sklearn.model_selection import train_test_split\n",
    "from sklearn.model_selection import cross_val_score\n",
    "from sklearn.model_selection import StratifiedKFold\n",
    "\n",
    "# Display options\n",
    "pd.set_option('display.max_columns', None)"
   ]
  },
  {
   "cell_type": "code",
   "execution_count": 2,
   "metadata": {},
   "outputs": [],
   "source": [
    "hr_employee = pd.read_csv( './Data/HR_Employee.csv', delimiter = \",\")\n",
    "Attrition = pd.read_csv( './Data/Attrition.csv', delimiter = \",\")"
   ]
  },
  {
   "cell_type": "code",
   "execution_count": 3,
   "metadata": {},
   "outputs": [],
   "source": [
    "X = hr_employee\n",
    "# Y = Attrition.values.ravel()\n",
    "Y = Attrition"
   ]
  },
  {
   "cell_type": "code",
   "execution_count": 4,
   "metadata": {},
   "outputs": [
    {
     "name": "stdout",
     "output_type": "stream",
     "text": [
      "(1176, 69) (1176, 1)\n",
      "(294, 69) (294, 1)\n"
     ]
    }
   ],
   "source": [
    "X_train, X_test, y_train, y_test = train_test_split(X, Y, test_size=0.2)\n",
    "print(X_train.shape, y_train.shape)\n",
    "print(X_test.shape, y_test.shape)"
   ]
  },
  {
   "cell_type": "markdown",
   "metadata": {},
   "source": [
    "#### Functions"
   ]
  },
  {
   "cell_type": "code",
   "execution_count": 5,
   "metadata": {},
   "outputs": [],
   "source": [
    "from sklearn.linear_model import LogisticRegression\n",
    "from sklearn import metrics\n",
    "from sklearn.model_selection import GridSearchCV\n",
    "# Function:    gridSearcBestEstimator\n",
    "# Input:       Classifier, parameters, cross validation\n",
    "# Output:      Prints Best Estimator\n",
    "# Returns:     Best Estimator\n",
    "def gridSearcBestEstimator(model, params, cv):\n",
    "    clf = model \n",
    "    gs = GridSearchCV(estimator=clf, param_grid=params, scoring='f1', cv=cv, n_jobs=-1, )\n",
    "\n",
    "    gs.fit(X_train, y_train.values.ravel())\n",
    "    best_estimator = gs.best_estimator_\n",
    "    \n",
    "    print('Best Estimator:')\n",
    "    print(best_estimator,'\\n')\n",
    "    \n",
    "    #if model == DecisionTreeClassifier():\n",
    "    #    best_estimator.get_depth()\n",
    "\n",
    "    return best_estimator"
   ]
  },
  {
   "cell_type": "code",
   "execution_count": 6,
   "metadata": {},
   "outputs": [],
   "source": [
    "# Function:    fitModel\n",
    "# Input:       Classifier\n",
    "# Returns:     Fitted Model\n",
    "def fitModel(model):\n",
    "    clf = model\n",
    "    clf.fit(X_train, y_train.values.ravel())\n",
    "    \n",
    "    return clf"
   ]
  },
  {
   "cell_type": "code",
   "execution_count": 7,
   "metadata": {},
   "outputs": [],
   "source": [
    "from sklearn.metrics import accuracy_score\n",
    "# Function:    modelAccuracy\n",
    "# Input:       Classifier with Best Estimator\n",
    "# Output:      Prints Training & Testing Accuracy\n",
    "# Returns:     Y Test Predictions\n",
    "def modelAccuracy(model):\n",
    "    clf = model\n",
    "    \n",
    "    # Make Train predictions\n",
    "    y_train_pred = clf.predict(X_train)\n",
    "    # Calculate accuracy score\n",
    "    training_accuracy = accuracy_score(y_train, y_train_pred)\n",
    "    print('Training Accuracy: ',training_accuracy)\n",
    "    # confusionMatrixMetrics(y_train, y_pred)\n",
    "\n",
    "    # Make Test predictions\n",
    "    y_test_pred = clf.predict(X_test)\n",
    "    # Calculate accuracy scores\n",
    "    testing_accuracy = accuracy_score(y_test, y_test_pred)\n",
    "    print('Testing Accuracy:  ',testing_accuracy)\n",
    "    \n",
    "    return y_test_pred"
   ]
  },
  {
   "cell_type": "code",
   "execution_count": 8,
   "metadata": {},
   "outputs": [],
   "source": [
    "from sklearn.metrics import confusion_matrix\n",
    "# Function:    confusionMatrix\n",
    "# Input:       Training/Testing dataframe and predictions\n",
    "# Output:      Prints Formatted Confusion Matrix\n",
    "# Returns:     Confusion Matrix Array\n",
    "# URL:         https://towardsdatascience.com/evaluating-machine-learning-classification-problems-in-python-5-1-metrics-that-matter-792c6faddf5\n",
    "def confusionMatrix(true_test_train, pred):\n",
    "    true = true_test_train\n",
    "    \n",
    "    cm = confusion_matrix(true, pred.round(), normalize=None)\n",
    "\n",
    "    # Assigning columns names\n",
    "    cm_df = pd.DataFrame(cm, \n",
    "                        columns = ['Predicted Negative', 'Predicted Positive'],\n",
    "                        index = ['Actual Negative', 'Actual Positive'])\n",
    "    \n",
    "    # Printing Formatted Confusion Matrix\n",
    "    print('\\n',cm_df)\n",
    "    \n",
    "    return cm"
   ]
  },
  {
   "cell_type": "code",
   "execution_count": 9,
   "metadata": {},
   "outputs": [],
   "source": [
    "from sklearn.metrics import balanced_accuracy_score\n",
    "from sklearn.metrics import recall_score\n",
    "from sklearn.metrics import precision_score\n",
    "from sklearn.metrics import f1_score\n",
    "# Function:    metrics\n",
    "# Input:       confusion matrix array, true class values, predicted class values\n",
    "# Output:      Prints Recall, Sensitivity, Precision, False Positive Rate, Balanced Accuracy & F1 Scores\n",
    "def metrics(cm, true, pred):\n",
    "    # Assign values from the confusion matrix to manually \n",
    "    # calculate Specificity and False Positive Rate \n",
    "    TP = cm[1][1]\n",
    "    TN = cm[0][0]\n",
    "    FP = cm[0][1]\n",
    "    FN = cm[1][0]\n",
    "\n",
    "    # Recall\n",
    "    recall = recall_score(true, pred)\n",
    "    print('\\nRecall:                  ', recall)\n",
    "    # Sensitivity\n",
    "    sensitivity = recall\n",
    "    # Specificity\n",
    "    specificity = (TN / float(TN + FP))\n",
    "    print('Specificity:             ', specificity)\n",
    "    # Precision\n",
    "    precision = precision_score(true, pred)\n",
    "    print('Precision:               ', precision)\n",
    "    # False Positive Rate\n",
    "    # fpr = (FP / float(TN + FP))\n",
    "    # print ('False Positive Rate:     ', fpr)\n",
    "    # Balanced Accuracy\n",
    "    balanced_accuracy = (sensitivity + specificity)/2\n",
    "    #balance_accuracy = metrics.balanced_accuracy_score(y_true, y_pred)\n",
    "    print('Balanced Accuracy:       ', balanced_accuracy)\n",
    "    # F1 Score Method 1: sklearn\n",
    "    F1 = f1_score(true, pred)\n",
    "    print('F1-Score:                ', F1)\n",
    "    \n",
    "    #return recall, specificity, precision, balanced_accuracy, F1, cm_df"
   ]
  },
  {
   "cell_type": "markdown",
   "metadata": {},
   "source": [
    "### Logistic Regression Pre-processing\n",
    "Scale Data"
   ]
  },
  {
   "cell_type": "code",
   "execution_count": 10,
   "metadata": {},
   "outputs": [],
   "source": [
    "scaler = MinMaxScaler(feature_range = (0,1))\n",
    "\n",
    "scaler.fit(X_train)\n",
    "X_train = scaler.transform(X_train)\n",
    "X_test = scaler.transform(X_test)"
   ]
  },
  {
   "cell_type": "markdown",
   "metadata": {},
   "source": [
    "### Performance on default logistic regression model"
   ]
  },
  {
   "cell_type": "code",
   "execution_count": 11,
   "metadata": {},
   "outputs": [
    {
     "name": "stdout",
     "output_type": "stream",
     "text": [
      "Training Accuracy:  0.8886054421768708\n",
      "Testing Accuracy:   0.891156462585034\n",
      "\n",
      "                  Predicted Negative  Predicted Positive\n",
      "Actual Negative                 243                   7\n",
      "Actual Positive                  25                  19\n",
      "\n",
      "Recall:                   0.4318181818181818\n",
      "Specificity:              0.972\n",
      "Precision:                0.7307692307692307\n",
      "Balanced Accuracy:        0.7019090909090909\n",
      "F1-Score:                 0.5428571428571428\n"
     ]
    }
   ],
   "source": [
    "# Fit Model to Default Classifier\n",
    "lr_clf = fitModel(LogisticRegression())\n",
    "\n",
    "# Calcualate Training and Testing Accuracy\n",
    "y_test_pred = modelAccuracy(lr_clf)\n",
    "\n",
    "# Print Confusion Matrix\n",
    "cm = confusionMatrix(y_test, y_test_pred)\n",
    "\n",
    "# Print Metrics\n",
    "metrics(cm, y_test, y_test_pred)"
   ]
  },
  {
   "cell_type": "markdown",
   "metadata": {},
   "source": [
    "#### Confusion Matrix for default model"
   ]
  },
  {
   "cell_type": "code",
   "execution_count": 12,
   "metadata": {},
   "outputs": [
    {
     "data": {
      "image/png": "[encoded data removed]",
      "text/plain": [
       "<Figure size 432x288 with 1 Axes>"
      ]
     },
     "metadata": {
      "needs_background": "light"
     },
     "output_type": "display_data"
    }
   ],
   "source": [
    "# Confusion Matrix\n",
    "cm_plot =  pd.crosstab(index=y_test.values.ravel(), columns=y_test_pred, rownames=['Expected'], colnames=['Predicted'])\n",
    "sns.heatmap(cm_plot, annot=True, square=False, fmt='', cbar=False)\n",
    "plt.title(\"Confusion Matrix\", fontsize = 15)\n",
    "plt.show()"
   ]
  },
  {
   "cell_type": "markdown",
   "metadata": {},
   "source": [
    "### Cross Validation Setup"
   ]
  },
  {
   "cell_type": "code",
   "execution_count": 13,
   "metadata": {},
   "outputs": [],
   "source": [
    "# Cross Validate\n",
    "cv = StratifiedKFold(n_splits=10, shuffle=True, random_state=0)"
   ]
  },
  {
   "cell_type": "markdown",
   "metadata": {},
   "source": [
    "### GridSearch CV Logistic Regression"
   ]
  },
  {
   "cell_type": "code",
   "execution_count": 14,
   "metadata": {
    "scrolled": true
   },
   "outputs": [
    {
     "name": "stdout",
     "output_type": "stream",
     "text": [
      "Best Estimator:\n",
      "LogisticRegression(C=10.0, class_weight=None, dual=False, fit_intercept=True,\n",
      "                   intercept_scaling=1, l1_ratio=None, max_iter=200,\n",
      "                   multi_class='auto', n_jobs=None, penalty='l2',\n",
      "                   random_state=None, solver='lbfgs', tol=0.0001, verbose=0,\n",
      "                   warm_start=False) \n",
      "\n",
      "Training Accuracy:  0.8869047619047619\n",
      "Testing Accuracy:   0.8945578231292517\n",
      "\n",
      "                  Predicted Negative  Predicted Positive\n",
      "Actual Negative                 240                  10\n",
      "Actual Positive                  21                  23\n",
      "\n",
      "Recall:                   0.5227272727272727\n",
      "Specificity:              0.96\n",
      "Precision:                0.696969696969697\n",
      "Balanced Accuracy:        0.7413636363636363\n",
      "F1-Score:                 0.5974025974025974\n"
     ]
    }
   ],
   "source": [
    "# Determine Best Estimator\n",
    "params = dict(\n",
    "    penalty = ['l1','l2'], #l1 lasso l2 ridge\n",
    "    C = np.logspace(-3,3,7),\n",
    "    solver=['lbfgs'],\n",
    "    max_iter = [200,250,500,750]\n",
    ")\n",
    "\n",
    "# best_estimator = GridSearchCV(lr_clf, params,cv=10)\n",
    "best_estimator = gridSearcBestEstimator(LogisticRegression(), params, cv)\n",
    "\n",
    "# # Fit Model to best_estimator\n",
    "lr_clf = fitModel(best_estimator)\n",
    "\n",
    "# Calcualate Training and Testing Accuracy\n",
    "y_test_pred = modelAccuracy(lr_clf)\n",
    "\n",
    "# Print Confusion Matrix\n",
    "cm = confusionMatrix(y_test, y_test_pred)\n",
    "\n",
    "# Print Metrics\n",
    "metrics(cm, y_test, y_test_pred)"
   ]
  },
  {
   "cell_type": "markdown",
   "metadata": {},
   "source": [
    "### Confusion Matrix for Best Estimator"
   ]
  },
  {
   "cell_type": "code",
   "execution_count": 15,
   "metadata": {
    "scrolled": true
   },
   "outputs": [
    {
     "data": {
      "image/png": "[encoded data removed]",
      "text/plain": [
       "<Figure size 432x288 with 1 Axes>"
      ]
     },
     "metadata": {
      "needs_background": "light"
     },
     "output_type": "display_data"
    }
   ],
   "source": [
    "# Confusion Matrix\n",
    "cm_plot =  pd.crosstab(index=y_test.values.ravel(), columns=y_test_pred, rownames=['Expected'], colnames=['Predicted'])\n",
    "sns.heatmap(cm_plot, annot=True, square=False, fmt='', cbar=False)\n",
    "plt.title(\"Confusion Matrix\", fontsize = 15)\n",
    "plt.show()"
   ]
  },
  {
   "cell_type": "markdown",
   "metadata": {},
   "source": [
    "### Observations\n",
    "The base logistic regression model performed well with default parameters. Training accuracy was 90% and testing accuracy was 85%. Through grid search, the best model chosen performed at this same accuracy. \n"
   ]
  },
  {
   "cell_type": "markdown",
   "metadata": {},
   "source": [
    "## Running model on subset of data to see if performance improves. This approach will be for:\n",
    "1) high/low monthly rate (proxy for income),\n",
    "\n",
    "2) male/female employees"
   ]
  },
  {
   "cell_type": "code",
   "execution_count": 16,
   "metadata": {},
   "outputs": [
    {
     "data": {
      "text/plain": [
       "0.48751254768118846"
      ]
     },
     "execution_count": 16,
     "metadata": {},
     "output_type": "execute_result"
    }
   ],
   "source": [
    "# find median MonthlyRate\n",
    "import statistics\n",
    "median_monthRate = statistics.median(X['MonthlyRate'])\n",
    "median_monthRate"
   ]
  },
  {
   "cell_type": "code",
   "execution_count": 17,
   "metadata": {},
   "outputs": [],
   "source": [
    "# Use Median to create split for high/low variable\n",
    "X_high = X.loc[X['MonthlyRate'] > median_monthRate]\n",
    "Y_high = Y.loc[X['MonthlyRate'] > median_monthRate]\n",
    "X_low = X.loc[X['MonthlyRate'] <= median_monthRate]\n",
    "Y_low = Y.loc[X['MonthlyRate'] <= median_monthRate]"
   ]
  },
  {
   "cell_type": "code",
   "execution_count": 18,
   "metadata": {},
   "outputs": [
    {
     "name": "stdout",
     "output_type": "stream",
     "text": [
      "(735, 1)\n",
      "(735, 69)\n",
      "(735, 1)\n",
      "(735, 69)\n"
     ]
    }
   ],
   "source": [
    "print(Y_low.shape)\n",
    "print(X_low.shape)\n",
    "print(Y_high.shape)\n",
    "print(X_high.shape)"
   ]
  },
  {
   "cell_type": "markdown",
   "metadata": {},
   "source": [
    "### GridSearch CV Logistic Regression - for high earners"
   ]
  },
  {
   "cell_type": "code",
   "execution_count": 19,
   "metadata": {},
   "outputs": [
    {
     "name": "stdout",
     "output_type": "stream",
     "text": [
      "(588, 69) (588, 1)\n",
      "(147, 69) (147, 1)\n"
     ]
    }
   ],
   "source": [
    "X_train, X_test, y_train, y_test = train_test_split(X_high, Y_high, test_size=0.2)\n",
    "print(X_train.shape, y_train.shape)\n",
    "print(X_test.shape, y_test.shape)"
   ]
  },
  {
   "cell_type": "code",
   "execution_count": 20,
   "metadata": {
    "scrolled": true
   },
   "outputs": [
    {
     "name": "stdout",
     "output_type": "stream",
     "text": [
      "Best Estimator:\n",
      "LogisticRegression(C=1000.0, class_weight=None, dual=False, fit_intercept=True,\n",
      "                   intercept_scaling=1, l1_ratio=None, max_iter=250,\n",
      "                   multi_class='auto', n_jobs=None, penalty='l2',\n",
      "                   random_state=None, solver='lbfgs', tol=0.0001, verbose=0,\n",
      "                   warm_start=False) \n",
      "\n",
      "Training Accuracy:  0.9183673469387755\n",
      "Testing Accuracy:   0.8367346938775511\n",
      "\n",
      "                  Predicted Negative  Predicted Positive\n",
      "Actual Negative                 115                  10\n",
      "Actual Positive                  14                   8\n",
      "\n",
      "Recall:                   0.36363636363636365\n",
      "Specificity:              0.92\n",
      "Precision:                0.4444444444444444\n",
      "Balanced Accuracy:        0.6418181818181818\n",
      "F1-Score:                 0.39999999999999997\n"
     ]
    },
    {
     "name": "stderr",
     "output_type": "stream",
     "text": [
      "/Users/kara/opt/anaconda3/lib/python3.7/site-packages/sklearn/linear_model/_logistic.py:940: ConvergenceWarning: lbfgs failed to converge (status=1):\n",
      "STOP: TOTAL NO. of ITERATIONS REACHED LIMIT.\n",
      "\n",
      "Increase the number of iterations (max_iter) or scale the data as shown in:\n",
      "    https://scikit-learn.org/stable/modules/preprocessing.html\n",
      "Please also refer to the documentation for alternative solver options:\n",
      "    https://scikit-learn.org/stable/modules/linear_model.html#logistic-regression\n",
      "  extra_warning_msg=_LOGISTIC_SOLVER_CONVERGENCE_MSG)\n",
      "/Users/kara/opt/anaconda3/lib/python3.7/site-packages/sklearn/linear_model/_logistic.py:940: ConvergenceWarning: lbfgs failed to converge (status=1):\n",
      "STOP: TOTAL NO. of ITERATIONS REACHED LIMIT.\n",
      "\n",
      "Increase the number of iterations (max_iter) or scale the data as shown in:\n",
      "    https://scikit-learn.org/stable/modules/preprocessing.html\n",
      "Please also refer to the documentation for alternative solver options:\n",
      "    https://scikit-learn.org/stable/modules/linear_model.html#logistic-regression\n",
      "  extra_warning_msg=_LOGISTIC_SOLVER_CONVERGENCE_MSG)\n"
     ]
    }
   ],
   "source": [
    "# Determine Best Estimator\n",
    "params = dict(\n",
    "    penalty = ['l1','l2'], #l1 lasso l2 ridge\n",
    "    C = np.logspace(-3,3,7),\n",
    "    solver=['lbfgs'],\n",
    "    max_iter = [200,250,500,750]\n",
    ")\n",
    "\n",
    "# best_estimator = GridSearchCV(lr_clf, params,cv=10)\n",
    "best_estimator = gridSearcBestEstimator(LogisticRegression(), params, cv)\n",
    "\n",
    "# # Fit Model to best_estimator\n",
    "lr_clf = fitModel(best_estimator)\n",
    "\n",
    "# Calcualate Training and Testing Accuracy\n",
    "y_test_pred = modelAccuracy(lr_clf)\n",
    "\n",
    "# Print Confusion Matrix\n",
    "cm = confusionMatrix(y_test, y_test_pred)\n",
    "\n",
    "# Print Metrics\n",
    "metrics(cm, y_test, y_test_pred)"
   ]
  },
  {
   "cell_type": "code",
   "execution_count": 21,
   "metadata": {},
   "outputs": [
    {
     "name": "stdout",
     "output_type": "stream",
     "text": [
      "Index(['DistanceFromHome', 'NumCompaniesWorked', 'YearsAtCompany',\n",
      "       'YearsSinceLastPromotion', 'JobInvolvement_Low',\n",
      "       'RelationshipSatisfaction_Low', 'BusinessTravel_Travel_Frequently',\n",
      "       'Department_Research & Development', 'EducationField_Technical Degree',\n",
      "       'JobRole_Human Resources', 'JobRole_Sales Executive',\n",
      "       'JobRole_Sales Representative', 'OverTime_Yes'],\n",
      "      dtype='object')\n"
     ]
    }
   ],
   "source": [
    "rows=(np.round(lr_clf.coef_,decimals=2) > 0.95).ravel()\n",
    "print(X.columns[rows])"
   ]
  },
  {
   "cell_type": "markdown",
   "metadata": {},
   "source": [
    "### Confusion Matrix for Best Estimator - High Earners"
   ]
  },
  {
   "cell_type": "code",
   "execution_count": 22,
   "metadata": {
    "scrolled": true
   },
   "outputs": [
    {
     "data": {
      "image/png": "[encoded data removed]",
      "text/plain": [
       "<Figure size 432x288 with 1 Axes>"
      ]
     },
     "metadata": {
      "needs_background": "light"
     },
     "output_type": "display_data"
    }
   ],
   "source": [
    "# Confusion Matrix\n",
    "cm_plot =  pd.crosstab(index=y_test.values.ravel(), columns=y_test_pred, rownames=['Expected'], colnames=['Predicted'])\n",
    "sns.heatmap(cm_plot, annot=True, square=False, fmt='', cbar=False)\n",
    "plt.title(\"Confusion Matrix\", fontsize = 15)\n",
    "plt.show()"
   ]
  },
  {
   "cell_type": "markdown",
   "metadata": {},
   "source": [
    "### Observations of High Earners subset\n",
    "Accuracy improved over the base model when using subsets of high earners. Training accuracy was 92% and testing accuracy was 87%.\n"
   ]
  },
  {
   "cell_type": "markdown",
   "metadata": {},
   "source": [
    "### GridSearch CV Logistic Regression - for Low Earners"
   ]
  },
  {
   "cell_type": "code",
   "execution_count": 23,
   "metadata": {},
   "outputs": [
    {
     "name": "stdout",
     "output_type": "stream",
     "text": [
      "(588, 69) (588, 1)\n",
      "(147, 69) (147, 1)\n"
     ]
    }
   ],
   "source": [
    "X_train, X_test, y_train, y_test = train_test_split(X_low, Y_low, test_size=0.2)\n",
    "print(X_train.shape, y_train.shape)\n",
    "print(X_test.shape, y_test.shape)"
   ]
  },
  {
   "cell_type": "code",
   "execution_count": 24,
   "metadata": {
    "scrolled": true
   },
   "outputs": [
    {
     "name": "stdout",
     "output_type": "stream",
     "text": [
      "Best Estimator:\n",
      "LogisticRegression(C=10.0, class_weight=None, dual=False, fit_intercept=True,\n",
      "                   intercept_scaling=1, l1_ratio=None, max_iter=200,\n",
      "                   multi_class='auto', n_jobs=None, penalty='l2',\n",
      "                   random_state=None, solver='lbfgs', tol=0.0001, verbose=0,\n",
      "                   warm_start=False) \n",
      "\n",
      "Training Accuracy:  0.9098639455782312\n",
      "Testing Accuracy:   0.8571428571428571\n",
      "\n",
      "                  Predicted Negative  Predicted Positive\n",
      "Actual Negative                 116                   6\n",
      "Actual Positive                  15                  10\n",
      "\n",
      "Recall:                   0.4\n",
      "Specificity:              0.9508196721311475\n",
      "Precision:                0.625\n",
      "Balanced Accuracy:        0.6754098360655738\n",
      "F1-Score:                 0.48780487804878053\n"
     ]
    }
   ],
   "source": [
    "# Determine Best Estimator\n",
    "params = dict(\n",
    "    penalty = ['l1','l2'], #l1 lasso l2 ridge\n",
    "    C = np.logspace(-3,3,7),\n",
    "    solver=['lbfgs'],\n",
    "    max_iter = [200,250,500,750]\n",
    ")\n",
    "\n",
    "# best_estimator = GridSearchCV(lr_clf, params,cv=10)\n",
    "best_estimator = gridSearcBestEstimator(LogisticRegression(), params, cv)\n",
    "\n",
    "# # Fit Model to best_estimator\n",
    "lr_clf = fitModel(best_estimator)\n",
    "\n",
    "# Calcualate Training and Testing Accuracy\n",
    "y_test_pred = modelAccuracy(lr_clf)\n",
    "\n",
    "# Print Confusion Matrix\n",
    "cm = confusionMatrix(y_test, y_test_pred)\n",
    "\n",
    "# Print Metrics\n",
    "metrics(cm, y_test, y_test_pred)"
   ]
  },
  {
   "cell_type": "code",
   "execution_count": 25,
   "metadata": {},
   "outputs": [
    {
     "name": "stdout",
     "output_type": "stream",
     "text": [
      "Index(['DistanceFromHome', 'MonthlyRate', 'NumCompaniesWorked',\n",
      "       'StockOptionLevel', 'YearsAtCompany', 'YearsSinceLastPromotion',\n",
      "       'Education_Below College', 'EnvironmentSatisfaction_Low',\n",
      "       'WorkLifeBalance_Bad', 'BusinessTravel_Travel_Frequently',\n",
      "       'Department_Sales', 'JobRole_Human Resources',\n",
      "       'JobRole_Laboratory Technician', 'MaritalStatus_Single',\n",
      "       'OverTime_Yes'],\n",
      "      dtype='object')\n"
     ]
    }
   ],
   "source": [
    "rows=(np.round(lr_clf.coef_,decimals=2) > 0.95).ravel()\n",
    "print(X.columns[rows])"
   ]
  },
  {
   "cell_type": "markdown",
   "metadata": {},
   "source": [
    "### Confusion Matrix for Best Estimator - Low Earners"
   ]
  },
  {
   "cell_type": "code",
   "execution_count": 26,
   "metadata": {
    "scrolled": true
   },
   "outputs": [
    {
     "data": {
      "image/png": "[encoded data removed]",
      "text/plain": [
       "<Figure size 432x288 with 1 Axes>"
      ]
     },
     "metadata": {
      "needs_background": "light"
     },
     "output_type": "display_data"
    }
   ],
   "source": [
    "# Confusion Matrix\n",
    "cm_plot =  pd.crosstab(index=y_test.values.ravel(), columns=y_test_pred, rownames=['Expected'], colnames=['Predicted'])\n",
    "sns.heatmap(cm_plot, annot=True, square=False, fmt='', cbar=False)\n",
    "plt.title(\"Confusion Matrix\", fontsize = 15)\n",
    "plt.show()"
   ]
  },
  {
   "cell_type": "markdown",
   "metadata": {},
   "source": [
    "### Observations of Low Earners subset\n",
    "Testing accuracy was lower than the base model when running the model on Low Earners. Training accuracy was 91% and testing accuracy was 83%.\n"
   ]
  },
  {
   "cell_type": "markdown",
   "metadata": {},
   "source": [
    "### Running model for Male vs Female Employees"
   ]
  },
  {
   "cell_type": "code",
   "execution_count": 27,
   "metadata": {},
   "outputs": [],
   "source": [
    "# Use Median to create split for high/low variable\n",
    "X_male = X.loc[X['Gender_Male'] == 1]\n",
    "Y_male = Y.loc[X['Gender_Male'] == 1]\n",
    "X_female = X.loc[X['Gender_Female'] == 1]\n",
    "Y_female = Y.loc[X['Gender_Female'] == 1]"
   ]
  },
  {
   "cell_type": "code",
   "execution_count": 28,
   "metadata": {},
   "outputs": [
    {
     "name": "stdout",
     "output_type": "stream",
     "text": [
      "(735, 1)\n",
      "(735, 69)\n",
      "(735, 1)\n",
      "(735, 69)\n"
     ]
    }
   ],
   "source": [
    "print(Y_low.shape)\n",
    "print(X_low.shape)\n",
    "print(Y_high.shape)\n",
    "print(X_high.shape)"
   ]
  },
  {
   "cell_type": "markdown",
   "metadata": {},
   "source": [
    "### GridSearch CV Logistic Regression - for male employees"
   ]
  },
  {
   "cell_type": "code",
   "execution_count": 29,
   "metadata": {},
   "outputs": [
    {
     "name": "stdout",
     "output_type": "stream",
     "text": [
      "(705, 69) (705, 1)\n",
      "(177, 69) (177, 1)\n"
     ]
    }
   ],
   "source": [
    "X_train, X_test, y_train, y_test = train_test_split(X_male, Y_male, test_size=0.2)\n",
    "print(X_train.shape, y_train.shape)\n",
    "print(X_test.shape, y_test.shape)"
   ]
  },
  {
   "cell_type": "code",
   "execution_count": 30,
   "metadata": {
    "scrolled": true
   },
   "outputs": [
    {
     "name": "stdout",
     "output_type": "stream",
     "text": [
      "Best Estimator:\n",
      "LogisticRegression(C=10.0, class_weight=None, dual=False, fit_intercept=True,\n",
      "                   intercept_scaling=1, l1_ratio=None, max_iter=200,\n",
      "                   multi_class='auto', n_jobs=None, penalty='l2',\n",
      "                   random_state=None, solver='lbfgs', tol=0.0001, verbose=0,\n",
      "                   warm_start=False) \n",
      "\n",
      "Training Accuracy:  0.8921985815602836\n",
      "Testing Accuracy:   0.8361581920903954\n",
      "\n",
      "                  Predicted Negative  Predicted Positive\n",
      "Actual Negative                 135                  10\n",
      "Actual Positive                  19                  13\n",
      "\n",
      "Recall:                   0.40625\n",
      "Specificity:              0.9310344827586207\n",
      "Precision:                0.5652173913043478\n",
      "Balanced Accuracy:        0.6686422413793103\n",
      "F1-Score:                 0.4727272727272727\n"
     ]
    }
   ],
   "source": [
    "# Determine Best Estimator\n",
    "params = dict(\n",
    "    penalty = ['l1','l2'], #l1 lasso l2 ridge\n",
    "    C = np.logspace(-3,3,7),\n",
    "    solver=['lbfgs'],\n",
    "    max_iter = [200,250,500,750]\n",
    ")\n",
    "\n",
    "# best_estimator = GridSearchCV(lr_clf, params,cv=10)\n",
    "best_estimator = gridSearcBestEstimator(LogisticRegression(), params, cv)\n",
    "\n",
    "# # Fit Model to best_estimator\n",
    "lr_clf = fitModel(best_estimator)\n",
    "\n",
    "# Calcualate Training and Testing Accuracy\n",
    "y_test_pred = modelAccuracy(lr_clf)\n",
    "\n",
    "# Print Confusion Matrix\n",
    "cm = confusionMatrix(y_test, y_test_pred)\n",
    "\n",
    "# Print Metrics\n",
    "metrics(cm, y_test, y_test_pred)"
   ]
  },
  {
   "cell_type": "code",
   "execution_count": 31,
   "metadata": {},
   "outputs": [
    {
     "name": "stdout",
     "output_type": "stream",
     "text": [
      "Index(['DistanceFromHome', 'NumCompaniesWorked', 'YearsAtCompany',\n",
      "       'YearsSinceLastPromotion', 'JobInvolvement_Low', 'WorkLifeBalance_Bad',\n",
      "       'JobRole_Human Resources', 'JobRole_Sales Executive',\n",
      "       'JobRole_Sales Representative', 'OverTime_Yes'],\n",
      "      dtype='object')\n"
     ]
    }
   ],
   "source": [
    "rows=(np.round(lr_clf.coef_,decimals=2) > 0.95).ravel()\n",
    "print(X.columns[rows])"
   ]
  },
  {
   "cell_type": "markdown",
   "metadata": {},
   "source": [
    "### Confusion Matrix for Best Estimator - Male Employees"
   ]
  },
  {
   "cell_type": "code",
   "execution_count": 32,
   "metadata": {
    "scrolled": true
   },
   "outputs": [
    {
     "data": {
      "image/png": "[encoded data removed]",
      "text/plain": [
       "<Figure size 432x288 with 1 Axes>"
      ]
     },
     "metadata": {
      "needs_background": "light"
     },
     "output_type": "display_data"
    }
   ],
   "source": [
    "# Confusion Matrix\n",
    "cm_plot =  pd.crosstab(index=y_test.values.ravel(), columns=y_test_pred, rownames=['Expected'], colnames=['Predicted'])\n",
    "sns.heatmap(cm_plot, annot=True, square=False, fmt='', cbar=False)\n",
    "plt.title(\"Confusion Matrix\", fontsize = 15)\n",
    "plt.show()"
   ]
  },
  {
   "cell_type": "markdown",
   "metadata": {},
   "source": [
    "### Observations of Male subset\n",
    "Using the subset of male employees only, training accuracy was 90% and testing accuracy was 81%, which is not as good of accuracy as the base model, or splitting by earning type."
   ]
  },
  {
   "cell_type": "markdown",
   "metadata": {},
   "source": [
    "### GridSearch CV Logistic Regression - for Female Employees"
   ]
  },
  {
   "cell_type": "code",
   "execution_count": 33,
   "metadata": {},
   "outputs": [
    {
     "name": "stdout",
     "output_type": "stream",
     "text": [
      "(470, 69) (470, 1)\n",
      "(118, 69) (118, 1)\n"
     ]
    }
   ],
   "source": [
    "X_train, X_test, y_train, y_test = train_test_split(X_female, Y_female, test_size=0.2)\n",
    "print(X_train.shape, y_train.shape)\n",
    "print(X_test.shape, y_test.shape)"
   ]
  },
  {
   "cell_type": "code",
   "execution_count": 34,
   "metadata": {
    "scrolled": true
   },
   "outputs": [
    {
     "name": "stdout",
     "output_type": "stream",
     "text": [
      "Best Estimator:\n",
      "LogisticRegression(C=1000.0, class_weight=None, dual=False, fit_intercept=True,\n",
      "                   intercept_scaling=1, l1_ratio=None, max_iter=200,\n",
      "                   multi_class='auto', n_jobs=None, penalty='l2',\n",
      "                   random_state=None, solver='lbfgs', tol=0.0001, verbose=0,\n",
      "                   warm_start=False) \n",
      "\n",
      "Training Accuracy:  0.9170212765957447\n",
      "Testing Accuracy:   0.8305084745762712\n",
      "\n",
      "                  Predicted Negative  Predicted Positive\n",
      "Actual Negative                  92                  12\n",
      "Actual Positive                   8                   6\n",
      "\n",
      "Recall:                   0.42857142857142855\n",
      "Specificity:              0.8846153846153846\n",
      "Precision:                0.3333333333333333\n",
      "Balanced Accuracy:        0.6565934065934066\n",
      "F1-Score:                 0.375\n"
     ]
    },
    {
     "name": "stderr",
     "output_type": "stream",
     "text": [
      "/Users/kara/opt/anaconda3/lib/python3.7/site-packages/sklearn/linear_model/_logistic.py:940: ConvergenceWarning: lbfgs failed to converge (status=1):\n",
      "STOP: TOTAL NO. of ITERATIONS REACHED LIMIT.\n",
      "\n",
      "Increase the number of iterations (max_iter) or scale the data as shown in:\n",
      "    https://scikit-learn.org/stable/modules/preprocessing.html\n",
      "Please also refer to the documentation for alternative solver options:\n",
      "    https://scikit-learn.org/stable/modules/linear_model.html#logistic-regression\n",
      "  extra_warning_msg=_LOGISTIC_SOLVER_CONVERGENCE_MSG)\n",
      "/Users/kara/opt/anaconda3/lib/python3.7/site-packages/sklearn/linear_model/_logistic.py:940: ConvergenceWarning: lbfgs failed to converge (status=1):\n",
      "STOP: TOTAL NO. of ITERATIONS REACHED LIMIT.\n",
      "\n",
      "Increase the number of iterations (max_iter) or scale the data as shown in:\n",
      "    https://scikit-learn.org/stable/modules/preprocessing.html\n",
      "Please also refer to the documentation for alternative solver options:\n",
      "    https://scikit-learn.org/stable/modules/linear_model.html#logistic-regression\n",
      "  extra_warning_msg=_LOGISTIC_SOLVER_CONVERGENCE_MSG)\n"
     ]
    }
   ],
   "source": [
    "# Determine Best Estimator\n",
    "params = dict(\n",
    "    penalty = ['l1','l2'], #l1 lasso l2 ridge\n",
    "    C = np.logspace(-3,3,7),\n",
    "    solver=['lbfgs'],\n",
    "    max_iter = [200,250,500,750]\n",
    ")\n",
    "\n",
    "# best_estimator = GridSearchCV(lr_clf, params,cv=10)\n",
    "best_estimator = gridSearcBestEstimator(LogisticRegression(), params, cv)\n",
    "\n",
    "# # Fit Model to best_estimator\n",
    "lr_clf = fitModel(best_estimator)\n",
    "\n",
    "# Calcualate Training and Testing Accuracy\n",
    "y_test_pred = modelAccuracy(lr_clf)\n",
    "\n",
    "# Print Confusion Matrix\n",
    "cm = confusionMatrix(y_test, y_test_pred)\n",
    "\n",
    "# Print Metrics\n",
    "metrics(cm, y_test, y_test_pred)"
   ]
  },
  {
   "cell_type": "code",
   "execution_count": 35,
   "metadata": {
    "scrolled": true
   },
   "outputs": [
    {
     "name": "stdout",
     "output_type": "stream",
     "text": [
      "Index(['DistanceFromHome', 'PercentSalaryHike', 'YearsAtCompany',\n",
      "       'YearsSinceLastPromotion', 'Education_Doctor',\n",
      "       'EnvironmentSatisfaction_Low', 'JobInvolvement_Low',\n",
      "       'JobSatisfaction_Low', 'RelationshipSatisfaction_Low',\n",
      "       'BusinessTravel_Travel_Frequently', 'Department_Sales',\n",
      "       'EducationField_Human Resources', 'JobRole_Human Resources',\n",
      "       'JobRole_Laboratory Technician', 'MaritalStatus_Single',\n",
      "       'OverTime_Yes'],\n",
      "      dtype='object')\n"
     ]
    }
   ],
   "source": [
    "rows=(np.round(lr_clf.coef_,decimals=2) > 0.95).ravel()\n",
    "print(X.columns[rows])"
   ]
  },
  {
   "cell_type": "markdown",
   "metadata": {},
   "source": [
    "The above shows the top predictors for female attrition, including 'DistanceFromHome', 'NumCompaniesWorked', 'PercentSalaryHike',\n",
    "       'YearsAtCompany', 'YearsSinceLastPromotion', 'Education_Doctor',\n",
    "       'JobInvolvement_Low', 'RelationshipSatisfaction_Low',\n",
    "       'BusinessTravel_Travel_Frequently', 'EducationField_Human Resources',\n",
    "       'JobRole_Laboratory Technician', 'JobRole_Sales Representative',\n",
    "       'MaritalStatus_Single', 'OverTime_Yes"
   ]
  },
  {
   "cell_type": "markdown",
   "metadata": {},
   "source": [
    "#### Confusion Matrix for Best Estimator - Female Employees"
   ]
  },
  {
   "cell_type": "code",
   "execution_count": 36,
   "metadata": {
    "scrolled": true
   },
   "outputs": [
    {
     "data": {
      "image/png": "[encoded data removed]",
      "text/plain": [
       "<Figure size 432x288 with 1 Axes>"
      ]
     },
     "metadata": {
      "needs_background": "light"
     },
     "output_type": "display_data"
    }
   ],
   "source": [
    "# Confusion Matrix\n",
    "cm_plot =  pd.crosstab(index=y_test.values.ravel(), columns=y_test_pred, rownames=['Expected'], colnames=['Predicted'])\n",
    "sns.heatmap(cm_plot, annot=True, square=False, fmt='', cbar=False)\n",
    "plt.title(\"Confusion Matrix\", fontsize = 15)\n",
    "plt.show()"
   ]
  },
  {
   "cell_type": "markdown",
   "metadata": {},
   "source": [
    "### Observations of Female Employee subset\n",
    "Best testing accuracy! Testing accuracy was 90% and training accuracy 92%. \n"
   ]
  },
  {
   "cell_type": "markdown",
   "metadata": {},
   "source": [
    "For logistic regression, the model with full training and testing data performed at 90% training accuracy and 85% testing accuracy. In order to improve accuracy and examine subsets of data, I performed a grid search on high/low earners, as well as male/female splits. \n",
    "\n",
    "The high earners model performed at 92% training accuracy and 87% testing accuracy, which is an improvement over the base model! \n",
    "\n",
    "The model for low earners did not perform as well. Training accuracy was 91% and testing accuracy was 83%. \n",
    "\n",
    "Using the subset of male employees only, training accuracy was 90% and testing accuracy was 81%, which is not as good of accuracy as the base model, or splitting by earning type.\n",
    "\n",
    "Splitting the data for only female employees and running logistic regression yielded the highest accuracy. Training accuracy was 92% and testing accuracy 90%. "
   ]
  }
 ],
 "metadata": {
  "kernelspec": {
   "display_name": "Python 3",
   "language": "python",
   "name": "python3"
  },
  "language_info": {
   "codemirror_mode": {
    "name": "ipython",
    "version": 3
   },
   "file_extension": ".py",
   "mimetype": "text/x-python",
   "name": "python",
   "nbconvert_exporter": "python",
   "pygments_lexer": "ipython3",
   "version": "3.7.6"
  }
 },
 "nbformat": 4,
 "nbformat_minor": 4
}
